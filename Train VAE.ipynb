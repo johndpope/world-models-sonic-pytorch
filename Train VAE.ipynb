{
 "cells": [
  {
   "cell_type": "markdown",
   "metadata": {},
   "source": [
    "## Notes\n",
    "\n",
    "If it stalls around loss 60, you might need a smaller batch size, e.g. 8\n",
    "\n",
    "\n",
    "\n",
    "## Log\n",
    "\n",
    "### 20180506\n",
    "Why is this not working? It stalls around loss=60 and just reconstructs the same mean image each time.\n",
    "\n",
    "- batchnorm and pad? no lots of other models use them\n",
    "    - https://github.com/josephsmann/UnsupervisedDeepLearning-Pytorch/blob/jm/udlp/autoencoder/convVAE.py#L19\n",
    "    - https://github.com/taey16/pix2pixBEGAN.pytorch/blob/master/models/BEGAN.py\n",
    "- relu, same\n",
    "- lr - similar to other models\n",
    "- inner params - similar but larger than other working models\n",
    "- batch? Maybe it seems better with a lower batch (e.g. 8 instead of 32)\n",
    "- loss, this seems right\n",
    "    - except some people use a loss balance https://github.com/AppliedDataSciencePartners/WorldModels/blob/master/vae/arch.py#L97\n",
    "        where they multuply reconstruction loss by 10 but i've got ~100 vs ~1e-4 so I don't really need to!\n",
    "        \n",
    "- ok a lower batch size seemed to get it over that initial hump"
   ]
  },
  {
   "cell_type": "code",
   "execution_count": 1,
   "metadata": {
    "ExecuteTime": {
     "end_time": "2018-05-08T12:19:57.532631Z",
     "start_time": "2018-05-08T12:19:57.526727Z"
    }
   },
   "outputs": [],
   "source": [
    "import os\n",
    "os.sys.path.append('.')"
   ]
  },
  {
   "cell_type": "code",
   "execution_count": 2,
   "metadata": {
    "ExecuteTime": {
     "end_time": "2018-05-08T12:19:58.133424Z",
     "start_time": "2018-05-08T12:19:57.536037Z"
    }
   },
   "outputs": [
    {
     "name": "stderr",
     "output_type": "stream",
     "text": [
      "/home/ubuntu/anaconda3/envs/pytorch_p36/lib/python3.6/site-packages/matplotlib/__init__.py:1067: UserWarning: Duplicate key in file \"/home/ubuntu/.config/matplotlib/matplotlibrc\", line #2\n",
      "  (fname, cnt))\n",
      "/home/ubuntu/anaconda3/envs/pytorch_p36/lib/python3.6/site-packages/matplotlib/__init__.py:1067: UserWarning: Duplicate key in file \"/home/ubuntu/.config/matplotlib/matplotlibrc\", line #3\n",
      "  (fname, cnt))\n"
     ]
    }
   ],
   "source": [
    "%matplotlib inline\n",
    "%reload_ext autoreload\n",
    "%autoreload 2"
   ]
  },
  {
   "cell_type": "code",
   "execution_count": null,
   "metadata": {
    "ExecuteTime": {
     "end_time": "2018-05-06T00:21:02.585280Z",
     "start_time": "2018-05-06T00:21:02.474215Z"
    }
   },
   "outputs": [],
   "source": []
  },
  {
   "cell_type": "code",
   "execution_count": 3,
   "metadata": {
    "ExecuteTime": {
     "end_time": "2018-05-08T12:19:58.811675Z",
     "start_time": "2018-05-08T12:19:58.135935Z"
    }
   },
   "outputs": [
    {
     "name": "stderr",
     "output_type": "stream",
     "text": [
      "/home/ubuntu/anaconda3/envs/pytorch_p36/lib/python3.6/site-packages/h5py/__init__.py:36: FutureWarning: Conversion of the second argument of issubdtype from `float` to `np.floating` is deprecated. In future, it will be treated as `np.float64 == np.dtype(float).type`.\n",
      "  from ._conv import register_converters as _register_converters\n"
     ]
    }
   ],
   "source": [
    "import torch\n",
    "from torch.nn import functional as F\n",
    "from torch.autograd import Variable\n",
    "from torch import nn, optim\n",
    "import torch.utils.data\n",
    "\n",
    "# load as dask array\n",
    "import dask.array as da\n",
    "import dask\n",
    "import h5py\n",
    "\n",
    "import os\n",
    "import glob\n",
    "import numpy as np\n",
    "from matplotlib import pyplot as plt\n",
    "from tqdm import tqdm_notebook as tqdm"
   ]
  },
  {
   "cell_type": "code",
   "execution_count": 4,
   "metadata": {
    "ExecuteTime": {
     "end_time": "2018-05-08T12:19:59.099874Z",
     "start_time": "2018-05-08T12:19:58.818835Z"
    }
   },
   "outputs": [],
   "source": [
    "from vae import VAE, loss_function\n",
    "from helpers.summarize import TorchSummarizeDf\n",
    "from helpers.dataset import NumpyDataset, TQDMDaskProgressBar, load_npzs"
   ]
  },
  {
   "cell_type": "code",
   "execution_count": null,
   "metadata": {},
   "outputs": [],
   "source": []
  },
  {
   "cell_type": "code",
   "execution_count": 5,
   "metadata": {
    "ExecuteTime": {
     "end_time": "2018-05-08T12:19:59.136339Z",
     "start_time": "2018-05-08T12:19:59.102572Z"
    }
   },
   "outputs": [],
   "source": [
    "env_name='sonic'\n",
    "cuda= torch.cuda.is_available()\n",
    "num_epochs=200\n",
    "batch_size=16\n",
    "data_cache_file = '/tmp/sonic_vae2.hdf5'"
   ]
  },
  {
   "cell_type": "markdown",
   "metadata": {},
   "source": [
    "# Load data"
   ]
  },
  {
   "cell_type": "code",
   "execution_count": 6,
   "metadata": {
    "ExecuteTime": {
     "end_time": "2018-05-08T12:19:59.179692Z",
     "start_time": "2018-05-08T12:19:59.138780Z"
    }
   },
   "outputs": [],
   "source": [
    "# load as dask array\n",
    "\n",
    "filenames = sorted(glob.glob('./data/vae/obs_data_' + env_name + '_*.npz'))\n",
    "\n",
    "if not os.path.isfile(data_cache_file):\n",
    "    data_train = load_npzs(filenames)\n",
    "    print(data_train)\n",
    "    with TQDMDaskProgressBar():\n",
    "        da.to_hdf5(data_cache_file, '/x', data_train)\n",
    "       \n",
    "    # clear mem\n",
    "    del data_train \n",
    "    import gc\n",
    "    gc.collect()"
   ]
  },
  {
   "cell_type": "code",
   "execution_count": null,
   "metadata": {
    "ExecuteTime": {
     "end_time": "2018-05-06T07:11:28.978952Z",
     "start_time": "2018-05-06T07:11:28.772281Z"
    }
   },
   "outputs": [],
   "source": []
  },
  {
   "cell_type": "code",
   "execution_count": 7,
   "metadata": {
    "ExecuteTime": {
     "end_time": "2018-05-08T12:19:59.226153Z",
     "start_time": "2018-05-08T12:19:59.183473Z"
    }
   },
   "outputs": [
    {
     "data": {
      "text/plain": [
       "(dask.array<getitem, shape=(96000, 128, 128, 3), dtype=float32, chunksize=(200, 128, 128, 3)>,\n",
       " dask.array<getitem, shape=(24000, 128, 128, 3), dtype=float32, chunksize=(200, 128, 128, 3)>)"
      ]
     },
     "execution_count": 7,
     "metadata": {},
     "output_type": "execute_result"
    }
   ],
   "source": [
    "# load\n",
    "data = da.from_array(h5py.File(data_cache_file, mode='r')['x'], chunks=(200, 128, 128, 3))\n",
    "data\n",
    "data_split = int(len(data)*0.8)\n",
    "data_train = data[:data_split]\n",
    "data_test = data[data_split:]\n",
    "data_train, data_test"
   ]
  },
  {
   "cell_type": "code",
   "execution_count": 8,
   "metadata": {
    "ExecuteTime": {
     "end_time": "2018-05-08T12:19:59.255924Z",
     "start_time": "2018-05-08T12:19:59.232739Z"
    }
   },
   "outputs": [
    {
     "data": {
      "text/plain": [
       "(<helpers.dataset.NumpyDataset at 0x7f0f10cda978>,\n",
       " <torch.utils.data.dataloader.DataLoader at 0x7f0f780d4780>)"
      ]
     },
     "execution_count": 8,
     "metadata": {},
     "output_type": "execute_result"
    }
   ],
   "source": [
    "#    num_workers\n",
    "dataset_train = NumpyDataset(data_train)\n",
    "loader_train = torch.utils.data.DataLoader(dataset_train, pin_memory=True, shuffle=False, batch_size=batch_size)\n",
    "\n",
    "\n",
    "dataset_test = NumpyDataset(data_test)\n",
    "loader_test = torch.utils.data.DataLoader(dataset_test, pin_memory=True, shuffle=False, batch_size=batch_size)\n",
    "\n",
    "dataset_train, loader_train"
   ]
  },
  {
   "cell_type": "code",
   "execution_count": 9,
   "metadata": {
    "ExecuteTime": {
     "end_time": "2018-05-08T12:19:59.331030Z",
     "start_time": "2018-05-08T12:19:59.262475Z"
    }
   },
   "outputs": [
    {
     "data": {
      "text/plain": [
       "1"
      ]
     },
     "execution_count": 9,
     "metadata": {},
     "output_type": "execute_result"
    }
   ],
   "source": [
    "next(iter(dataset_train))\n",
    "1"
   ]
  },
  {
   "cell_type": "markdown",
   "metadata": {
    "ExecuteTime": {
     "end_time": "2018-05-06T01:28:34.496506Z",
     "start_time": "2018-05-06T01:28:27.517Z"
    }
   },
   "source": [
    "# View model"
   ]
  },
  {
   "cell_type": "code",
   "execution_count": 10,
   "metadata": {
    "ExecuteTime": {
     "end_time": "2018-05-08T12:20:05.934916Z",
     "start_time": "2018-05-08T12:19:59.332902Z"
    }
   },
   "outputs": [
    {
     "name": "stderr",
     "output_type": "stream",
     "text": [
      "/home/ubuntu/world-models-pytorch/vae.py:73: UserWarning: nn.init.xavier_uniform is now deprecated in favor of nn.init.xavier_uniform_.\n",
      "  nn.init.xavier_uniform(self.logvar.weight)\n",
      "/home/ubuntu/world-models-pytorch/vae.py:74: UserWarning: nn.init.xavier_uniform is now deprecated in favor of nn.init.xavier_uniform_.\n",
      "  nn.init.xavier_uniform(self.mu.weight)\n",
      "/home/ubuntu/world-models-pytorch/vae.py:75: UserWarning: nn.init.xavier_uniform is now deprecated in favor of nn.init.xavier_uniform_.\n",
      "  nn.init.xavier_uniform(self.z.weight)\n"
     ]
    }
   ],
   "source": [
    "vae = VAE(image_size=128, z_dim=32, conv_dim=64, code_dim=8, k_dim=128).cuda()"
   ]
  },
  {
   "cell_type": "code",
   "execution_count": 11,
   "metadata": {
    "ExecuteTime": {
     "end_time": "2018-05-08T12:20:06.230091Z",
     "start_time": "2018-05-08T12:20:05.937204Z"
    }
   },
   "outputs": [],
   "source": [
    "# Resume?\n",
    "state_dict = torch.load('./models/VAE_state_dict.pkl')\n",
    "vae.load_state_dict(vae.state_dict())"
   ]
  },
  {
   "cell_type": "code",
   "execution_count": 12,
   "metadata": {
    "ExecuteTime": {
     "end_time": "2018-05-08T12:20:06.427508Z",
     "start_time": "2018-05-08T12:20:06.232591Z"
    },
    "scrolled": true
   },
   "outputs": [
    {
     "name": "stdout",
     "output_type": "stream",
     "text": [
      "torch.Size([1, 3, 128, 128])\n",
      "tensor(61275.9844, device='cuda:0')\n",
      "Total parameters tensor(7.8874e+05)\n"
     ]
    },
    {
     "data": {
      "text/html": [
       "<div>\n",
       "<style scoped>\n",
       "    .dataframe tbody tr th:only-of-type {\n",
       "        vertical-align: middle;\n",
       "    }\n",
       "\n",
       "    .dataframe tbody tr th {\n",
       "        vertical-align: top;\n",
       "    }\n",
       "\n",
       "    .dataframe thead th {\n",
       "        text-align: right;\n",
       "    }\n",
       "</style>\n",
       "<table border=\"1\" class=\"dataframe\">\n",
       "  <thead>\n",
       "    <tr style=\"text-align: right;\">\n",
       "      <th></th>\n",
       "      <th>name</th>\n",
       "      <th>class_name</th>\n",
       "      <th>input_shape</th>\n",
       "      <th>output_shape</th>\n",
       "      <th>nb_params</th>\n",
       "      <th>level</th>\n",
       "    </tr>\n",
       "  </thead>\n",
       "  <tbody>\n",
       "    <tr>\n",
       "      <th>1</th>\n",
       "      <td>encoder.0.conv</td>\n",
       "      <td>Conv2d</td>\n",
       "      <td>[[(-1, 3, 128, 128)]]</td>\n",
       "      <td>[[(-1, 64, 128, 128)]]</td>\n",
       "      <td>tensor(1792)</td>\n",
       "      <td>2</td>\n",
       "    </tr>\n",
       "    <tr>\n",
       "      <th>2</th>\n",
       "      <td>encoder.0.bn</td>\n",
       "      <td>BatchNorm2d</td>\n",
       "      <td>[[(-1, 64, 128, 128)]]</td>\n",
       "      <td>[[(-1, 64, 128, 128)]]</td>\n",
       "      <td>tensor(128)</td>\n",
       "      <td>2</td>\n",
       "    </tr>\n",
       "    <tr>\n",
       "      <th>3</th>\n",
       "      <td>encoder.0.act</td>\n",
       "      <td>ReLU</td>\n",
       "      <td>[[(-1, 64, 128, 128)]]</td>\n",
       "      <td>[[(-1, 64, 128, 128)]]</td>\n",
       "      <td>0</td>\n",
       "      <td>2</td>\n",
       "    </tr>\n",
       "    <tr>\n",
       "      <th>4</th>\n",
       "      <td>encoder.0</td>\n",
       "      <td>ConvBlock</td>\n",
       "      <td>[[(-1, 3, 128, 128)]]</td>\n",
       "      <td>[[(-1, 64, 128, 128)]]</td>\n",
       "      <td>tensor(1920)</td>\n",
       "      <td>1</td>\n",
       "    </tr>\n",
       "    <tr>\n",
       "      <th>5</th>\n",
       "      <td>encoder.1.conv</td>\n",
       "      <td>Conv2d</td>\n",
       "      <td>[[(-1, 64, 128, 128)]]</td>\n",
       "      <td>[[(-1, 128, 64, 64)]]</td>\n",
       "      <td>tensor(1.3120e+05)</td>\n",
       "      <td>2</td>\n",
       "    </tr>\n",
       "    <tr>\n",
       "      <th>6</th>\n",
       "      <td>encoder.1.bn</td>\n",
       "      <td>BatchNorm2d</td>\n",
       "      <td>[[(-1, 128, 64, 64)]]</td>\n",
       "      <td>[[(-1, 128, 64, 64)]]</td>\n",
       "      <td>tensor(256)</td>\n",
       "      <td>2</td>\n",
       "    </tr>\n",
       "    <tr>\n",
       "      <th>7</th>\n",
       "      <td>encoder.1.act</td>\n",
       "      <td>ReLU</td>\n",
       "      <td>[[(-1, 128, 64, 64)]]</td>\n",
       "      <td>[[(-1, 128, 64, 64)]]</td>\n",
       "      <td>0</td>\n",
       "      <td>2</td>\n",
       "    </tr>\n",
       "    <tr>\n",
       "      <th>8</th>\n",
       "      <td>encoder.1</td>\n",
       "      <td>ConvBlock</td>\n",
       "      <td>[[(-1, 64, 128, 128)]]</td>\n",
       "      <td>[[(-1, 128, 64, 64)]]</td>\n",
       "      <td>tensor(1.3146e+05)</td>\n",
       "      <td>1</td>\n",
       "    </tr>\n",
       "    <tr>\n",
       "      <th>9</th>\n",
       "      <td>encoder.2.conv</td>\n",
       "      <td>Conv2d</td>\n",
       "      <td>[[(-1, 128, 64, 64)]]</td>\n",
       "      <td>[[(-1, 192, 32, 32)]]</td>\n",
       "      <td>tensor(3.9341e+05)</td>\n",
       "      <td>2</td>\n",
       "    </tr>\n",
       "    <tr>\n",
       "      <th>10</th>\n",
       "      <td>encoder.2.bn</td>\n",
       "      <td>BatchNorm2d</td>\n",
       "      <td>[[(-1, 192, 32, 32)]]</td>\n",
       "      <td>[[(-1, 192, 32, 32)]]</td>\n",
       "      <td>tensor(384)</td>\n",
       "      <td>2</td>\n",
       "    </tr>\n",
       "    <tr>\n",
       "      <th>11</th>\n",
       "      <td>encoder.2.act</td>\n",
       "      <td>ReLU</td>\n",
       "      <td>[[(-1, 192, 32, 32)]]</td>\n",
       "      <td>[[(-1, 192, 32, 32)]]</td>\n",
       "      <td>0</td>\n",
       "      <td>2</td>\n",
       "    </tr>\n",
       "    <tr>\n",
       "      <th>12</th>\n",
       "      <td>encoder.2</td>\n",
       "      <td>ConvBlock</td>\n",
       "      <td>[[(-1, 128, 64, 64)]]</td>\n",
       "      <td>[[(-1, 192, 32, 32)]]</td>\n",
       "      <td>tensor(3.9379e+05)</td>\n",
       "      <td>1</td>\n",
       "    </tr>\n",
       "    <tr>\n",
       "      <th>13</th>\n",
       "      <td>encoder.3.conv</td>\n",
       "      <td>Conv2d</td>\n",
       "      <td>[[(-1, 192, 32, 32)]]</td>\n",
       "      <td>[[(-1, 256, 16, 16)]]</td>\n",
       "      <td>tensor(7.8669e+05)</td>\n",
       "      <td>2</td>\n",
       "    </tr>\n",
       "    <tr>\n",
       "      <th>14</th>\n",
       "      <td>encoder.3.bn</td>\n",
       "      <td>BatchNorm2d</td>\n",
       "      <td>[[(-1, 256, 16, 16)]]</td>\n",
       "      <td>[[(-1, 256, 16, 16)]]</td>\n",
       "      <td>tensor(512)</td>\n",
       "      <td>2</td>\n",
       "    </tr>\n",
       "    <tr>\n",
       "      <th>15</th>\n",
       "      <td>encoder.3.act</td>\n",
       "      <td>ReLU</td>\n",
       "      <td>[[(-1, 256, 16, 16)]]</td>\n",
       "      <td>[[(-1, 256, 16, 16)]]</td>\n",
       "      <td>0</td>\n",
       "      <td>2</td>\n",
       "    </tr>\n",
       "    <tr>\n",
       "      <th>16</th>\n",
       "      <td>encoder.3</td>\n",
       "      <td>ConvBlock</td>\n",
       "      <td>[[(-1, 192, 32, 32)]]</td>\n",
       "      <td>[[(-1, 256, 16, 16)]]</td>\n",
       "      <td>tensor(7.8720e+05)</td>\n",
       "      <td>1</td>\n",
       "    </tr>\n",
       "    <tr>\n",
       "      <th>17</th>\n",
       "      <td>encoder.4.conv</td>\n",
       "      <td>Conv2d</td>\n",
       "      <td>[[(-1, 256, 16, 16)]]</td>\n",
       "      <td>[[(-1, 320, 8, 8)]]</td>\n",
       "      <td>tensor(1.3110e+06)</td>\n",
       "      <td>2</td>\n",
       "    </tr>\n",
       "    <tr>\n",
       "      <th>18</th>\n",
       "      <td>encoder.4.bn</td>\n",
       "      <td>BatchNorm2d</td>\n",
       "      <td>[[(-1, 320, 8, 8)]]</td>\n",
       "      <td>[[(-1, 320, 8, 8)]]</td>\n",
       "      <td>tensor(640)</td>\n",
       "      <td>2</td>\n",
       "    </tr>\n",
       "    <tr>\n",
       "      <th>19</th>\n",
       "      <td>encoder.4.act</td>\n",
       "      <td>ReLU</td>\n",
       "      <td>[[(-1, 320, 8, 8)]]</td>\n",
       "      <td>[[(-1, 320, 8, 8)]]</td>\n",
       "      <td>0</td>\n",
       "      <td>2</td>\n",
       "    </tr>\n",
       "    <tr>\n",
       "      <th>20</th>\n",
       "      <td>encoder.4</td>\n",
       "      <td>ConvBlock</td>\n",
       "      <td>[[(-1, 256, 16, 16)]]</td>\n",
       "      <td>[[(-1, 320, 8, 8)]]</td>\n",
       "      <td>tensor(1.3117e+06)</td>\n",
       "      <td>1</td>\n",
       "    </tr>\n",
       "    <tr>\n",
       "      <th>21</th>\n",
       "      <td>encoder.5</td>\n",
       "      <td>Conv2d</td>\n",
       "      <td>[[(-1, 320, 8, 8)]]</td>\n",
       "      <td>[[(-1, 32, 8, 8)]]</td>\n",
       "      <td>tensor(10272)</td>\n",
       "      <td>1</td>\n",
       "    </tr>\n",
       "    <tr>\n",
       "      <th>22</th>\n",
       "      <td>mu</td>\n",
       "      <td>Linear</td>\n",
       "      <td>[[(-1, 2048)]]</td>\n",
       "      <td>[[(-1, 128)]]</td>\n",
       "      <td>tensor(2.6227e+05)</td>\n",
       "      <td>0</td>\n",
       "    </tr>\n",
       "    <tr>\n",
       "      <th>23</th>\n",
       "      <td>logvar</td>\n",
       "      <td>Linear</td>\n",
       "      <td>[[(-1, 2048)]]</td>\n",
       "      <td>[[(-1, 128)]]</td>\n",
       "      <td>tensor(2.6227e+05)</td>\n",
       "      <td>0</td>\n",
       "    </tr>\n",
       "    <tr>\n",
       "      <th>24</th>\n",
       "      <td>z</td>\n",
       "      <td>Linear</td>\n",
       "      <td>[[(-1, 128)]]</td>\n",
       "      <td>[[(-1, 2048)]]</td>\n",
       "      <td>tensor(2.6419e+05)</td>\n",
       "      <td>0</td>\n",
       "    </tr>\n",
       "    <tr>\n",
       "      <th>25</th>\n",
       "      <td>decoder.0.deconv</td>\n",
       "      <td>ConvTranspose2d</td>\n",
       "      <td>[[(-1, 32, 8, 8)]]</td>\n",
       "      <td>[[(-1, 320, 8, 8)]]</td>\n",
       "      <td>tensor(10560)</td>\n",
       "      <td>2</td>\n",
       "    </tr>\n",
       "    <tr>\n",
       "      <th>26</th>\n",
       "      <td>decoder.0.bn</td>\n",
       "      <td>BatchNorm2d</td>\n",
       "      <td>[[(-1, 320, 8, 8)]]</td>\n",
       "      <td>[[(-1, 320, 8, 8)]]</td>\n",
       "      <td>tensor(640)</td>\n",
       "      <td>2</td>\n",
       "    </tr>\n",
       "    <tr>\n",
       "      <th>27</th>\n",
       "      <td>decoder.0.act</td>\n",
       "      <td>ReLU</td>\n",
       "      <td>[[(-1, 320, 8, 8)]]</td>\n",
       "      <td>[[(-1, 320, 8, 8)]]</td>\n",
       "      <td>0</td>\n",
       "      <td>2</td>\n",
       "    </tr>\n",
       "    <tr>\n",
       "      <th>28</th>\n",
       "      <td>decoder.0</td>\n",
       "      <td>DeconvBlock</td>\n",
       "      <td>[[(-1, 32, 8, 8)]]</td>\n",
       "      <td>[[(-1, 320, 8, 8)]]</td>\n",
       "      <td>tensor(11200)</td>\n",
       "      <td>1</td>\n",
       "    </tr>\n",
       "    <tr>\n",
       "      <th>29</th>\n",
       "      <td>decoder.1.deconv</td>\n",
       "      <td>ConvTranspose2d</td>\n",
       "      <td>[[(-1, 320, 8, 8)]]</td>\n",
       "      <td>[[(-1, 256, 16, 16)]]</td>\n",
       "      <td>tensor(1.3110e+06)</td>\n",
       "      <td>2</td>\n",
       "    </tr>\n",
       "    <tr>\n",
       "      <th>30</th>\n",
       "      <td>decoder.1.bn</td>\n",
       "      <td>BatchNorm2d</td>\n",
       "      <td>[[(-1, 256, 16, 16)]]</td>\n",
       "      <td>[[(-1, 256, 16, 16)]]</td>\n",
       "      <td>tensor(512)</td>\n",
       "      <td>2</td>\n",
       "    </tr>\n",
       "    <tr>\n",
       "      <th>31</th>\n",
       "      <td>decoder.1.act</td>\n",
       "      <td>ReLU</td>\n",
       "      <td>[[(-1, 256, 16, 16)]]</td>\n",
       "      <td>[[(-1, 256, 16, 16)]]</td>\n",
       "      <td>0</td>\n",
       "      <td>2</td>\n",
       "    </tr>\n",
       "    <tr>\n",
       "      <th>32</th>\n",
       "      <td>decoder.1</td>\n",
       "      <td>DeconvBlock</td>\n",
       "      <td>[[(-1, 320, 8, 8)]]</td>\n",
       "      <td>[[(-1, 256, 16, 16)]]</td>\n",
       "      <td>tensor(1.3115e+06)</td>\n",
       "      <td>1</td>\n",
       "    </tr>\n",
       "    <tr>\n",
       "      <th>33</th>\n",
       "      <td>decoder.2.deconv</td>\n",
       "      <td>ConvTranspose2d</td>\n",
       "      <td>[[(-1, 256, 16, 16)]]</td>\n",
       "      <td>[[(-1, 192, 32, 32)]]</td>\n",
       "      <td>tensor(7.8662e+05)</td>\n",
       "      <td>2</td>\n",
       "    </tr>\n",
       "    <tr>\n",
       "      <th>34</th>\n",
       "      <td>decoder.2.bn</td>\n",
       "      <td>BatchNorm2d</td>\n",
       "      <td>[[(-1, 192, 32, 32)]]</td>\n",
       "      <td>[[(-1, 192, 32, 32)]]</td>\n",
       "      <td>tensor(384)</td>\n",
       "      <td>2</td>\n",
       "    </tr>\n",
       "    <tr>\n",
       "      <th>35</th>\n",
       "      <td>decoder.2.act</td>\n",
       "      <td>ReLU</td>\n",
       "      <td>[[(-1, 192, 32, 32)]]</td>\n",
       "      <td>[[(-1, 192, 32, 32)]]</td>\n",
       "      <td>0</td>\n",
       "      <td>2</td>\n",
       "    </tr>\n",
       "    <tr>\n",
       "      <th>36</th>\n",
       "      <td>decoder.2</td>\n",
       "      <td>DeconvBlock</td>\n",
       "      <td>[[(-1, 256, 16, 16)]]</td>\n",
       "      <td>[[(-1, 192, 32, 32)]]</td>\n",
       "      <td>tensor(7.8701e+05)</td>\n",
       "      <td>1</td>\n",
       "    </tr>\n",
       "    <tr>\n",
       "      <th>37</th>\n",
       "      <td>decoder.3.deconv</td>\n",
       "      <td>ConvTranspose2d</td>\n",
       "      <td>[[(-1, 192, 32, 32)]]</td>\n",
       "      <td>[[(-1, 128, 64, 64)]]</td>\n",
       "      <td>tensor(3.9334e+05)</td>\n",
       "      <td>2</td>\n",
       "    </tr>\n",
       "    <tr>\n",
       "      <th>38</th>\n",
       "      <td>decoder.3.bn</td>\n",
       "      <td>BatchNorm2d</td>\n",
       "      <td>[[(-1, 128, 64, 64)]]</td>\n",
       "      <td>[[(-1, 128, 64, 64)]]</td>\n",
       "      <td>tensor(256)</td>\n",
       "      <td>2</td>\n",
       "    </tr>\n",
       "    <tr>\n",
       "      <th>39</th>\n",
       "      <td>decoder.3.act</td>\n",
       "      <td>ReLU</td>\n",
       "      <td>[[(-1, 128, 64, 64)]]</td>\n",
       "      <td>[[(-1, 128, 64, 64)]]</td>\n",
       "      <td>0</td>\n",
       "      <td>2</td>\n",
       "    </tr>\n",
       "    <tr>\n",
       "      <th>40</th>\n",
       "      <td>decoder.3</td>\n",
       "      <td>DeconvBlock</td>\n",
       "      <td>[[(-1, 192, 32, 32)]]</td>\n",
       "      <td>[[(-1, 128, 64, 64)]]</td>\n",
       "      <td>tensor(3.9360e+05)</td>\n",
       "      <td>1</td>\n",
       "    </tr>\n",
       "    <tr>\n",
       "      <th>41</th>\n",
       "      <td>decoder.4.deconv</td>\n",
       "      <td>ConvTranspose2d</td>\n",
       "      <td>[[(-1, 128, 64, 64)]]</td>\n",
       "      <td>[[(-1, 64, 128, 128)]]</td>\n",
       "      <td>tensor(1.3114e+05)</td>\n",
       "      <td>2</td>\n",
       "    </tr>\n",
       "    <tr>\n",
       "      <th>42</th>\n",
       "      <td>decoder.4.bn</td>\n",
       "      <td>BatchNorm2d</td>\n",
       "      <td>[[(-1, 64, 128, 128)]]</td>\n",
       "      <td>[[(-1, 64, 128, 128)]]</td>\n",
       "      <td>tensor(128)</td>\n",
       "      <td>2</td>\n",
       "    </tr>\n",
       "    <tr>\n",
       "      <th>43</th>\n",
       "      <td>decoder.4.act</td>\n",
       "      <td>ReLU</td>\n",
       "      <td>[[(-1, 64, 128, 128)]]</td>\n",
       "      <td>[[(-1, 64, 128, 128)]]</td>\n",
       "      <td>0</td>\n",
       "      <td>2</td>\n",
       "    </tr>\n",
       "    <tr>\n",
       "      <th>44</th>\n",
       "      <td>decoder.4</td>\n",
       "      <td>DeconvBlock</td>\n",
       "      <td>[[(-1, 128, 64, 64)]]</td>\n",
       "      <td>[[(-1, 64, 128, 128)]]</td>\n",
       "      <td>tensor(1.3126e+05)</td>\n",
       "      <td>1</td>\n",
       "    </tr>\n",
       "    <tr>\n",
       "      <th>45</th>\n",
       "      <td>decoder.5</td>\n",
       "      <td>Conv2d</td>\n",
       "      <td>[[(-1, 64, 128, 128)]]</td>\n",
       "      <td>[[(-1, 3, 128, 128)]]</td>\n",
       "      <td>tensor(1731)</td>\n",
       "      <td>1</td>\n",
       "    </tr>\n",
       "    <tr>\n",
       "      <th>46</th>\n",
       "      <td>sigmoid</td>\n",
       "      <td>Sigmoid</td>\n",
       "      <td>[[(-1, 3, 128, 128)]]</td>\n",
       "      <td>[[(-1, 3, 128, 128)]]</td>\n",
       "      <td>0</td>\n",
       "      <td>0</td>\n",
       "    </tr>\n",
       "  </tbody>\n",
       "</table>\n",
       "</div>"
      ],
      "text/plain": [
       "                name       class_name             input_shape  \\\n",
       "1     encoder.0.conv           Conv2d   [[(-1, 3, 128, 128)]]   \n",
       "2       encoder.0.bn      BatchNorm2d  [[(-1, 64, 128, 128)]]   \n",
       "3      encoder.0.act             ReLU  [[(-1, 64, 128, 128)]]   \n",
       "4          encoder.0        ConvBlock   [[(-1, 3, 128, 128)]]   \n",
       "5     encoder.1.conv           Conv2d  [[(-1, 64, 128, 128)]]   \n",
       "6       encoder.1.bn      BatchNorm2d   [[(-1, 128, 64, 64)]]   \n",
       "7      encoder.1.act             ReLU   [[(-1, 128, 64, 64)]]   \n",
       "8          encoder.1        ConvBlock  [[(-1, 64, 128, 128)]]   \n",
       "9     encoder.2.conv           Conv2d   [[(-1, 128, 64, 64)]]   \n",
       "10      encoder.2.bn      BatchNorm2d   [[(-1, 192, 32, 32)]]   \n",
       "11     encoder.2.act             ReLU   [[(-1, 192, 32, 32)]]   \n",
       "12         encoder.2        ConvBlock   [[(-1, 128, 64, 64)]]   \n",
       "13    encoder.3.conv           Conv2d   [[(-1, 192, 32, 32)]]   \n",
       "14      encoder.3.bn      BatchNorm2d   [[(-1, 256, 16, 16)]]   \n",
       "15     encoder.3.act             ReLU   [[(-1, 256, 16, 16)]]   \n",
       "16         encoder.3        ConvBlock   [[(-1, 192, 32, 32)]]   \n",
       "17    encoder.4.conv           Conv2d   [[(-1, 256, 16, 16)]]   \n",
       "18      encoder.4.bn      BatchNorm2d     [[(-1, 320, 8, 8)]]   \n",
       "19     encoder.4.act             ReLU     [[(-1, 320, 8, 8)]]   \n",
       "20         encoder.4        ConvBlock   [[(-1, 256, 16, 16)]]   \n",
       "21         encoder.5           Conv2d     [[(-1, 320, 8, 8)]]   \n",
       "22                mu           Linear          [[(-1, 2048)]]   \n",
       "23            logvar           Linear          [[(-1, 2048)]]   \n",
       "24                 z           Linear           [[(-1, 128)]]   \n",
       "25  decoder.0.deconv  ConvTranspose2d      [[(-1, 32, 8, 8)]]   \n",
       "26      decoder.0.bn      BatchNorm2d     [[(-1, 320, 8, 8)]]   \n",
       "27     decoder.0.act             ReLU     [[(-1, 320, 8, 8)]]   \n",
       "28         decoder.0      DeconvBlock      [[(-1, 32, 8, 8)]]   \n",
       "29  decoder.1.deconv  ConvTranspose2d     [[(-1, 320, 8, 8)]]   \n",
       "30      decoder.1.bn      BatchNorm2d   [[(-1, 256, 16, 16)]]   \n",
       "31     decoder.1.act             ReLU   [[(-1, 256, 16, 16)]]   \n",
       "32         decoder.1      DeconvBlock     [[(-1, 320, 8, 8)]]   \n",
       "33  decoder.2.deconv  ConvTranspose2d   [[(-1, 256, 16, 16)]]   \n",
       "34      decoder.2.bn      BatchNorm2d   [[(-1, 192, 32, 32)]]   \n",
       "35     decoder.2.act             ReLU   [[(-1, 192, 32, 32)]]   \n",
       "36         decoder.2      DeconvBlock   [[(-1, 256, 16, 16)]]   \n",
       "37  decoder.3.deconv  ConvTranspose2d   [[(-1, 192, 32, 32)]]   \n",
       "38      decoder.3.bn      BatchNorm2d   [[(-1, 128, 64, 64)]]   \n",
       "39     decoder.3.act             ReLU   [[(-1, 128, 64, 64)]]   \n",
       "40         decoder.3      DeconvBlock   [[(-1, 192, 32, 32)]]   \n",
       "41  decoder.4.deconv  ConvTranspose2d   [[(-1, 128, 64, 64)]]   \n",
       "42      decoder.4.bn      BatchNorm2d  [[(-1, 64, 128, 128)]]   \n",
       "43     decoder.4.act             ReLU  [[(-1, 64, 128, 128)]]   \n",
       "44         decoder.4      DeconvBlock   [[(-1, 128, 64, 64)]]   \n",
       "45         decoder.5           Conv2d  [[(-1, 64, 128, 128)]]   \n",
       "46           sigmoid          Sigmoid   [[(-1, 3, 128, 128)]]   \n",
       "\n",
       "              output_shape           nb_params  level  \n",
       "1   [[(-1, 64, 128, 128)]]        tensor(1792)      2  \n",
       "2   [[(-1, 64, 128, 128)]]         tensor(128)      2  \n",
       "3   [[(-1, 64, 128, 128)]]                   0      2  \n",
       "4   [[(-1, 64, 128, 128)]]        tensor(1920)      1  \n",
       "5    [[(-1, 128, 64, 64)]]  tensor(1.3120e+05)      2  \n",
       "6    [[(-1, 128, 64, 64)]]         tensor(256)      2  \n",
       "7    [[(-1, 128, 64, 64)]]                   0      2  \n",
       "8    [[(-1, 128, 64, 64)]]  tensor(1.3146e+05)      1  \n",
       "9    [[(-1, 192, 32, 32)]]  tensor(3.9341e+05)      2  \n",
       "10   [[(-1, 192, 32, 32)]]         tensor(384)      2  \n",
       "11   [[(-1, 192, 32, 32)]]                   0      2  \n",
       "12   [[(-1, 192, 32, 32)]]  tensor(3.9379e+05)      1  \n",
       "13   [[(-1, 256, 16, 16)]]  tensor(7.8669e+05)      2  \n",
       "14   [[(-1, 256, 16, 16)]]         tensor(512)      2  \n",
       "15   [[(-1, 256, 16, 16)]]                   0      2  \n",
       "16   [[(-1, 256, 16, 16)]]  tensor(7.8720e+05)      1  \n",
       "17     [[(-1, 320, 8, 8)]]  tensor(1.3110e+06)      2  \n",
       "18     [[(-1, 320, 8, 8)]]         tensor(640)      2  \n",
       "19     [[(-1, 320, 8, 8)]]                   0      2  \n",
       "20     [[(-1, 320, 8, 8)]]  tensor(1.3117e+06)      1  \n",
       "21      [[(-1, 32, 8, 8)]]       tensor(10272)      1  \n",
       "22           [[(-1, 128)]]  tensor(2.6227e+05)      0  \n",
       "23           [[(-1, 128)]]  tensor(2.6227e+05)      0  \n",
       "24          [[(-1, 2048)]]  tensor(2.6419e+05)      0  \n",
       "25     [[(-1, 320, 8, 8)]]       tensor(10560)      2  \n",
       "26     [[(-1, 320, 8, 8)]]         tensor(640)      2  \n",
       "27     [[(-1, 320, 8, 8)]]                   0      2  \n",
       "28     [[(-1, 320, 8, 8)]]       tensor(11200)      1  \n",
       "29   [[(-1, 256, 16, 16)]]  tensor(1.3110e+06)      2  \n",
       "30   [[(-1, 256, 16, 16)]]         tensor(512)      2  \n",
       "31   [[(-1, 256, 16, 16)]]                   0      2  \n",
       "32   [[(-1, 256, 16, 16)]]  tensor(1.3115e+06)      1  \n",
       "33   [[(-1, 192, 32, 32)]]  tensor(7.8662e+05)      2  \n",
       "34   [[(-1, 192, 32, 32)]]         tensor(384)      2  \n",
       "35   [[(-1, 192, 32, 32)]]                   0      2  \n",
       "36   [[(-1, 192, 32, 32)]]  tensor(7.8701e+05)      1  \n",
       "37   [[(-1, 128, 64, 64)]]  tensor(3.9334e+05)      2  \n",
       "38   [[(-1, 128, 64, 64)]]         tensor(256)      2  \n",
       "39   [[(-1, 128, 64, 64)]]                   0      2  \n",
       "40   [[(-1, 128, 64, 64)]]  tensor(3.9360e+05)      1  \n",
       "41  [[(-1, 64, 128, 128)]]  tensor(1.3114e+05)      2  \n",
       "42  [[(-1, 64, 128, 128)]]         tensor(128)      2  \n",
       "43  [[(-1, 64, 128, 128)]]                   0      2  \n",
       "44  [[(-1, 64, 128, 128)]]  tensor(1.3126e+05)      1  \n",
       "45   [[(-1, 3, 128, 128)]]        tensor(1731)      1  \n",
       "46   [[(-1, 3, 128, 128)]]                   0      0  "
      ]
     },
     "execution_count": 12,
     "metadata": {},
     "output_type": "execute_result"
    }
   ],
   "source": [
    "img = np.random.randn(64*2, 64*2, 3)\n",
    "gpu_img = Variable(torch.from_numpy(img[np.newaxis].transpose(0, 3, 1, 2))).float().cuda()\n",
    "\n",
    "with TorchSummarizeDf(vae) as tdf:\n",
    "    x, mu, logvar = vae.forward(gpu_img)\n",
    "    print(x.size())\n",
    "    print(loss_function(x, gpu_img, mu, logvar))\n",
    "    x = x.data.cpu().numpy()[0].transpose(1, 2, 0)\n",
    "    df = tdf.make_df()\n",
    "df"
   ]
  },
  {
   "cell_type": "markdown",
   "metadata": {},
   "source": [
    "## Train"
   ]
  },
  {
   "cell_type": "code",
   "execution_count": 13,
   "metadata": {
    "ExecuteTime": {
     "end_time": "2018-05-08T12:20:06.458549Z",
     "start_time": "2018-05-08T12:20:06.431457Z"
    }
   },
   "outputs": [],
   "source": [
    "import collections\n",
    "\n",
    "def train(loader, net, optimizer, loss_function, test=False, cuda=True):\n",
    "    if test:\n",
    "        net.eval()\n",
    "    else:\n",
    "        net.train()\n",
    "    info = collections.defaultdict(list)\n",
    "    \n",
    "    with tqdm(total=len(loader)*loader.batch_size, mininterval=0.5, desc='test' if test else 'training') as prog:\n",
    "        for i, (batch,) in enumerate(loader):\n",
    "            x = Variable(batch.transpose(1,3)).cuda()\n",
    "            y, mu, logvar = vae.forward(x)\n",
    "            loss = loss_function(y, x, mu, logvar)\n",
    "            info['loss'].append(loss.cpu().data.numpy())\n",
    "            \n",
    "            if not test:\n",
    "                optimizer.zero_grad()\n",
    "                loss.backward()\n",
    "                optimizer.step()\n",
    "            \n",
    "            prog.update(loader.batch_size)\n",
    "            prog.desc='loss={:2.4f}'.format(np.mean(info['loss'][-300:]))\n",
    "            \n",
    "#             if i%(200000//batch_size)==0:\n",
    "#                 print('[{}/{}] loss={:2.4f}'.format(i, len(loader), np.mean(info['loss'][-300:])))\n",
    "        print('[{}/{}] loss={:2.4f}'.format(i, len(loader), np.mean(info['loss'][-300:])))\n",
    "        prog.close()\n",
    "    return info"
   ]
  },
  {
   "cell_type": "code",
   "execution_count": 14,
   "metadata": {
    "ExecuteTime": {
     "end_time": "2018-05-08T12:20:06.485779Z",
     "start_time": "2018-05-08T12:20:06.460921Z"
    }
   },
   "outputs": [],
   "source": [
    "# Plot reconstructions\n",
    "def plot_results(loader=loader_test, n=2, epoch=0):\n",
    "    x, = next(iter(loader))\n",
    "\n",
    "    X = Variable(x).cuda().transpose(1,3).contiguous()\n",
    "    Y, mu, logvar = vae.forward(X)\n",
    "    loss = loss_function(Y, X, mu, logvar)\n",
    "\n",
    "    y=Y.cpu().data.transpose(1,3).numpy()\n",
    "    for i in range(n):\n",
    "        plt.subplot(1, 2, 1)\n",
    "        plt.title('original')\n",
    "        plt.imshow(x[i].numpy())\n",
    "\n",
    "        plt.subplot(1, 2, 2)\n",
    "        plt.imshow(y[i])\n",
    "        plt.title('reconstructed')\n",
    "\n",
    "        plt.suptitle('epoch {}, index {}, loss {:2.4f}'.format(epoch, i, loss.cpu().data.numpy()))\n",
    "        plt.show()\n",
    "        \n",
    "# plot_results(loader=loader_test, n=2, epoch=epoch)"
   ]
  },
  {
   "cell_type": "code",
   "execution_count": 15,
   "metadata": {
    "ExecuteTime": {
     "end_time": "2018-05-08T12:20:06.509927Z",
     "start_time": "2018-05-08T12:20:06.488161Z"
    }
   },
   "outputs": [],
   "source": [
    "# Train\n",
    "\n",
    "optimizer = optim.Adam(vae.parameters(), lr=3e-4)\n",
    "import torch.optim.lr_scheduler\n",
    "scheduler = optim.lr_scheduler.ReduceLROnPlateau(optimizer, mode='min', patience=3, verbose=True)"
   ]
  },
  {
   "cell_type": "code",
   "execution_count": 16,
   "metadata": {
    "ExecuteTime": {
     "end_time": "2018-05-08T12:20:06.532116Z",
     "start_time": "2018-05-08T12:20:06.515455Z"
    }
   },
   "outputs": [],
   "source": [
    "infos=[]"
   ]
  },
  {
   "cell_type": "code",
   "execution_count": 17,
   "metadata": {
    "ExecuteTime": {
     "end_time": "2018-05-08T12:47:37.573400Z",
     "start_time": "2018-05-08T12:20:06.534353Z"
    },
    "scrolled": true
   },
   "outputs": [
    {
     "data": {
      "application/vnd.jupyter.widget-view+json": {
       "model_id": "0c43a98d4c734834a237f643ae830c31",
       "version_major": 2,
       "version_minor": 0
      },
      "text/plain": [
       "HBox(children=(IntProgress(value=0, description='training', max=96000), HTML(value='')))"
      ]
     },
     "metadata": {},
     "output_type": "display_data"
    },
    {
     "name": "stderr",
     "output_type": "stream",
     "text": [
      "/home/ubuntu/anaconda3/envs/pytorch_p36/lib/python3.6/site-packages/tqdm/_monitor.py:89: TqdmSynchronisationWarning: Set changed size during iteration (see https://github.com/tqdm/tqdm/issues/481)\n",
      "  TqdmSynchronisationWarning)\n"
     ]
    },
    {
     "name": "stdout",
     "output_type": "stream",
     "text": [
      "\n"
     ]
    },
    {
     "ename": "KeyboardInterrupt",
     "evalue": "",
     "output_type": "error",
     "traceback": [
      "\u001b[0;31m---------------------------------------------------------------------------\u001b[0m",
      "\u001b[0;31mKeyboardInterrupt\u001b[0m                         Traceback (most recent call last)",
      "\u001b[0;32m<ipython-input-17-2db949ed9377>\u001b[0m in \u001b[0;36m<module>\u001b[0;34m()\u001b[0m\n\u001b[1;32m      1\u001b[0m \u001b[0;32mfor\u001b[0m \u001b[0mepoch\u001b[0m \u001b[0;32min\u001b[0m \u001b[0mrange\u001b[0m\u001b[0;34m(\u001b[0m\u001b[0mnum_epochs\u001b[0m\u001b[0;34m)\u001b[0m\u001b[0;34m:\u001b[0m\u001b[0;34m\u001b[0m\u001b[0m\n\u001b[0;32m----> 2\u001b[0;31m     \u001b[0minfo\u001b[0m \u001b[0;34m=\u001b[0m \u001b[0mtrain\u001b[0m\u001b[0;34m(\u001b[0m\u001b[0mloader_train\u001b[0m\u001b[0;34m,\u001b[0m \u001b[0mvae\u001b[0m\u001b[0;34m,\u001b[0m \u001b[0moptimizer\u001b[0m\u001b[0;34m,\u001b[0m \u001b[0mloss_function\u001b[0m\u001b[0;34m,\u001b[0m \u001b[0mtest\u001b[0m\u001b[0;34m=\u001b[0m\u001b[0;32mFalse\u001b[0m\u001b[0;34m,\u001b[0m \u001b[0mcuda\u001b[0m\u001b[0;34m=\u001b[0m\u001b[0;32mTrue\u001b[0m\u001b[0;34m)\u001b[0m\u001b[0;34m\u001b[0m\u001b[0m\n\u001b[0m\u001b[1;32m      3\u001b[0m     \u001b[0minfo_val\u001b[0m \u001b[0;34m=\u001b[0m \u001b[0mtrain\u001b[0m\u001b[0;34m(\u001b[0m\u001b[0mloader_test\u001b[0m\u001b[0;34m,\u001b[0m \u001b[0mvae\u001b[0m\u001b[0;34m,\u001b[0m \u001b[0moptimizer\u001b[0m\u001b[0;34m,\u001b[0m \u001b[0mloss_function\u001b[0m\u001b[0;34m,\u001b[0m \u001b[0mtest\u001b[0m\u001b[0;34m=\u001b[0m\u001b[0;32mTrue\u001b[0m\u001b[0;34m,\u001b[0m \u001b[0mcuda\u001b[0m\u001b[0;34m=\u001b[0m\u001b[0;32mTrue\u001b[0m\u001b[0;34m)\u001b[0m\u001b[0;34m\u001b[0m\u001b[0m\n\u001b[1;32m      4\u001b[0m     \u001b[0mscheduler\u001b[0m\u001b[0;34m.\u001b[0m\u001b[0mstep\u001b[0m\u001b[0;34m(\u001b[0m\u001b[0mnp\u001b[0m\u001b[0;34m.\u001b[0m\u001b[0mmean\u001b[0m\u001b[0;34m(\u001b[0m\u001b[0minfo_val\u001b[0m\u001b[0;34m[\u001b[0m\u001b[0;34m'loss'\u001b[0m\u001b[0;34m]\u001b[0m\u001b[0;34m)\u001b[0m\u001b[0;34m)\u001b[0m\u001b[0;34m\u001b[0m\u001b[0m\n\u001b[1;32m      5\u001b[0m \u001b[0;34m\u001b[0m\u001b[0m\n",
      "\u001b[0;32m<ipython-input-13-47226611d0cb>\u001b[0m in \u001b[0;36mtrain\u001b[0;34m(loader, net, optimizer, loss_function, test, cuda)\u001b[0m\n\u001b[1;32m     12\u001b[0m             \u001b[0mx\u001b[0m \u001b[0;34m=\u001b[0m \u001b[0mVariable\u001b[0m\u001b[0;34m(\u001b[0m\u001b[0mbatch\u001b[0m\u001b[0;34m.\u001b[0m\u001b[0mtranspose\u001b[0m\u001b[0;34m(\u001b[0m\u001b[0;36m1\u001b[0m\u001b[0;34m,\u001b[0m\u001b[0;36m3\u001b[0m\u001b[0;34m)\u001b[0m\u001b[0;34m)\u001b[0m\u001b[0;34m.\u001b[0m\u001b[0mcuda\u001b[0m\u001b[0;34m(\u001b[0m\u001b[0;34m)\u001b[0m\u001b[0;34m\u001b[0m\u001b[0m\n\u001b[1;32m     13\u001b[0m             \u001b[0my\u001b[0m\u001b[0;34m,\u001b[0m \u001b[0mmu\u001b[0m\u001b[0;34m,\u001b[0m \u001b[0mlogvar\u001b[0m \u001b[0;34m=\u001b[0m \u001b[0mvae\u001b[0m\u001b[0;34m.\u001b[0m\u001b[0mforward\u001b[0m\u001b[0;34m(\u001b[0m\u001b[0mx\u001b[0m\u001b[0;34m)\u001b[0m\u001b[0;34m\u001b[0m\u001b[0m\n\u001b[0;32m---> 14\u001b[0;31m             \u001b[0mloss\u001b[0m \u001b[0;34m=\u001b[0m \u001b[0mloss_function\u001b[0m\u001b[0;34m(\u001b[0m\u001b[0my\u001b[0m\u001b[0;34m,\u001b[0m \u001b[0mx\u001b[0m\u001b[0;34m,\u001b[0m \u001b[0mmu\u001b[0m\u001b[0;34m,\u001b[0m \u001b[0mlogvar\u001b[0m\u001b[0;34m)\u001b[0m\u001b[0;34m\u001b[0m\u001b[0m\n\u001b[0m\u001b[1;32m     15\u001b[0m             \u001b[0minfo\u001b[0m\u001b[0;34m[\u001b[0m\u001b[0;34m'loss'\u001b[0m\u001b[0;34m]\u001b[0m\u001b[0;34m.\u001b[0m\u001b[0mappend\u001b[0m\u001b[0;34m(\u001b[0m\u001b[0mloss\u001b[0m\u001b[0;34m.\u001b[0m\u001b[0mcpu\u001b[0m\u001b[0;34m(\u001b[0m\u001b[0;34m)\u001b[0m\u001b[0;34m.\u001b[0m\u001b[0mdata\u001b[0m\u001b[0;34m.\u001b[0m\u001b[0mnumpy\u001b[0m\u001b[0;34m(\u001b[0m\u001b[0;34m)\u001b[0m\u001b[0;34m)\u001b[0m\u001b[0;34m\u001b[0m\u001b[0m\n\u001b[1;32m     16\u001b[0m \u001b[0;34m\u001b[0m\u001b[0m\n",
      "\u001b[0;32m~/world-models-pytorch/vae.py\u001b[0m in \u001b[0;36mloss_function\u001b[0;34m(recon_x, x, mu, logvar)\u001b[0m\n\u001b[1;32m    155\u001b[0m     \u001b[0;31m# 0.5 * sum(1 + log(sigma^2) - mu^2 - sigma^2)\u001b[0m\u001b[0;34m\u001b[0m\u001b[0;34m\u001b[0m\u001b[0m\n\u001b[1;32m    156\u001b[0m     \u001b[0mKLD\u001b[0m \u001b[0;34m=\u001b[0m \u001b[0;34m-\u001b[0m\u001b[0;36m0.5\u001b[0m \u001b[0;34m*\u001b[0m \u001b[0mtorch\u001b[0m\u001b[0;34m.\u001b[0m\u001b[0msum\u001b[0m\u001b[0;34m(\u001b[0m\u001b[0;36m1\u001b[0m \u001b[0;34m+\u001b[0m \u001b[0mlogvar\u001b[0m \u001b[0;34m-\u001b[0m \u001b[0mmu\u001b[0m\u001b[0;34m.\u001b[0m\u001b[0mpow\u001b[0m\u001b[0;34m(\u001b[0m\u001b[0;36m2\u001b[0m\u001b[0;34m)\u001b[0m \u001b[0;34m-\u001b[0m \u001b[0mlogvar\u001b[0m\u001b[0;34m.\u001b[0m\u001b[0mexp\u001b[0m\u001b[0;34m(\u001b[0m\u001b[0;34m)\u001b[0m\u001b[0;34m,\u001b[0m \u001b[0;36m1\u001b[0m\u001b[0;34m)\u001b[0m\u001b[0;34m\u001b[0m\u001b[0m\n\u001b[0;32m--> 157\u001b[0;31m     \u001b[0;32mreturn\u001b[0m \u001b[0mtorch\u001b[0m\u001b[0;34m.\u001b[0m\u001b[0msum\u001b[0m\u001b[0;34m(\u001b[0m\u001b[0ml2_dist\u001b[0m \u001b[0;34m+\u001b[0m \u001b[0mKLD\u001b[0m\u001b[0;34m)\u001b[0m\u001b[0;34m\u001b[0m\u001b[0m\n\u001b[0m\u001b[1;32m    158\u001b[0m \u001b[0;34m\u001b[0m\u001b[0m\n\u001b[1;32m    159\u001b[0m \u001b[0;34m\u001b[0m\u001b[0m\n",
      "\u001b[0;31mKeyboardInterrupt\u001b[0m: "
     ]
    }
   ],
   "source": [
    "for epoch in range(num_epochs): \n",
    "    info = train(loader_train, vae, optimizer, loss_function, test=False, cuda=True)\n",
    "    info_val = train(loader_test, vae, optimizer, loss_function, test=True, cuda=True)\n",
    "    scheduler.step(np.mean(info_val['loss']))\n",
    "    \n",
    "    print('Epoch {}, loss={:2.4f}, loss_val={:2.4f}'.format(epoch, np.mean(info['loss']), np.mean(info_val['loss'])))\n",
    "    infos.append([info, info_val])\n",
    "    \n",
    "    plot_results(loader=loader_test, n=1, epoch=epoch)\n",
    "    \n",
    "    torch.save(vae.state_dict(), './models/VAE_{}_state_dict3.pkl'.format(epoch))"
   ]
  },
  {
   "cell_type": "code",
   "execution_count": null,
   "metadata": {
    "ExecuteTime": {
     "end_time": "2018-05-08T12:47:37.574409Z",
     "start_time": "2018-05-08T12:19:56.716Z"
    }
   },
   "outputs": [],
   "source": [
    "# try to get below 47-50 else go load last, and use lower learnign rate\n",
    "# also think if I need more latent channels?\n",
    "# try leaving overnight\n",
    "# maybe I need a lower batch? lower than 6"
   ]
  },
  {
   "cell_type": "code",
   "execution_count": 18,
   "metadata": {
    "ExecuteTime": {
     "end_time": "2018-05-08T12:47:42.375716Z",
     "start_time": "2018-05-08T12:47:42.276438Z"
    }
   },
   "outputs": [],
   "source": [
    "# torch.save(vae, './models/VAE.pkl')\n",
    "torch.save(vae.state_dict(), './models/VAE_state_dict3.pkl')"
   ]
  },
  {
   "cell_type": "code",
   "execution_count": null,
   "metadata": {
    "ExecuteTime": {
     "end_time": "2018-05-08T12:47:37.577186Z",
     "start_time": "2018-05-08T12:19:56.719Z"
    }
   },
   "outputs": [],
   "source": [
    "# plot history\n",
    "import pandas as pd\n",
    "histories = []\n",
    "for info, info_val in infos:\n",
    "    history = {k+'_val':np.mean(v) for k,v in info_val.items()}\n",
    "    history.update({k:np.mean(v) for k,v in info.items()})\n",
    "    histories.append(history)\n",
    "histories = pd.DataFrame(histories)\n",
    "histories.plot()"
   ]
  },
  {
   "cell_type": "code",
   "execution_count": null,
   "metadata": {
    "ExecuteTime": {
     "end_time": "2018-05-08T12:47:37.578301Z",
     "start_time": "2018-05-08T12:19:56.721Z"
    }
   },
   "outputs": [],
   "source": [
    "# check the balance of the two losses, in some situations we might want to reblance, e.g. if KLD>>l2_dist and it's stalled\n",
    "\n",
    "# def loss_function(recon_x, x, mu, logvar):\n",
    "#     n, c, h, w = recon_x.size()\n",
    "#     recon_x = recon_x.view(n, -1)\n",
    "#     x = x.view(n, -1)\n",
    "#     # L2 distance\n",
    "#     l2_dist = torch.sqrt(torch.sum(torch.pow(recon_x - x, 2), 1))\n",
    "#     # see Appendix B from VAE paper:\n",
    "#     # Kingma and Welling. Auto-Encoding Variational Bayes. ICLR, 2014\n",
    "#     # https://arxiv.org/abs/1312.6114\n",
    "#     # 0.5 * sum(1 + log(sigma^2) - mu^2 - sigma^2)\n",
    "#     KLD = -0.5 * torch.sum(1 + logvar - mu.pow(2) - logvar.exp(), 1)\n",
    "#     print(l2_dist, KLD)\n",
    "#     return torch.mean(l2_dist + KLD)\n",
    "# loss_function(Y, X, mu, logvar)"
   ]
  },
  {
   "cell_type": "code",
   "execution_count": null,
   "metadata": {
    "ExecuteTime": {
     "end_time": "2018-05-08T04:25:35.249814Z",
     "start_time": "2018-05-08T04:25:35.216605Z"
    }
   },
   "outputs": [],
   "source": []
  },
  {
   "cell_type": "code",
   "execution_count": null,
   "metadata": {
    "ExecuteTime": {
     "end_time": "2018-05-08T12:47:37.579479Z",
     "start_time": "2018-05-08T12:19:56.724Z"
    }
   },
   "outputs": [],
   "source": [
    "plot_results(loader=loader_test, n=4, epoch=epoch)"
   ]
  },
  {
   "cell_type": "markdown",
   "metadata": {},
   "source": [
    "# End"
   ]
  },
  {
   "cell_type": "code",
   "execution_count": null,
   "metadata": {
    "ExecuteTime": {
     "end_time": "2018-05-08T12:47:37.581700Z",
     "start_time": "2018-05-08T12:19:56.726Z"
    }
   },
   "outputs": [],
   "source": [
    "1"
   ]
  },
  {
   "cell_type": "code",
   "execution_count": null,
   "metadata": {},
   "outputs": [],
   "source": []
  }
 ],
 "metadata": {
  "kernelspec": {
   "display_name": "Environment (conda_pytorch_p36)",
   "language": "python",
   "name": "conda_pytorch_p36"
  },
  "language_info": {
   "codemirror_mode": {
    "name": "ipython",
    "version": 3
   },
   "file_extension": ".py",
   "mimetype": "text/x-python",
   "name": "python",
   "nbconvert_exporter": "python",
   "pygments_lexer": "ipython3",
   "version": "3.6.5"
  },
  "toc": {
   "base_numbering": 1,
   "nav_menu": {
    "height": "48px",
    "width": "252px"
   },
   "number_sections": true,
   "sideBar": true,
   "skip_h1_title": false,
   "title_cell": "Table of Contents",
   "title_sidebar": "Contents",
   "toc_cell": false,
   "toc_position": {
    "height": "calc(100% - 180px)",
    "left": "10px",
    "top": "150px",
    "width": "307px"
   },
   "toc_section_display": "block",
   "toc_window_display": true
  }
 },
 "nbformat": 4,
 "nbformat_minor": 2
}
