{
 "cells": [
  {
   "cell_type": "markdown",
   "metadata": {},
   "source": [
    "This experiment, higher learning rate. Larger rollouts."
   ]
  },
  {
   "cell_type": "code",
   "execution_count": 1,
   "metadata": {
    "ExecuteTime": {
     "end_time": "2018-06-09T11:22:22.509286Z",
     "start_time": "2018-06-09T11:22:21.389138Z"
    }
   },
   "outputs": [],
   "source": [
    "import deep_rl"
   ]
  },
  {
   "cell_type": "code",
   "execution_count": 2,
   "metadata": {
    "ExecuteTime": {
     "end_time": "2018-06-09T11:22:22.547395Z",
     "start_time": "2018-06-09T11:22:22.512072Z"
    }
   },
   "outputs": [],
   "source": [
    "%matplotlib inline\n",
    "%reload_ext autoreload\n",
    "%autoreload 2"
   ]
  },
  {
   "cell_type": "code",
   "execution_count": 3,
   "metadata": {
    "ExecuteTime": {
     "end_time": "2018-06-09T11:22:22.576407Z",
     "start_time": "2018-06-09T11:22:22.549884Z"
    }
   },
   "outputs": [],
   "source": [
    "import torch\n",
    "from torch.nn import functional as F\n",
    "from torch.autograd import Variable\n",
    "from torch import nn, optim\n",
    "import torch.utils.data\n",
    "\n",
    "# load as dask array\n",
    "import time\n",
    "\n",
    "import logging\n",
    "import sys\n",
    "import os\n",
    "import glob\n",
    "import numpy as np\n",
    "import datetime\n",
    "from matplotlib import pyplot as plt\n",
    "from tqdm import tqdm_notebook as tqdm"
   ]
  },
  {
   "cell_type": "code",
   "execution_count": 4,
   "metadata": {
    "ExecuteTime": {
     "end_time": "2018-06-09T11:22:22.606612Z",
     "start_time": "2018-06-09T11:22:22.578707Z"
    }
   },
   "outputs": [],
   "source": [
    "from deep_rl.utils.logger import get_logger, get_default_log_dir\n",
    "\n",
    "from deep_rl.network.network_heads import CategoricalActorCriticNet, QuantileNet, OptionCriticNet, DeterministicActorCriticNet, GaussianActorCriticNet\n",
    "from deep_rl.network.network_bodies import FCBody\n",
    "from deep_rl.utils.normalizer import RunningStatsNormalizer, RescaleNormalizer\n",
    "from deep_rl.component.task import ParallelizedTask"
   ]
  },
  {
   "cell_type": "code",
   "execution_count": 5,
   "metadata": {
    "ExecuteTime": {
     "end_time": "2018-06-09T11:22:22.971271Z",
     "start_time": "2018-06-09T11:22:22.609410Z"
    }
   },
   "outputs": [
    {
     "name": "stdout",
     "output_type": "stream",
     "text": [
      "Importing 0 potential games...\n",
      "Imported 0 games\n"
     ]
    }
   ],
   "source": [
    "from world_models_sonic.models.vae import VAE5, loss_function_vae\n",
    "from world_models_sonic.helpers.summarize import TorchSummarizeDf\n",
    "from world_models_sonic.models.rnn import MDNRNN\n",
    "from world_models_sonic.models.inverse_model import InverseModel\n",
    "from world_models_sonic.models.world_model import WorldModel\n",
    "from world_models_sonic.custom_envs.env import make_env\n",
    "from world_models_sonic.custom_envs.wrappers import RandomGameReset\n",
    "from world_models_sonic import config\n",
    "from world_models_sonic.helpers.deep_rl import PPOAgent, run_iterations, SonicWorldModelDeepRL, CategoricalWorldActorCriticNet, Config"
   ]
  },
  {
   "cell_type": "code",
   "execution_count": null,
   "metadata": {
    "ExecuteTime": {
     "end_time": "2018-05-23T01:54:51.062733Z",
     "start_time": "2018-05-23T01:54:50.908162Z"
    }
   },
   "outputs": [],
   "source": []
  },
  {
   "cell_type": "markdown",
   "metadata": {
    "ExecuteTime": {
     "end_time": "2018-05-20T07:15:35.605788Z",
     "start_time": "2018-05-20T07:15:35.588273Z"
    }
   },
   "source": [
    "# Init"
   ]
  },
  {
   "cell_type": "code",
   "execution_count": 6,
   "metadata": {
    "ExecuteTime": {
     "end_time": "2018-06-09T11:22:23.060289Z",
     "start_time": "2018-06-09T11:22:22.973741Z"
    }
   },
   "outputs": [
    {
     "name": "stdout",
     "output_type": "stream",
     "text": [
      "./outputs/RNN_v3b_128im_512z_1512_v6k_VAE5_all\n"
     ]
    }
   ],
   "source": [
    "cuda = torch.cuda.is_available()\n",
    "env_name = 'sonic256'\n",
    "z_dim = 512  # latent dimensions\n",
    "channels = 3*4\n",
    "\n",
    "# RNN\n",
    "action_dim = 10\n",
    "image_size = 128\n",
    "\n",
    "verbose = True  # Set this true to render (and make it go slower)\n",
    "\n",
    "NAME = 'RNN_v3b_128im_512z_1512_v6k_VAE5_all'\n",
    "ppo_save_file = './outputs/{NAME}/PPO_512z_all_g.pkl'.format(NAME=NAME)\n",
    "\n",
    "if not os.path.isdir('./outputs/{NAME}'.format(NAME=NAME)):\n",
    "    os.makedirs('./outputs/{NAME}'.format(NAME=NAME))\n",
    "\n",
    "# Log to file and stream\n",
    "logging.basicConfig(stream=sys.stdout, level=logging.INFO)\n",
    "logger = logging.getLogger(NAME)\n",
    "\n",
    "log_dir = log_dir='./outputs/{NAME}'.format(NAME=NAME)\n",
    "print(log_dir)\n",
    "\n",
    "deep_rl_logger = get_logger(\n",
    "    NAME,\n",
    "    file_name='deep_rl_ppo.log',\n",
    "    level=logging.INFO,\n",
    "    log_dir='./outputs/{NAME}'.format(NAME=NAME), )"
   ]
  },
  {
   "cell_type": "code",
   "execution_count": null,
   "metadata": {
    "ExecuteTime": {
     "end_time": "2018-05-23T02:36:44.288963Z",
     "start_time": "2018-05-23T02:36:40.986Z"
    }
   },
   "outputs": [],
   "source": []
  },
  {
   "cell_type": "markdown",
   "metadata": {
    "ExecuteTime": {
     "end_time": "2018-05-20T07:41:17.362954Z",
     "start_time": "2018-05-20T07:41:17.338009Z"
    }
   },
   "source": [
    "# World model"
   ]
  },
  {
   "cell_type": "code",
   "execution_count": 7,
   "metadata": {
    "ExecuteTime": {
     "end_time": "2018-06-09T11:22:27.939962Z",
     "start_time": "2018-06-09T11:22:23.063590Z"
    }
   },
   "outputs": [],
   "source": [
    "# Load VAE\n",
    "# TODO swap z and k dim, since it's inconsistent with other models\n",
    "vae = VAE5(image_size=image_size, z_dim=128, conv_dim=64, code_dim=8, k_dim=z_dim, channels=channels)\n",
    "    \n",
    "# Load MDRNN\n",
    "action_dim, hidden_size, n_mixture, temp = action_dim, z_dim*2, 5, 0.0\n",
    "\n",
    "mdnrnn = MDNRNN(z_dim, action_dim, hidden_size, n_mixture, temp)\n",
    "    \n",
    "finv = InverseModel(z_dim, action_dim, hidden_size=z_dim*2)\n",
    "    \n",
    "world_model = WorldModel(vae, mdnrnn, finv, logger=deep_rl_logger, lambda_vae_kld=1 / 256., lambda_finv=1/50, lambda_vae=1/8, lambda_loss=1000)\n",
    "world_model = world_model.train()\n",
    "if cuda:\n",
    "    world_model = world_model.cuda()"
   ]
  },
  {
   "cell_type": "code",
   "execution_count": null,
   "metadata": {},
   "outputs": [],
   "source": []
  },
  {
   "cell_type": "code",
   "execution_count": 8,
   "metadata": {
    "ExecuteTime": {
     "end_time": "2018-06-09T11:22:27.977151Z",
     "start_time": "2018-06-09T11:22:27.942664Z"
    }
   },
   "outputs": [],
   "source": [
    "# Optimiser for world models\n",
    "import torch.optim.lr_scheduler\n",
    "torch.cuda.empty_cache()\n",
    "optimizer = optim.Adam(world_model.parameters(), lr=3e-5)\n",
    "\n",
    "world_model.optimizer = optimizer"
   ]
  },
  {
   "cell_type": "markdown",
   "metadata": {
    "ExecuteTime": {
     "end_time": "2018-05-20T07:18:55.625655Z",
     "start_time": "2018-05-20T07:18:55.606567Z"
    }
   },
   "source": [
    "# Train"
   ]
  },
  {
   "cell_type": "code",
   "execution_count": null,
   "metadata": {
    "ExecuteTime": {
     "end_time": "2018-05-27T14:37:01.913659Z",
     "start_time": "2018-05-27T14:37:01.828185Z"
    }
   },
   "outputs": [],
   "source": []
  },
  {
   "cell_type": "code",
   "execution_count": 9,
   "metadata": {
    "ExecuteTime": {
     "end_time": "2018-06-09T11:22:29.791545Z",
     "start_time": "2018-06-09T11:22:27.979764Z"
    },
    "scrolled": true
   },
   "outputs": [
    {
     "name": "stdout",
     "output_type": "stream",
     "text": [
      "game: SonicAndKnuckles3-Genesis state: LaunchBaseZone.Act1\n",
      "game: SonicAndKnuckles3-Genesis state: IcecapZone.Act2\n",
      "game: SonicTheHedgehog-Genesis state: LabyrinthZone.Act3\n",
      "game: SonicAndKnuckles3-Genesis state: SandopolisZone.Act2\n",
      "game: SonicTheHedgehog-Genesis state: MarbleZone.Act1\n",
      "game: SonicAndKnuckles3-Genesis state: DeathEggZone.Act1\n",
      "game: SonicTheHedgehog2-Genesis state: HillTopZone.Act1\n",
      "game: SonicTheHedgehog2-Genesis state: OilOceanZone.Act2\n",
      "rollout of  272\n",
      "mini batch 34.0\n",
      "sequence of batch 34\n",
      "loading ppo_save_file ./outputs/RNN_v3b_128im_512z_1512_v6k_VAE5_all/PPO_512z_all_g.pkl modified Sat Jun  9 19:20:47 2018\n"
     ]
    }
   ],
   "source": [
    "z_state_dim=world_model.mdnrnn.z_dim + world_model.mdnrnn.hidden_size  + world_model.mdnrnn.action_dim\n",
    "\n",
    "\n",
    "def task_fn(log_dir):\n",
    "    return SonicWorldModelDeepRL(\n",
    "        env_fn=lambda: RandomGameReset(make_env(\n",
    "            'sonic', max_episode_steps=1000, to_gray=False, image_size=image_size)),\n",
    "        log_dir=log_dir,\n",
    "        verbose=verbose\n",
    "    )\n",
    "\n",
    "config = Config()\n",
    "\n",
    "verbose = False  # Set this true to render (and make it go slower)\n",
    "config.num_workers = 1 if verbose else 8\n",
    "config.task_fn = lambda: ParallelizedTask(\n",
    "    task_fn, config.num_workers, single_process=config.num_workers == 1)\n",
    "config.optimizer_fn = lambda params: torch.optim.Adam(params, 3e-4)\n",
    "config.network_fn = lambda state_dim, action_dim: CategoricalWorldActorCriticNet(\n",
    "    state_dim, action_dim, FCBody(z_state_dim, hidden_units=(64, 64), gate=F.relu), gpu=0 if cuda else -1, world_model_fn=lambda: world_model,\n",
    "    render=(config.num_workers==1 and verbose),\n",
    "    z_shape=(32, 16)\n",
    ")\n",
    "config.discount = 0.99\n",
    "config.logger = deep_rl_logger\n",
    "config.use_gae = True\n",
    "config.gae_tau = 0.95\n",
    "config.entropy_weight = 0.001\n",
    "config.gradient_clip = 0.4\n",
    "config.rollout_length = 1*34\n",
    "config.optimization_epochs = 4\n",
    "config.num_mini_batches = 8\n",
    "config.ppo_ratio_clip = 0.2\n",
    "config.iteration_log_interval = 20\n",
    "\n",
    "config.train_world_model = True\n",
    "config.world_model_batch_size = 2\n",
    "\n",
    "# I tuned these so the intrinsic reward was 1) within an order of magnitude of the extrinsic. 2) smaller, 3) negative when stuck\n",
    "# TODO use reward normalisers etc to reduce the need for these hyperparameters\n",
    "config.curiosity = False\n",
    "config.curiosity_only = False\n",
    "config.curiosity_weight = 0.01\n",
    "config.curiosity_boredom = 0 # how many standard deviations above the mean does it's new experience need to be, so it's not bored\n",
    "config.intrinsic_reward_normalizer = RunningStatsNormalizer() #RescaleNormalizer()\n",
    "config.intrinsic_reward_normalizer.reset(1)\n",
    "config.reward_normalizer = RunningStatsNormalizer()\n",
    "config.reward_normalizer.reset(1)\n",
    "agent = PPOAgent(config)\n",
    "\n",
    "print('rollout of ', config.rollout_length*config.num_workers)\n",
    "print('mini batch', (config.rollout_length*config.num_workers)/config.num_mini_batches)\n",
    "print('sequence of batch', (config.rollout_length))\n",
    "\n",
    "if os.path.isfile(ppo_save_file):\n",
    "    print('loading ppo_save_file', ppo_save_file, 'modified', time.ctime(os.path.getmtime(ppo_save_file)))\n",
    "    agent.load(ppo_save_file)\n",
    "    \n",
    "    # also load normalizers\n",
    "    state_dict = torch.load(ppo_save_file.replace('.pkl', '-intrinsic_reward_normalizer.pkl'))\n",
    "    config.intrinsic_reward_normalizer.load_state_dict(state_dict)\n",
    "\n",
    "    state_dict = torch.load(ppo_save_file.replace('.pkl', '-reward_normalizer.pkl'))\n",
    "    config.reward_normalizer.load_state_dict(state_dict)\n",
    "else:\n",
    "    print(\"couldn't find save\")"
   ]
  },
  {
   "cell_type": "code",
   "execution_count": 10,
   "metadata": {
    "ExecuteTime": {
     "end_time": "2018-06-09T11:22:29.845996Z",
     "start_time": "2018-06-09T11:22:29.794609Z"
    }
   },
   "outputs": [
    {
     "data": {
      "text/plain": [
       "ActorCriticNet(\n",
       "  (phi_body): FCBody(\n",
       "    (layers): ModuleList(\n",
       "      (0): Linear(in_features=1546, out_features=64, bias=True)\n",
       "      (1): Linear(in_features=64, out_features=64, bias=True)\n",
       "    )\n",
       "  )\n",
       "  (actor_body): DummyBody()\n",
       "  (critic_body): DummyBody()\n",
       "  (fc_action): Linear(in_features=64, out_features=10, bias=True)\n",
       "  (fc_critic): Linear(in_features=64, out_features=1, bias=True)\n",
       ")"
      ]
     },
     "execution_count": 10,
     "metadata": {},
     "output_type": "execute_result"
    }
   ],
   "source": [
    "# # DEBUG\n",
    "\n",
    "# # reset from checkpoint\n",
    "# agent.load('./outputs/RNN_v3b_128im_512z_1512_v6j_VAE5_all/PPO_512z_all_g-20180606_02-06-59.pkl')\n",
    "\n",
    "# # # Reset just rnn\n",
    "# world_model.mdnrnn = MDNRNN(z_dim, action_dim, hidden_size, n_mixture, temp)\n",
    "# world_model.mdnrnn.cuda()\n",
    "\n",
    "# # if we want to reset the actor\n",
    "from deep_rl.network.network_heads import ActorCriticNet\n",
    "agent.network.network = ActorCriticNet(agent.network.z_state_dim, action_dim, FCBody(z_state_dim, hidden_units=(64, 64), gate=F.relu), None, None)\n",
    "agent.network.network.cuda()"
   ]
  },
  {
   "cell_type": "code",
   "execution_count": 11,
   "metadata": {
    "ExecuteTime": {
     "end_time": "2018-06-09T11:22:29.881268Z",
     "start_time": "2018-06-09T11:22:29.851335Z"
    }
   },
   "outputs": [
    {
     "name": "stdout",
     "output_type": "stream",
     "text": [
      "\"\n",
      "# To monitor with tensorboard at http://localhost:6006/\n",
      "cd ./outputs/RNN_v3b_128im_512z_1512_v6k_VAE5_all/\n",
      "tensorboard  --logdir .\n",
      "\n"
     ]
    }
   ],
   "source": [
    "print(\"\"\"\"\n",
    "# To monitor with tensorboard at http://localhost:6006/\n",
    "cd ./outputs/{NAME}/\n",
    "tensorboard  --logdir .\n",
    "\"\"\".format(NAME=NAME))"
   ]
  },
  {
   "cell_type": "code",
   "execution_count": null,
   "metadata": {
    "ExecuteTime": {
     "start_time": "2018-06-09T11:22:21.098Z"
    },
    "scrolled": true
   },
   "outputs": [
    {
     "name": "stderr",
     "output_type": "stream",
     "text": [
      "2018-06-09 19:22:38,312 - RNN_v3b_128im_512z_1512_v6k_VAE5_all - INFO: loss_rnn=41.1960, loss_inv= 13.8880=0.0200 * 694.3990, loss_vae=7.4649=0.1250 * (59.5738 + 0.0039 * 37.2682)\n",
      "2018-06-09 19:22:38,313 - RNN_v3b_128im_512z_1512_v6k_VAE5_all - INFO: total steps 272, min/mean/max reward 0.0000/0.0000/0.0000 of 8\n",
      "2018-06-09 19:22:38,314 - RNN_v3b_128im_512z_1512_v6k_VAE5_all - INFO: running min/mean/max reward 0.0000/0.0000/0.0000 of 8 32.3872 step/s\n"
     ]
    }
   ],
   "source": [
    "try:\n",
    "    run_iterations(agent, log_dir=log_dir)\n",
    "except:\n",
    "    if config.num_workers == 1:\n",
    "        agent.task.tasks[0].env.close()\n",
    "    else:\n",
    "        [t.close() for t in agent.task.tasks]\n",
    "    print(\"saving\", ppo_save_file)\n",
    "    agent.save(ppo_save_file)\n",
    "    torch.save(config.intrinsic_reward_normalizer.state_dict(), ppo_save_file.replace('.pkl', '-intrinsic_reward_normalizer.pkl'))\n",
    "    torch.save(config.reward_normalizer.state_dict(), ppo_save_file.replace('.pkl', '-reward_normalizer.pkl'))\n",
    "\n",
    "    # Backup since it sometimes get's corrupted\n",
    "    ts = datetime.datetime.utcnow().strftime('%Y%m%d_%H-%M-%S')\n",
    "    print(\"saving backup\",\n",
    "          ppo_save_file.replace('.pkl', '-%s.pkl' % ts),)\n",
    "    agent.save(ppo_save_file.replace('.pkl', '-%s.pkl' % ts))\n",
    "    raise"
   ]
  },
  {
   "cell_type": "code",
   "execution_count": null,
   "metadata": {
    "ExecuteTime": {
     "start_time": "2018-06-09T11:22:21.102Z"
    }
   },
   "outputs": [],
   "source": [
    "%debug"
   ]
  },
  {
   "cell_type": "code",
   "execution_count": null,
   "metadata": {
    "ExecuteTime": {
     "start_time": "2018-06-09T11:22:21.104Z"
    }
   },
   "outputs": [],
   "source": [
    "agent.save(ppo_save_file)\n",
    "torch.save(config.intrinsic_reward_normalizer.state_dict(), ppo_save_file.replace('.pkl', '-intrinsic_reward_normalizer.pkl'))\n",
    "torch.save(config.reward_normalizer.state_dict(), ppo_save_file.replace('.pkl', '-reward_normalizer.pkl'))"
   ]
  },
  {
   "cell_type": "markdown",
   "metadata": {},
   "source": [
    "2018-06-06 16:36:42,501 - RNN_v3b_128im_512z_1512_v6k_VAE5_all - INFO: loss_rnn=**35.4942**, loss_inv= 7.3279=0.0100 * **732.7912**, loss_vae=1.6531=0.0156 * (**105.5821** + 0.0010 * 224.7847)\n",
    "\n",
    "2018-06-06 20:24:16,225 - RNN_v3b_128im_512z_1512_v6k_VAE5_all - INFO: loss_rnn=35.3646, loss_inv= 7.0060=0.0100 * 700.6001, loss_vae=1.4467=0.0156 * (92.4289 + 0.0010 * 160.6168) total steps 384120\n",
    "\n",
    "2018-06-07 06:49:28,590 - RNN_v3b_128im_512z_1512_v6k_VAE5_all - INFO: loss_rnn=12.3602, loss_inv= 7.2967=0.0100 * 729.6658, loss_vae=3.7269=0.0156 * (238.4971 + 0.0010 * 24.8053)  total steps 6120, (12h)\n",
    "\n",
    "018-06-07 22:23:10,358 - RNN_v3b_128im_512z_1512_v6k_VAE5_all - INFO: loss_rnn=**2.1091**, loss_inv= 13.5913=0.0200 * **679.5642**, loss_vae=19.2946=0.1250 * (**154.1847** + 0.0039 * 43.9611)  total steps 6120, (24h)\n",
    "\n",
    "2018-06-08 06:22:56,834 - RNN_v3b_128im_512z_1512_v6k_VAE5_all - INFO: loss_rnn=0.9232, loss_inv= 13.1371=0.0200 * 656.8546, loss_vae=14.0925=0.1250 * (112.5510 + 0.0039 * 48.4184) total steps 744120, 32 h  27.1891 step/s\n",
    "\n",
    "2018-06-08 09:24:36,719 - RNN_v3b_128im_512z_1512_v6k_VAE5_all - INFO: loss_rnn=0.7665, loss_inv= 13.1950=0.0200 * 659.7520, loss_vae=15.3335=0.1250 * (122.4766 + 0.0039 * 49.0904)  INFO: total steps 264120\n",
    "\n",
    "2018-06-08 11:30:40,861 - RNN_v3b_128im_512z_1512_v6k_VAE5_all - INFO: loss_rnn=0.6207, loss_inv= 13.1358=0.0200 * 656.7897, loss_vae=14.3136=0.1250 * (114.3138 + 0.0039 * 50.0098)  total steps 468120\n",
    "\n",
    "2018-06-08 13:49:25,792 - RNN_v3b_128im_512z_1512_v6k_VAE5_all - INFO: loss_rnn=0.5512, loss_inv= 13.1396=0.0200 * 656.9778, loss_vae=14.7301=0.1250 * (117.6453 + 0.0039 * 50.1072)  total steps 696120,\n",
    "\n",
    "~~2018-06-08 16:43:15,161 - RNN_v3b_128im_512z_1512_v6k_VAE5_all - INFO: loss_rnn=0.4015, loss_inv= 13.1253=0.0200 * 656.2637, loss_vae=10.7760=0.1250 * (86.0128 + 0.0039 * 50.0830) INFO: total steps 156120,~~ nope ths was just sonic 1\n",
    "\n",
    "2018-06-08 21:45:41,620 - RNN_v3b_128im_512z_1512_v6k_VAE5_all - INFO: loss_rnn=0.1377, loss_inv= 13.1071=0.0200 * 655.3554, loss_vae=6.0130=0.1250 * (47.9665 + 0.0039 * 35.1907)  total steps 106352,\n",
    "\n",
    "2018-06-09 08:36:30,328 - RNN_v3b_128im_512z_1512_v6k_VAE5_all - INFO: loss_rnn=0.1488, loss_inv= 14.0164=0.0200 * 700.8214, loss_vae=9.5459=0.1250 * (76.2262 + 0.0039 * 36.1458)  INFO: total steps 952272,"
   ]
  },
  {
   "cell_type": "code",
   "execution_count": null,
   "metadata": {
    "ExecuteTime": {
     "start_time": "2018-06-09T11:22:21.106Z"
    }
   },
   "outputs": [],
   "source": [
    "# TODO plot rewards over it"
   ]
  },
  {
   "cell_type": "code",
   "execution_count": null,
   "metadata": {
    "ExecuteTime": {
     "start_time": "2018-06-09T11:22:21.109Z"
    }
   },
   "outputs": [],
   "source": [
    "agent.save(ppo_save_file)\n",
    "ppo_save_file"
   ]
  },
  {
   "cell_type": "markdown",
   "metadata": {
    "ExecuteTime": {
     "end_time": "2018-05-20T08:02:13.543439Z",
     "start_time": "2018-05-20T08:02:13.516675Z"
    }
   },
   "source": [
    "# Summarize model"
   ]
  },
  {
   "cell_type": "code",
   "execution_count": null,
   "metadata": {
    "ExecuteTime": {
     "start_time": "2018-06-09T11:22:21.112Z"
    }
   },
   "outputs": [],
   "source": [
    "agent.network.network"
   ]
  },
  {
   "cell_type": "code",
   "execution_count": null,
   "metadata": {
    "ExecuteTime": {
     "start_time": "2018-06-09T11:22:21.114Z"
    }
   },
   "outputs": [],
   "source": [
    "from IPython.display import display\n",
    "\n",
    "with torch.no_grad():\n",
    "    img = np.random.randn(image_size, image_size, 3)\n",
    "    action = np.array(np.random.randint(0,action_dim))[np.newaxis]\n",
    "    action = Variable(torch.from_numpy(action)).float().cuda()[np.newaxis]\n",
    "    gpu_img = Variable(torch.from_numpy(img[np.newaxis].transpose(0, 3, 1, 2))).float().cuda()\n",
    "    if cuda:\n",
    "        gpu_img = gpu_img.cuda()\n",
    "    with TorchSummarizeDf(vae) as tdf:\n",
    "        x, mu_vae, logvar_vae = vae.forward(gpu_img)\n",
    "        z = vae.sample(mu_vae, logvar_vae)\n",
    "        df_vae = tdf.make_df()\n",
    "\n",
    "    display(df_vae[df_vae.level<2])\n",
    "    \n",
    "    with TorchSummarizeDf(mdnrnn) as tdf: \n",
    "        pi, mu, sigma, hidden_state = mdnrnn.forward(z.unsqueeze(1).repeat((1,2,1)))\n",
    "        z_next = mdnrnn.sample(pi, mu, sigma)\n",
    "        df_mdnrnn = tdf.make_df()\n",
    "    \n",
    "    display(df_mdnrnn)\n",
    "    \n",
    "\n",
    "    with TorchSummarizeDf(finv) as tdf:\n",
    "        finv(z.repeat((1,2,1)), z_next)   \n",
    "        df_finv = tdf.make_df()\n",
    "    display(df_finv)\n",
    "\n",
    "    with TorchSummarizeDf(world_model) as tdf:\n",
    "        world_model(gpu_img, action)\n",
    "        df_world_model = tdf.make_df()\n",
    "    display(df_world_model[df_world_model.level<2])\n",
    "    \n",
    "    del img, action, gpu_img, x, mu, z, z_next, mu_vae, pi, sigma, logvar_vae"
   ]
  }
 ],
 "metadata": {
  "kernelspec": {
   "display_name": "jupyter3",
   "language": "python",
   "name": "jupyter3"
  },
  "language_info": {
   "codemirror_mode": {
    "name": "ipython",
    "version": 3
   },
   "file_extension": ".py",
   "mimetype": "text/x-python",
   "name": "python",
   "nbconvert_exporter": "python",
   "pygments_lexer": "ipython3",
   "version": "3.5.3"
  },
  "notify_time": "5",
  "toc": {
   "colors": {
    "hover_highlight": "#DAA520",
    "navigate_num": "#000000",
    "navigate_text": "#333333",
    "running_highlight": "#FF0000",
    "selected_highlight": "#FFD700",
    "sidebar_border": "#EEEEEE",
    "wrapper_background": "#FFFFFF"
   },
   "moveMenuLeft": true,
   "nav_menu": {
    "height": "185px",
    "width": "252px"
   },
   "navigate_menu": true,
   "number_sections": false,
   "sideBar": true,
   "threshold": 4,
   "toc_cell": false,
   "toc_position": {
    "height": "613px",
    "left": "0px",
    "right": "20px",
    "top": "138px",
    "width": "158px"
   },
   "toc_section_display": "block",
   "toc_window_display": true,
   "widenNotebook": false
  }
 },
 "nbformat": 4,
 "nbformat_minor": 2
}
