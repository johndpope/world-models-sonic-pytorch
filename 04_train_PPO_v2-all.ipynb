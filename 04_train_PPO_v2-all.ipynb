{
 "cells": [
  {
   "cell_type": "markdown",
   "metadata": {},
   "source": [
    "This experiment, higher learning rate. Larger rollouts."
   ]
  },
  {
   "cell_type": "code",
   "execution_count": 1,
   "metadata": {
    "ExecuteTime": {
     "end_time": "2018-05-26T07:30:42.362324Z",
     "start_time": "2018-05-26T07:30:41.544378Z"
    }
   },
   "outputs": [],
   "source": [
    "import deep_rl"
   ]
  },
  {
   "cell_type": "code",
   "execution_count": 2,
   "metadata": {
    "ExecuteTime": {
     "end_time": "2018-05-26T07:30:42.389464Z",
     "start_time": "2018-05-26T07:30:42.364656Z"
    }
   },
   "outputs": [],
   "source": [
    "%matplotlib inline\n",
    "%reload_ext autoreload\n",
    "%autoreload 2"
   ]
  },
  {
   "cell_type": "code",
   "execution_count": 3,
   "metadata": {
    "ExecuteTime": {
     "end_time": "2018-05-26T07:30:42.409169Z",
     "start_time": "2018-05-26T07:30:42.391497Z"
    }
   },
   "outputs": [],
   "source": [
    "import torch\n",
    "from torch.nn import functional as F\n",
    "from torch.autograd import Variable\n",
    "from torch import nn, optim\n",
    "import torch.utils.data\n",
    "\n",
    "# load as dask array\n",
    "import time\n",
    "\n",
    "import logging\n",
    "import sys\n",
    "import os\n",
    "import glob\n",
    "import numpy as np\n",
    "from matplotlib import pyplot as plt\n",
    "from tqdm import tqdm_notebook as tqdm"
   ]
  },
  {
   "cell_type": "code",
   "execution_count": 4,
   "metadata": {
    "ExecuteTime": {
     "end_time": "2018-05-26T07:30:42.434125Z",
     "start_time": "2018-05-26T07:30:42.413208Z"
    }
   },
   "outputs": [],
   "source": [
    "from deep_rl.utils import Config\n",
    "from deep_rl.utils.logger import get_logger, get_default_log_dir\n",
    "\n",
    "from deep_rl.network.network_heads import CategoricalActorCriticNet, QuantileNet, OptionCriticNet, DeterministicActorCriticNet, GaussianActorCriticNet\n",
    "from deep_rl.network.network_bodies import FCBody\n",
    "\n",
    "from deep_rl.component.task import ParallelizedTask"
   ]
  },
  {
   "cell_type": "code",
   "execution_count": 5,
   "metadata": {
    "ExecuteTime": {
     "end_time": "2018-05-26T07:30:42.775187Z",
     "start_time": "2018-05-26T07:30:42.436493Z"
    }
   },
   "outputs": [
    {
     "name": "stdout",
     "output_type": "stream",
     "text": [
      "Importing 0 potential games...\n",
      "Imported 0 games\n"
     ]
    },
    {
     "name": "stderr",
     "output_type": "stream",
     "text": [
      "/home/wassname/.pyenv/versions/3.5.3/envs/jupyter3/lib/python3.5/site-packages/h5py/__init__.py:34: FutureWarning: Conversion of the second argument of issubdtype from `float` to `np.floating` is deprecated. In future, it will be treated as `np.float64 == np.dtype(float).type`.\n",
      "  from ._conv import register_converters as _register_converters\n"
     ]
    }
   ],
   "source": [
    "from world_models_sonic.models.vae import VAE5, loss_function_vae\n",
    "from world_models_sonic.helpers.summarize import TorchSummarizeDf\n",
    "from world_models_sonic.helpers.dataset import load_cache_data\n",
    "from world_models_sonic.models.rnn import MDNRNN2\n",
    "from world_models_sonic.models.inverse_model import InverseModel\n",
    "from world_models_sonic.models.world_model import WorldModel\n",
    "from world_models_sonic.custom_envs.env import make_env\n",
    "from world_models_sonic.custom_envs.wrappers import RandomGameReset\n",
    "from world_models_sonic import config\n",
    "from world_models_sonic.helpers.deep_rl import PPOAgent, run_iterations, SonicWorldModelDeepRL, CategoricalWorldActorCriticNet"
   ]
  },
  {
   "cell_type": "code",
   "execution_count": null,
   "metadata": {
    "ExecuteTime": {
     "end_time": "2018-05-23T01:54:51.062733Z",
     "start_time": "2018-05-23T01:54:50.908162Z"
    }
   },
   "outputs": [],
   "source": []
  },
  {
   "cell_type": "markdown",
   "metadata": {
    "ExecuteTime": {
     "end_time": "2018-05-20T07:15:35.605788Z",
     "start_time": "2018-05-20T07:15:35.588273Z"
    }
   },
   "source": [
    "# Init"
   ]
  },
  {
   "cell_type": "code",
   "execution_count": 6,
   "metadata": {
    "ExecuteTime": {
     "end_time": "2018-05-26T07:30:42.807161Z",
     "start_time": "2018-05-26T07:30:42.777057Z"
    }
   },
   "outputs": [],
   "source": [
    "cuda = torch.cuda.is_available()\n",
    "env_name = 'sonic256'\n",
    "z_dim = 512  # latent dimensions\n",
    "\n",
    "# RNN\n",
    "action_dim = 10\n",
    "image_size = 256\n",
    "\n",
    "verbose = False  # Set this true to render (and make it go slower)\n",
    "\n",
    "# NAME ='RNN_v3b_256im_512z_1512_v5_greenfield'\n",
    "NAME = 'RNN_v3b_256im_512z_1512_v6d_VAE5_all'\n",
    "CHECKPOINT_NAME = 'RNN_v3b_256im_512z_1512_v6c_VAE5_all'\n",
    "ppo_save_file = './outputs/models/PPO_512z_all_d.pkl'\n",
    "ppo_oldsave_file = './outputs/models/PPO_512z_all_c.pkl'\n",
    "\n",
    "save_file_rnn = './outputs/{NAME}/mdnrnn_state_dict.pkl'.format(NAME=NAME)\n",
    "save_file_vae = './outputs/{NAME}/vae_state_dict.pkl'.format(NAME=NAME)\n",
    "save_file_finv = './outputs/{NAME}/finv_state_dict.pkl'.format(NAME=NAME)\n",
    "\n",
    "checkpoint_file_rnn = './outputs/{NAME}/mdnrnn_state_dict.pkl'.format(NAME=CHECKPOINT_NAME)\n",
    "checkpoint_file_vae = './outputs/{NAME}/vae_state_dict.pkl'.format(NAME=CHECKPOINT_NAME)\n",
    "checkpoint_file_finv = './outputs/{NAME}/finv_state_dict.pkl'.format(NAME=CHECKPOINT_NAME)\n",
    "\n",
    "if not os.path.isdir('./outputs/{NAME}'.format(NAME=NAME)):\n",
    "    os.makedirs('./outputs/{NAME}'.format(NAME=NAME))\n",
    "\n",
    "# Log to file and stream\n",
    "logging.basicConfig(stream=sys.stdout, level=logging.INFO)\n",
    "logger = logging.getLogger(NAME)\n",
    "\n",
    "deep_rl_logger = get_logger(\n",
    "    NAME,\n",
    "    file_name='deep_rl_ppo.log',\n",
    "    level=logging.INFO,\n",
    "    log_dir='./outputs/{NAME}'.format(NAME=NAME), )"
   ]
  },
  {
   "cell_type": "code",
   "execution_count": null,
   "metadata": {
    "ExecuteTime": {
     "end_time": "2018-05-23T02:36:44.288963Z",
     "start_time": "2018-05-23T02:36:40.986Z"
    }
   },
   "outputs": [],
   "source": []
  },
  {
   "cell_type": "markdown",
   "metadata": {
    "ExecuteTime": {
     "end_time": "2018-05-20T07:41:17.362954Z",
     "start_time": "2018-05-20T07:41:17.338009Z"
    }
   },
   "source": [
    "# World model"
   ]
  },
  {
   "cell_type": "code",
   "execution_count": 7,
   "metadata": {
    "ExecuteTime": {
     "end_time": "2018-05-26T07:30:46.412056Z",
     "start_time": "2018-05-26T07:30:42.809290Z"
    }
   },
   "outputs": [
    {
     "name": "stdout",
     "output_type": "stream",
     "text": [
      "loaded vae checkpoint_file ./outputs/RNN_v3b_256im_512z_1512_v6c_VAE5_all/vae_state_dict.pkl\n",
      "loaded mdnrnn checkpoint_file ./outputs/RNN_v3b_256im_512z_1512_v6c_VAE5_all/mdnrnn_state_dict.pkl\n",
      "loaded finv checkpoint_file ./outputs/RNN_v3b_256im_512z_1512_v6c_VAE5_all/finv_state_dict.pkl\n"
     ]
    }
   ],
   "source": [
    "# Load VAE\n",
    "# TODO swap z and k dim, since it's inconsistent with other models\n",
    "vae = VAE5(image_size=image_size, z_dim=128, conv_dim=64, code_dim=8, k_dim=z_dim)\n",
    "if cuda:\n",
    "    vae.cuda()\n",
    "\n",
    "if os.path.isfile(checkpoint_file_vae):\n",
    "    state_dict = torch.load(checkpoint_file_vae)\n",
    "    vae.load_state_dict(state_dict)\n",
    "    print('loaded vae checkpoint_file {save_file}'.format(save_file=checkpoint_file_vae))\n",
    "    \n",
    "if os.path.isfile(save_file_vae):\n",
    "    state_dict = torch.load(save_file_vae)\n",
    "    vae.load_state_dict(state_dict)\n",
    "    print('loaded vae save_file {save_file}'.format(save_file=save_file_vae))\n",
    "    \n",
    "# Load MDRNN\n",
    "action_dim, hidden_size, n_mixture, temp = action_dim, 512, 2, 0.0\n",
    "\n",
    "mdnrnn = MDNRNN2(z_dim, action_dim, hidden_size, n_mixture, temp)\n",
    "if cuda:\n",
    "    mdnrnn = mdnrnn.cuda()\n",
    "if os.path.isfile(checkpoint_file_rnn):\n",
    "    state_dict = torch.load(checkpoint_file_rnn)\n",
    "    mdnrnn.load_state_dict(state_dict)\n",
    "    print('loaded mdnrnn checkpoint_file {save_file}'.format(save_file=checkpoint_file_rnn))\n",
    "if os.path.isfile(save_file_rnn):\n",
    "    state_dict = torch.load(save_file_rnn)\n",
    "    mdnrnn.load_state_dict(state_dict)\n",
    "    print('loaded mdnrnn save_file {save_file}'.format(save_file=save_file_rnn))\n",
    "    \n",
    "finv = InverseModel(z_dim, action_dim, hidden_size=256)\n",
    "if cuda:\n",
    "    finv = finv.cuda()\n",
    "if os.path.isfile(checkpoint_file_finv):\n",
    "    state_dict = torch.load(checkpoint_file_finv)\n",
    "    finv.load_state_dict(state_dict)\n",
    "    print('loaded finv checkpoint_file {save_file}'.format(save_file=checkpoint_file_finv))\n",
    "if os.path.isfile(save_file_finv):\n",
    "    state_dict = torch.load(save_file_finv)\n",
    "    finv.load_state_dict(state_dict)\n",
    "    print('loaded finv save_file {save_file}'.format(save_file=save_file_finv))\n",
    "    \n",
    "world_model = WorldModel(vae, mdnrnn, finv, logger=deep_rl_logger)\n",
    "world_model = world_model.train() # Samples without randomness\n",
    "if cuda:\n",
    "    world_model = world_model.cuda()"
   ]
  },
  {
   "cell_type": "code",
   "execution_count": 8,
   "metadata": {
    "ExecuteTime": {
     "end_time": "2018-05-26T07:30:46.441318Z",
     "start_time": "2018-05-26T07:30:46.416759Z"
    }
   },
   "outputs": [],
   "source": [
    "import torch.optim.lr_scheduler\n",
    "torch.cuda.empty_cache()\n",
    "optimizer = optim.Adam(world_model.parameters(), lr=3e-5)\n",
    "scheduler = optim.lr_scheduler.ReduceLROnPlateau(optimizer, mode='min', patience=8, verbose=True)\n",
    "\n",
    "world_model.optimizer = optimizer\n",
    "world_model.scheduler = scheduler"
   ]
  },
  {
   "cell_type": "markdown",
   "metadata": {
    "ExecuteTime": {
     "end_time": "2018-05-20T07:18:55.625655Z",
     "start_time": "2018-05-20T07:18:55.606567Z"
    }
   },
   "source": [
    "# Train"
   ]
  },
  {
   "cell_type": "code",
   "execution_count": null,
   "metadata": {
    "ExecuteTime": {
     "end_time": "2018-05-25T12:59:34.183872Z",
     "start_time": "2018-05-25T12:59:34.179079Z"
    }
   },
   "outputs": [],
   "source": []
  },
  {
   "cell_type": "code",
   "execution_count": 9,
   "metadata": {
    "ExecuteTime": {
     "end_time": "2018-05-26T07:30:46.905002Z",
     "start_time": "2018-05-26T07:30:46.443667Z"
    }
   },
   "outputs": [
    {
     "name": "stdout",
     "output_type": "stream",
     "text": [
      "./outputs/RNN_v3b_256im_512z_1512_v6d_VAE5_all\n",
      "game: SonicTheHedgehog2-Genesis state: HillTopZone.Act1\n",
      "reseting to ChemicalPlantZone.Act2.state\n",
      "loading ./outputs/models/PPO_512z_all_c.pkl modified Sat May 26 15:29:48 2018\n",
      "loading ./outputs/models/PPO_512z_all_d.pkl modified Sat May 26 15:29:48 2018\n"
     ]
    }
   ],
   "source": [
    "log_dir = log_dir='./outputs/{NAME}'.format(NAME=NAME)\n",
    "z_state_dim=world_model.mdnrnn.z_dim + world_model.mdnrnn.hidden_size\n",
    "print(log_dir)\n",
    "\n",
    "\n",
    "def task_fn(log_dir):\n",
    "    return SonicWorldModelDeepRL(\n",
    "        env_fn=lambda: RandomGameReset(make_env(\n",
    "            'sonic256')),\n",
    "        max_steps=4000,\n",
    "        log_dir=log_dir,\n",
    "        verbose=verbose\n",
    "    )\n",
    "\n",
    "\n",
    "config = Config()\n",
    "\n",
    "config.num_workers = 1\n",
    "config.task_fn = lambda: ParallelizedTask(\n",
    "    task_fn, config.num_workers, single_process=config.num_workers == 1)\n",
    "config.optimizer_fn = lambda params: torch.optim.Adam(params, 1e-3, eps=1e-5)\n",
    "config.network_fn = lambda state_dim, action_dim: CategoricalWorldActorCriticNet(\n",
    "    state_dim, action_dim, FCBody(z_state_dim, hidden_units=(64, 64), gate=F.relu), gpu=0 if cuda else -1, world_model_fn=lambda: world_model,\n",
    "    render=(config.num_workers==1 and verbose),\n",
    "    z_shape=(32, 16)\n",
    ")\n",
    "config.discount = 0.99\n",
    "config.logger = deep_rl_logger\n",
    "config.use_gae = True\n",
    "config.gae_tau = 0.95\n",
    "config.entropy_weight = 0.00001\n",
    "config.gradient_clip = 0.5\n",
    "config.rollout_length = 64\n",
    "config.optimization_epochs = 10\n",
    "config.num_mini_batches = 8\n",
    "config.ppo_ratio_clip = 0.3\n",
    "config.iteration_log_interval = 10\n",
    "agent = PPOAgent(config)\n",
    "\n",
    "if os.path.isfile(ppo_oldsave_file):\n",
    "    print('loading', ppo_oldsave_file, 'modified', time.ctime(os.path.getmtime(ppo_save_file)))\n",
    "    agent.load(ppo_oldsave_file)\n",
    "else:\n",
    "    print(\"couldn't find save\")\n",
    "\n",
    "if os.path.isfile(ppo_save_file):\n",
    "    print('loading', ppo_save_file, 'modified', time.ctime(os.path.getmtime(ppo_save_file)))\n",
    "    agent.load(ppo_save_file)\n",
    "else:\n",
    "    print(\"couldn't find save\")\n",
    "\n",
    "# ppo_checkpoint_file = '%s/%s-%s-model-%s.pkl' % (log_dir, agent.__class__.__name__, config.tag, agent.task.name)\n",
    "# if os.path.isfile(ppo_checkpoint_file):\n",
    "#     print('loading ppo_checkpoint_file', ppo_checkpoint_file, 'modified', time.ctime(os.path.getmtime(ppo_checkpoint_file)))\n",
    "#     agent.load(ppo_checkpoint_file)\n",
    "# else:\n",
    "#     print(\"couldn't find checkpoint\")"
   ]
  },
  {
   "cell_type": "code",
   "execution_count": null,
   "metadata": {
    "ExecuteTime": {
     "start_time": "2018-05-25T12:51:45.370Z"
    }
   },
   "outputs": [],
   "source": []
  },
  {
   "cell_type": "code",
   "execution_count": null,
   "metadata": {
    "ExecuteTime": {
     "start_time": "2018-05-26T07:30:41.329Z"
    },
    "scrolled": true
   },
   "outputs": [
    {
     "name": "stderr",
     "output_type": "stream",
     "text": [
      "2018-05-26 15:30:51,054 - RNN_v3b_256im_512z_1512_v6d_VAE5_all - INFO: total steps 64, min/mean/max reward 0.0000/0.0000/0.0000 of 1\n",
      "2018-05-26 15:30:51,055 - RNN_v3b_256im_512z_1512_v6d_VAE5_all - INFO: running min/mean/max reward 0.0000/0.0000/0.0000 of 1 4.1229 s/rollout\n",
      "2018-05-26 15:31:31,046 - RNN_v3b_256im_512z_1512_v6d_VAE5_all - INFO: total steps 704, min/mean/max reward 0.0000/0.0000/0.0000 of 1\n",
      "2018-05-26 15:31:31,047 - RNN_v3b_256im_512z_1512_v6d_VAE5_all - INFO: running min/mean/max reward 0.0000/0.0000/0.0000 of 11 4.0105 s/rollout\n",
      "2018-05-26 15:32:10,798 - RNN_v3b_256im_512z_1512_v6d_VAE5_all - INFO: total steps 1344, min/mean/max reward 0.0000/0.0000/0.0000 of 1\n",
      "2018-05-26 15:32:10,799 - RNN_v3b_256im_512z_1512_v6d_VAE5_all - INFO: running min/mean/max reward 0.0000/0.0000/0.0000 of 21 3.9937 s/rollout\n",
      "2018-05-26 15:32:49,879 - RNN_v3b_256im_512z_1512_v6d_VAE5_all - INFO: total steps 1984, min/mean/max reward 0.0000/0.0000/0.0000 of 1\n",
      "2018-05-26 15:32:49,880 - RNN_v3b_256im_512z_1512_v6d_VAE5_all - INFO: running min/mean/max reward 0.0000/0.0000/0.0000 of 31 3.9661 s/rollout\n"
     ]
    }
   ],
   "source": [
    "try:\n",
    "    run_iterations(agent, log_dir=log_dir)\n",
    "except:\n",
    "    if config.num_workers==1:\n",
    "        agent.task.tasks[0].env.close()\n",
    "    else:\n",
    "        [t.close() for t in agent.task.tasks]\n",
    "    print(\"saving\", ppo_save_file)\n",
    "    agent.save(ppo_save_file)\n",
    "    raise"
   ]
  },
  {
   "cell_type": "code",
   "execution_count": null,
   "metadata": {
    "ExecuteTime": {
     "start_time": "2018-05-26T07:30:41.332Z"
    }
   },
   "outputs": [],
   "source": [
    "%debug"
   ]
  },
  {
   "cell_type": "code",
   "execution_count": null,
   "metadata": {
    "ExecuteTime": {
     "start_time": "2018-05-26T07:30:41.335Z"
    }
   },
   "outputs": [],
   "source": [
    "[[h.shape for h in hh] for hh in hidden_states]\n",
    "self.rnn(concat, [h[0] for h in hidden_state])"
   ]
  },
  {
   "cell_type": "code",
   "execution_count": null,
   "metadata": {
    "ExecuteTime": {
     "start_time": "2018-05-26T07:30:41.337Z"
    }
   },
   "outputs": [],
   "source": [
    "np.array([[[512]], [[512]]]).shape"
   ]
  },
  {
   "cell_type": "markdown",
   "metadata": {
    "ExecuteTime": {
     "end_time": "2018-05-22T13:30:58.458184Z",
     "start_time": "2018-05-22T13:30:58.382867Z"
    }
   },
   "source": [
    "\n",
    "To monitor with tensorboard\n",
    "```sh\n",
    "cd ~/Documents/projects/retro_sonic_comp/world-models-pytorch/log \n",
    "tensorboard  --logdir .\n",
    "#then open http://localhost:6006/#scalars\n",
    "```\n"
   ]
  },
  {
   "cell_type": "code",
   "execution_count": null,
   "metadata": {},
   "outputs": [],
   "source": []
  },
  {
   "cell_type": "markdown",
   "metadata": {
    "ExecuteTime": {
     "end_time": "2018-05-20T08:02:13.543439Z",
     "start_time": "2018-05-20T08:02:13.516675Z"
    }
   },
   "source": [
    "# summarize"
   ]
  },
  {
   "cell_type": "code",
   "execution_count": null,
   "metadata": {
    "ExecuteTime": {
     "start_time": "2018-05-26T07:30:41.340Z"
    }
   },
   "outputs": [],
   "source": [
    "from IPython.display import display\n",
    "\n",
    "with torch.no_grad():\n",
    "    img = np.random.randn(image_size, image_size, 3)\n",
    "    action = np.array(np.random.randint(0,action_dim))[np.newaxis]\n",
    "    action = Variable(torch.from_numpy(action)).float().cuda()[np.newaxis]\n",
    "    gpu_img = Variable(torch.from_numpy(img[np.newaxis].transpose(0, 3, 1, 2))).float().cuda()\n",
    "    if cuda:\n",
    "        gpu_img = gpu_img.cuda()\n",
    "    with TorchSummarizeDf(vae) as tdf:\n",
    "        x, mu_vae, logvar_vae = vae.forward(gpu_img)\n",
    "        z = vae.sample(mu_vae, logvar_vae)\n",
    "        df_vae = tdf.make_df()\n",
    "\n",
    "    display(df_vae[df_vae.level<2])\n",
    "    \n",
    "    with TorchSummarizeDf(mdnrnn) as tdf: \n",
    "        pi, mu, sigma, hidden_state = mdnrnn.forward(z.unsqueeze(1).repeat((1,2,1)))\n",
    "        z_next = mdnrnn.sample(pi, mu, sigma)\n",
    "        df_mdnrnn = tdf.make_df()\n",
    "    \n",
    "    display(df_mdnrnn)\n",
    "    \n",
    "\n",
    "    with TorchSummarizeDf(finv) as tdf:\n",
    "        finv(z.repeat((1,2,1)), z_next)   \n",
    "        df_finv = tdf.make_df()\n",
    "    display(df_finv)\n",
    "\n",
    "    with TorchSummarizeDf(world_model) as tdf:\n",
    "        world_model(gpu_img, action)\n",
    "        df_world_model = tdf.make_df()\n",
    "    display(df_world_model[df_world_model.level<2])\n",
    "    \n",
    "    del img, action, gpu_img, x, mu, z, z_next, mu_vae, pi, sigma, logvar_vae"
   ]
  }
 ],
 "metadata": {
  "kernelspec": {
   "display_name": "jupyter3",
   "language": "python",
   "name": "jupyter3"
  },
  "language_info": {
   "codemirror_mode": {
    "name": "ipython",
    "version": 3
   },
   "file_extension": ".py",
   "mimetype": "text/x-python",
   "name": "python",
   "nbconvert_exporter": "python",
   "pygments_lexer": "ipython3",
   "version": "3.5.3"
  },
  "toc": {
   "colors": {
    "hover_highlight": "#DAA520",
    "navigate_num": "#000000",
    "navigate_text": "#333333",
    "running_highlight": "#FF0000",
    "selected_highlight": "#FFD700",
    "sidebar_border": "#EEEEEE",
    "wrapper_background": "#FFFFFF"
   },
   "moveMenuLeft": true,
   "nav_menu": {
    "height": "185px",
    "width": "252px"
   },
   "navigate_menu": true,
   "number_sections": true,
   "sideBar": true,
   "threshold": 4,
   "toc_cell": false,
   "toc_position": {
    "height": "613px",
    "left": "0px",
    "right": "20px",
    "top": "138px",
    "width": "158px"
   },
   "toc_section_display": "block",
   "toc_window_display": true,
   "widenNotebook": false
  }
 },
 "nbformat": 4,
 "nbformat_minor": 2
}
