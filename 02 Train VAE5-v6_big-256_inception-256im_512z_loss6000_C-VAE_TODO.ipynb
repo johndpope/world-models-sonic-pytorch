{
 "cells": [
  {
   "cell_type": "markdown",
   "metadata": {},
   "source": [
    "This notebook tries B-VAE from https://arxiv.org/pdf/1804.03599.pdf\n",
    "\n",
    "\n",
    "## Notes\n",
    "\n",
    "If it stalls around loss 60, you might need a smaller batch size, e.g. 8\n",
    "\n",
    "\n",
    "\n",
    "## Log\n",
    "\n",
    "### 20180506\n",
    "Why is this not working? It stalls around loss=60 and just reconstructs the same mean image each time.\n",
    "\n",
    "- batchnorm and pad? no lots of other models use them\n",
    "    - https://github.com/josephsmann/UnsupervisedDeepLearning-Pytorch/blob/jm/udlp/autoencoder/convVAE.py#L19\n",
    "    - https://github.com/taey16/pix2pixBEGAN.pytorch/blob/master/models/BEGAN.py\n",
    "- relu, same\n",
    "- lr - similar to other models\n",
    "- inner params - similar but larger than other working models\n",
    "- batch? Maybe it seems better with a lower batch (e.g. 8 instead of 32)\n",
    "- loss, this seems right\n",
    "    - except some people use a loss balance https://github.com/AppliedDataSciencePartners/WorldModels/blob/master/vae/arch.py#L97\n",
    "        where they multuply reconstruction loss by 10 but i've got ~100 vs ~1e-4 so I don't really need to!\n",
    "        \n",
    "- ok a lower batch size seemed to get it over that initial hump"
   ]
  },
  {
   "cell_type": "code",
   "execution_count": 1,
   "metadata": {
    "ExecuteTime": {
     "end_time": "2018-05-15T21:49:02.658464Z",
     "start_time": "2018-05-15T21:49:02.654954Z"
    }
   },
   "outputs": [],
   "source": [
    "import os\n",
    "os.sys.path.append('.')"
   ]
  },
  {
   "cell_type": "code",
   "execution_count": 2,
   "metadata": {
    "ExecuteTime": {
     "end_time": "2018-05-15T21:49:02.965155Z",
     "start_time": "2018-05-15T21:49:02.661225Z"
    }
   },
   "outputs": [
    {
     "name": "stderr",
     "output_type": "stream",
     "text": [
      "/home/ubuntu/anaconda3/envs/pytorch_p36/lib/python3.6/site-packages/matplotlib/__init__.py:1067: UserWarning: Duplicate key in file \"/home/ubuntu/.config/matplotlib/matplotlibrc\", line #2\n",
      "  (fname, cnt))\n",
      "/home/ubuntu/anaconda3/envs/pytorch_p36/lib/python3.6/site-packages/matplotlib/__init__.py:1067: UserWarning: Duplicate key in file \"/home/ubuntu/.config/matplotlib/matplotlibrc\", line #3\n",
      "  (fname, cnt))\n"
     ]
    }
   ],
   "source": [
    "%matplotlib inline\n",
    "%reload_ext autoreload\n",
    "%autoreload 2"
   ]
  },
  {
   "cell_type": "code",
   "execution_count": null,
   "metadata": {
    "ExecuteTime": {
     "end_time": "2018-05-06T00:21:02.585280Z",
     "start_time": "2018-05-06T00:21:02.474215Z"
    }
   },
   "outputs": [],
   "source": []
  },
  {
   "cell_type": "code",
   "execution_count": 3,
   "metadata": {
    "ExecuteTime": {
     "end_time": "2018-05-15T21:49:03.347847Z",
     "start_time": "2018-05-15T21:49:02.967125Z"
    }
   },
   "outputs": [
    {
     "name": "stderr",
     "output_type": "stream",
     "text": [
      "/home/ubuntu/anaconda3/envs/pytorch_p36/lib/python3.6/site-packages/h5py/__init__.py:36: FutureWarning: Conversion of the second argument of issubdtype from `float` to `np.floating` is deprecated. In future, it will be treated as `np.float64 == np.dtype(float).type`.\n",
      "  from ._conv import register_converters as _register_converters\n"
     ]
    }
   ],
   "source": [
    "import torch\n",
    "from torch.nn import functional as F\n",
    "from torch.autograd import Variable\n",
    "from torch import nn, optim\n",
    "import torch.utils.data\n",
    "\n",
    "# load as dask array\n",
    "import dask.array as da\n",
    "import dask\n",
    "import h5py\n",
    "\n",
    "import os\n",
    "import glob\n",
    "import numpy as np\n",
    "from matplotlib import pyplot as plt\n",
    "from tqdm import tqdm_notebook as tqdm"
   ]
  },
  {
   "cell_type": "code",
   "execution_count": 4,
   "metadata": {
    "ExecuteTime": {
     "end_time": "2018-05-15T21:49:03.491811Z",
     "start_time": "2018-05-15T21:49:03.350041Z"
    }
   },
   "outputs": [],
   "source": [
    "from vae import VAE5, loss_function\n",
    "from helpers.summarize import TorchSummarizeDf\n",
    "from helpers.dataset import NumpyDataset, TQDMDaskProgressBar, load_npzs\n",
    "from helpers.samplers import SequenceInChunkSampler\n",
    "from rnn import MDNRNN"
   ]
  },
  {
   "cell_type": "code",
   "execution_count": 5,
   "metadata": {
    "ExecuteTime": {
     "end_time": "2018-05-15T21:49:03.513161Z",
     "start_time": "2018-05-15T21:49:03.494124Z"
    }
   },
   "outputs": [],
   "source": [
    "env_name='sonic256'\n",
    "\n",
    "cuda= torch.cuda.is_available()\n",
    "\n",
    "num_epochs=200\n",
    "image_size=256\n",
    "chunksize=1000\n",
    "batch_size=64\n",
    "action_dim = 12\n",
    "seq_len = 1\n",
    "gamma = 0.25\n",
    "# data_cache_file = '/data/tmp/sonic_vae256.hdf5'\n",
    "data_cache_file = '/data/tmp/sonic_rnn_256.hdf5'"
   ]
  },
  {
   "cell_type": "markdown",
   "metadata": {},
   "source": [
    "# Load data"
   ]
  },
  {
   "cell_type": "code",
   "execution_count": 6,
   "metadata": {
    "ExecuteTime": {
     "end_time": "2018-05-15T21:49:03.531878Z",
     "start_time": "2018-05-15T21:49:03.515579Z"
    }
   },
   "outputs": [],
   "source": [
    "# load as dask array\n",
    "\n",
    "filenames = sorted(glob.glob('/data/vae/obs_data_' + env_name + '_*.npz'))\n",
    "\n",
    "if not os.path.isfile(data_cache_file):\n",
    "    data_train = load_npzs(filenames)\n",
    "    print(data_train)\n",
    "    with TQDMDaskProgressBar():\n",
    "        da.to_hdf5(data_cache_file, '/x', data_train)\n",
    "       \n",
    "    # clear mem\n",
    "    del data_train \n",
    "    import gc\n",
    "    gc.collect()"
   ]
  },
  {
   "cell_type": "code",
   "execution_count": 7,
   "metadata": {
    "ExecuteTime": {
     "end_time": "2018-05-15T21:49:03.561611Z",
     "start_time": "2018-05-15T21:49:03.534185Z"
    }
   },
   "outputs": [
    {
     "data": {
      "text/plain": [
       "((232800, 256, 256, 3), (232800, 12), (58200, 256, 256, 3), (58200, 12))"
      ]
     },
     "execution_count": 7,
     "metadata": {},
     "output_type": "execute_result"
    }
   ],
   "source": [
    "# load\n",
    "data = da.from_array(h5py.File(data_cache_file, mode='r')['x'], chunks=(chunksize, image_size, image_size, 3))\n",
    "actions = da.from_array(h5py.File(data_cache_file, mode='r')['y'], chunks=(chunksize, action_dim))\n",
    "data\n",
    "data_split = int(len(data)*0.8)\n",
    "data_train = data[:data_split]\n",
    "data_test = data[data_split:]\n",
    "actions_train = actions[:data_split]\n",
    "actions_test = actions[data_split:]\n",
    "data_train.shape, actions_train.shape, data_test.shape, actions_test.shape"
   ]
  },
  {
   "cell_type": "code",
   "execution_count": 8,
   "metadata": {
    "ExecuteTime": {
     "end_time": "2018-05-15T21:49:03.580305Z",
     "start_time": "2018-05-15T21:49:03.563521Z"
    }
   },
   "outputs": [
    {
     "data": {
      "text/plain": [
       "(<helpers.dataset.NumpyDataset at 0x7f70d79140f0>,\n",
       " <torch.utils.data.dataloader.DataLoader at 0x7f70d79141d0>)"
      ]
     },
     "execution_count": 8,
     "metadata": {},
     "output_type": "execute_result"
    }
   ],
   "source": [
    "\n",
    "dataset_train = NumpyDataset(data_train, actions_train)\n",
    "loader_train = torch.utils.data.DataLoader(\n",
    "    dataset_train, \n",
    "    sampler=SequenceInChunkSampler(dataset_train, seq_len=seq_len, chunksize=chunksize),\n",
    "    pin_memory=True, \n",
    "    shuffle=False, \n",
    "    batch_size=batch_size*seq_len, \n",
    "    drop_last=True\n",
    ")\n",
    "\n",
    "\n",
    "dataset_test = NumpyDataset(data_test, actions_test)\n",
    "loader_test = torch.utils.data.DataLoader(\n",
    "    dataset_test, \n",
    "    sampler=SequenceInChunkSampler(dataset_test, seq_len=seq_len, chunksize=chunksize),\n",
    "    pin_memory=True, \n",
    "    shuffle=False, \n",
    "    batch_size=batch_size*seq_len, \n",
    "    drop_last=True\n",
    ")\n",
    "\n",
    "dataset_train, loader_train"
   ]
  },
  {
   "cell_type": "code",
   "execution_count": null,
   "metadata": {
    "ExecuteTime": {
     "end_time": "2018-05-11T02:20:01.497359Z",
     "start_time": "2018-05-11T02:20:01.120804Z"
    }
   },
   "outputs": [],
   "source": []
  },
  {
   "cell_type": "markdown",
   "metadata": {
    "ExecuteTime": {
     "end_time": "2018-05-06T01:28:34.496506Z",
     "start_time": "2018-05-06T01:28:27.517Z"
    }
   },
   "source": [
    "# View model"
   ]
  },
  {
   "cell_type": "code",
   "execution_count": 9,
   "metadata": {
    "ExecuteTime": {
     "end_time": "2018-05-15T21:49:07.676288Z",
     "start_time": "2018-05-15T21:49:03.582191Z"
    }
   },
   "outputs": [],
   "source": [
    "\n",
    "vae = VAE5(image_size=image_size, z_dim=8, conv_dim=64, code_dim=32, k_dim=512)\n",
    "if cuda:\n",
    "    vae.cuda()\n",
    "    \n",
    "\n",
    "# vae = VAE3(image_size=image_size, z_dim=8, conv_dim=64, code_dim=32, k_dim=512)\n",
    "# if cuda:\n",
    "#     vae.cuda()"
   ]
  },
  {
   "cell_type": "code",
   "execution_count": 10,
   "metadata": {
    "ExecuteTime": {
     "end_time": "2018-05-15T21:49:07.804741Z",
     "start_time": "2018-05-15T21:49:07.678402Z"
    }
   },
   "outputs": [
    {
     "name": "stdout",
     "output_type": "stream",
     "text": [
      "loaded snapshot_file ./models/VAE_2xv7224big_state_dict.pkl\n"
     ]
    }
   ],
   "source": [
    "# # Resume?\n",
    "NAME_snapshot='VAE_2xv7224big'\n",
    "snapshot_file = f'./models/{NAME_snapshot}_state_dict.pkl'\n",
    "if os.path.isfile(snapshot_file):\n",
    "    state_dict = torch.load(snapshot_file)\n",
    "    vae.load_state_dict(state_dict)\n",
    "    print(f'loaded snapshot_file {snapshot_file}')"
   ]
  },
  {
   "cell_type": "code",
   "execution_count": 11,
   "metadata": {
    "ExecuteTime": {
     "end_time": "2018-05-15T21:49:07.823055Z",
     "start_time": "2018-05-15T21:49:07.806756Z"
    }
   },
   "outputs": [],
   "source": [
    "# # Resume?\n",
    "NAME='VAE5_3bigx256_512z_CVAE'\n",
    "save_file = f'./models/{NAME}_state_dict.pkl'\n",
    "if os.path.isfile(save_file):\n",
    "    state_dict = torch.load(save_file)\n",
    "    vae.load_state_dict(state_dict)\n",
    "    print(f'loaded {save_file}')"
   ]
  },
  {
   "cell_type": "code",
   "execution_count": null,
   "metadata": {
    "ExecuteTime": {
     "end_time": "2018-05-11T00:26:31.790320Z",
     "start_time": "2018-05-11T00:26:27.982889Z"
    }
   },
   "outputs": [],
   "source": []
  },
  {
   "cell_type": "code",
   "execution_count": 12,
   "metadata": {
    "ExecuteTime": {
     "end_time": "2018-05-15T21:49:07.908349Z",
     "start_time": "2018-05-15T21:49:07.824999Z"
    },
    "scrolled": true
   },
   "outputs": [
    {
     "name": "stdout",
     "output_type": "stream",
     "text": [
      "torch.Size([1, 3, 256, 256])\n",
      "tensor(1.00000e+05 *\n",
      "       [ 1.9750], device='cuda:0')\n",
      "Total parameters 15224971\n",
      "Total trainable parameters 15224971\n"
     ]
    },
    {
     "data": {
      "text/html": [
       "<div>\n",
       "<style scoped>\n",
       "    .dataframe tbody tr th:only-of-type {\n",
       "        vertical-align: middle;\n",
       "    }\n",
       "\n",
       "    .dataframe tbody tr th {\n",
       "        vertical-align: top;\n",
       "    }\n",
       "\n",
       "    .dataframe thead th {\n",
       "        text-align: right;\n",
       "    }\n",
       "</style>\n",
       "<table border=\"1\" class=\"dataframe\">\n",
       "  <thead>\n",
       "    <tr style=\"text-align: right;\">\n",
       "      <th></th>\n",
       "      <th>name</th>\n",
       "      <th>class_name</th>\n",
       "      <th>input_shape</th>\n",
       "      <th>output_shape</th>\n",
       "      <th>nb_params</th>\n",
       "      <th>level</th>\n",
       "    </tr>\n",
       "  </thead>\n",
       "  <tbody>\n",
       "    <tr>\n",
       "      <th>4</th>\n",
       "      <td>encoder.0</td>\n",
       "      <td>ConvBlock4</td>\n",
       "      <td>[(-1, 3, 256, 256)]</td>\n",
       "      <td>[(-1, 64, 256, 256)]</td>\n",
       "      <td>1920</td>\n",
       "      <td>1</td>\n",
       "    </tr>\n",
       "    <tr>\n",
       "      <th>8</th>\n",
       "      <td>encoder.1</td>\n",
       "      <td>ConvBlock4</td>\n",
       "      <td>[(-1, 64, 256, 256)]</td>\n",
       "      <td>[(-1, 128, 128, 128)]</td>\n",
       "      <td>131456</td>\n",
       "      <td>1</td>\n",
       "    </tr>\n",
       "    <tr>\n",
       "      <th>12</th>\n",
       "      <td>encoder.2</td>\n",
       "      <td>ConvBlock4</td>\n",
       "      <td>[(-1, 128, 128, 128)]</td>\n",
       "      <td>[(-1, 192, 64, 64)]</td>\n",
       "      <td>393792</td>\n",
       "      <td>1</td>\n",
       "    </tr>\n",
       "    <tr>\n",
       "      <th>16</th>\n",
       "      <td>encoder.3</td>\n",
       "      <td>ConvBlock4</td>\n",
       "      <td>[(-1, 192, 64, 64)]</td>\n",
       "      <td>[(-1, 256, 32, 32)]</td>\n",
       "      <td>787200</td>\n",
       "      <td>1</td>\n",
       "    </tr>\n",
       "    <tr>\n",
       "      <th>17</th>\n",
       "      <td>encoder.4</td>\n",
       "      <td>Conv2d</td>\n",
       "      <td>[(-1, 256, 32, 32)]</td>\n",
       "      <td>[(-1, 8, 32, 32)]</td>\n",
       "      <td>2056</td>\n",
       "      <td>1</td>\n",
       "    </tr>\n",
       "    <tr>\n",
       "      <th>18</th>\n",
       "      <td>mu</td>\n",
       "      <td>Linear</td>\n",
       "      <td>[(-1, 8192)]</td>\n",
       "      <td>[(-1, 512)]</td>\n",
       "      <td>4194816</td>\n",
       "      <td>0</td>\n",
       "    </tr>\n",
       "    <tr>\n",
       "      <th>19</th>\n",
       "      <td>logvar</td>\n",
       "      <td>Linear</td>\n",
       "      <td>[(-1, 8192)]</td>\n",
       "      <td>[(-1, 512)]</td>\n",
       "      <td>4194816</td>\n",
       "      <td>0</td>\n",
       "    </tr>\n",
       "    <tr>\n",
       "      <th>20</th>\n",
       "      <td>z</td>\n",
       "      <td>Linear</td>\n",
       "      <td>[(-1, 512)]</td>\n",
       "      <td>[(-1, 8192)]</td>\n",
       "      <td>4202496</td>\n",
       "      <td>0</td>\n",
       "    </tr>\n",
       "    <tr>\n",
       "      <th>24</th>\n",
       "      <td>decoder.0</td>\n",
       "      <td>DeconvBlock4</td>\n",
       "      <td>[(-1, 8, 32, 32)]</td>\n",
       "      <td>[(-1, 256, 32, 32)]</td>\n",
       "      <td>2816</td>\n",
       "      <td>1</td>\n",
       "    </tr>\n",
       "    <tr>\n",
       "      <th>28</th>\n",
       "      <td>decoder.1</td>\n",
       "      <td>DeconvBlock4</td>\n",
       "      <td>[(-1, 256, 32, 32)]</td>\n",
       "      <td>[(-1, 192, 64, 64)]</td>\n",
       "      <td>787008</td>\n",
       "      <td>1</td>\n",
       "    </tr>\n",
       "    <tr>\n",
       "      <th>32</th>\n",
       "      <td>decoder.2</td>\n",
       "      <td>DeconvBlock4</td>\n",
       "      <td>[(-1, 192, 64, 64)]</td>\n",
       "      <td>[(-1, 128, 128, 128)]</td>\n",
       "      <td>393600</td>\n",
       "      <td>1</td>\n",
       "    </tr>\n",
       "    <tr>\n",
       "      <th>36</th>\n",
       "      <td>decoder.3</td>\n",
       "      <td>DeconvBlock4</td>\n",
       "      <td>[(-1, 128, 128, 128)]</td>\n",
       "      <td>[(-1, 64, 256, 256)]</td>\n",
       "      <td>131264</td>\n",
       "      <td>1</td>\n",
       "    </tr>\n",
       "    <tr>\n",
       "      <th>37</th>\n",
       "      <td>decoder.4</td>\n",
       "      <td>Conv2d</td>\n",
       "      <td>[(-1, 64, 256, 256)]</td>\n",
       "      <td>[(-1, 3, 256, 256)]</td>\n",
       "      <td>1731</td>\n",
       "      <td>1</td>\n",
       "    </tr>\n",
       "    <tr>\n",
       "      <th>38</th>\n",
       "      <td>sigmoid</td>\n",
       "      <td>Sigmoid</td>\n",
       "      <td>[(-1, 3, 256, 256)]</td>\n",
       "      <td>[(-1, 3, 256, 256)]</td>\n",
       "      <td>0</td>\n",
       "      <td>0</td>\n",
       "    </tr>\n",
       "  </tbody>\n",
       "</table>\n",
       "</div>"
      ],
      "text/plain": [
       "         name    class_name            input_shape           output_shape  \\\n",
       "4   encoder.0    ConvBlock4    [(-1, 3, 256, 256)]   [(-1, 64, 256, 256)]   \n",
       "8   encoder.1    ConvBlock4   [(-1, 64, 256, 256)]  [(-1, 128, 128, 128)]   \n",
       "12  encoder.2    ConvBlock4  [(-1, 128, 128, 128)]    [(-1, 192, 64, 64)]   \n",
       "16  encoder.3    ConvBlock4    [(-1, 192, 64, 64)]    [(-1, 256, 32, 32)]   \n",
       "17  encoder.4        Conv2d    [(-1, 256, 32, 32)]      [(-1, 8, 32, 32)]   \n",
       "18         mu        Linear           [(-1, 8192)]            [(-1, 512)]   \n",
       "19     logvar        Linear           [(-1, 8192)]            [(-1, 512)]   \n",
       "20          z        Linear            [(-1, 512)]           [(-1, 8192)]   \n",
       "24  decoder.0  DeconvBlock4      [(-1, 8, 32, 32)]    [(-1, 256, 32, 32)]   \n",
       "28  decoder.1  DeconvBlock4    [(-1, 256, 32, 32)]    [(-1, 192, 64, 64)]   \n",
       "32  decoder.2  DeconvBlock4    [(-1, 192, 64, 64)]  [(-1, 128, 128, 128)]   \n",
       "36  decoder.3  DeconvBlock4  [(-1, 128, 128, 128)]   [(-1, 64, 256, 256)]   \n",
       "37  decoder.4        Conv2d   [(-1, 64, 256, 256)]    [(-1, 3, 256, 256)]   \n",
       "38    sigmoid       Sigmoid    [(-1, 3, 256, 256)]    [(-1, 3, 256, 256)]   \n",
       "\n",
       "    nb_params  level  \n",
       "4        1920      1  \n",
       "8      131456      1  \n",
       "12     393792      1  \n",
       "16     787200      1  \n",
       "17       2056      1  \n",
       "18    4194816      0  \n",
       "19    4194816      0  \n",
       "20    4202496      0  \n",
       "24       2816      1  \n",
       "28     787008      1  \n",
       "32     393600      1  \n",
       "36     131264      1  \n",
       "37       1731      1  \n",
       "38          0      0  "
      ]
     },
     "execution_count": 12,
     "metadata": {},
     "output_type": "execute_result"
    }
   ],
   "source": [
    "img = np.random.randn(image_size, image_size, 3)\n",
    "gpu_img = Variable(torch.from_numpy(img[np.newaxis].transpose(0, 3, 1, 2))).float()\n",
    "if cuda:\n",
    "    gpu_img = gpu_img.cuda()\n",
    "with TorchSummarizeDf(vae) as tdf:\n",
    "    x, mu, logvar = vae.forward(gpu_img)\n",
    "    print(x.size())\n",
    "    print(loss_function(x, gpu_img, mu, logvar))\n",
    "    x = x.data.cpu().numpy()[0].transpose(1, 2, 0)\n",
    "    df = tdf.make_df()\n",
    "    \n",
    "df[df.level<2]"
   ]
  },
  {
   "cell_type": "markdown",
   "metadata": {},
   "source": [
    "## Train"
   ]
  },
  {
   "cell_type": "code",
   "execution_count": 13,
   "metadata": {
    "ExecuteTime": {
     "end_time": "2018-05-15T21:49:07.924085Z",
     "start_time": "2018-05-15T21:49:07.910354Z"
    }
   },
   "outputs": [],
   "source": [
    "def loss_function(recon_x, x, mu, logvar):\n",
    "    # Reconstruction + KL divergence losses summed over all elements and batch\n",
    "    # https://github.com/pytorch/examples/blob/master/vae/main.py\n",
    "    n, c, h, w = recon_x.size()\n",
    "    \n",
    "    recon_x = recon_x.view(n, -1)\n",
    "    x = x.view(n, -1)\n",
    "    \n",
    "    # L2 distance\n",
    "    loss_recon = torch.sum(torch.pow(recon_x - x, 2), 1)\n",
    "    \n",
    "    # see Appendix B from VAE paper:\n",
    "    # Kingma and Welling. Auto-Encoding Variational Bayes. ICLR, 2014\n",
    "    # https://arxiv.org/abs/1312.6114\n",
    "    # 0.5 * sum(1 + log(sigma^2) - mu^2 - sigma^2)\n",
    "    loss_KLD = -0.5 * torch.sum(1 + logvar - mu.pow(2) - logvar.exp(), 1)\n",
    "    return loss_recon, loss_KLD"
   ]
  },
  {
   "cell_type": "code",
   "execution_count": 14,
   "metadata": {
    "ExecuteTime": {
     "end_time": "2018-05-15T21:49:07.943174Z",
     "start_time": "2018-05-15T21:49:07.926118Z"
    }
   },
   "outputs": [],
   "source": [
    "import collections\n",
    "\n",
    "def train(loader, net, optimizer, loss_function, test=False, cuda=True):\n",
    "    if test:\n",
    "        net.eval()\n",
    "    else:\n",
    "        net.train()\n",
    "    info = collections.defaultdict(list)\n",
    "    \n",
    "    with tqdm(total=len(loader)*loader.batch_size, mininterval=0.5, desc='test' if test else 'training') as prog:\n",
    "        for i, (batch,_) in enumerate(loader):\n",
    "            x = Variable(batch.transpose(1,3))\n",
    "            if cuda:\n",
    "                x=x.cuda()\n",
    "            y, mu, logvar = vae.forward(x)\n",
    "            loss_recon, loss_KLD = loss_function(y, x, mu, logvar)\n",
    "            loss = loss_recon + gamma * torch.abs(loss_KLD-C)\n",
    "            loss = loss.mean() # mean along the batches\n",
    "            \n",
    "            info['loss'].append(loss.cpu().data.item())\n",
    "            info['loss_recon'].append(loss_recon.mean().cpu().data.item())\n",
    "            info['loss_KLD'].append(loss_KLD.mean().cpu().data.item())\n",
    "            \n",
    "            if not test:\n",
    "                optimizer.zero_grad()\n",
    "                loss.backward()\n",
    "                optimizer.step()\n",
    "                optimizer.zero_grad()\n",
    "            \n",
    "            prog.update(loader.batch_size)\n",
    "            prog.desc='loss={loss:2.2f} [ {loss_recon:2.2f} + {rhs:2.2f}={loss_recon:2.2f} + {gamma}*|{loss_KLD:2.2f} - {C}| ]'.format(\n",
    "                loss=np.mean(info['loss']),\n",
    "                loss_recon=np.mean(info['loss_recon']),\n",
    "                gamma=gamma,\n",
    "                C=C,\n",
    "                loss_KLD=np.mean(info['loss_KLD']),\n",
    "                rhs = gamma*np.abs(np.mean(info['loss_KLD'])-C)\n",
    "            )\n",
    "            if i==100:\n",
    "                print(prog.desc)\n",
    "        print(prog.desc)\n",
    "        prog.close()\n",
    "    return info"
   ]
  },
  {
   "cell_type": "code",
   "execution_count": null,
   "metadata": {
    "ExecuteTime": {
     "end_time": "2018-05-11T02:19:34.864488Z",
     "start_time": "2018-05-11T02:19:34.827707Z"
    }
   },
   "outputs": [],
   "source": []
  },
  {
   "cell_type": "code",
   "execution_count": 15,
   "metadata": {
    "ExecuteTime": {
     "end_time": "2018-05-15T21:49:07.960946Z",
     "start_time": "2018-05-15T21:49:07.945120Z"
    }
   },
   "outputs": [],
   "source": [
    "# Plot reconstructions\n",
    "def plot_results(loader=loader_test, n=2, epoch=0):\n",
    "    x,_ = next(iter(loader))\n",
    "\n",
    "    X = Variable(x).transpose(1,3).contiguous()\n",
    "    if cuda:\n",
    "        X = X.cuda()\n",
    "    Y, mu, logvar = vae.forward(X)\n",
    "    loss_recon, loss_KLD = loss_function(Y, X, mu, logvar)\n",
    "    loss = loss_recon + gamma * torch.abs(loss_KLD-C)\n",
    "\n",
    "    y=Y.cpu().data.transpose(1,3).numpy()\n",
    "    for i in range(n):\n",
    "        plt.figure(figsize=(6,3))\n",
    "        plt.subplot(1, 2, 1)\n",
    "        plt.title('original')\n",
    "        plt.axis('off')\n",
    "        plt.imshow(x[i].numpy())\n",
    "\n",
    "        plt.subplot(1, 2, 2)\n",
    "        plt.imshow(y[i])\n",
    "        plt.axis('off')\n",
    "        plt.title('reconstructed')\n",
    "\n",
    "        plt.suptitle('epoch {}, index {}, loss {:2.4f}'.format(epoch, i, loss[i].cpu().data.numpy()))\n",
    "        plt.show()\n",
    "        \n",
    "    del y\n",
    "    del Y\n",
    "    del X\n",
    "    del x\n",
    "    del mu\n",
    "    del logvar\n",
    "    del loss\n",
    "        \n",
    "# plot_results(loader=loader_test, n=2, epoch=epoch)"
   ]
  },
  {
   "cell_type": "code",
   "execution_count": 16,
   "metadata": {
    "ExecuteTime": {
     "end_time": "2018-05-15T21:49:07.975188Z",
     "start_time": "2018-05-15T21:49:07.962921Z"
    }
   },
   "outputs": [],
   "source": [
    "# Train\n",
    "optimizer = optim.Adam(vae.parameters(), lr=3e-4)\n",
    "import torch.optim.lr_scheduler\n",
    "scheduler = optim.lr_scheduler.ReduceLROnPlateau(optimizer, mode='min', patience=3, verbose=True)"
   ]
  },
  {
   "cell_type": "code",
   "execution_count": 23,
   "metadata": {
    "ExecuteTime": {
     "end_time": "2018-05-15T21:49:35.120292Z",
     "start_time": "2018-05-15T21:49:35.107573Z"
    }
   },
   "outputs": [],
   "source": [
    "infos=[]\n",
    "C = 0\n",
    "C_epoch_inc = 25 # How much to increase C by each epoch"
   ]
  },
  {
   "cell_type": "code",
   "execution_count": null,
   "metadata": {
    "ExecuteTime": {
     "start_time": "2018-05-15T21:49:28.079Z"
    },
    "scrolled": true
   },
   "outputs": [
    {
     "data": {
      "application/vnd.jupyter.widget-view+json": {
       "model_id": "085102feb06b4c1b97aeb95e4aacc1d9",
       "version_major": 2,
       "version_minor": 0
      },
      "text/plain": [
       "HBox(children=(IntProgress(value=0, description='training', max=232800), HTML(value='')))"
      ]
     },
     "metadata": {},
     "output_type": "display_data"
    },
    {
     "name": "stderr",
     "output_type": "stream",
     "text": [
      "/home/ubuntu/anaconda3/envs/pytorch_p36/lib/python3.6/site-packages/tqdm/_monitor.py:89: TqdmSynchronisationWarning: Set changed size during iteration (see https://github.com/tqdm/tqdm/issues/481)\n",
      "  TqdmSynchronisationWarning)\n"
     ]
    },
    {
     "name": "stdout",
     "output_type": "stream",
     "text": [
      "loss=6470.39 [ 6344.27 + 126.12=6344.27 + 0.25*|504.47 - 0| ]\n"
     ]
    }
   ],
   "source": [
    "for epoch in range(num_epochs): \n",
    "    info = train(loader_train, vae, optimizer, loss_function, test=False, cuda=True)\n",
    "    info_val = train(loader_test, vae, optimizer, loss_function, test=True, cuda=True)\n",
    "    scheduler.step(np.mean(info_val['loss']))\n",
    "    \n",
    "    C += C_epoch_inc\n",
    "    print('Epoch {}, loss={:2.4f}, loss_val={:2.4f}'.format(epoch, np.mean(info['loss']), np.mean(info_val['loss'])))\n",
    "    infos.append([info, info_val])\n",
    "    \n",
    "    plot_results(loader=loader_test, n=4, epoch=epoch)\n",
    "    torch.save(vae.state_dict(), f'./models/{NAME}_{epoch}_state_dict.pkl')"
   ]
  },
  {
   "cell_type": "markdown",
   "metadata": {},
   "source": [
    "le=1e-4... no diff\n",
    "- Epoch 0, C=100  \n",
    "    - loss=2770.8355, loss_val=3994.2864 \n",
    "    - loss=4080.66=3783.20 + 297.46=3783.20 + 1*|397.46 - 100| \n",
    "\n",
    "lr=1e-3\n",
    "- Epoch 0, C=100  \n",
    "    - loss=2893, loss_val ~3000\n",
    "    - loss=2919.68=2674.58 + 245.09=2674.58 + 1*|345.09 - 100|\n",
    "    \n",
    "lr=1e-3\n",
    "- Epoch 0, C=400  \n",
    "    - loss=3921.11 [ 3887.67 + 28.48=3887.67 + 1*|428.48 - 400| ]\n",
    "    - loss=2560.1797, loss_val=3921.1070\n",
    "- Epoch 1,  C=600\n",
    "    - loss=2383.9083, loss_val=3785.8459\n",
    "    - loss=2801.65 [ 2789.71 + 6.43=2789.71 + 1*|606.43 - 600| ]\n",
    "    - loss=3785.85 [ 3771.32 + 3.96=3771.32 + 1*|603.96 - 600| ]\n",
    "\n"
   ]
  },
  {
   "cell_type": "code",
   "execution_count": null,
   "metadata": {
    "ExecuteTime": {
     "end_time": "2018-05-15T21:49:16.281008Z",
     "start_time": "2018-05-15T21:48:55.345Z"
    }
   },
   "outputs": [],
   "source": [
    "torch.save(vae.state_dict(), f'./models/{NAME}_state_dict.pkl')\n",
    "torch.save(vae, f'./models/{NAME}.pkl')"
   ]
  },
  {
   "cell_type": "code",
   "execution_count": null,
   "metadata": {
    "ExecuteTime": {
     "end_time": "2018-05-15T21:49:16.281972Z",
     "start_time": "2018-05-15T21:48:55.347Z"
    }
   },
   "outputs": [],
   "source": [
    "# plot history\n",
    "import pandas as pd\n",
    "histories = []\n",
    "for info, info_val in infos:\n",
    "    history = {k+'_val':np.mean(v) for k,v in info_val.items()}\n",
    "    history.update({k:np.mean(v) for k,v in info.items()})\n",
    "    histories.append(history)\n",
    "histories = pd.DataFrame(histories)\n",
    "histories.plot()"
   ]
  },
  {
   "cell_type": "code",
   "execution_count": null,
   "metadata": {
    "ExecuteTime": {
     "end_time": "2018-05-15T21:49:16.282777Z",
     "start_time": "2018-05-15T21:48:55.349Z"
    }
   },
   "outputs": [],
   "source": [
    "plot_results(loader=loader_test, n=5, epoch=epoch)"
   ]
  },
  {
   "cell_type": "code",
   "execution_count": null,
   "metadata": {
    "ExecuteTime": {
     "end_time": "2018-05-15T21:49:16.283616Z",
     "start_time": "2018-05-15T21:48:55.351Z"
    }
   },
   "outputs": [],
   "source": [
    "plot_results(loader=loader_train, n=6, epoch=epoch)"
   ]
  },
  {
   "cell_type": "markdown",
   "metadata": {},
   "source": [
    "# End"
   ]
  },
  {
   "cell_type": "code",
   "execution_count": null,
   "metadata": {
    "ExecuteTime": {
     "end_time": "2018-05-15T21:49:16.284523Z",
     "start_time": "2018-05-15T21:48:55.352Z"
    }
   },
   "outputs": [],
   "source": [
    "%time x=data_test[500]"
   ]
  },
  {
   "cell_type": "code",
   "execution_count": null,
   "metadata": {
    "ExecuteTime": {
     "end_time": "2018-05-15T21:49:16.285552Z",
     "start_time": "2018-05-15T21:48:55.354Z"
    }
   },
   "outputs": [],
   "source": [
    "# DEBUG check chunk size\n",
    "# should be less than 1e9\n",
    "# should take more than 100ms, less than 1s\n",
    "import itertools\n",
    "x=data_train\n",
    "shapes = list(itertools.product(*x.chunks))\n",
    "nbytes = [x.dtype.itemsize * np.prod(shape) for shape in shapes]\n",
    "assert nbytes[0]<1e9\n",
    "nbytes[0]"
   ]
  }
 ],
 "metadata": {
  "kernelspec": {
   "display_name": "Environment (conda_pytorch_p36)",
   "language": "python",
   "name": "conda_pytorch_p36"
  },
  "language_info": {
   "codemirror_mode": {
    "name": "ipython",
    "version": 3
   },
   "file_extension": ".py",
   "mimetype": "text/x-python",
   "name": "python",
   "nbconvert_exporter": "python",
   "pygments_lexer": "ipython3",
   "version": "3.6.5"
  },
  "toc": {
   "base_numbering": 1,
   "nav_menu": {
    "height": "48px",
    "width": "252px"
   },
   "number_sections": true,
   "sideBar": true,
   "skip_h1_title": false,
   "title_cell": "Table of Contents",
   "title_sidebar": "Contents",
   "toc_cell": false,
   "toc_position": {
    "height": "calc(100% - 180px)",
    "left": "10px",
    "top": "150px",
    "width": "254px"
   },
   "toc_section_display": "block",
   "toc_window_display": true
  }
 },
 "nbformat": 4,
 "nbformat_minor": 2
}
