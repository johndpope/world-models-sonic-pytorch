{
 "cells": [
  {
   "cell_type": "markdown",
   "metadata": {},
   "source": [
    "## Notes\n",
    "\n",
    "If it stalls around loss 60, you might need a smaller batch size, e.g. 8\n",
    "\n",
    "\n",
    "\n",
    "## Log\n",
    "\n",
    "### 20180506\n",
    "Why is this not working? It stalls around loss=60 and just reconstructs the same mean image each time.\n",
    "\n",
    "- batchnorm and pad? no lots of other models use them\n",
    "    - https://github.com/josephsmann/UnsupervisedDeepLearning-Pytorch/blob/jm/udlp/autoencoder/convVAE.py#L19\n",
    "    - https://github.com/taey16/pix2pixBEGAN.pytorch/blob/master/models/BEGAN.py\n",
    "- relu, same\n",
    "- lr - similar to other models\n",
    "- inner params - similar but larger than other working models\n",
    "- batch? Maybe it seems better with a lower batch (e.g. 8 instead of 32)\n",
    "- loss, this seems right\n",
    "    - except some people use a loss balance https://github.com/AppliedDataSciencePartners/WorldModels/blob/master/vae/arch.py#L97\n",
    "        where they multuply reconstruction loss by 10 but i've got ~100 vs ~1e-4 so I don't really need to!\n",
    "        \n",
    "- ok a lower batch size seemed to get it over that initial hump"
   ]
  },
  {
   "cell_type": "code",
   "execution_count": 1,
   "metadata": {
    "ExecuteTime": {
     "end_time": "2018-05-09T05:32:58.497070Z",
     "start_time": "2018-05-09T05:32:58.493538Z"
    }
   },
   "outputs": [],
   "source": [
    "import os\n",
    "os.sys.path.append('.')"
   ]
  },
  {
   "cell_type": "code",
   "execution_count": 2,
   "metadata": {
    "ExecuteTime": {
     "end_time": "2018-05-09T05:32:58.910927Z",
     "start_time": "2018-05-09T05:32:58.501190Z"
    }
   },
   "outputs": [
    {
     "name": "stderr",
     "output_type": "stream",
     "text": [
      "/home/ubuntu/anaconda3/envs/pytorch_p36/lib/python3.6/site-packages/matplotlib/__init__.py:1067: UserWarning: Duplicate key in file \"/home/ubuntu/.config/matplotlib/matplotlibrc\", line #2\n",
      "  (fname, cnt))\n",
      "/home/ubuntu/anaconda3/envs/pytorch_p36/lib/python3.6/site-packages/matplotlib/__init__.py:1067: UserWarning: Duplicate key in file \"/home/ubuntu/.config/matplotlib/matplotlibrc\", line #3\n",
      "  (fname, cnt))\n"
     ]
    }
   ],
   "source": [
    "%matplotlib inline\n",
    "%reload_ext autoreload\n",
    "%autoreload 2"
   ]
  },
  {
   "cell_type": "code",
   "execution_count": null,
   "metadata": {
    "ExecuteTime": {
     "end_time": "2018-05-06T00:21:02.585280Z",
     "start_time": "2018-05-06T00:21:02.474215Z"
    }
   },
   "outputs": [],
   "source": []
  },
  {
   "cell_type": "code",
   "execution_count": 3,
   "metadata": {
    "ExecuteTime": {
     "end_time": "2018-05-09T05:32:59.384995Z",
     "start_time": "2018-05-09T05:32:58.913362Z"
    }
   },
   "outputs": [
    {
     "name": "stderr",
     "output_type": "stream",
     "text": [
      "/home/ubuntu/anaconda3/envs/pytorch_p36/lib/python3.6/site-packages/h5py/__init__.py:36: FutureWarning: Conversion of the second argument of issubdtype from `float` to `np.floating` is deprecated. In future, it will be treated as `np.float64 == np.dtype(float).type`.\n",
      "  from ._conv import register_converters as _register_converters\n"
     ]
    }
   ],
   "source": [
    "import torch\n",
    "from torch.nn import functional as F\n",
    "from torch.autograd import Variable\n",
    "from torch import nn, optim\n",
    "import torch.utils.data\n",
    "\n",
    "# load as dask array\n",
    "import dask.array as da\n",
    "import dask\n",
    "import h5py\n",
    "\n",
    "import os\n",
    "import glob\n",
    "import numpy as np\n",
    "from matplotlib import pyplot as plt\n",
    "from tqdm import tqdm_notebook as tqdm"
   ]
  },
  {
   "cell_type": "code",
   "execution_count": 4,
   "metadata": {
    "ExecuteTime": {
     "end_time": "2018-05-09T05:32:59.596008Z",
     "start_time": "2018-05-09T05:32:59.388007Z"
    }
   },
   "outputs": [],
   "source": [
    "from vae import VAE, loss_function\n",
    "from helpers.summarize import TorchSummarizeDf\n",
    "from helpers.dataset import NumpyDataset, TQDMDaskProgressBar, load_npzs"
   ]
  },
  {
   "cell_type": "code",
   "execution_count": null,
   "metadata": {},
   "outputs": [],
   "source": []
  },
  {
   "cell_type": "code",
   "execution_count": 5,
   "metadata": {
    "ExecuteTime": {
     "end_time": "2018-05-09T05:32:59.628947Z",
     "start_time": "2018-05-09T05:32:59.598475Z"
    }
   },
   "outputs": [],
   "source": [
    "env_name='sonic'\n",
    "cuda= torch.cuda.is_available()\n",
    "num_epochs=200\n",
    "batch_size=64\n",
    "data_cache_file = '/tmp/sonic_vae2.hdf5'"
   ]
  },
  {
   "cell_type": "markdown",
   "metadata": {},
   "source": [
    "# Load data"
   ]
  },
  {
   "cell_type": "code",
   "execution_count": 6,
   "metadata": {
    "ExecuteTime": {
     "end_time": "2018-05-09T05:32:59.655126Z",
     "start_time": "2018-05-09T05:32:59.630971Z"
    }
   },
   "outputs": [],
   "source": [
    "# load as dask array\n",
    "\n",
    "filenames = sorted(glob.glob('./data/vae/obs_data_' + env_name + '_*.npz'))\n",
    "\n",
    "if not os.path.isfile(data_cache_file):\n",
    "    data_train = load_npzs(filenames)\n",
    "    print(data_train)\n",
    "    with TQDMDaskProgressBar():\n",
    "        da.to_hdf5(data_cache_file, '/x', data_train)\n",
    "       \n",
    "    # clear mem\n",
    "    del data_train \n",
    "    import gc\n",
    "    gc.collect()"
   ]
  },
  {
   "cell_type": "code",
   "execution_count": null,
   "metadata": {
    "ExecuteTime": {
     "end_time": "2018-05-07T14:34:10.474496Z",
     "start_time": "2018-05-07T14:34:10.421963Z"
    }
   },
   "outputs": [],
   "source": []
  },
  {
   "cell_type": "code",
   "execution_count": 7,
   "metadata": {
    "ExecuteTime": {
     "end_time": "2018-05-09T05:32:59.686152Z",
     "start_time": "2018-05-09T05:32:59.657815Z"
    }
   },
   "outputs": [
    {
     "data": {
      "text/plain": [
       "(dask.array<getitem, shape=(96000, 128, 128, 3), dtype=float32, chunksize=(2000, 128, 128, 3)>,\n",
       " dask.array<getitem, shape=(24000, 128, 128, 3), dtype=float32, chunksize=(2000, 128, 128, 3)>)"
      ]
     },
     "execution_count": 7,
     "metadata": {},
     "output_type": "execute_result"
    }
   ],
   "source": [
    "# load\n",
    "data = da.from_array(h5py.File(data_cache_file, mode='r')['x'], chunks=(2000, 128, 128, 3))\n",
    "data\n",
    "data_split = int(len(data)*0.8)\n",
    "data_train = data[:data_split]\n",
    "data_test = data[data_split:]\n",
    "data_train, data_test"
   ]
  },
  {
   "cell_type": "code",
   "execution_count": 8,
   "metadata": {
    "ExecuteTime": {
     "end_time": "2018-05-09T05:32:59.709917Z",
     "start_time": "2018-05-09T05:32:59.688921Z"
    }
   },
   "outputs": [
    {
     "data": {
      "text/plain": [
       "(<helpers.dataset.NumpyDataset at 0x7fafb026f198>,\n",
       " <torch.utils.data.dataloader.DataLoader at 0x7fafb026f160>)"
      ]
     },
     "execution_count": 8,
     "metadata": {},
     "output_type": "execute_result"
    }
   ],
   "source": [
    "   \n",
    "dataset_train = NumpyDataset(data_train)\n",
    "loader_train = torch.utils.data.DataLoader(dataset_train, pin_memory=True, shuffle=False, batch_size=batch_size)\n",
    "\n",
    "\n",
    "dataset_test = NumpyDataset(data_test)\n",
    "loader_test = torch.utils.data.DataLoader(dataset_test, pin_memory=True, shuffle=False, batch_size=batch_size)\n",
    "\n",
    "dataset_train, loader_train"
   ]
  },
  {
   "cell_type": "markdown",
   "metadata": {
    "ExecuteTime": {
     "end_time": "2018-05-06T01:28:34.496506Z",
     "start_time": "2018-05-06T01:28:27.517Z"
    }
   },
   "source": [
    "# View model"
   ]
  },
  {
   "cell_type": "code",
   "execution_count": 9,
   "metadata": {
    "ExecuteTime": {
     "end_time": "2018-05-09T05:33:06.830154Z",
     "start_time": "2018-05-09T05:32:59.712470Z"
    }
   },
   "outputs": [],
   "source": [
    "vae = VAE(image_size=128, z_dim=32, conv_dim=64, code_dim=16, k_dim=512).cuda()"
   ]
  },
  {
   "cell_type": "code",
   "execution_count": 10,
   "metadata": {
    "ExecuteTime": {
     "end_time": "2018-05-09T05:33:06.850260Z",
     "start_time": "2018-05-09T05:33:06.832550Z"
    }
   },
   "outputs": [],
   "source": [
    "# # Resume?\n",
    "NAME='VAE_2xv3'\n",
    "save_file = f'./models/{NAME}_state_dict.pkl'\n",
    "if os.path.isfile(save_file):\n",
    "    state_dict = torch.load(save_file)\n",
    "    vae.load_state_dict(vae.state_dict())\n",
    "    print(f'loaded {save_file}')"
   ]
  },
  {
   "cell_type": "code",
   "execution_count": 27,
   "metadata": {
    "ExecuteTime": {
     "end_time": "2018-05-09T05:45:22.191263Z",
     "start_time": "2018-05-09T05:45:22.028562Z"
    },
    "scrolled": true
   },
   "outputs": [
    {
     "name": "stdout",
     "output_type": "stream",
     "text": [
      "torch.Size([1, 3, 128, 128])\n",
      "tensor(60992.1211, device='cuda:0')\n",
      "Total parameters 15237283\n",
      "Total trainable parameters 15237283\n"
     ]
    },
    {
     "data": {
      "text/html": [
       "<div>\n",
       "<style scoped>\n",
       "    .dataframe tbody tr th:only-of-type {\n",
       "        vertical-align: middle;\n",
       "    }\n",
       "\n",
       "    .dataframe tbody tr th {\n",
       "        vertical-align: top;\n",
       "    }\n",
       "\n",
       "    .dataframe thead th {\n",
       "        text-align: right;\n",
       "    }\n",
       "</style>\n",
       "<table border=\"1\" class=\"dataframe\">\n",
       "  <thead>\n",
       "    <tr style=\"text-align: right;\">\n",
       "      <th></th>\n",
       "      <th>name</th>\n",
       "      <th>class_name</th>\n",
       "      <th>input_shape</th>\n",
       "      <th>output_shape</th>\n",
       "      <th>nb_params</th>\n",
       "      <th>level</th>\n",
       "    </tr>\n",
       "  </thead>\n",
       "  <tbody>\n",
       "    <tr>\n",
       "      <th>1</th>\n",
       "      <td>encoder.0.conv</td>\n",
       "      <td>Conv2d</td>\n",
       "      <td>[[(-1, 3, 128, 128)]]</td>\n",
       "      <td>[[(-1, 64, 128, 128)]]</td>\n",
       "      <td>1792</td>\n",
       "      <td>2</td>\n",
       "    </tr>\n",
       "    <tr>\n",
       "      <th>2</th>\n",
       "      <td>encoder.0.bn</td>\n",
       "      <td>BatchNorm2d</td>\n",
       "      <td>[[(-1, 64, 128, 128)]]</td>\n",
       "      <td>[[(-1, 64, 128, 128)]]</td>\n",
       "      <td>128</td>\n",
       "      <td>2</td>\n",
       "    </tr>\n",
       "    <tr>\n",
       "      <th>3</th>\n",
       "      <td>encoder.0.act</td>\n",
       "      <td>ReLU</td>\n",
       "      <td>[[(-1, 64, 128, 128)]]</td>\n",
       "      <td>[[(-1, 64, 128, 128)]]</td>\n",
       "      <td>0</td>\n",
       "      <td>2</td>\n",
       "    </tr>\n",
       "    <tr>\n",
       "      <th>4</th>\n",
       "      <td>encoder.0</td>\n",
       "      <td>ConvBlock</td>\n",
       "      <td>[[(-1, 3, 128, 128)]]</td>\n",
       "      <td>[[(-1, 64, 128, 128)]]</td>\n",
       "      <td>1920</td>\n",
       "      <td>1</td>\n",
       "    </tr>\n",
       "    <tr>\n",
       "      <th>5</th>\n",
       "      <td>encoder.1.conv</td>\n",
       "      <td>Conv2d</td>\n",
       "      <td>[[(-1, 64, 128, 128)]]</td>\n",
       "      <td>[[(-1, 128, 64, 64)]]</td>\n",
       "      <td>131200</td>\n",
       "      <td>2</td>\n",
       "    </tr>\n",
       "    <tr>\n",
       "      <th>6</th>\n",
       "      <td>encoder.1.bn</td>\n",
       "      <td>BatchNorm2d</td>\n",
       "      <td>[[(-1, 128, 64, 64)]]</td>\n",
       "      <td>[[(-1, 128, 64, 64)]]</td>\n",
       "      <td>256</td>\n",
       "      <td>2</td>\n",
       "    </tr>\n",
       "    <tr>\n",
       "      <th>7</th>\n",
       "      <td>encoder.1.act</td>\n",
       "      <td>ReLU</td>\n",
       "      <td>[[(-1, 128, 64, 64)]]</td>\n",
       "      <td>[[(-1, 128, 64, 64)]]</td>\n",
       "      <td>0</td>\n",
       "      <td>2</td>\n",
       "    </tr>\n",
       "    <tr>\n",
       "      <th>8</th>\n",
       "      <td>encoder.1</td>\n",
       "      <td>ConvBlock</td>\n",
       "      <td>[[(-1, 64, 128, 128)]]</td>\n",
       "      <td>[[(-1, 128, 64, 64)]]</td>\n",
       "      <td>131456</td>\n",
       "      <td>1</td>\n",
       "    </tr>\n",
       "    <tr>\n",
       "      <th>9</th>\n",
       "      <td>encoder.2.conv</td>\n",
       "      <td>Conv2d</td>\n",
       "      <td>[[(-1, 128, 64, 64)]]</td>\n",
       "      <td>[[(-1, 192, 32, 32)]]</td>\n",
       "      <td>393408</td>\n",
       "      <td>2</td>\n",
       "    </tr>\n",
       "    <tr>\n",
       "      <th>10</th>\n",
       "      <td>encoder.2.bn</td>\n",
       "      <td>BatchNorm2d</td>\n",
       "      <td>[[(-1, 192, 32, 32)]]</td>\n",
       "      <td>[[(-1, 192, 32, 32)]]</td>\n",
       "      <td>384</td>\n",
       "      <td>2</td>\n",
       "    </tr>\n",
       "    <tr>\n",
       "      <th>11</th>\n",
       "      <td>encoder.2.act</td>\n",
       "      <td>ReLU</td>\n",
       "      <td>[[(-1, 192, 32, 32)]]</td>\n",
       "      <td>[[(-1, 192, 32, 32)]]</td>\n",
       "      <td>0</td>\n",
       "      <td>2</td>\n",
       "    </tr>\n",
       "    <tr>\n",
       "      <th>12</th>\n",
       "      <td>encoder.2</td>\n",
       "      <td>ConvBlock</td>\n",
       "      <td>[[(-1, 128, 64, 64)]]</td>\n",
       "      <td>[[(-1, 192, 32, 32)]]</td>\n",
       "      <td>393792</td>\n",
       "      <td>1</td>\n",
       "    </tr>\n",
       "    <tr>\n",
       "      <th>13</th>\n",
       "      <td>encoder.3.conv</td>\n",
       "      <td>Conv2d</td>\n",
       "      <td>[[(-1, 192, 32, 32)]]</td>\n",
       "      <td>[[(-1, 256, 16, 16)]]</td>\n",
       "      <td>786688</td>\n",
       "      <td>2</td>\n",
       "    </tr>\n",
       "    <tr>\n",
       "      <th>14</th>\n",
       "      <td>encoder.3.bn</td>\n",
       "      <td>BatchNorm2d</td>\n",
       "      <td>[[(-1, 256, 16, 16)]]</td>\n",
       "      <td>[[(-1, 256, 16, 16)]]</td>\n",
       "      <td>512</td>\n",
       "      <td>2</td>\n",
       "    </tr>\n",
       "    <tr>\n",
       "      <th>15</th>\n",
       "      <td>encoder.3.act</td>\n",
       "      <td>ReLU</td>\n",
       "      <td>[[(-1, 256, 16, 16)]]</td>\n",
       "      <td>[[(-1, 256, 16, 16)]]</td>\n",
       "      <td>0</td>\n",
       "      <td>2</td>\n",
       "    </tr>\n",
       "    <tr>\n",
       "      <th>16</th>\n",
       "      <td>encoder.3</td>\n",
       "      <td>ConvBlock</td>\n",
       "      <td>[[(-1, 192, 32, 32)]]</td>\n",
       "      <td>[[(-1, 256, 16, 16)]]</td>\n",
       "      <td>787200</td>\n",
       "      <td>1</td>\n",
       "    </tr>\n",
       "    <tr>\n",
       "      <th>17</th>\n",
       "      <td>encoder.4</td>\n",
       "      <td>Conv2d</td>\n",
       "      <td>[[(-1, 256, 16, 16)]]</td>\n",
       "      <td>[[(-1, 32, 16, 16)]]</td>\n",
       "      <td>8224</td>\n",
       "      <td>1</td>\n",
       "    </tr>\n",
       "    <tr>\n",
       "      <th>18</th>\n",
       "      <td>mu</td>\n",
       "      <td>Linear</td>\n",
       "      <td>[[(-1, 8192)]]</td>\n",
       "      <td>[[(-1, 512)]]</td>\n",
       "      <td>4194816</td>\n",
       "      <td>0</td>\n",
       "    </tr>\n",
       "    <tr>\n",
       "      <th>19</th>\n",
       "      <td>logvar</td>\n",
       "      <td>Linear</td>\n",
       "      <td>[[(-1, 8192)]]</td>\n",
       "      <td>[[(-1, 512)]]</td>\n",
       "      <td>4194816</td>\n",
       "      <td>0</td>\n",
       "    </tr>\n",
       "    <tr>\n",
       "      <th>20</th>\n",
       "      <td>z</td>\n",
       "      <td>Linear</td>\n",
       "      <td>[[(-1, 512)]]</td>\n",
       "      <td>[[(-1, 8192)]]</td>\n",
       "      <td>4202496</td>\n",
       "      <td>0</td>\n",
       "    </tr>\n",
       "    <tr>\n",
       "      <th>21</th>\n",
       "      <td>decoder.0.deconv</td>\n",
       "      <td>ConvTranspose2d</td>\n",
       "      <td>[[(-1, 32, 16, 16)]]</td>\n",
       "      <td>[[(-1, 256, 16, 16)]]</td>\n",
       "      <td>8448</td>\n",
       "      <td>2</td>\n",
       "    </tr>\n",
       "    <tr>\n",
       "      <th>22</th>\n",
       "      <td>decoder.0.bn</td>\n",
       "      <td>BatchNorm2d</td>\n",
       "      <td>[[(-1, 256, 16, 16)]]</td>\n",
       "      <td>[[(-1, 256, 16, 16)]]</td>\n",
       "      <td>512</td>\n",
       "      <td>2</td>\n",
       "    </tr>\n",
       "    <tr>\n",
       "      <th>23</th>\n",
       "      <td>decoder.0.act</td>\n",
       "      <td>ReLU</td>\n",
       "      <td>[[(-1, 256, 16, 16)]]</td>\n",
       "      <td>[[(-1, 256, 16, 16)]]</td>\n",
       "      <td>0</td>\n",
       "      <td>2</td>\n",
       "    </tr>\n",
       "    <tr>\n",
       "      <th>24</th>\n",
       "      <td>decoder.0</td>\n",
       "      <td>DeconvBlock</td>\n",
       "      <td>[[(-1, 32, 16, 16)]]</td>\n",
       "      <td>[[(-1, 256, 16, 16)]]</td>\n",
       "      <td>8960</td>\n",
       "      <td>1</td>\n",
       "    </tr>\n",
       "    <tr>\n",
       "      <th>25</th>\n",
       "      <td>decoder.1.deconv</td>\n",
       "      <td>ConvTranspose2d</td>\n",
       "      <td>[[(-1, 256, 16, 16)]]</td>\n",
       "      <td>[[(-1, 192, 32, 32)]]</td>\n",
       "      <td>786624</td>\n",
       "      <td>2</td>\n",
       "    </tr>\n",
       "    <tr>\n",
       "      <th>26</th>\n",
       "      <td>decoder.1.bn</td>\n",
       "      <td>BatchNorm2d</td>\n",
       "      <td>[[(-1, 192, 32, 32)]]</td>\n",
       "      <td>[[(-1, 192, 32, 32)]]</td>\n",
       "      <td>384</td>\n",
       "      <td>2</td>\n",
       "    </tr>\n",
       "    <tr>\n",
       "      <th>27</th>\n",
       "      <td>decoder.1.act</td>\n",
       "      <td>ReLU</td>\n",
       "      <td>[[(-1, 192, 32, 32)]]</td>\n",
       "      <td>[[(-1, 192, 32, 32)]]</td>\n",
       "      <td>0</td>\n",
       "      <td>2</td>\n",
       "    </tr>\n",
       "    <tr>\n",
       "      <th>28</th>\n",
       "      <td>decoder.1</td>\n",
       "      <td>DeconvBlock</td>\n",
       "      <td>[[(-1, 256, 16, 16)]]</td>\n",
       "      <td>[[(-1, 192, 32, 32)]]</td>\n",
       "      <td>787008</td>\n",
       "      <td>1</td>\n",
       "    </tr>\n",
       "    <tr>\n",
       "      <th>29</th>\n",
       "      <td>decoder.2.deconv</td>\n",
       "      <td>ConvTranspose2d</td>\n",
       "      <td>[[(-1, 192, 32, 32)]]</td>\n",
       "      <td>[[(-1, 128, 64, 64)]]</td>\n",
       "      <td>393344</td>\n",
       "      <td>2</td>\n",
       "    </tr>\n",
       "    <tr>\n",
       "      <th>30</th>\n",
       "      <td>decoder.2.bn</td>\n",
       "      <td>BatchNorm2d</td>\n",
       "      <td>[[(-1, 128, 64, 64)]]</td>\n",
       "      <td>[[(-1, 128, 64, 64)]]</td>\n",
       "      <td>256</td>\n",
       "      <td>2</td>\n",
       "    </tr>\n",
       "    <tr>\n",
       "      <th>31</th>\n",
       "      <td>decoder.2.act</td>\n",
       "      <td>ReLU</td>\n",
       "      <td>[[(-1, 128, 64, 64)]]</td>\n",
       "      <td>[[(-1, 128, 64, 64)]]</td>\n",
       "      <td>0</td>\n",
       "      <td>2</td>\n",
       "    </tr>\n",
       "    <tr>\n",
       "      <th>32</th>\n",
       "      <td>decoder.2</td>\n",
       "      <td>DeconvBlock</td>\n",
       "      <td>[[(-1, 192, 32, 32)]]</td>\n",
       "      <td>[[(-1, 128, 64, 64)]]</td>\n",
       "      <td>393600</td>\n",
       "      <td>1</td>\n",
       "    </tr>\n",
       "    <tr>\n",
       "      <th>33</th>\n",
       "      <td>decoder.3.deconv</td>\n",
       "      <td>ConvTranspose2d</td>\n",
       "      <td>[[(-1, 128, 64, 64)]]</td>\n",
       "      <td>[[(-1, 64, 128, 128)]]</td>\n",
       "      <td>131136</td>\n",
       "      <td>2</td>\n",
       "    </tr>\n",
       "    <tr>\n",
       "      <th>34</th>\n",
       "      <td>decoder.3.bn</td>\n",
       "      <td>BatchNorm2d</td>\n",
       "      <td>[[(-1, 64, 128, 128)]]</td>\n",
       "      <td>[[(-1, 64, 128, 128)]]</td>\n",
       "      <td>128</td>\n",
       "      <td>2</td>\n",
       "    </tr>\n",
       "    <tr>\n",
       "      <th>35</th>\n",
       "      <td>decoder.3.act</td>\n",
       "      <td>ReLU</td>\n",
       "      <td>[[(-1, 64, 128, 128)]]</td>\n",
       "      <td>[[(-1, 64, 128, 128)]]</td>\n",
       "      <td>0</td>\n",
       "      <td>2</td>\n",
       "    </tr>\n",
       "    <tr>\n",
       "      <th>36</th>\n",
       "      <td>decoder.3</td>\n",
       "      <td>DeconvBlock</td>\n",
       "      <td>[[(-1, 128, 64, 64)]]</td>\n",
       "      <td>[[(-1, 64, 128, 128)]]</td>\n",
       "      <td>131264</td>\n",
       "      <td>1</td>\n",
       "    </tr>\n",
       "    <tr>\n",
       "      <th>37</th>\n",
       "      <td>decoder.4</td>\n",
       "      <td>Conv2d</td>\n",
       "      <td>[[(-1, 64, 128, 128)]]</td>\n",
       "      <td>[[(-1, 3, 128, 128)]]</td>\n",
       "      <td>1731</td>\n",
       "      <td>1</td>\n",
       "    </tr>\n",
       "    <tr>\n",
       "      <th>38</th>\n",
       "      <td>sigmoid</td>\n",
       "      <td>Sigmoid</td>\n",
       "      <td>[[(-1, 3, 128, 128)]]</td>\n",
       "      <td>[[(-1, 3, 128, 128)]]</td>\n",
       "      <td>0</td>\n",
       "      <td>0</td>\n",
       "    </tr>\n",
       "  </tbody>\n",
       "</table>\n",
       "</div>"
      ],
      "text/plain": [
       "                name       class_name             input_shape  \\\n",
       "1     encoder.0.conv           Conv2d   [[(-1, 3, 128, 128)]]   \n",
       "2       encoder.0.bn      BatchNorm2d  [[(-1, 64, 128, 128)]]   \n",
       "3      encoder.0.act             ReLU  [[(-1, 64, 128, 128)]]   \n",
       "4          encoder.0        ConvBlock   [[(-1, 3, 128, 128)]]   \n",
       "5     encoder.1.conv           Conv2d  [[(-1, 64, 128, 128)]]   \n",
       "6       encoder.1.bn      BatchNorm2d   [[(-1, 128, 64, 64)]]   \n",
       "7      encoder.1.act             ReLU   [[(-1, 128, 64, 64)]]   \n",
       "8          encoder.1        ConvBlock  [[(-1, 64, 128, 128)]]   \n",
       "9     encoder.2.conv           Conv2d   [[(-1, 128, 64, 64)]]   \n",
       "10      encoder.2.bn      BatchNorm2d   [[(-1, 192, 32, 32)]]   \n",
       "11     encoder.2.act             ReLU   [[(-1, 192, 32, 32)]]   \n",
       "12         encoder.2        ConvBlock   [[(-1, 128, 64, 64)]]   \n",
       "13    encoder.3.conv           Conv2d   [[(-1, 192, 32, 32)]]   \n",
       "14      encoder.3.bn      BatchNorm2d   [[(-1, 256, 16, 16)]]   \n",
       "15     encoder.3.act             ReLU   [[(-1, 256, 16, 16)]]   \n",
       "16         encoder.3        ConvBlock   [[(-1, 192, 32, 32)]]   \n",
       "17         encoder.4           Conv2d   [[(-1, 256, 16, 16)]]   \n",
       "18                mu           Linear          [[(-1, 8192)]]   \n",
       "19            logvar           Linear          [[(-1, 8192)]]   \n",
       "20                 z           Linear           [[(-1, 512)]]   \n",
       "21  decoder.0.deconv  ConvTranspose2d    [[(-1, 32, 16, 16)]]   \n",
       "22      decoder.0.bn      BatchNorm2d   [[(-1, 256, 16, 16)]]   \n",
       "23     decoder.0.act             ReLU   [[(-1, 256, 16, 16)]]   \n",
       "24         decoder.0      DeconvBlock    [[(-1, 32, 16, 16)]]   \n",
       "25  decoder.1.deconv  ConvTranspose2d   [[(-1, 256, 16, 16)]]   \n",
       "26      decoder.1.bn      BatchNorm2d   [[(-1, 192, 32, 32)]]   \n",
       "27     decoder.1.act             ReLU   [[(-1, 192, 32, 32)]]   \n",
       "28         decoder.1      DeconvBlock   [[(-1, 256, 16, 16)]]   \n",
       "29  decoder.2.deconv  ConvTranspose2d   [[(-1, 192, 32, 32)]]   \n",
       "30      decoder.2.bn      BatchNorm2d   [[(-1, 128, 64, 64)]]   \n",
       "31     decoder.2.act             ReLU   [[(-1, 128, 64, 64)]]   \n",
       "32         decoder.2      DeconvBlock   [[(-1, 192, 32, 32)]]   \n",
       "33  decoder.3.deconv  ConvTranspose2d   [[(-1, 128, 64, 64)]]   \n",
       "34      decoder.3.bn      BatchNorm2d  [[(-1, 64, 128, 128)]]   \n",
       "35     decoder.3.act             ReLU  [[(-1, 64, 128, 128)]]   \n",
       "36         decoder.3      DeconvBlock   [[(-1, 128, 64, 64)]]   \n",
       "37         decoder.4           Conv2d  [[(-1, 64, 128, 128)]]   \n",
       "38           sigmoid          Sigmoid   [[(-1, 3, 128, 128)]]   \n",
       "\n",
       "              output_shape  nb_params  level  \n",
       "1   [[(-1, 64, 128, 128)]]       1792      2  \n",
       "2   [[(-1, 64, 128, 128)]]        128      2  \n",
       "3   [[(-1, 64, 128, 128)]]          0      2  \n",
       "4   [[(-1, 64, 128, 128)]]       1920      1  \n",
       "5    [[(-1, 128, 64, 64)]]     131200      2  \n",
       "6    [[(-1, 128, 64, 64)]]        256      2  \n",
       "7    [[(-1, 128, 64, 64)]]          0      2  \n",
       "8    [[(-1, 128, 64, 64)]]     131456      1  \n",
       "9    [[(-1, 192, 32, 32)]]     393408      2  \n",
       "10   [[(-1, 192, 32, 32)]]        384      2  \n",
       "11   [[(-1, 192, 32, 32)]]          0      2  \n",
       "12   [[(-1, 192, 32, 32)]]     393792      1  \n",
       "13   [[(-1, 256, 16, 16)]]     786688      2  \n",
       "14   [[(-1, 256, 16, 16)]]        512      2  \n",
       "15   [[(-1, 256, 16, 16)]]          0      2  \n",
       "16   [[(-1, 256, 16, 16)]]     787200      1  \n",
       "17    [[(-1, 32, 16, 16)]]       8224      1  \n",
       "18           [[(-1, 512)]]    4194816      0  \n",
       "19           [[(-1, 512)]]    4194816      0  \n",
       "20          [[(-1, 8192)]]    4202496      0  \n",
       "21   [[(-1, 256, 16, 16)]]       8448      2  \n",
       "22   [[(-1, 256, 16, 16)]]        512      2  \n",
       "23   [[(-1, 256, 16, 16)]]          0      2  \n",
       "24   [[(-1, 256, 16, 16)]]       8960      1  \n",
       "25   [[(-1, 192, 32, 32)]]     786624      2  \n",
       "26   [[(-1, 192, 32, 32)]]        384      2  \n",
       "27   [[(-1, 192, 32, 32)]]          0      2  \n",
       "28   [[(-1, 192, 32, 32)]]     787008      1  \n",
       "29   [[(-1, 128, 64, 64)]]     393344      2  \n",
       "30   [[(-1, 128, 64, 64)]]        256      2  \n",
       "31   [[(-1, 128, 64, 64)]]          0      2  \n",
       "32   [[(-1, 128, 64, 64)]]     393600      1  \n",
       "33  [[(-1, 64, 128, 128)]]     131136      2  \n",
       "34  [[(-1, 64, 128, 128)]]        128      2  \n",
       "35  [[(-1, 64, 128, 128)]]          0      2  \n",
       "36  [[(-1, 64, 128, 128)]]     131264      1  \n",
       "37   [[(-1, 3, 128, 128)]]       1731      1  \n",
       "38   [[(-1, 3, 128, 128)]]          0      0  "
      ]
     },
     "execution_count": 27,
     "metadata": {},
     "output_type": "execute_result"
    }
   ],
   "source": [
    "img = np.random.randn(64*2, 64*2, 3)\n",
    "gpu_img = Variable(torch.from_numpy(img[np.newaxis].transpose(0, 3, 1, 2))).float().cuda()\n",
    "\n",
    "with TorchSummarizeDf(vae) as tdf:\n",
    "    x, mu, logvar = vae.forward(gpu_img)\n",
    "    print(x.size())\n",
    "    print(loss_function(x, gpu_img, mu, logvar))\n",
    "    x = x.data.cpu().numpy()[0].transpose(1, 2, 0)\n",
    "    df = tdf.make_df()\n",
    "df"
   ]
  },
  {
   "cell_type": "code",
   "execution_count": 23,
   "metadata": {
    "ExecuteTime": {
     "end_time": "2018-05-09T05:39:20.853241Z",
     "start_time": "2018-05-09T05:39:20.825387Z"
    }
   },
   "outputs": [
    {
     "data": {
      "text/plain": [
       "15237283"
      ]
     },
     "execution_count": 23,
     "metadata": {},
     "output_type": "execute_result"
    }
   ],
   "source": []
  },
  {
   "cell_type": "markdown",
   "metadata": {},
   "source": [
    "## Train"
   ]
  },
  {
   "cell_type": "code",
   "execution_count": null,
   "metadata": {
    "ExecuteTime": {
     "end_time": "2018-05-09T05:33:07.003376Z",
     "start_time": "2018-05-09T05:32:56.305Z"
    }
   },
   "outputs": [],
   "source": [
    "import collections\n",
    "\n",
    "def train(loader, net, optimizer, loss_function, test=False, cuda=True):\n",
    "    if test:\n",
    "        net.eval()\n",
    "    else:\n",
    "        net.train()\n",
    "    info = collections.defaultdict(list)\n",
    "    \n",
    "    with tqdm(total=len(loader)*loader.batch_size, mininterval=0.5, desc='test' if test else 'training') as prog:\n",
    "        for i, (batch,) in enumerate(loader):\n",
    "            x = Variable(batch.transpose(1,3)).cuda() #*255 # FIXME (I divided by 255 once too many during gathering)\n",
    "            y, mu, logvar = vae.forward(x)\n",
    "            loss = loss_function(y, x, mu, logvar)\n",
    "            info['loss'].append(loss.cpu().data.numpy())\n",
    "            \n",
    "            if not test:\n",
    "                optimizer.zero_grad()\n",
    "                loss.backward()\n",
    "                optimizer.step()\n",
    "            \n",
    "            prog.update(loader.batch_size)\n",
    "            prog.desc='loss={:2.4f}'.format(np.mean(info['loss']))\n",
    "            \n",
    "#             if i%(200000//batch_size)==0:\n",
    "#                 print('[{}/{}] loss={:2.4f}'.format(i, len(loader), np.mean(info['loss'][-300:])))\n",
    "        print('[{}/{}] loss={:2.4f}'.format(i, len(loader), np.mean(info['loss'])))\n",
    "        prog.close()\n",
    "    return info"
   ]
  },
  {
   "cell_type": "code",
   "execution_count": null,
   "metadata": {
    "ExecuteTime": {
     "end_time": "2018-05-09T05:33:07.004346Z",
     "start_time": "2018-05-09T05:32:56.308Z"
    }
   },
   "outputs": [],
   "source": [
    "# Plot reconstructions\n",
    "def plot_results(loader=loader_test, n=2, epoch=0):\n",
    "    x, = next(iter(loader))\n",
    "\n",
    "    X = Variable(x).cuda().transpose(1,3).contiguous()\n",
    "    Y, mu, logvar = vae.forward(X)\n",
    "    loss = loss_function(Y, X, mu, logvar)\n",
    "\n",
    "    y=Y.cpu().data.transpose(1,3).numpy()\n",
    "    for i in range(n):\n",
    "        plt.subplot(1, 2, 1)\n",
    "        plt.title('original')\n",
    "        plt.imshow(x[i].numpy())\n",
    "\n",
    "        plt.subplot(1, 2, 2)\n",
    "        plt.imshow(y[i])\n",
    "        plt.title('reconstructed')\n",
    "\n",
    "        plt.suptitle('epoch {}, index {}, loss {:2.4f}'.format(epoch, i, loss.cpu().data.numpy()))\n",
    "        plt.show()\n",
    "        \n",
    "# plot_results(loader=loader_test, n=2, epoch=epoch)"
   ]
  },
  {
   "cell_type": "code",
   "execution_count": null,
   "metadata": {
    "ExecuteTime": {
     "end_time": "2018-05-09T05:33:07.005566Z",
     "start_time": "2018-05-09T05:32:56.309Z"
    }
   },
   "outputs": [],
   "source": [
    "# Train\n",
    "\n",
    "optimizer = optim.Adam(vae.parameters(), lr=1e-3)\n",
    "import torch.optim.lr_scheduler\n",
    "scheduler = optim.lr_scheduler.ReduceLROnPlateau(optimizer, mode='min', patience=3, verbose=True)"
   ]
  },
  {
   "cell_type": "code",
   "execution_count": null,
   "metadata": {
    "ExecuteTime": {
     "end_time": "2018-05-09T05:33:07.006815Z",
     "start_time": "2018-05-09T05:32:56.312Z"
    }
   },
   "outputs": [],
   "source": [
    "infos=[]"
   ]
  },
  {
   "cell_type": "code",
   "execution_count": null,
   "metadata": {
    "ExecuteTime": {
     "end_time": "2018-05-09T05:33:07.007852Z",
     "start_time": "2018-05-09T05:32:56.320Z"
    },
    "scrolled": true
   },
   "outputs": [],
   "source": [
    "for epoch in range(num_epochs): \n",
    "    info = train(loader_train, vae, optimizer, loss_function, test=False, cuda=True)\n",
    "    info_val = train(loader_test, vae, optimizer, loss_function, test=True, cuda=True)\n",
    "    scheduler.step(np.mean(info_val['loss']))\n",
    "    \n",
    "    print('Epoch {}, loss={:2.4f}, loss_val={:2.4f}'.format(epoch, np.mean(info['loss']), np.mean(info_val['loss'])))\n",
    "    infos.append([info, info_val])\n",
    "    \n",
    "    plot_results(loader=loader_test, n=2, epoch=epoch)\n",
    "    torch.save(vae.state_dict(), f'./models/{NAME}_{epoch}_state_dict.pkl')"
   ]
  },
  {
   "cell_type": "code",
   "execution_count": null,
   "metadata": {},
   "outputs": [],
   "source": []
  },
  {
   "cell_type": "code",
   "execution_count": null,
   "metadata": {
    "ExecuteTime": {
     "end_time": "2018-05-09T05:33:07.008948Z",
     "start_time": "2018-05-09T05:32:56.323Z"
    }
   },
   "outputs": [],
   "source": [
    "# try to get below 47-50 else go load last, and use lower learnign rate\n",
    "# also think if I need more latent channels?\n",
    "# try leaving overnight\n",
    "# maybe I need a lower batch? lower than 6"
   ]
  },
  {
   "cell_type": "code",
   "execution_count": null,
   "metadata": {
    "ExecuteTime": {
     "end_time": "2018-05-09T05:33:07.010174Z",
     "start_time": "2018-05-09T05:32:56.326Z"
    }
   },
   "outputs": [],
   "source": [
    "73560.9062\n",
    "43363.3125"
   ]
  },
  {
   "cell_type": "code",
   "execution_count": null,
   "metadata": {
    "ExecuteTime": {
     "end_time": "2018-05-09T05:33:07.011436Z",
     "start_time": "2018-05-09T05:32:56.328Z"
    }
   },
   "outputs": [],
   "source": [
    "torch.save(vae.state_dict(), f'./models/{NAME}_state_dict.pkl')\n",
    "torch.save(vae, f'./models/{NAME}.pkl')"
   ]
  },
  {
   "cell_type": "code",
   "execution_count": null,
   "metadata": {
    "ExecuteTime": {
     "end_time": "2018-05-09T05:33:07.012776Z",
     "start_time": "2018-05-09T05:32:56.330Z"
    }
   },
   "outputs": [],
   "source": [
    "# plot history\n",
    "import pandas as pd\n",
    "histories = []\n",
    "for info, info_val in infos:\n",
    "    history = {k+'_val':np.mean(v) for k,v in info_val.items()}\n",
    "    history.update({k:np.mean(v) for k,v in info.items()})\n",
    "    histories.append(history)\n",
    "histories = pd.DataFrame(histories)\n",
    "histories.plot()"
   ]
  },
  {
   "cell_type": "code",
   "execution_count": null,
   "metadata": {
    "ExecuteTime": {
     "end_time": "2018-05-09T05:33:07.014020Z",
     "start_time": "2018-05-09T05:32:56.334Z"
    }
   },
   "outputs": [],
   "source": [
    "# def loss_function(recon_x, x, mu, logvar):\n",
    "#     logvar = logvar.clamp(1e-7)\n",
    "#     n, c, h, w = recon_x.size()\n",
    "#     recon_x = recon_x.view(n, -1)\n",
    "#     x = x.view(n, -1)\n",
    "#     # L2 distance\n",
    "# #     l2_dist = torch.sqrt(torch.sum(torch.pow(recon_x - x, 2), 1))\n",
    "#     l2_dist = torch.sum(torch.pow(recon_x - x, 2), 1)\n",
    "#     # see Appendix B from VAE paper:\n",
    "#     # Kingma and Welling. Auto-Encoding Variational Bayes. ICLR, 2014\n",
    "#     # https://arxiv.org/abs/1312.6114\n",
    "#     # 0.5 * sum(1 + log(sigma^2) - mu^2 - sigma^2)\n",
    "#     KLD = -0.5 * torch.sum(1 + logvar - mu.pow(2) - logvar.exp(), 1)\n",
    "# #     print(l2_dist, KLD)\n",
    "#     return torch.sum(l2_dist + KLD)\n",
    "\n",
    "# x, = next(iter(loader_train))\n",
    "\n",
    "# X = Variable(x).cuda().transpose(1,3).contiguous()\n",
    "# Y, mu, logvar = vae.forward(X)\n",
    "# # loss = loss_function(Y, X, mu, logvar)\n",
    "# loss_function(Y, X, mu, logvar)"
   ]
  },
  {
   "cell_type": "code",
   "execution_count": null,
   "metadata": {
    "ExecuteTime": {
     "end_time": "2018-05-09T05:33:07.015254Z",
     "start_time": "2018-05-09T05:32:56.336Z"
    }
   },
   "outputs": [],
   "source": [
    "plot_results(loader=loader_test, n=4, epoch=epoch)"
   ]
  },
  {
   "cell_type": "code",
   "execution_count": null,
   "metadata": {
    "ExecuteTime": {
     "end_time": "2018-05-09T05:33:07.016667Z",
     "start_time": "2018-05-09T05:32:56.338Z"
    }
   },
   "outputs": [],
   "source": [
    "plot_results(loader=loader_train, n=2, epoch=epoch)"
   ]
  },
  {
   "cell_type": "markdown",
   "metadata": {},
   "source": [
    "# End"
   ]
  },
  {
   "cell_type": "code",
   "execution_count": null,
   "metadata": {
    "ExecuteTime": {
     "end_time": "2018-05-09T05:33:07.018084Z",
     "start_time": "2018-05-09T05:32:56.341Z"
    }
   },
   "outputs": [],
   "source": [
    "1"
   ]
  },
  {
   "cell_type": "code",
   "execution_count": null,
   "metadata": {},
   "outputs": [],
   "source": []
  }
 ],
 "metadata": {
  "kernelspec": {
   "display_name": "Environment (conda_pytorch_p36)",
   "language": "python",
   "name": "conda_pytorch_p36"
  },
  "language_info": {
   "codemirror_mode": {
    "name": "ipython",
    "version": 3
   },
   "file_extension": ".py",
   "mimetype": "text/x-python",
   "name": "python",
   "nbconvert_exporter": "python",
   "pygments_lexer": "ipython3",
   "version": "3.6.5"
  },
  "toc": {
   "base_numbering": 1,
   "nav_menu": {
    "height": "48px",
    "width": "252px"
   },
   "number_sections": true,
   "sideBar": true,
   "skip_h1_title": false,
   "title_cell": "Table of Contents",
   "title_sidebar": "Contents",
   "toc_cell": false,
   "toc_position": {},
   "toc_section_display": "block",
   "toc_window_display": true
  }
 },
 "nbformat": 4,
 "nbformat_minor": 2
}
