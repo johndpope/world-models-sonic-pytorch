{
 "cells": [
  {
   "cell_type": "markdown",
   "metadata": {},
   "source": [
    "## Notes\n",
    "\n",
    "If it stalls around loss 60, you might need a smaller batch size, e.g. 8\n",
    "\n",
    "\n",
    "\n",
    "## Log\n",
    "\n",
    "### 20180506\n",
    "Why is this not working? It stalls around loss=60 and just reconstructs the same mean image each time.\n",
    "\n",
    "- batchnorm and pad? no lots of other models use them\n",
    "    - https://github.com/josephsmann/UnsupervisedDeepLearning-Pytorch/blob/jm/udlp/autoencoder/convVAE.py#L19\n",
    "    - https://github.com/taey16/pix2pixBEGAN.pytorch/blob/master/models/BEGAN.py\n",
    "- relu, same\n",
    "- lr - similar to other models\n",
    "- inner params - similar but larger than other working models\n",
    "- batch? Maybe it seems better with a lower batch (e.g. 8 instead of 32)\n",
    "- loss, this seems right\n",
    "    - except some people use a loss balance https://github.com/AppliedDataSciencePartners/WorldModels/blob/master/vae/arch.py#L97\n",
    "        where they multuply reconstruction loss by 10 but i've got ~100 vs ~1e-4 so I don't really need to!\n",
    "        \n",
    "- ok a lower batch size seemed to get it over that initial hump"
   ]
  },
  {
   "cell_type": "code",
   "execution_count": 1,
   "metadata": {
    "ExecuteTime": {
     "end_time": "2018-05-11T02:23:11.454896Z",
     "start_time": "2018-05-11T02:23:11.451526Z"
    }
   },
   "outputs": [],
   "source": [
    "import os\n",
    "os.sys.path.append('.')"
   ]
  },
  {
   "cell_type": "code",
   "execution_count": 2,
   "metadata": {
    "ExecuteTime": {
     "end_time": "2018-05-11T02:23:13.970603Z",
     "start_time": "2018-05-11T02:23:11.457628Z"
    }
   },
   "outputs": [
    {
     "name": "stderr",
     "output_type": "stream",
     "text": [
      "/home/ubuntu/anaconda3/envs/pytorch_p36/lib/python3.6/site-packages/matplotlib/__init__.py:1067: UserWarning: Duplicate key in file \"/home/ubuntu/.config/matplotlib/matplotlibrc\", line #2\n",
      "  (fname, cnt))\n",
      "/home/ubuntu/anaconda3/envs/pytorch_p36/lib/python3.6/site-packages/matplotlib/__init__.py:1067: UserWarning: Duplicate key in file \"/home/ubuntu/.config/matplotlib/matplotlibrc\", line #3\n",
      "  (fname, cnt))\n"
     ]
    }
   ],
   "source": [
    "%matplotlib inline\n",
    "%reload_ext autoreload\n",
    "%autoreload 2"
   ]
  },
  {
   "cell_type": "code",
   "execution_count": null,
   "metadata": {
    "ExecuteTime": {
     "end_time": "2018-05-06T00:21:02.585280Z",
     "start_time": "2018-05-06T00:21:02.474215Z"
    }
   },
   "outputs": [],
   "source": []
  },
  {
   "cell_type": "code",
   "execution_count": 3,
   "metadata": {
    "ExecuteTime": {
     "end_time": "2018-05-11T02:23:15.482097Z",
     "start_time": "2018-05-11T02:23:13.973315Z"
    }
   },
   "outputs": [
    {
     "name": "stderr",
     "output_type": "stream",
     "text": [
      "/home/ubuntu/anaconda3/envs/pytorch_p36/lib/python3.6/site-packages/h5py/__init__.py:36: FutureWarning: Conversion of the second argument of issubdtype from `float` to `np.floating` is deprecated. In future, it will be treated as `np.float64 == np.dtype(float).type`.\n",
      "  from ._conv import register_converters as _register_converters\n"
     ]
    }
   ],
   "source": [
    "import torch\n",
    "from torch.nn import functional as F\n",
    "from torch.autograd import Variable\n",
    "from torch import nn, optim\n",
    "import torch.utils.data\n",
    "\n",
    "# load as dask array\n",
    "import dask.array as da\n",
    "import dask\n",
    "import h5py\n",
    "\n",
    "import os\n",
    "import glob\n",
    "import numpy as np\n",
    "from matplotlib import pyplot as plt\n",
    "from tqdm import tqdm_notebook as tqdm"
   ]
  },
  {
   "cell_type": "code",
   "execution_count": 4,
   "metadata": {
    "ExecuteTime": {
     "end_time": "2018-05-11T02:23:16.367849Z",
     "start_time": "2018-05-11T02:23:15.484571Z"
    }
   },
   "outputs": [],
   "source": [
    "from vae import VAE3, loss_function\n",
    "from helpers.summarize import TorchSummarizeDf\n",
    "from helpers.dataset import NumpyDataset, TQDMDaskProgressBar, load_npzs"
   ]
  },
  {
   "cell_type": "code",
   "execution_count": 5,
   "metadata": {
    "ExecuteTime": {
     "end_time": "2018-05-11T02:23:16.844258Z",
     "start_time": "2018-05-11T02:23:16.370561Z"
    }
   },
   "outputs": [],
   "source": [
    "env_name='sonic256'\n",
    "\n",
    "cuda= torch.cuda.is_available()\n",
    "\n",
    "num_epochs=200\n",
    "image_size=256\n",
    "chunksize=1000\n",
    "batch_size=16\n",
    "\n",
    "data_cache_file = '/tmp/sonic_vae256.hdf5'"
   ]
  },
  {
   "cell_type": "markdown",
   "metadata": {},
   "source": [
    "# Load data"
   ]
  },
  {
   "cell_type": "code",
   "execution_count": 6,
   "metadata": {
    "ExecuteTime": {
     "end_time": "2018-05-11T02:23:21.857426Z",
     "start_time": "2018-05-11T02:23:16.846535Z"
    }
   },
   "outputs": [
    {
     "name": "stdout",
     "output_type": "stream",
     "text": [
      "The history saving thread hit an unexpected error (OperationalError('database is locked',)).History will not be written to the database.\n"
     ]
    }
   ],
   "source": [
    "# load as dask array\n",
    "\n",
    "filenames = sorted(glob.glob('./data/vae/obs_data_' + env_name + '_*.npz'))\n",
    "\n",
    "if not os.path.isfile(data_cache_file):\n",
    "    data_train = load_npzs(filenames)\n",
    "    print(data_train)\n",
    "    with TQDMDaskProgressBar():\n",
    "        da.to_hdf5(data_cache_file, '/x', data_train)\n",
    "       \n",
    "    # clear mem\n",
    "    del data_train \n",
    "    import gc\n",
    "    gc.collect()"
   ]
  },
  {
   "cell_type": "code",
   "execution_count": 7,
   "metadata": {
    "ExecuteTime": {
     "end_time": "2018-05-11T02:23:21.876491Z",
     "start_time": "2018-05-11T02:23:21.860383Z"
    }
   },
   "outputs": [],
   "source": [
    "# !rm /tmp/sonic_vae256.hdf5"
   ]
  },
  {
   "cell_type": "code",
   "execution_count": null,
   "metadata": {
    "ExecuteTime": {
     "end_time": "2018-05-11T00:09:19.872282Z",
     "start_time": "2018-05-11T00:09:19.667793Z"
    }
   },
   "outputs": [],
   "source": []
  },
  {
   "cell_type": "code",
   "execution_count": 8,
   "metadata": {
    "ExecuteTime": {
     "end_time": "2018-05-11T02:23:21.905676Z",
     "start_time": "2018-05-11T02:23:21.878870Z"
    }
   },
   "outputs": [
    {
     "data": {
      "text/plain": [
       "(dask.array<getitem, shape=(62400, 256, 256, 3), dtype=float32, chunksize=(1000, 256, 256, 3)>,\n",
       " dask.array<getitem, shape=(15600, 256, 256, 3), dtype=float32, chunksize=(600, 256, 256, 3)>)"
      ]
     },
     "execution_count": 8,
     "metadata": {},
     "output_type": "execute_result"
    }
   ],
   "source": [
    "# load\n",
    "data = da.from_array(h5py.File(data_cache_file, mode='r')['x'], chunks=(chunksize, image_size, image_size, 3))\n",
    "data\n",
    "data_split = int(len(data)*0.8)\n",
    "data_train = data[:data_split]\n",
    "data_test = data[data_split:]\n",
    "data_train, data_test"
   ]
  },
  {
   "cell_type": "code",
   "execution_count": 9,
   "metadata": {
    "ExecuteTime": {
     "end_time": "2018-05-11T02:23:21.934776Z",
     "start_time": "2018-05-11T02:23:21.908359Z"
    }
   },
   "outputs": [
    {
     "data": {
      "text/plain": [
       "(<helpers.dataset.NumpyDataset at 0x7fa241d384e0>,\n",
       " <torch.utils.data.dataloader.DataLoader at 0x7fa241d384a8>)"
      ]
     },
     "execution_count": 9,
     "metadata": {},
     "output_type": "execute_result"
    }
   ],
   "source": [
    "   \n",
    "dataset_train = NumpyDataset(data_train)\n",
    "loader_train = torch.utils.data.DataLoader(dataset_train, pin_memory=True, shuffle=False, batch_size=batch_size)\n",
    "\n",
    "\n",
    "dataset_test = NumpyDataset(data_test)\n",
    "loader_test = torch.utils.data.DataLoader(dataset_test, pin_memory=True, shuffle=False, batch_size=batch_size)\n",
    "\n",
    "dataset_train, loader_train"
   ]
  },
  {
   "cell_type": "code",
   "execution_count": null,
   "metadata": {
    "ExecuteTime": {
     "end_time": "2018-05-11T02:20:01.497359Z",
     "start_time": "2018-05-11T02:20:01.120804Z"
    }
   },
   "outputs": [],
   "source": []
  },
  {
   "cell_type": "markdown",
   "metadata": {
    "ExecuteTime": {
     "end_time": "2018-05-06T01:28:34.496506Z",
     "start_time": "2018-05-06T01:28:27.517Z"
    }
   },
   "source": [
    "# View model"
   ]
  },
  {
   "cell_type": "code",
   "execution_count": 10,
   "metadata": {
    "ExecuteTime": {
     "end_time": "2018-05-11T02:23:28.895153Z",
     "start_time": "2018-05-11T02:23:21.937245Z"
    }
   },
   "outputs": [],
   "source": [
    "\n",
    "vae = VAE3(image_size=image_size, z_dim=32, conv_dim=64, code_dim=16, k_dim=256)\n",
    "if cuda:\n",
    "    vae.cuda()"
   ]
  },
  {
   "cell_type": "code",
   "execution_count": 11,
   "metadata": {
    "ExecuteTime": {
     "end_time": "2018-05-11T02:23:28.910903Z",
     "start_time": "2018-05-11T02:23:28.897385Z"
    }
   },
   "outputs": [],
   "source": [
    "# # Resume?\n",
    "NAME='VAE_2xv6big'\n",
    "save_file = f'./models/{NAME}_state_dict.pkl'\n",
    "if os.path.isfile(save_file):\n",
    "    state_dict = torch.load(f'./models/{NAME}_state_dict.pkl')\n",
    "    vae.load_state_dict(state_dict)\n",
    "    print(f'loaded {save_file}')"
   ]
  },
  {
   "cell_type": "code",
   "execution_count": null,
   "metadata": {
    "ExecuteTime": {
     "end_time": "2018-05-11T00:26:31.790320Z",
     "start_time": "2018-05-11T00:26:27.982889Z"
    }
   },
   "outputs": [],
   "source": []
  },
  {
   "cell_type": "code",
   "execution_count": 12,
   "metadata": {
    "ExecuteTime": {
     "end_time": "2018-05-11T02:23:29.095820Z",
     "start_time": "2018-05-11T02:23:28.912717Z"
    },
    "scrolled": true
   },
   "outputs": [
    {
     "name": "stdout",
     "output_type": "stream",
     "text": [
      "torch.Size([1, 3, 256, 256])\n",
      "tensor(1.00000e+05 *\n",
      "       2.4676, device='cuda:0')\n",
      "Total parameters 11572771\n",
      "Total trainable parameters 11572771\n"
     ]
    },
    {
     "data": {
      "text/html": [
       "<div>\n",
       "<style scoped>\n",
       "    .dataframe tbody tr th:only-of-type {\n",
       "        vertical-align: middle;\n",
       "    }\n",
       "\n",
       "    .dataframe tbody tr th {\n",
       "        vertical-align: top;\n",
       "    }\n",
       "\n",
       "    .dataframe thead th {\n",
       "        text-align: right;\n",
       "    }\n",
       "</style>\n",
       "<table border=\"1\" class=\"dataframe\">\n",
       "  <thead>\n",
       "    <tr style=\"text-align: right;\">\n",
       "      <th></th>\n",
       "      <th>name</th>\n",
       "      <th>class_name</th>\n",
       "      <th>input_shape</th>\n",
       "      <th>output_shape</th>\n",
       "      <th>nb_params</th>\n",
       "      <th>level</th>\n",
       "    </tr>\n",
       "  </thead>\n",
       "  <tbody>\n",
       "    <tr>\n",
       "      <th>1</th>\n",
       "      <td>encoder.0.conv</td>\n",
       "      <td>Conv2d</td>\n",
       "      <td>[[(-1, 3, 256, 256)]]</td>\n",
       "      <td>[[(-1, 64, 256, 256)]]</td>\n",
       "      <td>1792</td>\n",
       "      <td>2</td>\n",
       "    </tr>\n",
       "    <tr>\n",
       "      <th>2</th>\n",
       "      <td>encoder.0.bn</td>\n",
       "      <td>BatchNorm2d</td>\n",
       "      <td>[[(-1, 64, 256, 256)]]</td>\n",
       "      <td>[[(-1, 64, 256, 256)]]</td>\n",
       "      <td>128</td>\n",
       "      <td>2</td>\n",
       "    </tr>\n",
       "    <tr>\n",
       "      <th>3</th>\n",
       "      <td>encoder.0.drp</td>\n",
       "      <td>Dropout2d</td>\n",
       "      <td>[[(-1, 64, 256, 256)]]</td>\n",
       "      <td>[[(-1, 64, 256, 256)]]</td>\n",
       "      <td>0</td>\n",
       "      <td>2</td>\n",
       "    </tr>\n",
       "    <tr>\n",
       "      <th>4</th>\n",
       "      <td>encoder.0.act</td>\n",
       "      <td>LeakyReLU</td>\n",
       "      <td>[[(-1, 64, 256, 256)]]</td>\n",
       "      <td>[[(-1, 64, 256, 256)]]</td>\n",
       "      <td>0</td>\n",
       "      <td>2</td>\n",
       "    </tr>\n",
       "    <tr>\n",
       "      <th>5</th>\n",
       "      <td>encoder.0</td>\n",
       "      <td>ConvBlock3</td>\n",
       "      <td>[[(-1, 3, 256, 256)]]</td>\n",
       "      <td>[[(-1, 64, 256, 256)]]</td>\n",
       "      <td>1920</td>\n",
       "      <td>1</td>\n",
       "    </tr>\n",
       "    <tr>\n",
       "      <th>6</th>\n",
       "      <td>encoder.1.conv</td>\n",
       "      <td>Conv2d</td>\n",
       "      <td>[[(-1, 64, 256, 256)]]</td>\n",
       "      <td>[[(-1, 128, 128, 128)]]</td>\n",
       "      <td>131200</td>\n",
       "      <td>2</td>\n",
       "    </tr>\n",
       "    <tr>\n",
       "      <th>7</th>\n",
       "      <td>encoder.1.bn</td>\n",
       "      <td>BatchNorm2d</td>\n",
       "      <td>[[(-1, 128, 128, 128)]]</td>\n",
       "      <td>[[(-1, 128, 128, 128)]]</td>\n",
       "      <td>256</td>\n",
       "      <td>2</td>\n",
       "    </tr>\n",
       "    <tr>\n",
       "      <th>8</th>\n",
       "      <td>encoder.1.drp</td>\n",
       "      <td>Dropout2d</td>\n",
       "      <td>[[(-1, 128, 128, 128)]]</td>\n",
       "      <td>[[(-1, 128, 128, 128)]]</td>\n",
       "      <td>0</td>\n",
       "      <td>2</td>\n",
       "    </tr>\n",
       "    <tr>\n",
       "      <th>9</th>\n",
       "      <td>encoder.1.act</td>\n",
       "      <td>LeakyReLU</td>\n",
       "      <td>[[(-1, 128, 128, 128)]]</td>\n",
       "      <td>[[(-1, 128, 128, 128)]]</td>\n",
       "      <td>0</td>\n",
       "      <td>2</td>\n",
       "    </tr>\n",
       "    <tr>\n",
       "      <th>10</th>\n",
       "      <td>encoder.1</td>\n",
       "      <td>ConvBlock3</td>\n",
       "      <td>[[(-1, 64, 256, 256)]]</td>\n",
       "      <td>[[(-1, 128, 128, 128)]]</td>\n",
       "      <td>131456</td>\n",
       "      <td>1</td>\n",
       "    </tr>\n",
       "    <tr>\n",
       "      <th>11</th>\n",
       "      <td>encoder.2.conv</td>\n",
       "      <td>Conv2d</td>\n",
       "      <td>[[(-1, 128, 128, 128)]]</td>\n",
       "      <td>[[(-1, 192, 64, 64)]]</td>\n",
       "      <td>393408</td>\n",
       "      <td>2</td>\n",
       "    </tr>\n",
       "    <tr>\n",
       "      <th>12</th>\n",
       "      <td>encoder.2.bn</td>\n",
       "      <td>BatchNorm2d</td>\n",
       "      <td>[[(-1, 192, 64, 64)]]</td>\n",
       "      <td>[[(-1, 192, 64, 64)]]</td>\n",
       "      <td>384</td>\n",
       "      <td>2</td>\n",
       "    </tr>\n",
       "    <tr>\n",
       "      <th>13</th>\n",
       "      <td>encoder.2.drp</td>\n",
       "      <td>Dropout2d</td>\n",
       "      <td>[[(-1, 192, 64, 64)]]</td>\n",
       "      <td>[[(-1, 192, 64, 64)]]</td>\n",
       "      <td>0</td>\n",
       "      <td>2</td>\n",
       "    </tr>\n",
       "    <tr>\n",
       "      <th>14</th>\n",
       "      <td>encoder.2.act</td>\n",
       "      <td>LeakyReLU</td>\n",
       "      <td>[[(-1, 192, 64, 64)]]</td>\n",
       "      <td>[[(-1, 192, 64, 64)]]</td>\n",
       "      <td>0</td>\n",
       "      <td>2</td>\n",
       "    </tr>\n",
       "    <tr>\n",
       "      <th>15</th>\n",
       "      <td>encoder.2</td>\n",
       "      <td>ConvBlock3</td>\n",
       "      <td>[[(-1, 128, 128, 128)]]</td>\n",
       "      <td>[[(-1, 192, 64, 64)]]</td>\n",
       "      <td>393792</td>\n",
       "      <td>1</td>\n",
       "    </tr>\n",
       "    <tr>\n",
       "      <th>16</th>\n",
       "      <td>encoder.3.conv</td>\n",
       "      <td>Conv2d</td>\n",
       "      <td>[[(-1, 192, 64, 64)]]</td>\n",
       "      <td>[[(-1, 256, 32, 32)]]</td>\n",
       "      <td>786688</td>\n",
       "      <td>2</td>\n",
       "    </tr>\n",
       "    <tr>\n",
       "      <th>17</th>\n",
       "      <td>encoder.3.bn</td>\n",
       "      <td>BatchNorm2d</td>\n",
       "      <td>[[(-1, 256, 32, 32)]]</td>\n",
       "      <td>[[(-1, 256, 32, 32)]]</td>\n",
       "      <td>512</td>\n",
       "      <td>2</td>\n",
       "    </tr>\n",
       "    <tr>\n",
       "      <th>18</th>\n",
       "      <td>encoder.3.drp</td>\n",
       "      <td>Dropout2d</td>\n",
       "      <td>[[(-1, 256, 32, 32)]]</td>\n",
       "      <td>[[(-1, 256, 32, 32)]]</td>\n",
       "      <td>0</td>\n",
       "      <td>2</td>\n",
       "    </tr>\n",
       "    <tr>\n",
       "      <th>19</th>\n",
       "      <td>encoder.3.act</td>\n",
       "      <td>LeakyReLU</td>\n",
       "      <td>[[(-1, 256, 32, 32)]]</td>\n",
       "      <td>[[(-1, 256, 32, 32)]]</td>\n",
       "      <td>0</td>\n",
       "      <td>2</td>\n",
       "    </tr>\n",
       "    <tr>\n",
       "      <th>20</th>\n",
       "      <td>encoder.3</td>\n",
       "      <td>ConvBlock3</td>\n",
       "      <td>[[(-1, 192, 64, 64)]]</td>\n",
       "      <td>[[(-1, 256, 32, 32)]]</td>\n",
       "      <td>787200</td>\n",
       "      <td>1</td>\n",
       "    </tr>\n",
       "    <tr>\n",
       "      <th>21</th>\n",
       "      <td>encoder.4.conv</td>\n",
       "      <td>Conv2d</td>\n",
       "      <td>[[(-1, 256, 32, 32)]]</td>\n",
       "      <td>[[(-1, 320, 16, 16)]]</td>\n",
       "      <td>1311040</td>\n",
       "      <td>2</td>\n",
       "    </tr>\n",
       "    <tr>\n",
       "      <th>22</th>\n",
       "      <td>encoder.4.bn</td>\n",
       "      <td>BatchNorm2d</td>\n",
       "      <td>[[(-1, 320, 16, 16)]]</td>\n",
       "      <td>[[(-1, 320, 16, 16)]]</td>\n",
       "      <td>640</td>\n",
       "      <td>2</td>\n",
       "    </tr>\n",
       "    <tr>\n",
       "      <th>23</th>\n",
       "      <td>encoder.4.drp</td>\n",
       "      <td>Dropout2d</td>\n",
       "      <td>[[(-1, 320, 16, 16)]]</td>\n",
       "      <td>[[(-1, 320, 16, 16)]]</td>\n",
       "      <td>0</td>\n",
       "      <td>2</td>\n",
       "    </tr>\n",
       "    <tr>\n",
       "      <th>24</th>\n",
       "      <td>encoder.4.act</td>\n",
       "      <td>LeakyReLU</td>\n",
       "      <td>[[(-1, 320, 16, 16)]]</td>\n",
       "      <td>[[(-1, 320, 16, 16)]]</td>\n",
       "      <td>0</td>\n",
       "      <td>2</td>\n",
       "    </tr>\n",
       "    <tr>\n",
       "      <th>25</th>\n",
       "      <td>encoder.4</td>\n",
       "      <td>ConvBlock3</td>\n",
       "      <td>[[(-1, 256, 32, 32)]]</td>\n",
       "      <td>[[(-1, 320, 16, 16)]]</td>\n",
       "      <td>1311680</td>\n",
       "      <td>1</td>\n",
       "    </tr>\n",
       "    <tr>\n",
       "      <th>26</th>\n",
       "      <td>encoder.5</td>\n",
       "      <td>Conv2d</td>\n",
       "      <td>[[(-1, 320, 16, 16)]]</td>\n",
       "      <td>[[(-1, 32, 16, 16)]]</td>\n",
       "      <td>10272</td>\n",
       "      <td>1</td>\n",
       "    </tr>\n",
       "    <tr>\n",
       "      <th>27</th>\n",
       "      <td>mu</td>\n",
       "      <td>Linear</td>\n",
       "      <td>[[(-1, 8192)]]</td>\n",
       "      <td>[[(-1, 256)]]</td>\n",
       "      <td>2097408</td>\n",
       "      <td>0</td>\n",
       "    </tr>\n",
       "    <tr>\n",
       "      <th>28</th>\n",
       "      <td>logvar</td>\n",
       "      <td>Linear</td>\n",
       "      <td>[[(-1, 8192)]]</td>\n",
       "      <td>[[(-1, 256)]]</td>\n",
       "      <td>2097408</td>\n",
       "      <td>0</td>\n",
       "    </tr>\n",
       "    <tr>\n",
       "      <th>29</th>\n",
       "      <td>z</td>\n",
       "      <td>Linear</td>\n",
       "      <td>[[(-1, 256)]]</td>\n",
       "      <td>[[(-1, 8192)]]</td>\n",
       "      <td>2105344</td>\n",
       "      <td>0</td>\n",
       "    </tr>\n",
       "    <tr>\n",
       "      <th>30</th>\n",
       "      <td>decoder.0.deconv</td>\n",
       "      <td>ConvTranspose2d</td>\n",
       "      <td>[[(-1, 32, 16, 16)]]</td>\n",
       "      <td>[[(-1, 320, 16, 16)]]</td>\n",
       "      <td>10560</td>\n",
       "      <td>2</td>\n",
       "    </tr>\n",
       "    <tr>\n",
       "      <th>31</th>\n",
       "      <td>decoder.0.bn</td>\n",
       "      <td>BatchNorm2d</td>\n",
       "      <td>[[(-1, 320, 16, 16)]]</td>\n",
       "      <td>[[(-1, 320, 16, 16)]]</td>\n",
       "      <td>640</td>\n",
       "      <td>2</td>\n",
       "    </tr>\n",
       "    <tr>\n",
       "      <th>32</th>\n",
       "      <td>decoder.0.drp</td>\n",
       "      <td>Dropout2d</td>\n",
       "      <td>[[(-1, 320, 16, 16)]]</td>\n",
       "      <td>[[(-1, 320, 16, 16)]]</td>\n",
       "      <td>0</td>\n",
       "      <td>2</td>\n",
       "    </tr>\n",
       "    <tr>\n",
       "      <th>33</th>\n",
       "      <td>decoder.0.act</td>\n",
       "      <td>LeakyReLU</td>\n",
       "      <td>[[(-1, 320, 16, 16)]]</td>\n",
       "      <td>[[(-1, 320, 16, 16)]]</td>\n",
       "      <td>0</td>\n",
       "      <td>2</td>\n",
       "    </tr>\n",
       "    <tr>\n",
       "      <th>34</th>\n",
       "      <td>decoder.0</td>\n",
       "      <td>DeconvBlock3</td>\n",
       "      <td>[[(-1, 32, 16, 16)]]</td>\n",
       "      <td>[[(-1, 320, 16, 16)]]</td>\n",
       "      <td>11200</td>\n",
       "      <td>1</td>\n",
       "    </tr>\n",
       "    <tr>\n",
       "      <th>35</th>\n",
       "      <td>decoder.1.deconv</td>\n",
       "      <td>ConvTranspose2d</td>\n",
       "      <td>[[(-1, 320, 16, 16)]]</td>\n",
       "      <td>[[(-1, 256, 32, 32)]]</td>\n",
       "      <td>1310976</td>\n",
       "      <td>2</td>\n",
       "    </tr>\n",
       "    <tr>\n",
       "      <th>36</th>\n",
       "      <td>decoder.1.bn</td>\n",
       "      <td>BatchNorm2d</td>\n",
       "      <td>[[(-1, 256, 32, 32)]]</td>\n",
       "      <td>[[(-1, 256, 32, 32)]]</td>\n",
       "      <td>512</td>\n",
       "      <td>2</td>\n",
       "    </tr>\n",
       "    <tr>\n",
       "      <th>37</th>\n",
       "      <td>decoder.1.drp</td>\n",
       "      <td>Dropout2d</td>\n",
       "      <td>[[(-1, 256, 32, 32)]]</td>\n",
       "      <td>[[(-1, 256, 32, 32)]]</td>\n",
       "      <td>0</td>\n",
       "      <td>2</td>\n",
       "    </tr>\n",
       "    <tr>\n",
       "      <th>38</th>\n",
       "      <td>decoder.1.act</td>\n",
       "      <td>LeakyReLU</td>\n",
       "      <td>[[(-1, 256, 32, 32)]]</td>\n",
       "      <td>[[(-1, 256, 32, 32)]]</td>\n",
       "      <td>0</td>\n",
       "      <td>2</td>\n",
       "    </tr>\n",
       "    <tr>\n",
       "      <th>39</th>\n",
       "      <td>decoder.1</td>\n",
       "      <td>DeconvBlock3</td>\n",
       "      <td>[[(-1, 320, 16, 16)]]</td>\n",
       "      <td>[[(-1, 256, 32, 32)]]</td>\n",
       "      <td>1311488</td>\n",
       "      <td>1</td>\n",
       "    </tr>\n",
       "    <tr>\n",
       "      <th>40</th>\n",
       "      <td>decoder.2.deconv</td>\n",
       "      <td>ConvTranspose2d</td>\n",
       "      <td>[[(-1, 256, 32, 32)]]</td>\n",
       "      <td>[[(-1, 192, 64, 64)]]</td>\n",
       "      <td>786624</td>\n",
       "      <td>2</td>\n",
       "    </tr>\n",
       "    <tr>\n",
       "      <th>41</th>\n",
       "      <td>decoder.2.bn</td>\n",
       "      <td>BatchNorm2d</td>\n",
       "      <td>[[(-1, 192, 64, 64)]]</td>\n",
       "      <td>[[(-1, 192, 64, 64)]]</td>\n",
       "      <td>384</td>\n",
       "      <td>2</td>\n",
       "    </tr>\n",
       "    <tr>\n",
       "      <th>42</th>\n",
       "      <td>decoder.2.drp</td>\n",
       "      <td>Dropout2d</td>\n",
       "      <td>[[(-1, 192, 64, 64)]]</td>\n",
       "      <td>[[(-1, 192, 64, 64)]]</td>\n",
       "      <td>0</td>\n",
       "      <td>2</td>\n",
       "    </tr>\n",
       "    <tr>\n",
       "      <th>43</th>\n",
       "      <td>decoder.2.act</td>\n",
       "      <td>LeakyReLU</td>\n",
       "      <td>[[(-1, 192, 64, 64)]]</td>\n",
       "      <td>[[(-1, 192, 64, 64)]]</td>\n",
       "      <td>0</td>\n",
       "      <td>2</td>\n",
       "    </tr>\n",
       "    <tr>\n",
       "      <th>44</th>\n",
       "      <td>decoder.2</td>\n",
       "      <td>DeconvBlock3</td>\n",
       "      <td>[[(-1, 256, 32, 32)]]</td>\n",
       "      <td>[[(-1, 192, 64, 64)]]</td>\n",
       "      <td>787008</td>\n",
       "      <td>1</td>\n",
       "    </tr>\n",
       "    <tr>\n",
       "      <th>45</th>\n",
       "      <td>decoder.3.deconv</td>\n",
       "      <td>ConvTranspose2d</td>\n",
       "      <td>[[(-1, 192, 64, 64)]]</td>\n",
       "      <td>[[(-1, 128, 128, 128)]]</td>\n",
       "      <td>393344</td>\n",
       "      <td>2</td>\n",
       "    </tr>\n",
       "    <tr>\n",
       "      <th>46</th>\n",
       "      <td>decoder.3.bn</td>\n",
       "      <td>BatchNorm2d</td>\n",
       "      <td>[[(-1, 128, 128, 128)]]</td>\n",
       "      <td>[[(-1, 128, 128, 128)]]</td>\n",
       "      <td>256</td>\n",
       "      <td>2</td>\n",
       "    </tr>\n",
       "    <tr>\n",
       "      <th>47</th>\n",
       "      <td>decoder.3.drp</td>\n",
       "      <td>Dropout2d</td>\n",
       "      <td>[[(-1, 128, 128, 128)]]</td>\n",
       "      <td>[[(-1, 128, 128, 128)]]</td>\n",
       "      <td>0</td>\n",
       "      <td>2</td>\n",
       "    </tr>\n",
       "    <tr>\n",
       "      <th>48</th>\n",
       "      <td>decoder.3.act</td>\n",
       "      <td>LeakyReLU</td>\n",
       "      <td>[[(-1, 128, 128, 128)]]</td>\n",
       "      <td>[[(-1, 128, 128, 128)]]</td>\n",
       "      <td>0</td>\n",
       "      <td>2</td>\n",
       "    </tr>\n",
       "    <tr>\n",
       "      <th>49</th>\n",
       "      <td>decoder.3</td>\n",
       "      <td>DeconvBlock3</td>\n",
       "      <td>[[(-1, 192, 64, 64)]]</td>\n",
       "      <td>[[(-1, 128, 128, 128)]]</td>\n",
       "      <td>393600</td>\n",
       "      <td>1</td>\n",
       "    </tr>\n",
       "    <tr>\n",
       "      <th>50</th>\n",
       "      <td>decoder.4.deconv</td>\n",
       "      <td>ConvTranspose2d</td>\n",
       "      <td>[[(-1, 128, 128, 128)]]</td>\n",
       "      <td>[[(-1, 64, 256, 256)]]</td>\n",
       "      <td>131136</td>\n",
       "      <td>2</td>\n",
       "    </tr>\n",
       "    <tr>\n",
       "      <th>51</th>\n",
       "      <td>decoder.4.bn</td>\n",
       "      <td>BatchNorm2d</td>\n",
       "      <td>[[(-1, 64, 256, 256)]]</td>\n",
       "      <td>[[(-1, 64, 256, 256)]]</td>\n",
       "      <td>128</td>\n",
       "      <td>2</td>\n",
       "    </tr>\n",
       "    <tr>\n",
       "      <th>52</th>\n",
       "      <td>decoder.4.drp</td>\n",
       "      <td>Dropout2d</td>\n",
       "      <td>[[(-1, 64, 256, 256)]]</td>\n",
       "      <td>[[(-1, 64, 256, 256)]]</td>\n",
       "      <td>0</td>\n",
       "      <td>2</td>\n",
       "    </tr>\n",
       "    <tr>\n",
       "      <th>53</th>\n",
       "      <td>decoder.4.act</td>\n",
       "      <td>LeakyReLU</td>\n",
       "      <td>[[(-1, 64, 256, 256)]]</td>\n",
       "      <td>[[(-1, 64, 256, 256)]]</td>\n",
       "      <td>0</td>\n",
       "      <td>2</td>\n",
       "    </tr>\n",
       "    <tr>\n",
       "      <th>54</th>\n",
       "      <td>decoder.4</td>\n",
       "      <td>DeconvBlock3</td>\n",
       "      <td>[[(-1, 128, 128, 128)]]</td>\n",
       "      <td>[[(-1, 64, 256, 256)]]</td>\n",
       "      <td>131264</td>\n",
       "      <td>1</td>\n",
       "    </tr>\n",
       "    <tr>\n",
       "      <th>55</th>\n",
       "      <td>decoder.5</td>\n",
       "      <td>Conv2d</td>\n",
       "      <td>[[(-1, 64, 256, 256)]]</td>\n",
       "      <td>[[(-1, 3, 256, 256)]]</td>\n",
       "      <td>1731</td>\n",
       "      <td>1</td>\n",
       "    </tr>\n",
       "    <tr>\n",
       "      <th>56</th>\n",
       "      <td>sigmoid</td>\n",
       "      <td>Sigmoid</td>\n",
       "      <td>[[(-1, 3, 256, 256)]]</td>\n",
       "      <td>[[(-1, 3, 256, 256)]]</td>\n",
       "      <td>0</td>\n",
       "      <td>0</td>\n",
       "    </tr>\n",
       "  </tbody>\n",
       "</table>\n",
       "</div>"
      ],
      "text/plain": [
       "                name       class_name              input_shape  \\\n",
       "1     encoder.0.conv           Conv2d    [[(-1, 3, 256, 256)]]   \n",
       "2       encoder.0.bn      BatchNorm2d   [[(-1, 64, 256, 256)]]   \n",
       "3      encoder.0.drp        Dropout2d   [[(-1, 64, 256, 256)]]   \n",
       "4      encoder.0.act        LeakyReLU   [[(-1, 64, 256, 256)]]   \n",
       "5          encoder.0       ConvBlock3    [[(-1, 3, 256, 256)]]   \n",
       "6     encoder.1.conv           Conv2d   [[(-1, 64, 256, 256)]]   \n",
       "7       encoder.1.bn      BatchNorm2d  [[(-1, 128, 128, 128)]]   \n",
       "8      encoder.1.drp        Dropout2d  [[(-1, 128, 128, 128)]]   \n",
       "9      encoder.1.act        LeakyReLU  [[(-1, 128, 128, 128)]]   \n",
       "10         encoder.1       ConvBlock3   [[(-1, 64, 256, 256)]]   \n",
       "11    encoder.2.conv           Conv2d  [[(-1, 128, 128, 128)]]   \n",
       "12      encoder.2.bn      BatchNorm2d    [[(-1, 192, 64, 64)]]   \n",
       "13     encoder.2.drp        Dropout2d    [[(-1, 192, 64, 64)]]   \n",
       "14     encoder.2.act        LeakyReLU    [[(-1, 192, 64, 64)]]   \n",
       "15         encoder.2       ConvBlock3  [[(-1, 128, 128, 128)]]   \n",
       "16    encoder.3.conv           Conv2d    [[(-1, 192, 64, 64)]]   \n",
       "17      encoder.3.bn      BatchNorm2d    [[(-1, 256, 32, 32)]]   \n",
       "18     encoder.3.drp        Dropout2d    [[(-1, 256, 32, 32)]]   \n",
       "19     encoder.3.act        LeakyReLU    [[(-1, 256, 32, 32)]]   \n",
       "20         encoder.3       ConvBlock3    [[(-1, 192, 64, 64)]]   \n",
       "21    encoder.4.conv           Conv2d    [[(-1, 256, 32, 32)]]   \n",
       "22      encoder.4.bn      BatchNorm2d    [[(-1, 320, 16, 16)]]   \n",
       "23     encoder.4.drp        Dropout2d    [[(-1, 320, 16, 16)]]   \n",
       "24     encoder.4.act        LeakyReLU    [[(-1, 320, 16, 16)]]   \n",
       "25         encoder.4       ConvBlock3    [[(-1, 256, 32, 32)]]   \n",
       "26         encoder.5           Conv2d    [[(-1, 320, 16, 16)]]   \n",
       "27                mu           Linear           [[(-1, 8192)]]   \n",
       "28            logvar           Linear           [[(-1, 8192)]]   \n",
       "29                 z           Linear            [[(-1, 256)]]   \n",
       "30  decoder.0.deconv  ConvTranspose2d     [[(-1, 32, 16, 16)]]   \n",
       "31      decoder.0.bn      BatchNorm2d    [[(-1, 320, 16, 16)]]   \n",
       "32     decoder.0.drp        Dropout2d    [[(-1, 320, 16, 16)]]   \n",
       "33     decoder.0.act        LeakyReLU    [[(-1, 320, 16, 16)]]   \n",
       "34         decoder.0     DeconvBlock3     [[(-1, 32, 16, 16)]]   \n",
       "35  decoder.1.deconv  ConvTranspose2d    [[(-1, 320, 16, 16)]]   \n",
       "36      decoder.1.bn      BatchNorm2d    [[(-1, 256, 32, 32)]]   \n",
       "37     decoder.1.drp        Dropout2d    [[(-1, 256, 32, 32)]]   \n",
       "38     decoder.1.act        LeakyReLU    [[(-1, 256, 32, 32)]]   \n",
       "39         decoder.1     DeconvBlock3    [[(-1, 320, 16, 16)]]   \n",
       "40  decoder.2.deconv  ConvTranspose2d    [[(-1, 256, 32, 32)]]   \n",
       "41      decoder.2.bn      BatchNorm2d    [[(-1, 192, 64, 64)]]   \n",
       "42     decoder.2.drp        Dropout2d    [[(-1, 192, 64, 64)]]   \n",
       "43     decoder.2.act        LeakyReLU    [[(-1, 192, 64, 64)]]   \n",
       "44         decoder.2     DeconvBlock3    [[(-1, 256, 32, 32)]]   \n",
       "45  decoder.3.deconv  ConvTranspose2d    [[(-1, 192, 64, 64)]]   \n",
       "46      decoder.3.bn      BatchNorm2d  [[(-1, 128, 128, 128)]]   \n",
       "47     decoder.3.drp        Dropout2d  [[(-1, 128, 128, 128)]]   \n",
       "48     decoder.3.act        LeakyReLU  [[(-1, 128, 128, 128)]]   \n",
       "49         decoder.3     DeconvBlock3    [[(-1, 192, 64, 64)]]   \n",
       "50  decoder.4.deconv  ConvTranspose2d  [[(-1, 128, 128, 128)]]   \n",
       "51      decoder.4.bn      BatchNorm2d   [[(-1, 64, 256, 256)]]   \n",
       "52     decoder.4.drp        Dropout2d   [[(-1, 64, 256, 256)]]   \n",
       "53     decoder.4.act        LeakyReLU   [[(-1, 64, 256, 256)]]   \n",
       "54         decoder.4     DeconvBlock3  [[(-1, 128, 128, 128)]]   \n",
       "55         decoder.5           Conv2d   [[(-1, 64, 256, 256)]]   \n",
       "56           sigmoid          Sigmoid    [[(-1, 3, 256, 256)]]   \n",
       "\n",
       "               output_shape  nb_params  level  \n",
       "1    [[(-1, 64, 256, 256)]]       1792      2  \n",
       "2    [[(-1, 64, 256, 256)]]        128      2  \n",
       "3    [[(-1, 64, 256, 256)]]          0      2  \n",
       "4    [[(-1, 64, 256, 256)]]          0      2  \n",
       "5    [[(-1, 64, 256, 256)]]       1920      1  \n",
       "6   [[(-1, 128, 128, 128)]]     131200      2  \n",
       "7   [[(-1, 128, 128, 128)]]        256      2  \n",
       "8   [[(-1, 128, 128, 128)]]          0      2  \n",
       "9   [[(-1, 128, 128, 128)]]          0      2  \n",
       "10  [[(-1, 128, 128, 128)]]     131456      1  \n",
       "11    [[(-1, 192, 64, 64)]]     393408      2  \n",
       "12    [[(-1, 192, 64, 64)]]        384      2  \n",
       "13    [[(-1, 192, 64, 64)]]          0      2  \n",
       "14    [[(-1, 192, 64, 64)]]          0      2  \n",
       "15    [[(-1, 192, 64, 64)]]     393792      1  \n",
       "16    [[(-1, 256, 32, 32)]]     786688      2  \n",
       "17    [[(-1, 256, 32, 32)]]        512      2  \n",
       "18    [[(-1, 256, 32, 32)]]          0      2  \n",
       "19    [[(-1, 256, 32, 32)]]          0      2  \n",
       "20    [[(-1, 256, 32, 32)]]     787200      1  \n",
       "21    [[(-1, 320, 16, 16)]]    1311040      2  \n",
       "22    [[(-1, 320, 16, 16)]]        640      2  \n",
       "23    [[(-1, 320, 16, 16)]]          0      2  \n",
       "24    [[(-1, 320, 16, 16)]]          0      2  \n",
       "25    [[(-1, 320, 16, 16)]]    1311680      1  \n",
       "26     [[(-1, 32, 16, 16)]]      10272      1  \n",
       "27            [[(-1, 256)]]    2097408      0  \n",
       "28            [[(-1, 256)]]    2097408      0  \n",
       "29           [[(-1, 8192)]]    2105344      0  \n",
       "30    [[(-1, 320, 16, 16)]]      10560      2  \n",
       "31    [[(-1, 320, 16, 16)]]        640      2  \n",
       "32    [[(-1, 320, 16, 16)]]          0      2  \n",
       "33    [[(-1, 320, 16, 16)]]          0      2  \n",
       "34    [[(-1, 320, 16, 16)]]      11200      1  \n",
       "35    [[(-1, 256, 32, 32)]]    1310976      2  \n",
       "36    [[(-1, 256, 32, 32)]]        512      2  \n",
       "37    [[(-1, 256, 32, 32)]]          0      2  \n",
       "38    [[(-1, 256, 32, 32)]]          0      2  \n",
       "39    [[(-1, 256, 32, 32)]]    1311488      1  \n",
       "40    [[(-1, 192, 64, 64)]]     786624      2  \n",
       "41    [[(-1, 192, 64, 64)]]        384      2  \n",
       "42    [[(-1, 192, 64, 64)]]          0      2  \n",
       "43    [[(-1, 192, 64, 64)]]          0      2  \n",
       "44    [[(-1, 192, 64, 64)]]     787008      1  \n",
       "45  [[(-1, 128, 128, 128)]]     393344      2  \n",
       "46  [[(-1, 128, 128, 128)]]        256      2  \n",
       "47  [[(-1, 128, 128, 128)]]          0      2  \n",
       "48  [[(-1, 128, 128, 128)]]          0      2  \n",
       "49  [[(-1, 128, 128, 128)]]     393600      1  \n",
       "50   [[(-1, 64, 256, 256)]]     131136      2  \n",
       "51   [[(-1, 64, 256, 256)]]        128      2  \n",
       "52   [[(-1, 64, 256, 256)]]          0      2  \n",
       "53   [[(-1, 64, 256, 256)]]          0      2  \n",
       "54   [[(-1, 64, 256, 256)]]     131264      1  \n",
       "55    [[(-1, 3, 256, 256)]]       1731      1  \n",
       "56    [[(-1, 3, 256, 256)]]          0      0  "
      ]
     },
     "execution_count": 12,
     "metadata": {},
     "output_type": "execute_result"
    }
   ],
   "source": [
    "img = np.random.randn(image_size, image_size, 3)\n",
    "gpu_img = Variable(torch.from_numpy(img[np.newaxis].transpose(0, 3, 1, 2))).float()\n",
    "if cuda:\n",
    "    gpu_img = gpu_img.cuda()\n",
    "with TorchSummarizeDf(vae) as tdf:\n",
    "    x, mu, logvar = vae.forward(gpu_img)\n",
    "    print(x.size())\n",
    "    print(loss_function(x, gpu_img, mu, logvar))\n",
    "    x = x.data.cpu().numpy()[0].transpose(1, 2, 0)\n",
    "    df = tdf.make_df()\n",
    "df"
   ]
  },
  {
   "cell_type": "markdown",
   "metadata": {},
   "source": [
    "## Train"
   ]
  },
  {
   "cell_type": "code",
   "execution_count": 13,
   "metadata": {
    "ExecuteTime": {
     "end_time": "2018-05-11T02:23:29.124051Z",
     "start_time": "2018-05-11T02:23:29.098557Z"
    }
   },
   "outputs": [],
   "source": [
    "import collections\n",
    "\n",
    "def train(loader, net, optimizer, loss_function, test=False, cuda=True):\n",
    "    if test:\n",
    "        net.eval()\n",
    "    else:\n",
    "        net.train()\n",
    "    info = collections.defaultdict(list)\n",
    "    \n",
    "    with tqdm(total=len(loader)*loader.batch_size, mininterval=0.5, desc='test' if test else 'training') as prog:\n",
    "        for i, (batch,) in enumerate(loader):\n",
    "            x = Variable(batch.transpose(1,3))\n",
    "            if cuda:\n",
    "                x=x.cuda()\n",
    "            y, mu, logvar = vae.forward(x)\n",
    "            loss = loss_function(y, x, mu, logvar)\n",
    "            info['loss'].append(loss.cpu().data.numpy())\n",
    "            \n",
    "            if not test:\n",
    "                optimizer.zero_grad()\n",
    "                loss.backward()\n",
    "                optimizer.step()\n",
    "            \n",
    "            prog.update(loader.batch_size)\n",
    "            prog.desc='loss={:2.4f}'.format(np.mean(info['loss']))\n",
    "            \n",
    "#             if i%(200000//batch_size)==0:\n",
    "#                 print('[{}/{}] loss={:2.4f}'.format(i, len(loader), np.mean(info['loss'][-300:])))\n",
    "        print('[{}/{}] loss={:2.4f}'.format(i, len(loader), np.mean(info['loss'])))\n",
    "        prog.close()\n",
    "    return info"
   ]
  },
  {
   "cell_type": "code",
   "execution_count": null,
   "metadata": {
    "ExecuteTime": {
     "end_time": "2018-05-11T02:19:34.864488Z",
     "start_time": "2018-05-11T02:19:34.827707Z"
    }
   },
   "outputs": [],
   "source": []
  },
  {
   "cell_type": "code",
   "execution_count": 14,
   "metadata": {
    "ExecuteTime": {
     "end_time": "2018-05-11T02:23:29.149108Z",
     "start_time": "2018-05-11T02:23:29.126553Z"
    }
   },
   "outputs": [],
   "source": [
    "# Plot reconstructions\n",
    "def plot_results(loader=loader_test, n=2, epoch=0):\n",
    "    x, = next(iter(loader))\n",
    "\n",
    "    X = Variable(x).transpose(1,3).contiguous()\n",
    "    if cuda:\n",
    "        X = X.cuda()\n",
    "    Y, mu, logvar = vae.forward(X)\n",
    "    loss = loss_function(Y, X, mu, logvar).mean()\n",
    "\n",
    "    y=Y.cpu().data.transpose(1,3).numpy()\n",
    "    for i in range(n):\n",
    "        plt.subplot(1, 2, 1)\n",
    "        plt.title('original')\n",
    "        plt.imshow(x[i].numpy())\n",
    "\n",
    "        plt.subplot(1, 2, 2)\n",
    "        plt.imshow(y[i])\n",
    "        plt.title('reconstructed')\n",
    "\n",
    "        plt.suptitle('epoch {}, index {}, loss {:2.4f}'.format(epoch, i, loss.cpu().data.numpy()))\n",
    "        plt.show()\n",
    "        \n",
    "# plot_results(loader=loader_test, n=2, epoch=epoch)"
   ]
  },
  {
   "cell_type": "code",
   "execution_count": 16,
   "metadata": {
    "ExecuteTime": {
     "end_time": "2018-05-11T02:24:17.932345Z",
     "start_time": "2018-05-11T02:24:17.910765Z"
    }
   },
   "outputs": [],
   "source": [
    "# Train\n",
    "\n",
    "optimizer = optim.Adam(vae.parameters(), lr=1e-3)\n",
    "import torch.optim.lr_scheduler\n",
    "scheduler = optim.lr_scheduler.ReduceLROnPlateau(optimizer, mode='min', patience=3, verbose=True)"
   ]
  },
  {
   "cell_type": "code",
   "execution_count": 17,
   "metadata": {
    "ExecuteTime": {
     "end_time": "2018-05-11T02:24:18.197348Z",
     "start_time": "2018-05-11T02:24:18.182286Z"
    }
   },
   "outputs": [],
   "source": [
    "infos=[]"
   ]
  },
  {
   "cell_type": "code",
   "execution_count": null,
   "metadata": {
    "ExecuteTime": {
     "start_time": "2018-05-11T02:24:13.435Z"
    },
    "scrolled": true
   },
   "outputs": [
    {
     "data": {
      "application/vnd.jupyter.widget-view+json": {
       "model_id": "71fa548026a24095b22e875f2b18b43d",
       "version_major": 2,
       "version_minor": 0
      },
      "text/plain": [
       "HBox(children=(IntProgress(value=0, description='training', max=62400), HTML(value='')))"
      ]
     },
     "metadata": {},
     "output_type": "display_data"
    },
    {
     "name": "stderr",
     "output_type": "stream",
     "text": [
      "/home/ubuntu/anaconda3/envs/pytorch_p36/lib/python3.6/site-packages/tqdm/_monitor.py:89: TqdmSynchronisationWarning: Set changed size during iteration (see https://github.com/tqdm/tqdm/issues/481)\n",
      "  TqdmSynchronisationWarning)\n"
     ]
    }
   ],
   "source": [
    "for epoch in range(num_epochs): \n",
    "    info = train(loader_train, vae, optimizer, loss_function, test=False, cuda=True)\n",
    "    info_val = train(loader_test, vae, optimizer, loss_function, test=True, cuda=True)\n",
    "    scheduler.step(np.mean(info_val['loss']))\n",
    "    \n",
    "    print('Epoch {}, loss={:2.4f}, loss_val={:2.4f}'.format(epoch, np.mean(info['loss']), np.mean(info_val['loss'])))\n",
    "    infos.append([info, info_val])\n",
    "    \n",
    "    plot_results(loader=loader_test, n=2, epoch=epoch)\n",
    "    torch.save(vae.state_dict(), f'./models/{NAME}_{epoch}_state_dict.pkl')"
   ]
  },
  {
   "cell_type": "code",
   "execution_count": null,
   "metadata": {
    "ExecuteTime": {
     "end_time": "2018-05-11T02:23:29.343475Z",
     "start_time": "2018-05-11T02:23:06.040Z"
    }
   },
   "outputs": [],
   "source": [
    "# try to get below 47-50 else go load last, and use lower learnign rate\n",
    "# also think if I need more latent channels?\n",
    "# try leaving overnight\n",
    "# maybe I need a lower batch? lower than 6"
   ]
  },
  {
   "cell_type": "markdown",
   "metadata": {
    "ExecuteTime": {
     "end_time": "2018-05-09T23:08:24.629819Z",
     "start_time": "2018-05-09T23:08:14.609Z"
    }
   },
   "source": [
    "73560.9062\n",
    "43363.3125\n",
    "\n",
    "117593.9766\n",
    "105291.2500\n",
    "68035.8281\n",
    "59641.3555\n",
    "48477.4297\n",
    "16221.2061"
   ]
  },
  {
   "cell_type": "code",
   "execution_count": null,
   "metadata": {
    "ExecuteTime": {
     "end_time": "2018-05-11T02:23:29.344724Z",
     "start_time": "2018-05-11T02:23:06.042Z"
    }
   },
   "outputs": [],
   "source": [
    "torch.save(vae.state_dict(), f'./models/{NAME}_state_dict.pkl')\n",
    "torch.save(vae, f'./models/{NAME}.pkl')"
   ]
  },
  {
   "cell_type": "code",
   "execution_count": null,
   "metadata": {
    "ExecuteTime": {
     "end_time": "2018-05-11T02:23:29.346112Z",
     "start_time": "2018-05-11T02:23:06.043Z"
    }
   },
   "outputs": [],
   "source": [
    "# plot history\n",
    "import pandas as pd\n",
    "histories = []\n",
    "for info, info_val in infos:\n",
    "    history = {k+'_val':np.mean(v) for k,v in info_val.items()}\n",
    "    history.update({k:np.mean(v) for k,v in info.items()})\n",
    "    histories.append(history)\n",
    "histories = pd.DataFrame(histories)\n",
    "histories.plot()"
   ]
  },
  {
   "cell_type": "code",
   "execution_count": null,
   "metadata": {
    "ExecuteTime": {
     "end_time": "2018-05-11T02:23:29.347294Z",
     "start_time": "2018-05-11T02:23:06.049Z"
    }
   },
   "outputs": [],
   "source": [
    "plot_results(loader=loader_test, n=4, epoch=epoch)"
   ]
  },
  {
   "cell_type": "code",
   "execution_count": null,
   "metadata": {
    "ExecuteTime": {
     "end_time": "2018-05-11T02:23:29.348726Z",
     "start_time": "2018-05-11T02:23:06.051Z"
    }
   },
   "outputs": [],
   "source": [
    "plot_results(loader=loader_train, n=4, epoch=epoch)"
   ]
  },
  {
   "cell_type": "markdown",
   "metadata": {},
   "source": [
    "# End"
   ]
  },
  {
   "cell_type": "code",
   "execution_count": null,
   "metadata": {
    "ExecuteTime": {
     "end_time": "2018-05-11T02:23:29.349893Z",
     "start_time": "2018-05-11T02:23:06.052Z"
    }
   },
   "outputs": [],
   "source": [
    "%time x=data_test[500]"
   ]
  },
  {
   "cell_type": "code",
   "execution_count": null,
   "metadata": {
    "ExecuteTime": {
     "end_time": "2018-05-11T02:23:29.351320Z",
     "start_time": "2018-05-11T02:23:06.054Z"
    }
   },
   "outputs": [],
   "source": [
    "# DEBUG check chunk size\n",
    "# should be less than 1e9\n",
    "# should take more than 100ms, less than 1s\n",
    "import itertools\n",
    "x=data_train\n",
    "shapes = list(itertools.product(*x.chunks))\n",
    "nbytes = [x.dtype.itemsize * np.prod(shape) for shape in shapes]\n",
    "assert nbytes[0]<1e9\n",
    "nbytes[0]"
   ]
  }
 ],
 "metadata": {
  "kernelspec": {
   "display_name": "Environment (conda_pytorch_p36)",
   "language": "python",
   "name": "conda_pytorch_p36"
  },
  "language_info": {
   "codemirror_mode": {
    "name": "ipython",
    "version": 3
   },
   "file_extension": ".py",
   "mimetype": "text/x-python",
   "name": "python",
   "nbconvert_exporter": "python",
   "pygments_lexer": "ipython3",
   "version": "3.6.5"
  },
  "toc": {
   "base_numbering": 1,
   "nav_menu": {
    "height": "48px",
    "width": "252px"
   },
   "number_sections": true,
   "sideBar": true,
   "skip_h1_title": false,
   "title_cell": "Table of Contents",
   "title_sidebar": "Contents",
   "toc_cell": false,
   "toc_position": {
    "height": "calc(100% - 180px)",
    "left": "10px",
    "top": "150px",
    "width": "254px"
   },
   "toc_section_display": "block",
   "toc_window_display": true
  }
 },
 "nbformat": 4,
 "nbformat_minor": 2
}
