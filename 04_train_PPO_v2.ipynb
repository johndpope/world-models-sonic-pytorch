{
 "cells": [
  {
   "cell_type": "code",
   "execution_count": 1,
   "metadata": {
    "ExecuteTime": {
     "end_time": "2018-05-20T15:03:41.022819Z",
     "start_time": "2018-05-20T15:03:40.173724Z"
    }
   },
   "outputs": [],
   "source": [
    "import deep_rl"
   ]
  },
  {
   "cell_type": "code",
   "execution_count": 2,
   "metadata": {
    "ExecuteTime": {
     "end_time": "2018-05-20T15:03:41.048275Z",
     "start_time": "2018-05-20T15:03:41.025574Z"
    }
   },
   "outputs": [],
   "source": [
    "%matplotlib inline\n",
    "%reload_ext autoreload\n",
    "%autoreload 2"
   ]
  },
  {
   "cell_type": "code",
   "execution_count": 3,
   "metadata": {
    "ExecuteTime": {
     "end_time": "2018-05-20T15:03:41.122047Z",
     "start_time": "2018-05-20T15:03:41.049936Z"
    }
   },
   "outputs": [
    {
     "name": "stderr",
     "output_type": "stream",
     "text": [
      "/home/wassname/.pyenv/versions/3.5.3/envs/jupyter3/lib/python3.5/site-packages/h5py/__init__.py:34: FutureWarning: Conversion of the second argument of issubdtype from `float` to `np.floating` is deprecated. In future, it will be treated as `np.float64 == np.dtype(float).type`.\n",
      "  from ._conv import register_converters as _register_converters\n"
     ]
    }
   ],
   "source": [
    "import torch\n",
    "from torch.nn import functional as F\n",
    "from torch.autograd import Variable\n",
    "from torch import nn, optim\n",
    "import torch.utils.data\n",
    "\n",
    "# load as dask array\n",
    "import dask.array as da\n",
    "import dask\n",
    "import h5py\n",
    "\n",
    "import os\n",
    "import glob\n",
    "import numpy as np\n",
    "from matplotlib import pyplot as plt\n",
    "from tqdm import tqdm_notebook as tqdm"
   ]
  },
  {
   "cell_type": "code",
   "execution_count": 4,
   "metadata": {
    "ExecuteTime": {
     "end_time": "2018-05-20T15:03:41.358046Z",
     "start_time": "2018-05-20T15:03:41.123750Z"
    }
   },
   "outputs": [],
   "source": [
    "from world_models_sonic.models.vae import VAE6, loss_function_vae\n",
    "from world_models_sonic.helpers.summarize import TorchSummarizeDf\n",
    "from world_models_sonic.helpers.dataset import load_cache_data\n",
    "from world_models_sonic.models.rnn import MDNRNN2\n",
    "from world_models_sonic.models.inverse_model import InverseModel\n",
    "from world_models_sonic.models.world_model import WorldModel\n",
    "from world_models_sonic import config"
   ]
  },
  {
   "cell_type": "code",
   "execution_count": 5,
   "metadata": {
    "ExecuteTime": {
     "end_time": "2018-05-20T15:03:41.379716Z",
     "start_time": "2018-05-20T15:03:41.359822Z"
    }
   },
   "outputs": [],
   "source": [
    "\"\"\"\n",
    "In jupyter notebook simple logging to console\n",
    "\"\"\"\n",
    "import logging\n",
    "import sys\n",
    "\n",
    "logging.basicConfig(stream=sys.stdout, level=logging.INFO)"
   ]
  },
  {
   "cell_type": "markdown",
   "metadata": {
    "ExecuteTime": {
     "end_time": "2018-05-20T07:15:35.605788Z",
     "start_time": "2018-05-20T07:15:35.588273Z"
    }
   },
   "source": [
    "# Init"
   ]
  },
  {
   "cell_type": "code",
   "execution_count": 6,
   "metadata": {
    "ExecuteTime": {
     "end_time": "2018-05-20T15:03:41.418135Z",
     "start_time": "2018-05-20T15:03:41.381463Z"
    }
   },
   "outputs": [],
   "source": [
    "cuda= torch.cuda.is_available()\n",
    "env_name='sonic256'\n",
    "num_epochs=200\n",
    "batch_size = 2\n",
    "\n",
    "# VAE loss function\n",
    "lambda_vae_kld = 0.25\n",
    "C = 0\n",
    "z_dim = 256 # latent dimensions\n",
    "\n",
    "# RNN\n",
    "action_dim = 10\n",
    "seq_len = 5\n",
    "image_size=256\n",
    "chunksize=seq_len*20\n",
    "\n",
    "\n",
    "\n",
    "# loss function weights\n",
    "lambda_vae = 1/100\n",
    "lambda_finv = 1\n",
    "\n",
    "data_cache_file = os.path.join(config.base_vae_data_dir, 'sonic_rnn_256_v30.hdf5')\n",
    "NAME='RNN_v3b_256im_512z_1512_v4_greenfield'"
   ]
  },
  {
   "cell_type": "markdown",
   "metadata": {
    "ExecuteTime": {
     "end_time": "2018-05-20T07:15:41.219308Z",
     "start_time": "2018-05-20T07:15:41.199698Z"
    }
   },
   "source": [
    "# Load Data"
   ]
  },
  {
   "cell_type": "markdown",
   "metadata": {
    "ExecuteTime": {
     "end_time": "2018-05-20T07:41:12.438062Z",
     "start_time": "2018-05-20T07:41:12.415682Z"
    }
   },
   "source": [
    "# Load VAE"
   ]
  },
  {
   "cell_type": "code",
   "execution_count": 7,
   "metadata": {
    "ExecuteTime": {
     "end_time": "2018-05-20T15:03:45.470585Z",
     "start_time": "2018-05-20T15:03:41.419852Z"
    }
   },
   "outputs": [
    {
     "name": "stdout",
     "output_type": "stream",
     "text": [
      "loaded save_file ./outputs/models/RNN_v3b_256im_512z_1512_v4_greenfield-vae_state_dict.pkl\n"
     ]
    }
   ],
   "source": [
    "# Load VAE\n",
    "# TODO swap z and k dim, since it's inconsistent with other models\n",
    "vae = VAE6(image_size=image_size, z_dim=32, conv_dim=48, code_dim=8, k_dim=z_dim)\n",
    "if cuda:\n",
    "    vae.cuda()\n",
    "    \n",
    "# # Resume\n",
    "\n",
    "# checkpoint_file = './outputs/models/VAE6_6_256im_512z_inception_CVAE_greenfields_state_dict.pkl'\n",
    "# if os.path.isfile(checkpoint_file):\n",
    "#     state_dict = torch.load(checkpoint_file)\n",
    "#     vae.load_state_dict(state_dict)\n",
    "#     print('loaded checkpoint_file {checkpoint_file}'.format(checkpoint_file=checkpoint_file))\n",
    "    \n",
    "save_file = './outputs/models/{NAME}-vae_state_dict.pkl'.format(NAME=NAME)\n",
    "if os.path.isfile(save_file):\n",
    "    state_dict = torch.load(save_file)\n",
    "    vae.load_state_dict(state_dict)\n",
    "    print('loaded save_file {save_file}'.format(save_file=save_file))"
   ]
  },
  {
   "cell_type": "markdown",
   "metadata": {
    "ExecuteTime": {
     "end_time": "2018-05-20T07:41:17.362954Z",
     "start_time": "2018-05-20T07:41:17.338009Z"
    }
   },
   "source": [
    "# Load RNN"
   ]
  },
  {
   "cell_type": "code",
   "execution_count": 8,
   "metadata": {
    "ExecuteTime": {
     "end_time": "2018-05-20T15:03:45.534643Z",
     "start_time": "2018-05-20T15:03:45.473357Z"
    }
   },
   "outputs": [],
   "source": [
    "# Load MDRNN\n",
    "action_dim, hidden_size, n_mixture, temp = action_dim, 128, 3, 0.0\n",
    "\n",
    "\n",
    "mdnrnn = MDNRNN2(z_dim, action_dim, hidden_size, n_mixture, temp)\n",
    "\n",
    "if cuda:\n",
    "    mdnrnn = mdnrnn.cuda()"
   ]
  },
  {
   "cell_type": "code",
   "execution_count": 9,
   "metadata": {
    "ExecuteTime": {
     "end_time": "2018-05-20T15:03:45.575015Z",
     "start_time": "2018-05-20T15:03:45.537567Z"
    }
   },
   "outputs": [
    {
     "name": "stdout",
     "output_type": "stream",
     "text": [
      "loaded ./outputs/models/RNN_v3b_256im_512z_1512_v4_greenfield-mdnrnn_state_dict.pkl\n"
     ]
    }
   ],
   "source": [
    "# # Resume?\n",
    "save_file = './outputs/models/{NAME}-mdnrnn_state_dict.pkl'.format(NAME=NAME)\n",
    "if os.path.isfile(save_file):\n",
    "    state_dict = torch.load(save_file)\n",
    "    mdnrnn.load_state_dict(state_dict)\n",
    "    print('loaded {save_file}'.format(save_file=save_file))"
   ]
  },
  {
   "cell_type": "markdown",
   "metadata": {
    "ExecuteTime": {
     "end_time": "2018-05-20T07:41:17.480298Z",
     "start_time": "2018-05-20T07:41:17.459437Z"
    }
   },
   "source": [
    "# FInverse Model"
   ]
  },
  {
   "cell_type": "code",
   "execution_count": null,
   "metadata": {
    "ExecuteTime": {
     "end_time": "2018-05-20T12:16:26.633742Z",
     "start_time": "2018-05-20T12:16:26.610597Z"
    }
   },
   "outputs": [],
   "source": []
  },
  {
   "cell_type": "code",
   "execution_count": 10,
   "metadata": {
    "ExecuteTime": {
     "end_time": "2018-05-20T15:03:45.602601Z",
     "start_time": "2018-05-20T15:03:45.576881Z"
    }
   },
   "outputs": [],
   "source": [
    "finv = InverseModel(z_dim, action_dim, hidden_size=256).cuda()"
   ]
  },
  {
   "cell_type": "code",
   "execution_count": 11,
   "metadata": {
    "ExecuteTime": {
     "end_time": "2018-05-20T15:03:45.627270Z",
     "start_time": "2018-05-20T15:03:45.604256Z"
    }
   },
   "outputs": [
    {
     "name": "stdout",
     "output_type": "stream",
     "text": [
      "loaded ./outputs/models/RNN_v3b_256im_512z_1512_v4_greenfield-finv_state_dict.pkl\n"
     ]
    }
   ],
   "source": [
    "# # Resume?\n",
    "save_file = './outputs/models/{NAME}-finv_state_dict.pkl'.format(NAME=NAME)\n",
    "if os.path.isfile(save_file):\n",
    "    state_dict = torch.load(save_file)\n",
    "    finv.load_state_dict(state_dict)\n",
    "    print('loaded {save_file}'.format(save_file=save_file))"
   ]
  },
  {
   "cell_type": "markdown",
   "metadata": {
    "ExecuteTime": {
     "end_time": "2018-05-20T07:41:17.644222Z",
     "start_time": "2018-05-20T07:41:17.624558Z"
    }
   },
   "source": [
    "# Init"
   ]
  },
  {
   "cell_type": "code",
   "execution_count": 12,
   "metadata": {
    "ExecuteTime": {
     "end_time": "2018-05-20T15:03:45.661741Z",
     "start_time": "2018-05-20T15:03:45.629343Z"
    }
   },
   "outputs": [
    {
     "data": {
      "text/plain": [
       "WorldModel(\n",
       "  (vae): VAE6(\n",
       "    (logvar): Linear(in_features=2048, out_features=256, bias=True)\n",
       "    (mu): Linear(in_features=2048, out_features=256, bias=True)\n",
       "    (z): Linear(in_features=256, out_features=2048, bias=True)\n",
       "    (encoder): Sequential(\n",
       "      (0): BasicConv2d(\n",
       "        (conv): Conv2d(3, 48, kernel_size=(3, 3), stride=(1, 1), padding=(1, 1))\n",
       "        (bn): BatchNorm2d(48, eps=1e-05, momentum=0.1, affine=True, track_running_stats=True)\n",
       "        (act): LeakyReLU(negative_slope=0.01, inplace)\n",
       "      )\n",
       "      (1): ConvBlock5(\n",
       "        (conv0): InceptionA(\n",
       "          (branch1x1): BasicConv2d(\n",
       "            (conv): Conv2d(48, 12, kernel_size=(1, 1), stride=(1, 1))\n",
       "            (bn): BatchNorm2d(12, eps=1e-05, momentum=0.1, affine=True, track_running_stats=True)\n",
       "            (act): LeakyReLU(negative_slope=0.01, inplace)\n",
       "          )\n",
       "          (branch5x5_1): BasicConv2d(\n",
       "            (conv): Conv2d(48, 9, kernel_size=(1, 1), stride=(1, 1))\n",
       "            (bn): BatchNorm2d(9, eps=1e-05, momentum=0.1, affine=True, track_running_stats=True)\n",
       "            (act): LeakyReLU(negative_slope=0.01, inplace)\n",
       "          )\n",
       "          (branch5x5_2): BasicConv2d(\n",
       "            (conv): Conv2d(9, 12, kernel_size=(5, 5), stride=(1, 1), padding=(2, 2))\n",
       "            (bn): BatchNorm2d(12, eps=1e-05, momentum=0.1, affine=True, track_running_stats=True)\n",
       "            (act): LeakyReLU(negative_slope=0.01, inplace)\n",
       "          )\n",
       "          (branch3x3dbl_1): BasicConv2d(\n",
       "            (conv): Conv2d(48, 12, kernel_size=(1, 1), stride=(1, 1))\n",
       "            (bn): BatchNorm2d(12, eps=1e-05, momentum=0.1, affine=True, track_running_stats=True)\n",
       "            (act): LeakyReLU(negative_slope=0.01, inplace)\n",
       "          )\n",
       "          (branch3x3dbl_2): BasicConv2d(\n",
       "            (conv): Conv2d(12, 18, kernel_size=(3, 3), stride=(1, 1), padding=(1, 1))\n",
       "            (bn): BatchNorm2d(18, eps=1e-05, momentum=0.1, affine=True, track_running_stats=True)\n",
       "            (act): LeakyReLU(negative_slope=0.01, inplace)\n",
       "          )\n",
       "          (branch3x3dbl_3): BasicConv2d(\n",
       "            (conv): Conv2d(18, 18, kernel_size=(3, 3), stride=(1, 1), padding=(1, 1))\n",
       "            (bn): BatchNorm2d(18, eps=1e-05, momentum=0.1, affine=True, track_running_stats=True)\n",
       "            (act): LeakyReLU(negative_slope=0.01, inplace)\n",
       "          )\n",
       "          (branch_pool): BasicConv2d(\n",
       "            (conv): Conv2d(48, 6, kernel_size=(1, 1), stride=(1, 1))\n",
       "            (bn): BatchNorm2d(6, eps=1e-05, momentum=0.1, affine=True, track_running_stats=True)\n",
       "            (act): LeakyReLU(negative_slope=0.01, inplace)\n",
       "          )\n",
       "        )\n",
       "        (conv1): BasicConv2d(\n",
       "          (conv): Conv2d(48, 96, kernel_size=(4, 4), stride=(2, 2), padding=(1, 1))\n",
       "          (bn): BatchNorm2d(96, eps=1e-05, momentum=0.1, affine=True, track_running_stats=True)\n",
       "          (act): LeakyReLU(negative_slope=0.01, inplace)\n",
       "        )\n",
       "        (conv2): BasicConv2d(\n",
       "          (conv): Conv2d(96, 96, kernel_size=(1, 1), stride=(1, 1))\n",
       "          (bn): BatchNorm2d(96, eps=1e-05, momentum=0.1, affine=True, track_running_stats=True)\n",
       "          (act): LeakyReLU(negative_slope=0.01, inplace)\n",
       "        )\n",
       "      )\n",
       "      (2): ConvBlock5(\n",
       "        (conv0): InceptionA(\n",
       "          (branch1x1): BasicConv2d(\n",
       "            (conv): Conv2d(96, 24, kernel_size=(1, 1), stride=(1, 1))\n",
       "            (bn): BatchNorm2d(24, eps=1e-05, momentum=0.1, affine=True, track_running_stats=True)\n",
       "            (act): LeakyReLU(negative_slope=0.01, inplace)\n",
       "          )\n",
       "          (branch5x5_1): BasicConv2d(\n",
       "            (conv): Conv2d(96, 18, kernel_size=(1, 1), stride=(1, 1))\n",
       "            (bn): BatchNorm2d(18, eps=1e-05, momentum=0.1, affine=True, track_running_stats=True)\n",
       "            (act): LeakyReLU(negative_slope=0.01, inplace)\n",
       "          )\n",
       "          (branch5x5_2): BasicConv2d(\n",
       "            (conv): Conv2d(18, 24, kernel_size=(5, 5), stride=(1, 1), padding=(2, 2))\n",
       "            (bn): BatchNorm2d(24, eps=1e-05, momentum=0.1, affine=True, track_running_stats=True)\n",
       "            (act): LeakyReLU(negative_slope=0.01, inplace)\n",
       "          )\n",
       "          (branch3x3dbl_1): BasicConv2d(\n",
       "            (conv): Conv2d(96, 24, kernel_size=(1, 1), stride=(1, 1))\n",
       "            (bn): BatchNorm2d(24, eps=1e-05, momentum=0.1, affine=True, track_running_stats=True)\n",
       "            (act): LeakyReLU(negative_slope=0.01, inplace)\n",
       "          )\n",
       "          (branch3x3dbl_2): BasicConv2d(\n",
       "            (conv): Conv2d(24, 36, kernel_size=(3, 3), stride=(1, 1), padding=(1, 1))\n",
       "            (bn): BatchNorm2d(36, eps=1e-05, momentum=0.1, affine=True, track_running_stats=True)\n",
       "            (act): LeakyReLU(negative_slope=0.01, inplace)\n",
       "          )\n",
       "          (branch3x3dbl_3): BasicConv2d(\n",
       "            (conv): Conv2d(36, 36, kernel_size=(3, 3), stride=(1, 1), padding=(1, 1))\n",
       "            (bn): BatchNorm2d(36, eps=1e-05, momentum=0.1, affine=True, track_running_stats=True)\n",
       "            (act): LeakyReLU(negative_slope=0.01, inplace)\n",
       "          )\n",
       "          (branch_pool): BasicConv2d(\n",
       "            (conv): Conv2d(96, 12, kernel_size=(1, 1), stride=(1, 1))\n",
       "            (bn): BatchNorm2d(12, eps=1e-05, momentum=0.1, affine=True, track_running_stats=True)\n",
       "            (act): LeakyReLU(negative_slope=0.01, inplace)\n",
       "          )\n",
       "        )\n",
       "        (conv1): BasicConv2d(\n",
       "          (conv): Conv2d(96, 144, kernel_size=(4, 4), stride=(2, 2), padding=(1, 1))\n",
       "          (bn): BatchNorm2d(144, eps=1e-05, momentum=0.1, affine=True, track_running_stats=True)\n",
       "          (act): LeakyReLU(negative_slope=0.01, inplace)\n",
       "        )\n",
       "        (conv2): BasicConv2d(\n",
       "          (conv): Conv2d(144, 144, kernel_size=(1, 1), stride=(1, 1))\n",
       "          (bn): BatchNorm2d(144, eps=1e-05, momentum=0.1, affine=True, track_running_stats=True)\n",
       "          (act): LeakyReLU(negative_slope=0.01, inplace)\n",
       "        )\n",
       "      )\n",
       "      (3): ConvBlock5(\n",
       "        (conv0): InceptionA(\n",
       "          (branch1x1): BasicConv2d(\n",
       "            (conv): Conv2d(144, 36, kernel_size=(1, 1), stride=(1, 1))\n",
       "            (bn): BatchNorm2d(36, eps=1e-05, momentum=0.1, affine=True, track_running_stats=True)\n",
       "            (act): LeakyReLU(negative_slope=0.01, inplace)\n",
       "          )\n",
       "          (branch5x5_1): BasicConv2d(\n",
       "            (conv): Conv2d(144, 27, kernel_size=(1, 1), stride=(1, 1))\n",
       "            (bn): BatchNorm2d(27, eps=1e-05, momentum=0.1, affine=True, track_running_stats=True)\n",
       "            (act): LeakyReLU(negative_slope=0.01, inplace)\n",
       "          )\n",
       "          (branch5x5_2): BasicConv2d(\n",
       "            (conv): Conv2d(27, 36, kernel_size=(5, 5), stride=(1, 1), padding=(2, 2))\n",
       "            (bn): BatchNorm2d(36, eps=1e-05, momentum=0.1, affine=True, track_running_stats=True)\n",
       "            (act): LeakyReLU(negative_slope=0.01, inplace)\n",
       "          )\n",
       "          (branch3x3dbl_1): BasicConv2d(\n",
       "            (conv): Conv2d(144, 36, kernel_size=(1, 1), stride=(1, 1))\n",
       "            (bn): BatchNorm2d(36, eps=1e-05, momentum=0.1, affine=True, track_running_stats=True)\n",
       "            (act): LeakyReLU(negative_slope=0.01, inplace)\n",
       "          )\n",
       "          (branch3x3dbl_2): BasicConv2d(\n",
       "            (conv): Conv2d(36, 54, kernel_size=(3, 3), stride=(1, 1), padding=(1, 1))\n",
       "            (bn): BatchNorm2d(54, eps=1e-05, momentum=0.1, affine=True, track_running_stats=True)\n",
       "            (act): LeakyReLU(negative_slope=0.01, inplace)\n",
       "          )\n",
       "          (branch3x3dbl_3): BasicConv2d(\n",
       "            (conv): Conv2d(54, 54, kernel_size=(3, 3), stride=(1, 1), padding=(1, 1))\n",
       "            (bn): BatchNorm2d(54, eps=1e-05, momentum=0.1, affine=True, track_running_stats=True)\n",
       "            (act): LeakyReLU(negative_slope=0.01, inplace)\n",
       "          )\n",
       "          (branch_pool): BasicConv2d(\n",
       "            (conv): Conv2d(144, 18, kernel_size=(1, 1), stride=(1, 1))\n",
       "            (bn): BatchNorm2d(18, eps=1e-05, momentum=0.1, affine=True, track_running_stats=True)\n",
       "            (act): LeakyReLU(negative_slope=0.01, inplace)\n",
       "          )\n",
       "        )\n",
       "        (conv1): BasicConv2d(\n",
       "          (conv): Conv2d(144, 192, kernel_size=(4, 4), stride=(2, 2), padding=(1, 1))\n",
       "          (bn): BatchNorm2d(192, eps=1e-05, momentum=0.1, affine=True, track_running_stats=True)\n",
       "          (act): LeakyReLU(negative_slope=0.01, inplace)\n",
       "        )\n",
       "        (conv2): BasicConv2d(\n",
       "          (conv): Conv2d(192, 192, kernel_size=(1, 1), stride=(1, 1))\n",
       "          (bn): BatchNorm2d(192, eps=1e-05, momentum=0.1, affine=True, track_running_stats=True)\n",
       "          (act): LeakyReLU(negative_slope=0.01, inplace)\n",
       "        )\n",
       "      )\n",
       "      (4): ConvBlock5(\n",
       "        (conv0): InceptionA(\n",
       "          (branch1x1): BasicConv2d(\n",
       "            (conv): Conv2d(192, 48, kernel_size=(1, 1), stride=(1, 1))\n",
       "            (bn): BatchNorm2d(48, eps=1e-05, momentum=0.1, affine=True, track_running_stats=True)\n",
       "            (act): LeakyReLU(negative_slope=0.01, inplace)\n",
       "          )\n",
       "          (branch5x5_1): BasicConv2d(\n",
       "            (conv): Conv2d(192, 36, kernel_size=(1, 1), stride=(1, 1))\n",
       "            (bn): BatchNorm2d(36, eps=1e-05, momentum=0.1, affine=True, track_running_stats=True)\n",
       "            (act): LeakyReLU(negative_slope=0.01, inplace)\n",
       "          )\n",
       "          (branch5x5_2): BasicConv2d(\n",
       "            (conv): Conv2d(36, 48, kernel_size=(5, 5), stride=(1, 1), padding=(2, 2))\n",
       "            (bn): BatchNorm2d(48, eps=1e-05, momentum=0.1, affine=True, track_running_stats=True)\n",
       "            (act): LeakyReLU(negative_slope=0.01, inplace)\n",
       "          )\n",
       "          (branch3x3dbl_1): BasicConv2d(\n",
       "            (conv): Conv2d(192, 48, kernel_size=(1, 1), stride=(1, 1))\n",
       "            (bn): BatchNorm2d(48, eps=1e-05, momentum=0.1, affine=True, track_running_stats=True)\n",
       "            (act): LeakyReLU(negative_slope=0.01, inplace)\n",
       "          )\n",
       "          (branch3x3dbl_2): BasicConv2d(\n",
       "            (conv): Conv2d(48, 72, kernel_size=(3, 3), stride=(1, 1), padding=(1, 1))\n",
       "            (bn): BatchNorm2d(72, eps=1e-05, momentum=0.1, affine=True, track_running_stats=True)\n",
       "            (act): LeakyReLU(negative_slope=0.01, inplace)\n",
       "          )\n",
       "          (branch3x3dbl_3): BasicConv2d(\n",
       "            (conv): Conv2d(72, 72, kernel_size=(3, 3), stride=(1, 1), padding=(1, 1))\n",
       "            (bn): BatchNorm2d(72, eps=1e-05, momentum=0.1, affine=True, track_running_stats=True)\n",
       "            (act): LeakyReLU(negative_slope=0.01, inplace)\n",
       "          )\n",
       "          (branch_pool): BasicConv2d(\n",
       "            (conv): Conv2d(192, 24, kernel_size=(1, 1), stride=(1, 1))\n",
       "            (bn): BatchNorm2d(24, eps=1e-05, momentum=0.1, affine=True, track_running_stats=True)\n",
       "            (act): LeakyReLU(negative_slope=0.01, inplace)\n",
       "          )\n",
       "        )\n",
       "        (conv1): BasicConv2d(\n",
       "          (conv): Conv2d(192, 240, kernel_size=(4, 4), stride=(2, 2), padding=(1, 1))\n",
       "          (bn): BatchNorm2d(240, eps=1e-05, momentum=0.1, affine=True, track_running_stats=True)\n",
       "          (act): LeakyReLU(negative_slope=0.01, inplace)\n",
       "        )\n",
       "        (conv2): BasicConv2d(\n",
       "          (conv): Conv2d(240, 240, kernel_size=(1, 1), stride=(1, 1))\n",
       "          (bn): BatchNorm2d(240, eps=1e-05, momentum=0.1, affine=True, track_running_stats=True)\n",
       "          (act): LeakyReLU(negative_slope=0.01, inplace)\n",
       "        )\n",
       "      )\n",
       "      (5): ConvBlock5(\n",
       "        (conv0): InceptionA(\n",
       "          (branch1x1): BasicConv2d(\n",
       "            (conv): Conv2d(240, 60, kernel_size=(1, 1), stride=(1, 1))\n",
       "            (bn): BatchNorm2d(60, eps=1e-05, momentum=0.1, affine=True, track_running_stats=True)\n",
       "            (act): LeakyReLU(negative_slope=0.01, inplace)\n",
       "          )\n",
       "          (branch5x5_1): BasicConv2d(\n",
       "            (conv): Conv2d(240, 45, kernel_size=(1, 1), stride=(1, 1))\n",
       "            (bn): BatchNorm2d(45, eps=1e-05, momentum=0.1, affine=True, track_running_stats=True)\n",
       "            (act): LeakyReLU(negative_slope=0.01, inplace)\n",
       "          )\n",
       "          (branch5x5_2): BasicConv2d(\n",
       "            (conv): Conv2d(45, 60, kernel_size=(5, 5), stride=(1, 1), padding=(2, 2))\n",
       "            (bn): BatchNorm2d(60, eps=1e-05, momentum=0.1, affine=True, track_running_stats=True)\n",
       "            (act): LeakyReLU(negative_slope=0.01, inplace)\n",
       "          )\n",
       "          (branch3x3dbl_1): BasicConv2d(\n",
       "            (conv): Conv2d(240, 60, kernel_size=(1, 1), stride=(1, 1))\n",
       "            (bn): BatchNorm2d(60, eps=1e-05, momentum=0.1, affine=True, track_running_stats=True)\n",
       "            (act): LeakyReLU(negative_slope=0.01, inplace)\n",
       "          )\n",
       "          (branch3x3dbl_2): BasicConv2d(\n",
       "            (conv): Conv2d(60, 90, kernel_size=(3, 3), stride=(1, 1), padding=(1, 1))\n",
       "            (bn): BatchNorm2d(90, eps=1e-05, momentum=0.1, affine=True, track_running_stats=True)\n",
       "            (act): LeakyReLU(negative_slope=0.01, inplace)\n",
       "          )\n",
       "          (branch3x3dbl_3): BasicConv2d(\n",
       "            (conv): Conv2d(90, 90, kernel_size=(3, 3), stride=(1, 1), padding=(1, 1))\n",
       "            (bn): BatchNorm2d(90, eps=1e-05, momentum=0.1, affine=True, track_running_stats=True)\n",
       "            (act): LeakyReLU(negative_slope=0.01, inplace)\n",
       "          )\n",
       "          (branch_pool): BasicConv2d(\n",
       "            (conv): Conv2d(240, 30, kernel_size=(1, 1), stride=(1, 1))\n",
       "            (bn): BatchNorm2d(30, eps=1e-05, momentum=0.1, affine=True, track_running_stats=True)\n",
       "            (act): LeakyReLU(negative_slope=0.01, inplace)\n",
       "          )\n",
       "        )\n",
       "        (conv1): BasicConv2d(\n",
       "          (conv): Conv2d(240, 288, kernel_size=(4, 4), stride=(2, 2), padding=(1, 1))\n",
       "          (bn): BatchNorm2d(288, eps=1e-05, momentum=0.1, affine=True, track_running_stats=True)\n",
       "          (act): LeakyReLU(negative_slope=0.01, inplace)\n",
       "        )\n",
       "        (conv2): BasicConv2d(\n",
       "          (conv): Conv2d(288, 288, kernel_size=(1, 1), stride=(1, 1))\n",
       "          (bn): BatchNorm2d(288, eps=1e-05, momentum=0.1, affine=True, track_running_stats=True)\n",
       "          (act): LeakyReLU(negative_slope=0.01, inplace)\n",
       "        )\n",
       "      )\n",
       "      (6): ConvBlock5(\n",
       "        (conv0): InceptionA(\n",
       "          (branch1x1): BasicConv2d(\n",
       "            (conv): Conv2d(288, 72, kernel_size=(1, 1), stride=(1, 1))\n",
       "            (bn): BatchNorm2d(72, eps=1e-05, momentum=0.1, affine=True, track_running_stats=True)\n",
       "            (act): LeakyReLU(negative_slope=0.01, inplace)\n",
       "          )\n",
       "          (branch5x5_1): BasicConv2d(\n",
       "            (conv): Conv2d(288, 54, kernel_size=(1, 1), stride=(1, 1))\n",
       "            (bn): BatchNorm2d(54, eps=1e-05, momentum=0.1, affine=True, track_running_stats=True)\n",
       "            (act): LeakyReLU(negative_slope=0.01, inplace)\n",
       "          )\n",
       "          (branch5x5_2): BasicConv2d(\n",
       "            (conv): Conv2d(54, 72, kernel_size=(5, 5), stride=(1, 1), padding=(2, 2))\n",
       "            (bn): BatchNorm2d(72, eps=1e-05, momentum=0.1, affine=True, track_running_stats=True)\n",
       "            (act): LeakyReLU(negative_slope=0.01, inplace)\n",
       "          )\n",
       "          (branch3x3dbl_1): BasicConv2d(\n",
       "            (conv): Conv2d(288, 72, kernel_size=(1, 1), stride=(1, 1))\n",
       "            (bn): BatchNorm2d(72, eps=1e-05, momentum=0.1, affine=True, track_running_stats=True)\n",
       "            (act): LeakyReLU(negative_slope=0.01, inplace)\n",
       "          )\n",
       "          (branch3x3dbl_2): BasicConv2d(\n",
       "            (conv): Conv2d(72, 108, kernel_size=(3, 3), stride=(1, 1), padding=(1, 1))\n",
       "            (bn): BatchNorm2d(108, eps=1e-05, momentum=0.1, affine=True, track_running_stats=True)\n",
       "            (act): LeakyReLU(negative_slope=0.01, inplace)\n",
       "          )\n",
       "          (branch3x3dbl_3): BasicConv2d(\n",
       "            (conv): Conv2d(108, 108, kernel_size=(3, 3), stride=(1, 1), padding=(1, 1))\n",
       "            (bn): BatchNorm2d(108, eps=1e-05, momentum=0.1, affine=True, track_running_stats=True)\n",
       "            (act): LeakyReLU(negative_slope=0.01, inplace)\n",
       "          )\n",
       "          (branch_pool): BasicConv2d(\n",
       "            (conv): Conv2d(288, 36, kernel_size=(1, 1), stride=(1, 1))\n",
       "            (bn): BatchNorm2d(36, eps=1e-05, momentum=0.1, affine=True, track_running_stats=True)\n",
       "            (act): LeakyReLU(negative_slope=0.01, inplace)\n",
       "          )\n",
       "        )\n",
       "        (conv1): BasicConv2d(\n",
       "          (conv): Conv2d(288, 32, kernel_size=(1, 1), stride=(1, 1))\n",
       "          (bn): BatchNorm2d(32, eps=1e-05, momentum=0.1, affine=True, track_running_stats=True)\n",
       "          (act): LeakyReLU(negative_slope=0.01, inplace)\n",
       "        )\n",
       "        (conv2): BasicConv2d(\n",
       "          (conv): Conv2d(32, 32, kernel_size=(1, 1), stride=(1, 1))\n",
       "          (bn): BatchNorm2d(32, eps=1e-05, momentum=0.1, affine=True, track_running_stats=True)\n",
       "          (act): LeakyReLU(negative_slope=0.01, inplace)\n",
       "        )\n",
       "      )\n",
       "    )\n",
       "    (decoder): Sequential(\n",
       "      (0): DeconvBlock5(\n",
       "        (conv0): InceptionA(\n",
       "          (branch1x1): BasicConv2d(\n",
       "            (conv): Conv2d(32, 8, kernel_size=(1, 1), stride=(1, 1))\n",
       "            (bn): BatchNorm2d(8, eps=1e-05, momentum=0.1, affine=True, track_running_stats=True)\n",
       "            (act): LeakyReLU(negative_slope=0.01, inplace)\n",
       "          )\n",
       "          (branch5x5_1): BasicConv2d(\n",
       "            (conv): Conv2d(32, 6, kernel_size=(1, 1), stride=(1, 1))\n",
       "            (bn): BatchNorm2d(6, eps=1e-05, momentum=0.1, affine=True, track_running_stats=True)\n",
       "            (act): LeakyReLU(negative_slope=0.01, inplace)\n",
       "          )\n",
       "          (branch5x5_2): BasicConv2d(\n",
       "            (conv): Conv2d(6, 8, kernel_size=(5, 5), stride=(1, 1), padding=(2, 2))\n",
       "            (bn): BatchNorm2d(8, eps=1e-05, momentum=0.1, affine=True, track_running_stats=True)\n",
       "            (act): LeakyReLU(negative_slope=0.01, inplace)\n",
       "          )\n",
       "          (branch3x3dbl_1): BasicConv2d(\n",
       "            (conv): Conv2d(32, 8, kernel_size=(1, 1), stride=(1, 1))\n",
       "            (bn): BatchNorm2d(8, eps=1e-05, momentum=0.1, affine=True, track_running_stats=True)\n",
       "            (act): LeakyReLU(negative_slope=0.01, inplace)\n",
       "          )\n",
       "          (branch3x3dbl_2): BasicConv2d(\n",
       "            (conv): Conv2d(8, 12, kernel_size=(3, 3), stride=(1, 1), padding=(1, 1))\n",
       "            (bn): BatchNorm2d(12, eps=1e-05, momentum=0.1, affine=True, track_running_stats=True)\n",
       "            (act): LeakyReLU(negative_slope=0.01, inplace)\n",
       "          )\n",
       "          (branch3x3dbl_3): BasicConv2d(\n",
       "            (conv): Conv2d(12, 12, kernel_size=(3, 3), stride=(1, 1), padding=(1, 1))\n",
       "            (bn): BatchNorm2d(12, eps=1e-05, momentum=0.1, affine=True, track_running_stats=True)\n",
       "            (act): LeakyReLU(negative_slope=0.01, inplace)\n",
       "          )\n",
       "          (branch_pool): BasicConv2d(\n",
       "            (conv): Conv2d(32, 4, kernel_size=(1, 1), stride=(1, 1))\n",
       "            (bn): BatchNorm2d(4, eps=1e-05, momentum=0.1, affine=True, track_running_stats=True)\n",
       "            (act): LeakyReLU(negative_slope=0.01, inplace)\n",
       "          )\n",
       "        )\n",
       "        (deconv1): BasicDeConv2d(\n",
       "          (conv): ConvTranspose2d(32, 288, kernel_size=(1, 1), stride=(1, 1))\n",
       "          (bn): BatchNorm2d(288, eps=1e-05, momentum=0.1, affine=True, track_running_stats=True)\n",
       "          (act): LeakyReLU(negative_slope=0.01, inplace)\n",
       "        )\n",
       "        (conv2): BasicConv2d(\n",
       "          (conv): Conv2d(288, 288, kernel_size=(1, 1), stride=(1, 1))\n",
       "          (bn): BatchNorm2d(288, eps=1e-05, momentum=0.1, affine=True, track_running_stats=True)\n",
       "          (act): LeakyReLU(negative_slope=0.01, inplace)\n",
       "        )\n",
       "      )\n",
       "      (1): DeconvBlock5(\n",
       "        (conv0): InceptionA(\n",
       "          (branch1x1): BasicConv2d(\n",
       "            (conv): Conv2d(288, 72, kernel_size=(1, 1), stride=(1, 1))\n",
       "            (bn): BatchNorm2d(72, eps=1e-05, momentum=0.1, affine=True, track_running_stats=True)\n",
       "            (act): LeakyReLU(negative_slope=0.01, inplace)\n",
       "          )\n",
       "          (branch5x5_1): BasicConv2d(\n",
       "            (conv): Conv2d(288, 54, kernel_size=(1, 1), stride=(1, 1))\n",
       "            (bn): BatchNorm2d(54, eps=1e-05, momentum=0.1, affine=True, track_running_stats=True)\n",
       "            (act): LeakyReLU(negative_slope=0.01, inplace)\n",
       "          )\n",
       "          (branch5x5_2): BasicConv2d(\n",
       "            (conv): Conv2d(54, 72, kernel_size=(5, 5), stride=(1, 1), padding=(2, 2))\n",
       "            (bn): BatchNorm2d(72, eps=1e-05, momentum=0.1, affine=True, track_running_stats=True)\n",
       "            (act): LeakyReLU(negative_slope=0.01, inplace)\n",
       "          )\n",
       "          (branch3x3dbl_1): BasicConv2d(\n",
       "            (conv): Conv2d(288, 72, kernel_size=(1, 1), stride=(1, 1))\n",
       "            (bn): BatchNorm2d(72, eps=1e-05, momentum=0.1, affine=True, track_running_stats=True)\n",
       "            (act): LeakyReLU(negative_slope=0.01, inplace)\n",
       "          )\n",
       "          (branch3x3dbl_2): BasicConv2d(\n",
       "            (conv): Conv2d(72, 108, kernel_size=(3, 3), stride=(1, 1), padding=(1, 1))\n",
       "            (bn): BatchNorm2d(108, eps=1e-05, momentum=0.1, affine=True, track_running_stats=True)\n",
       "            (act): LeakyReLU(negative_slope=0.01, inplace)\n",
       "          )\n",
       "          (branch3x3dbl_3): BasicConv2d(\n",
       "            (conv): Conv2d(108, 108, kernel_size=(3, 3), stride=(1, 1), padding=(1, 1))\n",
       "            (bn): BatchNorm2d(108, eps=1e-05, momentum=0.1, affine=True, track_running_stats=True)\n",
       "            (act): LeakyReLU(negative_slope=0.01, inplace)\n",
       "          )\n",
       "          (branch_pool): BasicConv2d(\n",
       "            (conv): Conv2d(288, 36, kernel_size=(1, 1), stride=(1, 1))\n",
       "            (bn): BatchNorm2d(36, eps=1e-05, momentum=0.1, affine=True, track_running_stats=True)\n",
       "            (act): LeakyReLU(negative_slope=0.01, inplace)\n",
       "          )\n",
       "        )\n",
       "        (deconv1): BasicDeConv2d(\n",
       "          (conv): ConvTranspose2d(288, 240, kernel_size=(4, 4), stride=(2, 2), padding=(1, 1))\n",
       "          (bn): BatchNorm2d(240, eps=1e-05, momentum=0.1, affine=True, track_running_stats=True)\n",
       "          (act): LeakyReLU(negative_slope=0.01, inplace)\n",
       "        )\n",
       "        (conv2): BasicConv2d(\n",
       "          (conv): Conv2d(240, 240, kernel_size=(1, 1), stride=(1, 1))\n",
       "          (bn): BatchNorm2d(240, eps=1e-05, momentum=0.1, affine=True, track_running_stats=True)\n",
       "          (act): LeakyReLU(negative_slope=0.01, inplace)\n",
       "        )\n",
       "      )\n",
       "      (2): DeconvBlock5(\n",
       "        (conv0): InceptionA(\n",
       "          (branch1x1): BasicConv2d(\n",
       "            (conv): Conv2d(240, 60, kernel_size=(1, 1), stride=(1, 1))\n",
       "            (bn): BatchNorm2d(60, eps=1e-05, momentum=0.1, affine=True, track_running_stats=True)\n",
       "            (act): LeakyReLU(negative_slope=0.01, inplace)\n",
       "          )\n",
       "          (branch5x5_1): BasicConv2d(\n",
       "            (conv): Conv2d(240, 45, kernel_size=(1, 1), stride=(1, 1))\n",
       "            (bn): BatchNorm2d(45, eps=1e-05, momentum=0.1, affine=True, track_running_stats=True)\n",
       "            (act): LeakyReLU(negative_slope=0.01, inplace)\n",
       "          )\n",
       "          (branch5x5_2): BasicConv2d(\n",
       "            (conv): Conv2d(45, 60, kernel_size=(5, 5), stride=(1, 1), padding=(2, 2))\n",
       "            (bn): BatchNorm2d(60, eps=1e-05, momentum=0.1, affine=True, track_running_stats=True)\n",
       "            (act): LeakyReLU(negative_slope=0.01, inplace)\n",
       "          )\n",
       "          (branch3x3dbl_1): BasicConv2d(\n",
       "            (conv): Conv2d(240, 60, kernel_size=(1, 1), stride=(1, 1))\n",
       "            (bn): BatchNorm2d(60, eps=1e-05, momentum=0.1, affine=True, track_running_stats=True)\n",
       "            (act): LeakyReLU(negative_slope=0.01, inplace)\n",
       "          )\n",
       "          (branch3x3dbl_2): BasicConv2d(\n",
       "            (conv): Conv2d(60, 90, kernel_size=(3, 3), stride=(1, 1), padding=(1, 1))\n",
       "            (bn): BatchNorm2d(90, eps=1e-05, momentum=0.1, affine=True, track_running_stats=True)\n",
       "            (act): LeakyReLU(negative_slope=0.01, inplace)\n",
       "          )\n",
       "          (branch3x3dbl_3): BasicConv2d(\n",
       "            (conv): Conv2d(90, 90, kernel_size=(3, 3), stride=(1, 1), padding=(1, 1))\n",
       "            (bn): BatchNorm2d(90, eps=1e-05, momentum=0.1, affine=True, track_running_stats=True)\n",
       "            (act): LeakyReLU(negative_slope=0.01, inplace)\n",
       "          )\n",
       "          (branch_pool): BasicConv2d(\n",
       "            (conv): Conv2d(240, 30, kernel_size=(1, 1), stride=(1, 1))\n",
       "            (bn): BatchNorm2d(30, eps=1e-05, momentum=0.1, affine=True, track_running_stats=True)\n",
       "            (act): LeakyReLU(negative_slope=0.01, inplace)\n",
       "          )\n",
       "        )\n",
       "        (deconv1): BasicDeConv2d(\n",
       "          (conv): ConvTranspose2d(240, 192, kernel_size=(4, 4), stride=(2, 2), padding=(1, 1))\n",
       "          (bn): BatchNorm2d(192, eps=1e-05, momentum=0.1, affine=True, track_running_stats=True)\n",
       "          (act): LeakyReLU(negative_slope=0.01, inplace)\n",
       "        )\n",
       "        (conv2): BasicConv2d(\n",
       "          (conv): Conv2d(192, 192, kernel_size=(1, 1), stride=(1, 1))\n",
       "          (bn): BatchNorm2d(192, eps=1e-05, momentum=0.1, affine=True, track_running_stats=True)\n",
       "          (act): LeakyReLU(negative_slope=0.01, inplace)\n",
       "        )\n",
       "      )\n",
       "      (3): DeconvBlock5(\n",
       "        (conv0): InceptionA(\n",
       "          (branch1x1): BasicConv2d(\n",
       "            (conv): Conv2d(192, 48, kernel_size=(1, 1), stride=(1, 1))\n",
       "            (bn): BatchNorm2d(48, eps=1e-05, momentum=0.1, affine=True, track_running_stats=True)\n",
       "            (act): LeakyReLU(negative_slope=0.01, inplace)\n",
       "          )\n",
       "          (branch5x5_1): BasicConv2d(\n",
       "            (conv): Conv2d(192, 36, kernel_size=(1, 1), stride=(1, 1))\n",
       "            (bn): BatchNorm2d(36, eps=1e-05, momentum=0.1, affine=True, track_running_stats=True)\n",
       "            (act): LeakyReLU(negative_slope=0.01, inplace)\n",
       "          )\n",
       "          (branch5x5_2): BasicConv2d(\n",
       "            (conv): Conv2d(36, 48, kernel_size=(5, 5), stride=(1, 1), padding=(2, 2))\n",
       "            (bn): BatchNorm2d(48, eps=1e-05, momentum=0.1, affine=True, track_running_stats=True)\n",
       "            (act): LeakyReLU(negative_slope=0.01, inplace)\n",
       "          )\n",
       "          (branch3x3dbl_1): BasicConv2d(\n",
       "            (conv): Conv2d(192, 48, kernel_size=(1, 1), stride=(1, 1))\n",
       "            (bn): BatchNorm2d(48, eps=1e-05, momentum=0.1, affine=True, track_running_stats=True)\n",
       "            (act): LeakyReLU(negative_slope=0.01, inplace)\n",
       "          )\n",
       "          (branch3x3dbl_2): BasicConv2d(\n",
       "            (conv): Conv2d(48, 72, kernel_size=(3, 3), stride=(1, 1), padding=(1, 1))\n",
       "            (bn): BatchNorm2d(72, eps=1e-05, momentum=0.1, affine=True, track_running_stats=True)\n",
       "            (act): LeakyReLU(negative_slope=0.01, inplace)\n",
       "          )\n",
       "          (branch3x3dbl_3): BasicConv2d(\n",
       "            (conv): Conv2d(72, 72, kernel_size=(3, 3), stride=(1, 1), padding=(1, 1))\n",
       "            (bn): BatchNorm2d(72, eps=1e-05, momentum=0.1, affine=True, track_running_stats=True)\n",
       "            (act): LeakyReLU(negative_slope=0.01, inplace)\n",
       "          )\n",
       "          (branch_pool): BasicConv2d(\n",
       "            (conv): Conv2d(192, 24, kernel_size=(1, 1), stride=(1, 1))\n",
       "            (bn): BatchNorm2d(24, eps=1e-05, momentum=0.1, affine=True, track_running_stats=True)\n",
       "            (act): LeakyReLU(negative_slope=0.01, inplace)\n",
       "          )\n",
       "        )\n",
       "        (deconv1): BasicDeConv2d(\n",
       "          (conv): ConvTranspose2d(192, 144, kernel_size=(4, 4), stride=(2, 2), padding=(1, 1))\n",
       "          (bn): BatchNorm2d(144, eps=1e-05, momentum=0.1, affine=True, track_running_stats=True)\n",
       "          (act): LeakyReLU(negative_slope=0.01, inplace)\n",
       "        )\n",
       "        (conv2): BasicConv2d(\n",
       "          (conv): Conv2d(144, 144, kernel_size=(1, 1), stride=(1, 1))\n",
       "          (bn): BatchNorm2d(144, eps=1e-05, momentum=0.1, affine=True, track_running_stats=True)\n",
       "          (act): LeakyReLU(negative_slope=0.01, inplace)\n",
       "        )\n",
       "      )\n",
       "      (4): DeconvBlock5(\n",
       "        (conv0): InceptionA(\n",
       "          (branch1x1): BasicConv2d(\n",
       "            (conv): Conv2d(144, 36, kernel_size=(1, 1), stride=(1, 1))\n",
       "            (bn): BatchNorm2d(36, eps=1e-05, momentum=0.1, affine=True, track_running_stats=True)\n",
       "            (act): LeakyReLU(negative_slope=0.01, inplace)\n",
       "          )\n",
       "          (branch5x5_1): BasicConv2d(\n",
       "            (conv): Conv2d(144, 27, kernel_size=(1, 1), stride=(1, 1))\n",
       "            (bn): BatchNorm2d(27, eps=1e-05, momentum=0.1, affine=True, track_running_stats=True)\n",
       "            (act): LeakyReLU(negative_slope=0.01, inplace)\n",
       "          )\n",
       "          (branch5x5_2): BasicConv2d(\n",
       "            (conv): Conv2d(27, 36, kernel_size=(5, 5), stride=(1, 1), padding=(2, 2))\n",
       "            (bn): BatchNorm2d(36, eps=1e-05, momentum=0.1, affine=True, track_running_stats=True)\n",
       "            (act): LeakyReLU(negative_slope=0.01, inplace)\n",
       "          )\n",
       "          (branch3x3dbl_1): BasicConv2d(\n",
       "            (conv): Conv2d(144, 36, kernel_size=(1, 1), stride=(1, 1))\n",
       "            (bn): BatchNorm2d(36, eps=1e-05, momentum=0.1, affine=True, track_running_stats=True)\n",
       "            (act): LeakyReLU(negative_slope=0.01, inplace)\n",
       "          )\n",
       "          (branch3x3dbl_2): BasicConv2d(\n",
       "            (conv): Conv2d(36, 54, kernel_size=(3, 3), stride=(1, 1), padding=(1, 1))\n",
       "            (bn): BatchNorm2d(54, eps=1e-05, momentum=0.1, affine=True, track_running_stats=True)\n",
       "            (act): LeakyReLU(negative_slope=0.01, inplace)\n",
       "          )\n",
       "          (branch3x3dbl_3): BasicConv2d(\n",
       "            (conv): Conv2d(54, 54, kernel_size=(3, 3), stride=(1, 1), padding=(1, 1))\n",
       "            (bn): BatchNorm2d(54, eps=1e-05, momentum=0.1, affine=True, track_running_stats=True)\n",
       "            (act): LeakyReLU(negative_slope=0.01, inplace)\n",
       "          )\n",
       "          (branch_pool): BasicConv2d(\n",
       "            (conv): Conv2d(144, 18, kernel_size=(1, 1), stride=(1, 1))\n",
       "            (bn): BatchNorm2d(18, eps=1e-05, momentum=0.1, affine=True, track_running_stats=True)\n",
       "            (act): LeakyReLU(negative_slope=0.01, inplace)\n",
       "          )\n",
       "        )\n",
       "        (deconv1): BasicDeConv2d(\n",
       "          (conv): ConvTranspose2d(144, 96, kernel_size=(4, 4), stride=(2, 2), padding=(1, 1))\n",
       "          (bn): BatchNorm2d(96, eps=1e-05, momentum=0.1, affine=True, track_running_stats=True)\n",
       "          (act): LeakyReLU(negative_slope=0.01, inplace)\n",
       "        )\n",
       "        (conv2): BasicConv2d(\n",
       "          (conv): Conv2d(96, 96, kernel_size=(1, 1), stride=(1, 1))\n",
       "          (bn): BatchNorm2d(96, eps=1e-05, momentum=0.1, affine=True, track_running_stats=True)\n",
       "          (act): LeakyReLU(negative_slope=0.01, inplace)\n",
       "        )\n",
       "      )\n",
       "      (5): DeconvBlock5(\n",
       "        (conv0): InceptionA(\n",
       "          (branch1x1): BasicConv2d(\n",
       "            (conv): Conv2d(96, 24, kernel_size=(1, 1), stride=(1, 1))\n",
       "            (bn): BatchNorm2d(24, eps=1e-05, momentum=0.1, affine=True, track_running_stats=True)\n",
       "            (act): LeakyReLU(negative_slope=0.01, inplace)\n",
       "          )\n",
       "          (branch5x5_1): BasicConv2d(\n",
       "            (conv): Conv2d(96, 18, kernel_size=(1, 1), stride=(1, 1))\n",
       "            (bn): BatchNorm2d(18, eps=1e-05, momentum=0.1, affine=True, track_running_stats=True)\n",
       "            (act): LeakyReLU(negative_slope=0.01, inplace)\n",
       "          )\n",
       "          (branch5x5_2): BasicConv2d(\n",
       "            (conv): Conv2d(18, 24, kernel_size=(5, 5), stride=(1, 1), padding=(2, 2))\n",
       "            (bn): BatchNorm2d(24, eps=1e-05, momentum=0.1, affine=True, track_running_stats=True)\n",
       "            (act): LeakyReLU(negative_slope=0.01, inplace)\n",
       "          )\n",
       "          (branch3x3dbl_1): BasicConv2d(\n",
       "            (conv): Conv2d(96, 24, kernel_size=(1, 1), stride=(1, 1))\n",
       "            (bn): BatchNorm2d(24, eps=1e-05, momentum=0.1, affine=True, track_running_stats=True)\n",
       "            (act): LeakyReLU(negative_slope=0.01, inplace)\n",
       "          )\n",
       "          (branch3x3dbl_2): BasicConv2d(\n",
       "            (conv): Conv2d(24, 36, kernel_size=(3, 3), stride=(1, 1), padding=(1, 1))\n",
       "            (bn): BatchNorm2d(36, eps=1e-05, momentum=0.1, affine=True, track_running_stats=True)\n",
       "            (act): LeakyReLU(negative_slope=0.01, inplace)\n",
       "          )\n",
       "          (branch3x3dbl_3): BasicConv2d(\n",
       "            (conv): Conv2d(36, 36, kernel_size=(3, 3), stride=(1, 1), padding=(1, 1))\n",
       "            (bn): BatchNorm2d(36, eps=1e-05, momentum=0.1, affine=True, track_running_stats=True)\n",
       "            (act): LeakyReLU(negative_slope=0.01, inplace)\n",
       "          )\n",
       "          (branch_pool): BasicConv2d(\n",
       "            (conv): Conv2d(96, 12, kernel_size=(1, 1), stride=(1, 1))\n",
       "            (bn): BatchNorm2d(12, eps=1e-05, momentum=0.1, affine=True, track_running_stats=True)\n",
       "            (act): LeakyReLU(negative_slope=0.01, inplace)\n",
       "          )\n",
       "        )\n",
       "        (deconv1): BasicDeConv2d(\n",
       "          (conv): ConvTranspose2d(96, 48, kernel_size=(4, 4), stride=(2, 2), padding=(1, 1))\n",
       "          (bn): BatchNorm2d(48, eps=1e-05, momentum=0.1, affine=True, track_running_stats=True)\n",
       "          (act): LeakyReLU(negative_slope=0.01, inplace)\n",
       "        )\n",
       "        (conv2): BasicConv2d(\n",
       "          (conv): Conv2d(48, 48, kernel_size=(1, 1), stride=(1, 1))\n",
       "          (bn): BatchNorm2d(48, eps=1e-05, momentum=0.1, affine=True, track_running_stats=True)\n",
       "          (act): LeakyReLU(negative_slope=0.01, inplace)\n",
       "        )\n",
       "      )\n",
       "      (6): Conv2d(48, 3, kernel_size=(3, 3), stride=(1, 1), padding=(1, 1))\n",
       "    )\n",
       "    (sigmoid): Sigmoid()\n",
       "  )\n",
       "  (mdnrnn): MDNRNN2(\n",
       "    (rnn): LSTM(266, 128, batch_first=True)\n",
       "    (ln1): Linear(in_features=128, out_features=128, bias=True)\n",
       "    (ln2): Linear(in_features=128, out_features=640, bias=True)\n",
       "    (mdn): Linear(in_features=640, out_features=2304, bias=True)\n",
       "  )\n",
       "  (finv): InverseModel(\n",
       "    (ln1): Linear(in_features=512, out_features=256, bias=True)\n",
       "    (ln2): Linear(in_features=256, out_features=256, bias=True)\n",
       "    (ln3): Linear(in_features=256, out_features=10, bias=True)\n",
       "  )\n",
       ")"
      ]
     },
     "execution_count": 12,
     "metadata": {},
     "output_type": "execute_result"
    }
   ],
   "source": [
    "        \n",
    "world_model = WorldModel(vae, mdnrnn, finv)\n",
    "world_model.eval()\n",
    "world_model"
   ]
  },
  {
   "cell_type": "code",
   "execution_count": 13,
   "metadata": {
    "ExecuteTime": {
     "end_time": "2018-05-20T15:03:45.687967Z",
     "start_time": "2018-05-20T15:03:45.663650Z"
    }
   },
   "outputs": [],
   "source": [
    "\n",
    "# import torch.optim.lr_scheduler\n",
    "# optimizer = optim.Adam(world_model.parameters(), lr=1e-3)\n",
    "# scheduler = optim.lr_scheduler.ReduceLROnPlateau(optimizer, mode='min', patience=3, verbose=True)\n",
    "# optimizer"
   ]
  },
  {
   "cell_type": "markdown",
   "metadata": {
    "ExecuteTime": {
     "end_time": "2018-05-20T08:02:13.543439Z",
     "start_time": "2018-05-20T08:02:13.516675Z"
    }
   },
   "source": [
    "# summarize"
   ]
  },
  {
   "cell_type": "code",
   "execution_count": 14,
   "metadata": {
    "ExecuteTime": {
     "end_time": "2018-05-20T15:03:45.921314Z",
     "start_time": "2018-05-20T15:03:45.689623Z"
    }
   },
   "outputs": [
    {
     "name": "stdout",
     "output_type": "stream",
     "text": [
      "Total parameters 8909862\n",
      "Total trainable parameters 8909862\n"
     ]
    },
    {
     "data": {
      "text/html": [
       "<div>\n",
       "<style scoped>\n",
       "    .dataframe tbody tr th:only-of-type {\n",
       "        vertical-align: middle;\n",
       "    }\n",
       "\n",
       "    .dataframe tbody tr th {\n",
       "        vertical-align: top;\n",
       "    }\n",
       "\n",
       "    .dataframe thead th {\n",
       "        text-align: right;\n",
       "    }\n",
       "</style>\n",
       "<table border=\"1\" class=\"dataframe\">\n",
       "  <thead>\n",
       "    <tr style=\"text-align: right;\">\n",
       "      <th></th>\n",
       "      <th>name</th>\n",
       "      <th>class_name</th>\n",
       "      <th>input_shape</th>\n",
       "      <th>output_shape</th>\n",
       "      <th>nb_params</th>\n",
       "      <th>level</th>\n",
       "    </tr>\n",
       "  </thead>\n",
       "  <tbody>\n",
       "    <tr>\n",
       "      <th>4</th>\n",
       "      <td>encoder.0</td>\n",
       "      <td>BasicConv2d</td>\n",
       "      <td>[(-1, 3, 256, 256)]</td>\n",
       "      <td>[(-1, 48, 256, 256)]</td>\n",
       "      <td>1440</td>\n",
       "      <td>1</td>\n",
       "    </tr>\n",
       "    <tr>\n",
       "      <th>42</th>\n",
       "      <td>encoder.1</td>\n",
       "      <td>ConvBlock5</td>\n",
       "      <td>[(-1, 48, 256, 256)]</td>\n",
       "      <td>[(-1, 96, 128, 128)]</td>\n",
       "      <td>93213</td>\n",
       "      <td>1</td>\n",
       "    </tr>\n",
       "    <tr>\n",
       "      <th>80</th>\n",
       "      <td>encoder.2</td>\n",
       "      <td>ConvBlock5</td>\n",
       "      <td>[(-1, 96, 128, 128)]</td>\n",
       "      <td>[(-1, 144, 64, 64)]</td>\n",
       "      <td>281034</td>\n",
       "      <td>1</td>\n",
       "    </tr>\n",
       "    <tr>\n",
       "      <th>118</th>\n",
       "      <td>encoder.3</td>\n",
       "      <td>ConvBlock5</td>\n",
       "      <td>[(-1, 144, 64, 64)]</td>\n",
       "      <td>[(-1, 192, 32, 32)]</td>\n",
       "      <td>566055</td>\n",
       "      <td>1</td>\n",
       "    </tr>\n",
       "    <tr>\n",
       "      <th>156</th>\n",
       "      <td>encoder.4</td>\n",
       "      <td>ConvBlock5</td>\n",
       "      <td>[(-1, 192, 32, 32)]</td>\n",
       "      <td>[(-1, 240, 16, 16)]</td>\n",
       "      <td>948276</td>\n",
       "      <td>1</td>\n",
       "    </tr>\n",
       "    <tr>\n",
       "      <th>194</th>\n",
       "      <td>encoder.5</td>\n",
       "      <td>ConvBlock5</td>\n",
       "      <td>[(-1, 240, 16, 16)]</td>\n",
       "      <td>[(-1, 288, 8, 8)]</td>\n",
       "      <td>1427697</td>\n",
       "      <td>1</td>\n",
       "    </tr>\n",
       "    <tr>\n",
       "      <th>232</th>\n",
       "      <td>encoder.6</td>\n",
       "      <td>ConvBlock5</td>\n",
       "      <td>[(-1, 288, 8, 8)]</td>\n",
       "      <td>[(-1, 32, 8, 8)]</td>\n",
       "      <td>351550</td>\n",
       "      <td>1</td>\n",
       "    </tr>\n",
       "    <tr>\n",
       "      <th>233</th>\n",
       "      <td>mu</td>\n",
       "      <td>Linear</td>\n",
       "      <td>[(-1, 2048)]</td>\n",
       "      <td>[(-1, 256)]</td>\n",
       "      <td>524544</td>\n",
       "      <td>0</td>\n",
       "    </tr>\n",
       "    <tr>\n",
       "      <th>234</th>\n",
       "      <td>logvar</td>\n",
       "      <td>Linear</td>\n",
       "      <td>[(-1, 2048)]</td>\n",
       "      <td>[(-1, 256)]</td>\n",
       "      <td>524544</td>\n",
       "      <td>0</td>\n",
       "    </tr>\n",
       "    <tr>\n",
       "      <th>235</th>\n",
       "      <td>z</td>\n",
       "      <td>Linear</td>\n",
       "      <td>[(-1, 256)]</td>\n",
       "      <td>[(-1, 2048)]</td>\n",
       "      <td>526336</td>\n",
       "      <td>0</td>\n",
       "    </tr>\n",
       "    <tr>\n",
       "      <th>273</th>\n",
       "      <td>decoder.0</td>\n",
       "      <td>DeconvBlock5</td>\n",
       "      <td>[(-1, 32, 8, 8)]</td>\n",
       "      <td>[(-1, 288, 8, 8)]</td>\n",
       "      <td>98254</td>\n",
       "      <td>1</td>\n",
       "    </tr>\n",
       "    <tr>\n",
       "      <th>311</th>\n",
       "      <td>decoder.1</td>\n",
       "      <td>DeconvBlock5</td>\n",
       "      <td>[(-1, 288, 8, 8)]</td>\n",
       "      <td>[(-1, 240, 16, 16)]</td>\n",
       "      <td>1506078</td>\n",
       "      <td>1</td>\n",
       "    </tr>\n",
       "    <tr>\n",
       "      <th>349</th>\n",
       "      <td>decoder.2</td>\n",
       "      <td>DeconvBlock5</td>\n",
       "      <td>[(-1, 240, 16, 16)]</td>\n",
       "      <td>[(-1, 192, 32, 32)]</td>\n",
       "      <td>1012401</td>\n",
       "      <td>1</td>\n",
       "    </tr>\n",
       "    <tr>\n",
       "      <th>387</th>\n",
       "      <td>decoder.3</td>\n",
       "      <td>DeconvBlock5</td>\n",
       "      <td>[(-1, 192, 32, 32)]</td>\n",
       "      <td>[(-1, 144, 64, 64)]</td>\n",
       "      <td>615924</td>\n",
       "      <td>1</td>\n",
       "    </tr>\n",
       "    <tr>\n",
       "      <th>425</th>\n",
       "      <td>decoder.4</td>\n",
       "      <td>DeconvBlock5</td>\n",
       "      <td>[(-1, 144, 64, 64)]</td>\n",
       "      <td>[(-1, 96, 128, 128)]</td>\n",
       "      <td>316647</td>\n",
       "      <td>1</td>\n",
       "    </tr>\n",
       "    <tr>\n",
       "      <th>463</th>\n",
       "      <td>decoder.5</td>\n",
       "      <td>DeconvBlock5</td>\n",
       "      <td>[(-1, 96, 128, 128)]</td>\n",
       "      <td>[(-1, 48, 256, 256)]</td>\n",
       "      <td>114570</td>\n",
       "      <td>1</td>\n",
       "    </tr>\n",
       "    <tr>\n",
       "      <th>464</th>\n",
       "      <td>decoder.6</td>\n",
       "      <td>Conv2d</td>\n",
       "      <td>[(-1, 48, 256, 256)]</td>\n",
       "      <td>[(-1, 3, 256, 256)]</td>\n",
       "      <td>1299</td>\n",
       "      <td>1</td>\n",
       "    </tr>\n",
       "    <tr>\n",
       "      <th>465</th>\n",
       "      <td>sigmoid</td>\n",
       "      <td>Sigmoid</td>\n",
       "      <td>[(-1, 3, 256, 256)]</td>\n",
       "      <td>[(-1, 3, 256, 256)]</td>\n",
       "      <td>0</td>\n",
       "      <td>0</td>\n",
       "    </tr>\n",
       "  </tbody>\n",
       "</table>\n",
       "</div>"
      ],
      "text/plain": [
       "          name    class_name           input_shape          output_shape  \\\n",
       "4    encoder.0   BasicConv2d   [(-1, 3, 256, 256)]  [(-1, 48, 256, 256)]   \n",
       "42   encoder.1    ConvBlock5  [(-1, 48, 256, 256)]  [(-1, 96, 128, 128)]   \n",
       "80   encoder.2    ConvBlock5  [(-1, 96, 128, 128)]   [(-1, 144, 64, 64)]   \n",
       "118  encoder.3    ConvBlock5   [(-1, 144, 64, 64)]   [(-1, 192, 32, 32)]   \n",
       "156  encoder.4    ConvBlock5   [(-1, 192, 32, 32)]   [(-1, 240, 16, 16)]   \n",
       "194  encoder.5    ConvBlock5   [(-1, 240, 16, 16)]     [(-1, 288, 8, 8)]   \n",
       "232  encoder.6    ConvBlock5     [(-1, 288, 8, 8)]      [(-1, 32, 8, 8)]   \n",
       "233         mu        Linear          [(-1, 2048)]           [(-1, 256)]   \n",
       "234     logvar        Linear          [(-1, 2048)]           [(-1, 256)]   \n",
       "235          z        Linear           [(-1, 256)]          [(-1, 2048)]   \n",
       "273  decoder.0  DeconvBlock5      [(-1, 32, 8, 8)]     [(-1, 288, 8, 8)]   \n",
       "311  decoder.1  DeconvBlock5     [(-1, 288, 8, 8)]   [(-1, 240, 16, 16)]   \n",
       "349  decoder.2  DeconvBlock5   [(-1, 240, 16, 16)]   [(-1, 192, 32, 32)]   \n",
       "387  decoder.3  DeconvBlock5   [(-1, 192, 32, 32)]   [(-1, 144, 64, 64)]   \n",
       "425  decoder.4  DeconvBlock5   [(-1, 144, 64, 64)]  [(-1, 96, 128, 128)]   \n",
       "463  decoder.5  DeconvBlock5  [(-1, 96, 128, 128)]  [(-1, 48, 256, 256)]   \n",
       "464  decoder.6        Conv2d  [(-1, 48, 256, 256)]   [(-1, 3, 256, 256)]   \n",
       "465    sigmoid       Sigmoid   [(-1, 3, 256, 256)]   [(-1, 3, 256, 256)]   \n",
       "\n",
       "     nb_params  level  \n",
       "4         1440      1  \n",
       "42       93213      1  \n",
       "80      281034      1  \n",
       "118     566055      1  \n",
       "156     948276      1  \n",
       "194    1427697      1  \n",
       "232     351550      1  \n",
       "233     524544      0  \n",
       "234     524544      0  \n",
       "235     526336      0  \n",
       "273      98254      1  \n",
       "311    1506078      1  \n",
       "349    1012401      1  \n",
       "387     615924      1  \n",
       "425     316647      1  \n",
       "463     114570      1  \n",
       "464       1299      1  \n",
       "465          0      0  "
      ]
     },
     "execution_count": 14,
     "metadata": {},
     "output_type": "execute_result"
    }
   ],
   "source": [
    "img = np.random.randn(image_size, image_size, 3)\n",
    "action = np.array(np.random.randint(0,action_dim))[np.newaxis]\n",
    "action = Variable(torch.from_numpy(action)).float().cuda()[np.newaxis]\n",
    "gpu_img = Variable(torch.from_numpy(img[np.newaxis].transpose(0, 3, 1, 2))).float().cuda()\n",
    "if cuda:\n",
    "    gpu_img = gpu_img.cuda()\n",
    "with TorchSummarizeDf(vae) as tdf:\n",
    "    x, mu_vae, logvar_vae = vae.forward(gpu_img)\n",
    "    z = vae.sample(mu_vae, logvar_vae)\n",
    "    df_vae = tdf.make_df()\n",
    "#     loss_recon, loss_KLD = loss_function_vae(Y, x, mu_vae, sigma_vae)\n",
    "#     loss_vae = loss_recon + lambda_vae_kld * torch.abs(loss_KLD-C)\n",
    "#     loss_vae = loss_vae.mean() # mean along the batches\n",
    "\n",
    "\n",
    "df_vae[df_vae.level<2]\n"
   ]
  },
  {
   "cell_type": "code",
   "execution_count": 15,
   "metadata": {
    "ExecuteTime": {
     "end_time": "2018-05-20T15:03:45.969707Z",
     "start_time": "2018-05-20T15:03:45.923067Z"
    }
   },
   "outputs": [
    {
     "name": "stdout",
     "output_type": "stream",
     "text": [
      "Total parameters 1778688\n",
      "Total trainable parameters 1778688\n"
     ]
    },
    {
     "data": {
      "text/html": [
       "<div>\n",
       "<style scoped>\n",
       "    .dataframe tbody tr th:only-of-type {\n",
       "        vertical-align: middle;\n",
       "    }\n",
       "\n",
       "    .dataframe tbody tr th {\n",
       "        vertical-align: top;\n",
       "    }\n",
       "\n",
       "    .dataframe thead th {\n",
       "        text-align: right;\n",
       "    }\n",
       "</style>\n",
       "<table border=\"1\" class=\"dataframe\">\n",
       "  <thead>\n",
       "    <tr style=\"text-align: right;\">\n",
       "      <th></th>\n",
       "      <th>name</th>\n",
       "      <th>class_name</th>\n",
       "      <th>input_shape</th>\n",
       "      <th>output_shape</th>\n",
       "      <th>nb_params</th>\n",
       "      <th>level</th>\n",
       "    </tr>\n",
       "  </thead>\n",
       "  <tbody>\n",
       "    <tr>\n",
       "      <th>1</th>\n",
       "      <td>rnn</td>\n",
       "      <td>LSTM</td>\n",
       "      <td>[[(-1, 2, 266)], [[(-1, 1, 128)], [(-1, 1, 128...</td>\n",
       "      <td>[[(-1, 2, 128)], [[(-1, 1, 128)], [(-1, 1, 128...</td>\n",
       "      <td>202752</td>\n",
       "      <td>0</td>\n",
       "    </tr>\n",
       "    <tr>\n",
       "      <th>2</th>\n",
       "      <td>ln1</td>\n",
       "      <td>Linear</td>\n",
       "      <td>[(-1, 128), (-1, 128)]</td>\n",
       "      <td>[(-1, 128), (-1, 128)]</td>\n",
       "      <td>16512</td>\n",
       "      <td>0</td>\n",
       "    </tr>\n",
       "    <tr>\n",
       "      <th>3</th>\n",
       "      <td>ln2</td>\n",
       "      <td>Linear</td>\n",
       "      <td>[(-1, 128), (-1, 128)]</td>\n",
       "      <td>[(-1, 640), (-1, 640)]</td>\n",
       "      <td>82560</td>\n",
       "      <td>0</td>\n",
       "    </tr>\n",
       "    <tr>\n",
       "      <th>4</th>\n",
       "      <td>mdn</td>\n",
       "      <td>Linear</td>\n",
       "      <td>[(-1, 640), (-1, 640)]</td>\n",
       "      <td>[(-1, 2304), (-1, 2304)]</td>\n",
       "      <td>1476864</td>\n",
       "      <td>0</td>\n",
       "    </tr>\n",
       "  </tbody>\n",
       "</table>\n",
       "</div>"
      ],
      "text/plain": [
       "  name class_name                                        input_shape  \\\n",
       "1  rnn       LSTM  [[(-1, 2, 266)], [[(-1, 1, 128)], [(-1, 1, 128...   \n",
       "2  ln1     Linear                             [(-1, 128), (-1, 128)]   \n",
       "3  ln2     Linear                             [(-1, 128), (-1, 128)]   \n",
       "4  mdn     Linear                             [(-1, 640), (-1, 640)]   \n",
       "\n",
       "                                        output_shape  nb_params  level  \n",
       "1  [[(-1, 2, 128)], [[(-1, 1, 128)], [(-1, 1, 128...     202752      0  \n",
       "2                             [(-1, 128), (-1, 128)]      16512      0  \n",
       "3                             [(-1, 640), (-1, 640)]      82560      0  \n",
       "4                           [(-1, 2304), (-1, 2304)]    1476864      0  "
      ]
     },
     "execution_count": 15,
     "metadata": {},
     "output_type": "execute_result"
    }
   ],
   "source": [
    "with TorchSummarizeDf(mdnrnn) as tdf: \n",
    "    pi, mu, sigma, hidden_state = mdnrnn.forward(z.unsqueeze(1).repeat((1,2,1)), action.repeat((1,2)))\n",
    "    z_next = mdnrnn.sample(pi, mu, sigma)\n",
    "#     loss_mdn = mdnrnn.rnn_loss(z, pi, mu, sigma).mean()\n",
    "    df_mdnrnn = tdf.make_df()\n",
    "    \n",
    "df_mdnrnn"
   ]
  },
  {
   "cell_type": "code",
   "execution_count": 16,
   "metadata": {
    "ExecuteTime": {
     "end_time": "2018-05-20T15:03:46.005683Z",
     "start_time": "2018-05-20T15:03:45.971324Z"
    }
   },
   "outputs": [
    {
     "name": "stdout",
     "output_type": "stream",
     "text": [
      "Total parameters 199690\n",
      "Total trainable parameters 199690\n"
     ]
    },
    {
     "data": {
      "text/html": [
       "<div>\n",
       "<style scoped>\n",
       "    .dataframe tbody tr th:only-of-type {\n",
       "        vertical-align: middle;\n",
       "    }\n",
       "\n",
       "    .dataframe tbody tr th {\n",
       "        vertical-align: top;\n",
       "    }\n",
       "\n",
       "    .dataframe thead th {\n",
       "        text-align: right;\n",
       "    }\n",
       "</style>\n",
       "<table border=\"1\" class=\"dataframe\">\n",
       "  <thead>\n",
       "    <tr style=\"text-align: right;\">\n",
       "      <th></th>\n",
       "      <th>name</th>\n",
       "      <th>class_name</th>\n",
       "      <th>input_shape</th>\n",
       "      <th>output_shape</th>\n",
       "      <th>nb_params</th>\n",
       "      <th>level</th>\n",
       "    </tr>\n",
       "  </thead>\n",
       "  <tbody>\n",
       "    <tr>\n",
       "      <th>1</th>\n",
       "      <td>ln1</td>\n",
       "      <td>Linear</td>\n",
       "      <td>[(-1, 2, 512)]</td>\n",
       "      <td>[(-1, 2, 256)]</td>\n",
       "      <td>131328</td>\n",
       "      <td>0</td>\n",
       "    </tr>\n",
       "    <tr>\n",
       "      <th>2</th>\n",
       "      <td>ln2</td>\n",
       "      <td>Linear</td>\n",
       "      <td>[(-1, 2, 256)]</td>\n",
       "      <td>[(-1, 2, 256)]</td>\n",
       "      <td>65792</td>\n",
       "      <td>0</td>\n",
       "    </tr>\n",
       "    <tr>\n",
       "      <th>3</th>\n",
       "      <td>ln3</td>\n",
       "      <td>Linear</td>\n",
       "      <td>[(-1, 2, 256)]</td>\n",
       "      <td>[(-1, 2, 10)]</td>\n",
       "      <td>2570</td>\n",
       "      <td>0</td>\n",
       "    </tr>\n",
       "  </tbody>\n",
       "</table>\n",
       "</div>"
      ],
      "text/plain": [
       "  name class_name     input_shape    output_shape  nb_params  level\n",
       "1  ln1     Linear  [(-1, 2, 512)]  [(-1, 2, 256)]     131328      0\n",
       "2  ln2     Linear  [(-1, 2, 256)]  [(-1, 2, 256)]      65792      0\n",
       "3  ln3     Linear  [(-1, 2, 256)]   [(-1, 2, 10)]       2570      0"
      ]
     },
     "execution_count": 16,
     "metadata": {},
     "output_type": "execute_result"
    }
   ],
   "source": [
    "#     loss = loss_mdn + gamma_vae * loss_vae\n",
    "with TorchSummarizeDf(finv) as tdf:\n",
    "    action_pred = finv(z.repeat((1,2,1)), z_next)\n",
    "        \n",
    "    df_finv = tdf.make_df()\n",
    "    \n",
    "\n",
    "df_finv"
   ]
  },
  {
   "cell_type": "code",
   "execution_count": null,
   "metadata": {
    "ExecuteTime": {
     "start_time": "2018-05-20T15:03:39.949Z"
    }
   },
   "outputs": [
    {
     "name": "stdout",
     "output_type": "stream",
     "text": [
      "torch.Size([1, 256]) torch.Size([1, 1])\n"
     ]
    }
   ],
   "source": [
    "with TorchSummarizeDf(world_model) as tdf:\n",
    "    z_next = world_model(gpu_img, action)\n",
    "    z_next.shape\n",
    "    df_world_model = tdf.make_df()\n",
    "df_world_model[df_world_model.level<2]"
   ]
  },
  {
   "cell_type": "code",
   "execution_count": null,
   "metadata": {},
   "outputs": [],
   "source": []
  },
  {
   "cell_type": "code",
   "execution_count": null,
   "metadata": {
    "ExecuteTime": {
     "start_time": "2018-05-20T15:03:39.954Z"
    }
   },
   "outputs": [],
   "source": [
    "del img, action, gpu_img, x, mu, z"
   ]
  },
  {
   "cell_type": "markdown",
   "metadata": {
    "ExecuteTime": {
     "end_time": "2018-05-20T07:18:19.644210Z",
     "start_time": "2018-05-20T07:18:19.621959Z"
    }
   },
   "source": [
    "# Train helpers"
   ]
  },
  {
   "cell_type": "markdown",
   "metadata": {
    "ExecuteTime": {
     "end_time": "2018-05-20T07:18:55.625655Z",
     "start_time": "2018-05-20T07:18:55.606567Z"
    }
   },
   "source": [
    "# Train"
   ]
  },
  {
   "cell_type": "code",
   "execution_count": null,
   "metadata": {
    "ExecuteTime": {
     "start_time": "2018-05-20T15:03:39.957Z"
    }
   },
   "outputs": [],
   "source": [
    "from deep_rl.utils import Config\n",
    "from deep_rl.utils.logger import get_logger, get_default_log_dir\n",
    "\n",
    "from deep_rl.network.network_heads import CategoricalActorCriticNet, QuantileNet, OptionCriticNet, DeterministicActorCriticNet, GaussianActorCriticNet\n",
    "from deep_rl.network.network_bodies import FCBody\n",
    "\n",
    "from deep_rl.agent.PPO_agent import PPOAgent\n",
    "from deep_rl.component.task import ParallelizedTask, BaseTask\n",
    "from deep_rl.utils.misc import run_episodes, run_iterations"
   ]
  },
  {
   "cell_type": "code",
   "execution_count": null,
   "metadata": {
    "ExecuteTime": {
     "start_time": "2018-05-20T15:03:39.960Z"
    }
   },
   "outputs": [],
   "source": [
    "# Env\n",
    "from world_models_sonic.custom_envs.env import make_env\n",
    "\n",
    "class SonicDeepRL(BaseTask):\n",
    "    def __init__(self, name='sonic256', max_steps=6000, log_dir=None):\n",
    "        BaseTask.__init__(self)\n",
    "        self.name = name\n",
    "        self.env = make_env(self.name)\n",
    "        self.env._max_episode_steps = max_steps\n",
    "        self.action_dim = self.env.action_space.n\n",
    "        self.state_dim = self.env.observation_space.shape\n",
    "        self.env = self.set_monitor(self.env, log_dir)\n",
    "        \n"
   ]
  },
  {
   "cell_type": "code",
   "execution_count": null,
   "metadata": {
    "ExecuteTime": {
     "end_time": "2018-05-20T11:06:50.222290Z",
     "start_time": "2018-05-20T11:06:50.193854Z"
    }
   },
   "outputs": [],
   "source": []
  },
  {
   "cell_type": "code",
   "execution_count": null,
   "metadata": {
    "ExecuteTime": {
     "start_time": "2018-05-20T15:03:39.965Z"
    }
   },
   "outputs": [],
   "source": [
    "import gym\n",
    "from gym import spaces\n",
    "\n",
    "# def np_sigmoid(x):\n",
    "#     return 1.0/(1.0+np.exp(-x))\n",
    "\n",
    "# class Action2Int(gym.ActionWrapper):\n",
    "#     def action(self, action):\n",
    "#         return np_sigmoid(action).round(0).astype(int)\n",
    "    \n",
    "\n",
    "\n",
    "class WorldModelWrapper(gym.Wrapper):\n",
    "    def __init__(self, env, world_model):\n",
    "        \"\"\"Uses the world model to give next latent state as observation.\"\"\"\n",
    "        super().__init__(env)\n",
    "        self.render_humans = True\n",
    "        self.i_rs = 0\n",
    "        self.world_model = world_model\n",
    "        old_obs_space = env.observation_space\n",
    "        self.observation_space = spaces.Box(low=-1000, high=1000,\n",
    "                                            shape=(world_model.mdnrnn.z_dim,), dtype=np.float32)\n",
    "        \n",
    "    def step(self, action):\n",
    "        action = action.round(0).astype(int)\n",
    "        \n",
    "        observation, reward, done, info = self.env.step(action)\n",
    "        \n",
    "        action = torch.from_numpy(np.array(action)).cuda().unsqueeze(0).unsqueeze(0)\n",
    "        observation = torch.from_numpy(observation).cuda().unsqueeze(0).transpose(1, 3)\n",
    "        \n",
    "        observation = self.world_model.forward(observation, action).squeeze(0).cpu().data.numpy()\n",
    "        if self.render_humans:\n",
    "            self.render()\n",
    "        return observation, reward, done, info\n",
    "    \n",
    "    def reset(self):\n",
    "        action = torch.from_numpy(np.array(self.env.action_space.sample())).cuda().unsqueeze(0).unsqueeze(0)\n",
    "        observation = torch.from_numpy(self.env.reset()).cuda().unsqueeze(0).transpose(1, 3)\n",
    "        observation = self.world_model.forward(observation, action).squeeze(0).cpu().data.numpy()\n",
    "        if self.render_humans:\n",
    "            self.render()\n",
    "        return observation\n",
    "\n",
    "class SonicWorldModelDeepRL(BaseTask):\n",
    "    def __init__(self, name='sonic256', max_steps=4500, log_dir=None, world_model_func=None):\n",
    "        BaseTask.__init__(self)\n",
    "        self.name = name\n",
    "        self.world_model = world_model_func()\n",
    "        self.env = WorldModelWrapper(make_env(self.name), self.world_model)\n",
    "        self.env._max_episode_steps = max_steps\n",
    "        self.action_dim = self.env.action_space.n\n",
    "        self.state_dim = self.env.observation_space.shape[0]\n",
    "        self.env = self.set_monitor(self.env, log_dir)"
   ]
  },
  {
   "cell_type": "code",
   "execution_count": null,
   "metadata": {
    "ExecuteTime": {
     "start_time": "2018-05-20T15:03:39.969Z"
    }
   },
   "outputs": [],
   "source": [
    "# task_fn = lambda log_dir: SonicWorldModelDeepRL('sonic256', max_steps=200, log_dir=log_dir, world_model_func=lambda :world_model)\n",
    "# task = task_fn(log_dir)\n",
    "# try:\n",
    "#     task.env.reset()\n",
    "#     task.env.render()\n",
    "#     for i in tqdm(range(100)):\n",
    "#         action = task.env.action_space.sample()\n",
    "#         task.env.step(action)\n",
    "#         task.env.unwrapped.step(action)\n",
    "#         task.env.render()\n",
    "# except:\n",
    "#     task.env.unwrapped.close()\n",
    "#     raise\n",
    "# else:\n",
    "#     task.env.unwrapped.close()"
   ]
  },
  {
   "cell_type": "code",
   "execution_count": null,
   "metadata": {
    "ExecuteTime": {
     "start_time": "2018-05-20T15:03:39.977Z"
    }
   },
   "outputs": [],
   "source": [
    "log_dir = get_default_log_dir(NAME)\n",
    "log_dir\n",
    "task_fn = lambda log_dir: SonicWorldModelDeepRL('sonic256', max_steps=200, log_dir=log_dir, world_model_func=lambda :world_model)\n",
    "\n",
    "config = Config()\n",
    "\n",
    "config.num_workers = 1\n",
    "config.task_fn = lambda: ParallelizedTask(task_fn, config.num_workers, single_process=config.num_workers==1)\n",
    "# config.task_fn = lambda: task_fn(log_dir)\n",
    "config.optimizer_fn = lambda params: torch.optim.RMSprop(params, 1e-3)\n",
    "# FIXME a gaussian is not quite right for this, it should be a beta dist from 0 to 1 or a catagorical on filtered actions\n",
    "# config.network_fn = lambda state_dim, action_dim: GaussianActorCriticNet(\n",
    "#     state_dim, action_dim, actor_body=FCBody(state_dim),\n",
    "#     critic_body=FCBody(state_dim), gpu=-1)\n",
    "# config.network_fn = lambda state_dim, action_dim: GaussianActorCriticNet(\n",
    "#     state_dim, action_dim, actor_body=FCBody(state_dim),\n",
    "#     critic_body=FCBody(state_dim), gpu=-1)\n",
    "config.network_fn = lambda state_dim, action_dim: CategoricalActorCriticNet(\n",
    "        state_dim, action_dim, FCBody(state_dim), gpu=-1)\n",
    "config.discount = 0.99\n",
    "config.logger = get_logger(NAME, level=20)\n",
    "config.use_gae = True\n",
    "config.gae_tau = 0.95\n",
    "config.entropy_weight = 0.01\n",
    "config.gradient_clip = 0.5\n",
    "config.rollout_length = 128\n",
    "config.optimization_epochs = 10\n",
    "config.num_mini_batches = 4\n",
    "config.ppo_ratio_clip = 0.2\n",
    "config.iteration_log_interval = 1\n",
    "agent=PPOAgent(config)\n",
    "try:\n",
    "    run_iterations(agent)\n",
    "except:\n",
    "    agent.task.tasks[0].env.close()\n",
    "    raise"
   ]
  },
  {
   "cell_type": "code",
   "execution_count": null,
   "metadata": {
    "ExecuteTime": {
     "end_time": "2018-05-20T15:00:41.782099Z",
     "start_time": "2018-05-20T15:00:17.411Z"
    }
   },
   "outputs": [],
   "source": []
  },
  {
   "cell_type": "code",
   "execution_count": null,
   "metadata": {
    "ExecuteTime": {
     "start_time": "2018-05-20T15:03:39.982Z"
    },
    "scrolled": true
   },
   "outputs": [],
   "source": [
    "\n",
    "task = task_fn(log_dir)\n",
    "try:\n",
    "    task.env.reset()\n",
    "    task.env.render()\n",
    "    for i in tqdm(range(100)):\n",
    "        action = task.env.action_space.sample()\n",
    "        task.env.step(action)\n",
    "        task.env.unwrapped.step(action)\n",
    "        task.env.render()\n",
    "except:\n",
    "    task.env.unwrapped.close()\n",
    "    raise"
   ]
  },
  {
   "cell_type": "code",
   "execution_count": null,
   "metadata": {
    "ExecuteTime": {
     "start_time": "2018-05-20T15:03:39.986Z"
    }
   },
   "outputs": [],
   "source": [
    "task.env.unwrapped.close()"
   ]
  },
  {
   "cell_type": "code",
   "execution_count": null,
   "metadata": {
    "ExecuteTime": {
     "end_time": "2018-05-20T11:58:02.408902Z",
     "start_time": "2018-05-20T11:58:02.280221Z"
    }
   },
   "outputs": [],
   "source": []
  },
  {
   "cell_type": "code",
   "execution_count": null,
   "metadata": {
    "ExecuteTime": {
     "end_time": "2018-05-20T11:58:09.827191Z",
     "start_time": "2018-05-20T11:58:09.805910Z"
    }
   },
   "outputs": [],
   "source": []
  },
  {
   "cell_type": "code",
   "execution_count": null,
   "metadata": {
    "ExecuteTime": {
     "start_time": "2018-05-20T15:03:39.991Z"
    }
   },
   "outputs": [],
   "source": [
    "env = make_env('sonic256')\n",
    "env.reset()\n",
    "env.render()\n",
    "for i in tqdm(range(1000)):\n",
    "    action = env.action_space.sample()\n",
    "    env.step(action)\n",
    "    env.render()"
   ]
  },
  {
   "cell_type": "code",
   "execution_count": null,
   "metadata": {
    "ExecuteTime": {
     "start_time": "2018-05-20T15:03:39.995Z"
    }
   },
   "outputs": [],
   "source": [
    "env.close()"
   ]
  }
 ],
 "metadata": {
  "kernelspec": {
   "display_name": "jupyter3",
   "language": "python",
   "name": "jupyter3"
  },
  "language_info": {
   "codemirror_mode": {
    "name": "ipython",
    "version": 3
   },
   "file_extension": ".py",
   "mimetype": "text/x-python",
   "name": "python",
   "nbconvert_exporter": "python",
   "pygments_lexer": "ipython3",
   "version": "3.5.3"
  },
  "toc": {
   "colors": {
    "hover_highlight": "#DAA520",
    "navigate_num": "#000000",
    "navigate_text": "#333333",
    "running_highlight": "#FF0000",
    "selected_highlight": "#FFD700",
    "sidebar_border": "#EEEEEE",
    "wrapper_background": "#FFFFFF"
   },
   "moveMenuLeft": true,
   "nav_menu": {
    "height": "185px",
    "width": "252px"
   },
   "navigate_menu": true,
   "number_sections": true,
   "sideBar": false,
   "threshold": 4,
   "toc_cell": false,
   "toc_position": {
    "height": "245px",
    "left": "13.0521px",
    "right": "20px",
    "top": "145px",
    "width": "181px"
   },
   "toc_section_display": "block",
   "toc_window_display": true,
   "widenNotebook": false
  }
 },
 "nbformat": 4,
 "nbformat_minor": 2
}
