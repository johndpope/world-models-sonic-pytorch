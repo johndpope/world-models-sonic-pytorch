{
 "cells": [
  {
   "cell_type": "code",
   "execution_count": 1,
   "metadata": {
    "ExecuteTime": {
     "end_time": "2018-05-20T11:36:03.929459Z",
     "start_time": "2018-05-20T11:36:03.005377Z"
    }
   },
   "outputs": [],
   "source": [
    "import deep_rl"
   ]
  },
  {
   "cell_type": "code",
   "execution_count": 2,
   "metadata": {
    "ExecuteTime": {
     "end_time": "2018-05-20T11:36:03.975241Z",
     "start_time": "2018-05-20T11:36:03.931489Z"
    }
   },
   "outputs": [],
   "source": [
    "%matplotlib inline\n",
    "%reload_ext autoreload\n",
    "%autoreload 2"
   ]
  },
  {
   "cell_type": "code",
   "execution_count": 3,
   "metadata": {
    "ExecuteTime": {
     "end_time": "2018-05-20T11:36:04.053226Z",
     "start_time": "2018-05-20T11:36:03.977044Z"
    }
   },
   "outputs": [
    {
     "name": "stderr",
     "output_type": "stream",
     "text": [
      "/home/wassname/.pyenv/versions/3.5.3/envs/jupyter3/lib/python3.5/site-packages/h5py/__init__.py:34: FutureWarning: Conversion of the second argument of issubdtype from `float` to `np.floating` is deprecated. In future, it will be treated as `np.float64 == np.dtype(float).type`.\n",
      "  from ._conv import register_converters as _register_converters\n"
     ]
    }
   ],
   "source": [
    "import torch\n",
    "from torch.nn import functional as F\n",
    "from torch.autograd import Variable\n",
    "from torch import nn, optim\n",
    "import torch.utils.data\n",
    "\n",
    "# load as dask array\n",
    "import dask.array as da\n",
    "import dask\n",
    "import h5py\n",
    "\n",
    "import os\n",
    "import glob\n",
    "import numpy as np\n",
    "from matplotlib import pyplot as plt\n",
    "from tqdm import tqdm_notebook as tqdm"
   ]
  },
  {
   "cell_type": "code",
   "execution_count": 4,
   "metadata": {
    "ExecuteTime": {
     "end_time": "2018-05-20T11:36:04.357712Z",
     "start_time": "2018-05-20T11:36:04.055770Z"
    }
   },
   "outputs": [],
   "source": [
    "from world_models_sonic.models.vae import VAE6, loss_function_vae\n",
    "from world_models_sonic.helpers.summarize import TorchSummarizeDf\n",
    "from world_models_sonic.helpers.dataset import load_cache_data\n",
    "from world_models_sonic.models.rnn import MDNRNN2\n",
    "from world_models_sonic import config"
   ]
  },
  {
   "cell_type": "code",
   "execution_count": 5,
   "metadata": {
    "ExecuteTime": {
     "end_time": "2018-05-20T11:36:04.381967Z",
     "start_time": "2018-05-20T11:36:04.360428Z"
    }
   },
   "outputs": [],
   "source": [
    "\"\"\"\n",
    "In jupyter notebook simple logging to console\n",
    "\"\"\"\n",
    "import logging\n",
    "import sys\n",
    "\n",
    "logging.basicConfig(stream=sys.stdout, level=logging.INFO)"
   ]
  },
  {
   "cell_type": "markdown",
   "metadata": {
    "ExecuteTime": {
     "end_time": "2018-05-20T07:15:35.605788Z",
     "start_time": "2018-05-20T07:15:35.588273Z"
    }
   },
   "source": [
    "# Init"
   ]
  },
  {
   "cell_type": "code",
   "execution_count": 6,
   "metadata": {
    "ExecuteTime": {
     "end_time": "2018-05-20T11:36:04.417447Z",
     "start_time": "2018-05-20T11:36:04.388079Z"
    }
   },
   "outputs": [],
   "source": [
    "cuda= torch.cuda.is_available()\n",
    "env_name='sonic256'\n",
    "num_epochs=200\n",
    "batch_size = 2\n",
    "\n",
    "# VAE loss function\n",
    "lambda_vae_kld = 0.25\n",
    "C = 0\n",
    "z_dim = 256 # latent dimensions\n",
    "\n",
    "# RNN\n",
    "action_dim = 12\n",
    "seq_len = 5\n",
    "image_size=256\n",
    "chunksize=seq_len*20\n",
    "\n",
    "\n",
    "\n",
    "# loss function weights\n",
    "lambda_vae = 1/100\n",
    "lambda_finv = 1\n",
    "\n",
    "data_cache_file = os.path.join(config.base_vae_data_dir, 'sonic_rnn_256_v30.hdf5')\n",
    "NAME='RNN_v3b_256im_512z_1512_v3_greenfield'"
   ]
  },
  {
   "cell_type": "markdown",
   "metadata": {
    "ExecuteTime": {
     "end_time": "2018-05-20T07:15:41.219308Z",
     "start_time": "2018-05-20T07:15:41.199698Z"
    }
   },
   "source": [
    "# Load Data"
   ]
  },
  {
   "cell_type": "code",
   "execution_count": 7,
   "metadata": {
    "ExecuteTime": {
     "end_time": "2018-05-20T11:36:04.497472Z",
     "start_time": "2018-05-20T11:36:04.418975Z"
    }
   },
   "outputs": [
    {
     "name": "stdout",
     "output_type": "stream",
     "text": [
      "Loaded from cache /MLDATA/sonic/vae/sonic_rnn_256_v30.hdf5\n"
     ]
    },
    {
     "data": {
      "text/plain": [
       "(<torch.utils.data.dataloader.DataLoader at 0x7f205314a2e8>,\n",
       " <torch.utils.data.dataloader.DataLoader at 0x7f205314a898>)"
      ]
     },
     "execution_count": 7,
     "metadata": {},
     "output_type": "execute_result"
    }
   ],
   "source": [
    "loader_train, loader_test = load_cache_data(\n",
    "    basedir=config.base_vae_data_dir, \n",
    "    env_name=env_name, \n",
    "    data_cache_file=data_cache_file, \n",
    "    image_size=image_size, \n",
    "    chunksize=chunksize, \n",
    "    action_dim=action_dim,\n",
    "    batch_size=batch_size,\n",
    "    seq_len=seq_len\n",
    ")\n",
    "loader_train, loader_test"
   ]
  },
  {
   "cell_type": "markdown",
   "metadata": {
    "ExecuteTime": {
     "end_time": "2018-05-20T07:41:12.438062Z",
     "start_time": "2018-05-20T07:41:12.415682Z"
    }
   },
   "source": [
    "# Load VAE"
   ]
  },
  {
   "cell_type": "code",
   "execution_count": 8,
   "metadata": {
    "ExecuteTime": {
     "end_time": "2018-05-20T11:36:08.605177Z",
     "start_time": "2018-05-20T11:36:04.499174Z"
    }
   },
   "outputs": [
    {
     "name": "stdout",
     "output_type": "stream",
     "text": [
      "loaded save_file ./outputs/models/RNN_v3b_256im_512z_1512_v3_greenfield-vae_state_dict.pkl\n"
     ]
    }
   ],
   "source": [
    "# Load VAE\n",
    "# TODO swap z and k dim, since it's inconsistent with other models\n",
    "vae = VAE6(image_size=image_size, z_dim=32, conv_dim=48, code_dim=8, k_dim=z_dim)\n",
    "if cuda:\n",
    "    vae.cuda()\n",
    "    \n",
    "# # Resume\n",
    "\n",
    "# checkpoint_file = './outputs/models/VAE6_6_256im_512z_inception_CVAE_greenfields_state_dict.pkl'\n",
    "# if os.path.isfile(checkpoint_file):\n",
    "#     state_dict = torch.load(checkpoint_file)\n",
    "#     vae.load_state_dict(state_dict)\n",
    "#     print('loaded checkpoint_file {checkpoint_file}'.format(checkpoint_file=checkpoint_file))\n",
    "    \n",
    "save_file = './outputs/models/{NAME}-vae_state_dict.pkl'.format(NAME=NAME)\n",
    "if os.path.isfile(save_file):\n",
    "    state_dict = torch.load(save_file)\n",
    "    vae.load_state_dict(state_dict)\n",
    "    print('loaded save_file {save_file}'.format(save_file=save_file))"
   ]
  },
  {
   "cell_type": "markdown",
   "metadata": {
    "ExecuteTime": {
     "end_time": "2018-05-20T07:41:17.362954Z",
     "start_time": "2018-05-20T07:41:17.338009Z"
    }
   },
   "source": [
    "# Load RNN"
   ]
  },
  {
   "cell_type": "code",
   "execution_count": 9,
   "metadata": {
    "ExecuteTime": {
     "end_time": "2018-05-20T11:36:08.693381Z",
     "start_time": "2018-05-20T11:36:08.625590Z"
    }
   },
   "outputs": [],
   "source": [
    "# Load MDRNN\n",
    "action_dim, hidden_size, n_mixture, temp = 12, 128, 3, 0.0\n",
    "\n",
    "\n",
    "mdnrnn = MDNRNN2(z_dim, action_dim, hidden_size, n_mixture, temp)\n",
    "\n",
    "if cuda:\n",
    "    mdnrnn = mdnrnn.cuda()"
   ]
  },
  {
   "cell_type": "code",
   "execution_count": 10,
   "metadata": {
    "ExecuteTime": {
     "end_time": "2018-05-20T11:36:08.744358Z",
     "start_time": "2018-05-20T11:36:08.696103Z"
    }
   },
   "outputs": [
    {
     "name": "stdout",
     "output_type": "stream",
     "text": [
      "loaded ./outputs/models/RNN_v3b_256im_512z_1512_v3_greenfield-mdnrnn_state_dict.pkl\n"
     ]
    }
   ],
   "source": [
    "# # Resume?\n",
    "save_file = './outputs/models/{NAME}-mdnrnn_state_dict.pkl'.format(NAME=NAME)\n",
    "if os.path.isfile(save_file):\n",
    "    state_dict = torch.load(save_file)\n",
    "    mdnrnn.load_state_dict(state_dict)\n",
    "    print('loaded {save_file}'.format(save_file=save_file))"
   ]
  },
  {
   "cell_type": "markdown",
   "metadata": {
    "ExecuteTime": {
     "end_time": "2018-05-20T07:41:17.480298Z",
     "start_time": "2018-05-20T07:41:17.459437Z"
    }
   },
   "source": [
    "# FInverse Model"
   ]
  },
  {
   "cell_type": "code",
   "execution_count": 11,
   "metadata": {
    "ExecuteTime": {
     "end_time": "2018-05-20T11:36:08.796992Z",
     "start_time": "2018-05-20T11:36:08.758375Z"
    }
   },
   "outputs": [],
   "source": [
    "class FInv(torch.nn.modules.Module):\n",
    "    def __init__(self, z_dim, action_dim, hidden_size):\n",
    "        \"\"\"\n",
    "        Inverse model from https://arxiv.org/abs/1804.10689.\n",
    "        \n",
    "        Takes in z and z' and outputs predicted action\n",
    "        \"\"\"\n",
    "        super().__init__()\n",
    "        self.ln1 = nn.Linear(z_dim*2, hidden_size)\n",
    "        self.ln2 = nn.Linear(hidden_size, hidden_size)\n",
    "        self.ln3 = nn.Linear(hidden_size,  action_dim)\n",
    "        \n",
    "    def forward(self, z_now, z_next):\n",
    "        x = torch.cat((z_now, z_next), dim=-1)\n",
    "        x = F.relu(self.ln1(x))\n",
    "        x = F.relu(self.ln2(x))\n",
    "        x = F.sigmoid(self.ln3(x))\n",
    "        return x"
   ]
  },
  {
   "cell_type": "code",
   "execution_count": 12,
   "metadata": {
    "ExecuteTime": {
     "end_time": "2018-05-20T11:36:08.867859Z",
     "start_time": "2018-05-20T11:36:08.803235Z"
    }
   },
   "outputs": [],
   "source": [
    "finv = FInv(z_dim, action_dim, hidden_size=256).cuda()"
   ]
  },
  {
   "cell_type": "code",
   "execution_count": 13,
   "metadata": {
    "ExecuteTime": {
     "end_time": "2018-05-20T11:36:08.914172Z",
     "start_time": "2018-05-20T11:36:08.874016Z"
    }
   },
   "outputs": [
    {
     "name": "stdout",
     "output_type": "stream",
     "text": [
      "loaded ./outputs/models/RNN_v3b_256im_512z_1512_v3_greenfield-finv_state_dict.pkl\n"
     ]
    }
   ],
   "source": [
    "# # Resume?\n",
    "save_file = './outputs/models/{NAME}-finv_state_dict.pkl'.format(NAME=NAME)\n",
    "if os.path.isfile(save_file):\n",
    "    state_dict = torch.load(save_file)\n",
    "    finv.load_state_dict(state_dict)\n",
    "    print('loaded {save_file}'.format(save_file=save_file))"
   ]
  },
  {
   "cell_type": "markdown",
   "metadata": {
    "ExecuteTime": {
     "end_time": "2018-05-20T07:41:17.644222Z",
     "start_time": "2018-05-20T07:41:17.624558Z"
    }
   },
   "source": [
    "# Init"
   ]
  },
  {
   "cell_type": "code",
   "execution_count": 14,
   "metadata": {
    "ExecuteTime": {
     "end_time": "2018-05-20T11:36:08.954931Z",
     "start_time": "2018-05-20T11:36:08.916283Z"
    }
   },
   "outputs": [
    {
     "data": {
      "text/plain": [
       "WorldModel(\n",
       "  (vae): VAE6(\n",
       "    (logvar): Linear(in_features=2048, out_features=256, bias=True)\n",
       "    (mu): Linear(in_features=2048, out_features=256, bias=True)\n",
       "    (z): Linear(in_features=256, out_features=2048, bias=True)\n",
       "    (encoder): Sequential(\n",
       "      (0): BasicConv2d(\n",
       "        (conv): Conv2d(3, 48, kernel_size=(3, 3), stride=(1, 1), padding=(1, 1))\n",
       "        (bn): BatchNorm2d(48, eps=1e-05, momentum=0.1, affine=True, track_running_stats=True)\n",
       "        (act): LeakyReLU(negative_slope=0.01, inplace)\n",
       "      )\n",
       "      (1): ConvBlock5(\n",
       "        (conv0): InceptionA(\n",
       "          (branch1x1): BasicConv2d(\n",
       "            (conv): Conv2d(48, 12, kernel_size=(1, 1), stride=(1, 1))\n",
       "            (bn): BatchNorm2d(12, eps=1e-05, momentum=0.1, affine=True, track_running_stats=True)\n",
       "            (act): LeakyReLU(negative_slope=0.01, inplace)\n",
       "          )\n",
       "          (branch5x5_1): BasicConv2d(\n",
       "            (conv): Conv2d(48, 9, kernel_size=(1, 1), stride=(1, 1))\n",
       "            (bn): BatchNorm2d(9, eps=1e-05, momentum=0.1, affine=True, track_running_stats=True)\n",
       "            (act): LeakyReLU(negative_slope=0.01, inplace)\n",
       "          )\n",
       "          (branch5x5_2): BasicConv2d(\n",
       "            (conv): Conv2d(9, 12, kernel_size=(5, 5), stride=(1, 1), padding=(2, 2))\n",
       "            (bn): BatchNorm2d(12, eps=1e-05, momentum=0.1, affine=True, track_running_stats=True)\n",
       "            (act): LeakyReLU(negative_slope=0.01, inplace)\n",
       "          )\n",
       "          (branch3x3dbl_1): BasicConv2d(\n",
       "            (conv): Conv2d(48, 12, kernel_size=(1, 1), stride=(1, 1))\n",
       "            (bn): BatchNorm2d(12, eps=1e-05, momentum=0.1, affine=True, track_running_stats=True)\n",
       "            (act): LeakyReLU(negative_slope=0.01, inplace)\n",
       "          )\n",
       "          (branch3x3dbl_2): BasicConv2d(\n",
       "            (conv): Conv2d(12, 18, kernel_size=(3, 3), stride=(1, 1), padding=(1, 1))\n",
       "            (bn): BatchNorm2d(18, eps=1e-05, momentum=0.1, affine=True, track_running_stats=True)\n",
       "            (act): LeakyReLU(negative_slope=0.01, inplace)\n",
       "          )\n",
       "          (branch3x3dbl_3): BasicConv2d(\n",
       "            (conv): Conv2d(18, 18, kernel_size=(3, 3), stride=(1, 1), padding=(1, 1))\n",
       "            (bn): BatchNorm2d(18, eps=1e-05, momentum=0.1, affine=True, track_running_stats=True)\n",
       "            (act): LeakyReLU(negative_slope=0.01, inplace)\n",
       "          )\n",
       "          (branch_pool): BasicConv2d(\n",
       "            (conv): Conv2d(48, 6, kernel_size=(1, 1), stride=(1, 1))\n",
       "            (bn): BatchNorm2d(6, eps=1e-05, momentum=0.1, affine=True, track_running_stats=True)\n",
       "            (act): LeakyReLU(negative_slope=0.01, inplace)\n",
       "          )\n",
       "        )\n",
       "        (conv1): BasicConv2d(\n",
       "          (conv): Conv2d(48, 96, kernel_size=(4, 4), stride=(2, 2), padding=(1, 1))\n",
       "          (bn): BatchNorm2d(96, eps=1e-05, momentum=0.1, affine=True, track_running_stats=True)\n",
       "          (act): LeakyReLU(negative_slope=0.01, inplace)\n",
       "        )\n",
       "        (conv2): BasicConv2d(\n",
       "          (conv): Conv2d(96, 96, kernel_size=(1, 1), stride=(1, 1))\n",
       "          (bn): BatchNorm2d(96, eps=1e-05, momentum=0.1, affine=True, track_running_stats=True)\n",
       "          (act): LeakyReLU(negative_slope=0.01, inplace)\n",
       "        )\n",
       "      )\n",
       "      (2): ConvBlock5(\n",
       "        (conv0): InceptionA(\n",
       "          (branch1x1): BasicConv2d(\n",
       "            (conv): Conv2d(96, 24, kernel_size=(1, 1), stride=(1, 1))\n",
       "            (bn): BatchNorm2d(24, eps=1e-05, momentum=0.1, affine=True, track_running_stats=True)\n",
       "            (act): LeakyReLU(negative_slope=0.01, inplace)\n",
       "          )\n",
       "          (branch5x5_1): BasicConv2d(\n",
       "            (conv): Conv2d(96, 18, kernel_size=(1, 1), stride=(1, 1))\n",
       "            (bn): BatchNorm2d(18, eps=1e-05, momentum=0.1, affine=True, track_running_stats=True)\n",
       "            (act): LeakyReLU(negative_slope=0.01, inplace)\n",
       "          )\n",
       "          (branch5x5_2): BasicConv2d(\n",
       "            (conv): Conv2d(18, 24, kernel_size=(5, 5), stride=(1, 1), padding=(2, 2))\n",
       "            (bn): BatchNorm2d(24, eps=1e-05, momentum=0.1, affine=True, track_running_stats=True)\n",
       "            (act): LeakyReLU(negative_slope=0.01, inplace)\n",
       "          )\n",
       "          (branch3x3dbl_1): BasicConv2d(\n",
       "            (conv): Conv2d(96, 24, kernel_size=(1, 1), stride=(1, 1))\n",
       "            (bn): BatchNorm2d(24, eps=1e-05, momentum=0.1, affine=True, track_running_stats=True)\n",
       "            (act): LeakyReLU(negative_slope=0.01, inplace)\n",
       "          )\n",
       "          (branch3x3dbl_2): BasicConv2d(\n",
       "            (conv): Conv2d(24, 36, kernel_size=(3, 3), stride=(1, 1), padding=(1, 1))\n",
       "            (bn): BatchNorm2d(36, eps=1e-05, momentum=0.1, affine=True, track_running_stats=True)\n",
       "            (act): LeakyReLU(negative_slope=0.01, inplace)\n",
       "          )\n",
       "          (branch3x3dbl_3): BasicConv2d(\n",
       "            (conv): Conv2d(36, 36, kernel_size=(3, 3), stride=(1, 1), padding=(1, 1))\n",
       "            (bn): BatchNorm2d(36, eps=1e-05, momentum=0.1, affine=True, track_running_stats=True)\n",
       "            (act): LeakyReLU(negative_slope=0.01, inplace)\n",
       "          )\n",
       "          (branch_pool): BasicConv2d(\n",
       "            (conv): Conv2d(96, 12, kernel_size=(1, 1), stride=(1, 1))\n",
       "            (bn): BatchNorm2d(12, eps=1e-05, momentum=0.1, affine=True, track_running_stats=True)\n",
       "            (act): LeakyReLU(negative_slope=0.01, inplace)\n",
       "          )\n",
       "        )\n",
       "        (conv1): BasicConv2d(\n",
       "          (conv): Conv2d(96, 144, kernel_size=(4, 4), stride=(2, 2), padding=(1, 1))\n",
       "          (bn): BatchNorm2d(144, eps=1e-05, momentum=0.1, affine=True, track_running_stats=True)\n",
       "          (act): LeakyReLU(negative_slope=0.01, inplace)\n",
       "        )\n",
       "        (conv2): BasicConv2d(\n",
       "          (conv): Conv2d(144, 144, kernel_size=(1, 1), stride=(1, 1))\n",
       "          (bn): BatchNorm2d(144, eps=1e-05, momentum=0.1, affine=True, track_running_stats=True)\n",
       "          (act): LeakyReLU(negative_slope=0.01, inplace)\n",
       "        )\n",
       "      )\n",
       "      (3): ConvBlock5(\n",
       "        (conv0): InceptionA(\n",
       "          (branch1x1): BasicConv2d(\n",
       "            (conv): Conv2d(144, 36, kernel_size=(1, 1), stride=(1, 1))\n",
       "            (bn): BatchNorm2d(36, eps=1e-05, momentum=0.1, affine=True, track_running_stats=True)\n",
       "            (act): LeakyReLU(negative_slope=0.01, inplace)\n",
       "          )\n",
       "          (branch5x5_1): BasicConv2d(\n",
       "            (conv): Conv2d(144, 27, kernel_size=(1, 1), stride=(1, 1))\n",
       "            (bn): BatchNorm2d(27, eps=1e-05, momentum=0.1, affine=True, track_running_stats=True)\n",
       "            (act): LeakyReLU(negative_slope=0.01, inplace)\n",
       "          )\n",
       "          (branch5x5_2): BasicConv2d(\n",
       "            (conv): Conv2d(27, 36, kernel_size=(5, 5), stride=(1, 1), padding=(2, 2))\n",
       "            (bn): BatchNorm2d(36, eps=1e-05, momentum=0.1, affine=True, track_running_stats=True)\n",
       "            (act): LeakyReLU(negative_slope=0.01, inplace)\n",
       "          )\n",
       "          (branch3x3dbl_1): BasicConv2d(\n",
       "            (conv): Conv2d(144, 36, kernel_size=(1, 1), stride=(1, 1))\n",
       "            (bn): BatchNorm2d(36, eps=1e-05, momentum=0.1, affine=True, track_running_stats=True)\n",
       "            (act): LeakyReLU(negative_slope=0.01, inplace)\n",
       "          )\n",
       "          (branch3x3dbl_2): BasicConv2d(\n",
       "            (conv): Conv2d(36, 54, kernel_size=(3, 3), stride=(1, 1), padding=(1, 1))\n",
       "            (bn): BatchNorm2d(54, eps=1e-05, momentum=0.1, affine=True, track_running_stats=True)\n",
       "            (act): LeakyReLU(negative_slope=0.01, inplace)\n",
       "          )\n",
       "          (branch3x3dbl_3): BasicConv2d(\n",
       "            (conv): Conv2d(54, 54, kernel_size=(3, 3), stride=(1, 1), padding=(1, 1))\n",
       "            (bn): BatchNorm2d(54, eps=1e-05, momentum=0.1, affine=True, track_running_stats=True)\n",
       "            (act): LeakyReLU(negative_slope=0.01, inplace)\n",
       "          )\n",
       "          (branch_pool): BasicConv2d(\n",
       "            (conv): Conv2d(144, 18, kernel_size=(1, 1), stride=(1, 1))\n",
       "            (bn): BatchNorm2d(18, eps=1e-05, momentum=0.1, affine=True, track_running_stats=True)\n",
       "            (act): LeakyReLU(negative_slope=0.01, inplace)\n",
       "          )\n",
       "        )\n",
       "        (conv1): BasicConv2d(\n",
       "          (conv): Conv2d(144, 192, kernel_size=(4, 4), stride=(2, 2), padding=(1, 1))\n",
       "          (bn): BatchNorm2d(192, eps=1e-05, momentum=0.1, affine=True, track_running_stats=True)\n",
       "          (act): LeakyReLU(negative_slope=0.01, inplace)\n",
       "        )\n",
       "        (conv2): BasicConv2d(\n",
       "          (conv): Conv2d(192, 192, kernel_size=(1, 1), stride=(1, 1))\n",
       "          (bn): BatchNorm2d(192, eps=1e-05, momentum=0.1, affine=True, track_running_stats=True)\n",
       "          (act): LeakyReLU(negative_slope=0.01, inplace)\n",
       "        )\n",
       "      )\n",
       "      (4): ConvBlock5(\n",
       "        (conv0): InceptionA(\n",
       "          (branch1x1): BasicConv2d(\n",
       "            (conv): Conv2d(192, 48, kernel_size=(1, 1), stride=(1, 1))\n",
       "            (bn): BatchNorm2d(48, eps=1e-05, momentum=0.1, affine=True, track_running_stats=True)\n",
       "            (act): LeakyReLU(negative_slope=0.01, inplace)\n",
       "          )\n",
       "          (branch5x5_1): BasicConv2d(\n",
       "            (conv): Conv2d(192, 36, kernel_size=(1, 1), stride=(1, 1))\n",
       "            (bn): BatchNorm2d(36, eps=1e-05, momentum=0.1, affine=True, track_running_stats=True)\n",
       "            (act): LeakyReLU(negative_slope=0.01, inplace)\n",
       "          )\n",
       "          (branch5x5_2): BasicConv2d(\n",
       "            (conv): Conv2d(36, 48, kernel_size=(5, 5), stride=(1, 1), padding=(2, 2))\n",
       "            (bn): BatchNorm2d(48, eps=1e-05, momentum=0.1, affine=True, track_running_stats=True)\n",
       "            (act): LeakyReLU(negative_slope=0.01, inplace)\n",
       "          )\n",
       "          (branch3x3dbl_1): BasicConv2d(\n",
       "            (conv): Conv2d(192, 48, kernel_size=(1, 1), stride=(1, 1))\n",
       "            (bn): BatchNorm2d(48, eps=1e-05, momentum=0.1, affine=True, track_running_stats=True)\n",
       "            (act): LeakyReLU(negative_slope=0.01, inplace)\n",
       "          )\n",
       "          (branch3x3dbl_2): BasicConv2d(\n",
       "            (conv): Conv2d(48, 72, kernel_size=(3, 3), stride=(1, 1), padding=(1, 1))\n",
       "            (bn): BatchNorm2d(72, eps=1e-05, momentum=0.1, affine=True, track_running_stats=True)\n",
       "            (act): LeakyReLU(negative_slope=0.01, inplace)\n",
       "          )\n",
       "          (branch3x3dbl_3): BasicConv2d(\n",
       "            (conv): Conv2d(72, 72, kernel_size=(3, 3), stride=(1, 1), padding=(1, 1))\n",
       "            (bn): BatchNorm2d(72, eps=1e-05, momentum=0.1, affine=True, track_running_stats=True)\n",
       "            (act): LeakyReLU(negative_slope=0.01, inplace)\n",
       "          )\n",
       "          (branch_pool): BasicConv2d(\n",
       "            (conv): Conv2d(192, 24, kernel_size=(1, 1), stride=(1, 1))\n",
       "            (bn): BatchNorm2d(24, eps=1e-05, momentum=0.1, affine=True, track_running_stats=True)\n",
       "            (act): LeakyReLU(negative_slope=0.01, inplace)\n",
       "          )\n",
       "        )\n",
       "        (conv1): BasicConv2d(\n",
       "          (conv): Conv2d(192, 240, kernel_size=(4, 4), stride=(2, 2), padding=(1, 1))\n",
       "          (bn): BatchNorm2d(240, eps=1e-05, momentum=0.1, affine=True, track_running_stats=True)\n",
       "          (act): LeakyReLU(negative_slope=0.01, inplace)\n",
       "        )\n",
       "        (conv2): BasicConv2d(\n",
       "          (conv): Conv2d(240, 240, kernel_size=(1, 1), stride=(1, 1))\n",
       "          (bn): BatchNorm2d(240, eps=1e-05, momentum=0.1, affine=True, track_running_stats=True)\n",
       "          (act): LeakyReLU(negative_slope=0.01, inplace)\n",
       "        )\n",
       "      )\n",
       "      (5): ConvBlock5(\n",
       "        (conv0): InceptionA(\n",
       "          (branch1x1): BasicConv2d(\n",
       "            (conv): Conv2d(240, 60, kernel_size=(1, 1), stride=(1, 1))\n",
       "            (bn): BatchNorm2d(60, eps=1e-05, momentum=0.1, affine=True, track_running_stats=True)\n",
       "            (act): LeakyReLU(negative_slope=0.01, inplace)\n",
       "          )\n",
       "          (branch5x5_1): BasicConv2d(\n",
       "            (conv): Conv2d(240, 45, kernel_size=(1, 1), stride=(1, 1))\n",
       "            (bn): BatchNorm2d(45, eps=1e-05, momentum=0.1, affine=True, track_running_stats=True)\n",
       "            (act): LeakyReLU(negative_slope=0.01, inplace)\n",
       "          )\n",
       "          (branch5x5_2): BasicConv2d(\n",
       "            (conv): Conv2d(45, 60, kernel_size=(5, 5), stride=(1, 1), padding=(2, 2))\n",
       "            (bn): BatchNorm2d(60, eps=1e-05, momentum=0.1, affine=True, track_running_stats=True)\n",
       "            (act): LeakyReLU(negative_slope=0.01, inplace)\n",
       "          )\n",
       "          (branch3x3dbl_1): BasicConv2d(\n",
       "            (conv): Conv2d(240, 60, kernel_size=(1, 1), stride=(1, 1))\n",
       "            (bn): BatchNorm2d(60, eps=1e-05, momentum=0.1, affine=True, track_running_stats=True)\n",
       "            (act): LeakyReLU(negative_slope=0.01, inplace)\n",
       "          )\n",
       "          (branch3x3dbl_2): BasicConv2d(\n",
       "            (conv): Conv2d(60, 90, kernel_size=(3, 3), stride=(1, 1), padding=(1, 1))\n",
       "            (bn): BatchNorm2d(90, eps=1e-05, momentum=0.1, affine=True, track_running_stats=True)\n",
       "            (act): LeakyReLU(negative_slope=0.01, inplace)\n",
       "          )\n",
       "          (branch3x3dbl_3): BasicConv2d(\n",
       "            (conv): Conv2d(90, 90, kernel_size=(3, 3), stride=(1, 1), padding=(1, 1))\n",
       "            (bn): BatchNorm2d(90, eps=1e-05, momentum=0.1, affine=True, track_running_stats=True)\n",
       "            (act): LeakyReLU(negative_slope=0.01, inplace)\n",
       "          )\n",
       "          (branch_pool): BasicConv2d(\n",
       "            (conv): Conv2d(240, 30, kernel_size=(1, 1), stride=(1, 1))\n",
       "            (bn): BatchNorm2d(30, eps=1e-05, momentum=0.1, affine=True, track_running_stats=True)\n",
       "            (act): LeakyReLU(negative_slope=0.01, inplace)\n",
       "          )\n",
       "        )\n",
       "        (conv1): BasicConv2d(\n",
       "          (conv): Conv2d(240, 288, kernel_size=(4, 4), stride=(2, 2), padding=(1, 1))\n",
       "          (bn): BatchNorm2d(288, eps=1e-05, momentum=0.1, affine=True, track_running_stats=True)\n",
       "          (act): LeakyReLU(negative_slope=0.01, inplace)\n",
       "        )\n",
       "        (conv2): BasicConv2d(\n",
       "          (conv): Conv2d(288, 288, kernel_size=(1, 1), stride=(1, 1))\n",
       "          (bn): BatchNorm2d(288, eps=1e-05, momentum=0.1, affine=True, track_running_stats=True)\n",
       "          (act): LeakyReLU(negative_slope=0.01, inplace)\n",
       "        )\n",
       "      )\n",
       "      (6): ConvBlock5(\n",
       "        (conv0): InceptionA(\n",
       "          (branch1x1): BasicConv2d(\n",
       "            (conv): Conv2d(288, 72, kernel_size=(1, 1), stride=(1, 1))\n",
       "            (bn): BatchNorm2d(72, eps=1e-05, momentum=0.1, affine=True, track_running_stats=True)\n",
       "            (act): LeakyReLU(negative_slope=0.01, inplace)\n",
       "          )\n",
       "          (branch5x5_1): BasicConv2d(\n",
       "            (conv): Conv2d(288, 54, kernel_size=(1, 1), stride=(1, 1))\n",
       "            (bn): BatchNorm2d(54, eps=1e-05, momentum=0.1, affine=True, track_running_stats=True)\n",
       "            (act): LeakyReLU(negative_slope=0.01, inplace)\n",
       "          )\n",
       "          (branch5x5_2): BasicConv2d(\n",
       "            (conv): Conv2d(54, 72, kernel_size=(5, 5), stride=(1, 1), padding=(2, 2))\n",
       "            (bn): BatchNorm2d(72, eps=1e-05, momentum=0.1, affine=True, track_running_stats=True)\n",
       "            (act): LeakyReLU(negative_slope=0.01, inplace)\n",
       "          )\n",
       "          (branch3x3dbl_1): BasicConv2d(\n",
       "            (conv): Conv2d(288, 72, kernel_size=(1, 1), stride=(1, 1))\n",
       "            (bn): BatchNorm2d(72, eps=1e-05, momentum=0.1, affine=True, track_running_stats=True)\n",
       "            (act): LeakyReLU(negative_slope=0.01, inplace)\n",
       "          )\n",
       "          (branch3x3dbl_2): BasicConv2d(\n",
       "            (conv): Conv2d(72, 108, kernel_size=(3, 3), stride=(1, 1), padding=(1, 1))\n",
       "            (bn): BatchNorm2d(108, eps=1e-05, momentum=0.1, affine=True, track_running_stats=True)\n",
       "            (act): LeakyReLU(negative_slope=0.01, inplace)\n",
       "          )\n",
       "          (branch3x3dbl_3): BasicConv2d(\n",
       "            (conv): Conv2d(108, 108, kernel_size=(3, 3), stride=(1, 1), padding=(1, 1))\n",
       "            (bn): BatchNorm2d(108, eps=1e-05, momentum=0.1, affine=True, track_running_stats=True)\n",
       "            (act): LeakyReLU(negative_slope=0.01, inplace)\n",
       "          )\n",
       "          (branch_pool): BasicConv2d(\n",
       "            (conv): Conv2d(288, 36, kernel_size=(1, 1), stride=(1, 1))\n",
       "            (bn): BatchNorm2d(36, eps=1e-05, momentum=0.1, affine=True, track_running_stats=True)\n",
       "            (act): LeakyReLU(negative_slope=0.01, inplace)\n",
       "          )\n",
       "        )\n",
       "        (conv1): BasicConv2d(\n",
       "          (conv): Conv2d(288, 32, kernel_size=(1, 1), stride=(1, 1))\n",
       "          (bn): BatchNorm2d(32, eps=1e-05, momentum=0.1, affine=True, track_running_stats=True)\n",
       "          (act): LeakyReLU(negative_slope=0.01, inplace)\n",
       "        )\n",
       "        (conv2): BasicConv2d(\n",
       "          (conv): Conv2d(32, 32, kernel_size=(1, 1), stride=(1, 1))\n",
       "          (bn): BatchNorm2d(32, eps=1e-05, momentum=0.1, affine=True, track_running_stats=True)\n",
       "          (act): LeakyReLU(negative_slope=0.01, inplace)\n",
       "        )\n",
       "      )\n",
       "    )\n",
       "    (decoder): Sequential(\n",
       "      (0): DeconvBlock5(\n",
       "        (conv0): InceptionA(\n",
       "          (branch1x1): BasicConv2d(\n",
       "            (conv): Conv2d(32, 8, kernel_size=(1, 1), stride=(1, 1))\n",
       "            (bn): BatchNorm2d(8, eps=1e-05, momentum=0.1, affine=True, track_running_stats=True)\n",
       "            (act): LeakyReLU(negative_slope=0.01, inplace)\n",
       "          )\n",
       "          (branch5x5_1): BasicConv2d(\n",
       "            (conv): Conv2d(32, 6, kernel_size=(1, 1), stride=(1, 1))\n",
       "            (bn): BatchNorm2d(6, eps=1e-05, momentum=0.1, affine=True, track_running_stats=True)\n",
       "            (act): LeakyReLU(negative_slope=0.01, inplace)\n",
       "          )\n",
       "          (branch5x5_2): BasicConv2d(\n",
       "            (conv): Conv2d(6, 8, kernel_size=(5, 5), stride=(1, 1), padding=(2, 2))\n",
       "            (bn): BatchNorm2d(8, eps=1e-05, momentum=0.1, affine=True, track_running_stats=True)\n",
       "            (act): LeakyReLU(negative_slope=0.01, inplace)\n",
       "          )\n",
       "          (branch3x3dbl_1): BasicConv2d(\n",
       "            (conv): Conv2d(32, 8, kernel_size=(1, 1), stride=(1, 1))\n",
       "            (bn): BatchNorm2d(8, eps=1e-05, momentum=0.1, affine=True, track_running_stats=True)\n",
       "            (act): LeakyReLU(negative_slope=0.01, inplace)\n",
       "          )\n",
       "          (branch3x3dbl_2): BasicConv2d(\n",
       "            (conv): Conv2d(8, 12, kernel_size=(3, 3), stride=(1, 1), padding=(1, 1))\n",
       "            (bn): BatchNorm2d(12, eps=1e-05, momentum=0.1, affine=True, track_running_stats=True)\n",
       "            (act): LeakyReLU(negative_slope=0.01, inplace)\n",
       "          )\n",
       "          (branch3x3dbl_3): BasicConv2d(\n",
       "            (conv): Conv2d(12, 12, kernel_size=(3, 3), stride=(1, 1), padding=(1, 1))\n",
       "            (bn): BatchNorm2d(12, eps=1e-05, momentum=0.1, affine=True, track_running_stats=True)\n",
       "            (act): LeakyReLU(negative_slope=0.01, inplace)\n",
       "          )\n",
       "          (branch_pool): BasicConv2d(\n",
       "            (conv): Conv2d(32, 4, kernel_size=(1, 1), stride=(1, 1))\n",
       "            (bn): BatchNorm2d(4, eps=1e-05, momentum=0.1, affine=True, track_running_stats=True)\n",
       "            (act): LeakyReLU(negative_slope=0.01, inplace)\n",
       "          )\n",
       "        )\n",
       "        (deconv1): BasicDeConv2d(\n",
       "          (conv): ConvTranspose2d(32, 288, kernel_size=(1, 1), stride=(1, 1))\n",
       "          (bn): BatchNorm2d(288, eps=1e-05, momentum=0.1, affine=True, track_running_stats=True)\n",
       "          (act): LeakyReLU(negative_slope=0.01, inplace)\n",
       "        )\n",
       "        (conv2): BasicConv2d(\n",
       "          (conv): Conv2d(288, 288, kernel_size=(1, 1), stride=(1, 1))\n",
       "          (bn): BatchNorm2d(288, eps=1e-05, momentum=0.1, affine=True, track_running_stats=True)\n",
       "          (act): LeakyReLU(negative_slope=0.01, inplace)\n",
       "        )\n",
       "      )\n",
       "      (1): DeconvBlock5(\n",
       "        (conv0): InceptionA(\n",
       "          (branch1x1): BasicConv2d(\n",
       "            (conv): Conv2d(288, 72, kernel_size=(1, 1), stride=(1, 1))\n",
       "            (bn): BatchNorm2d(72, eps=1e-05, momentum=0.1, affine=True, track_running_stats=True)\n",
       "            (act): LeakyReLU(negative_slope=0.01, inplace)\n",
       "          )\n",
       "          (branch5x5_1): BasicConv2d(\n",
       "            (conv): Conv2d(288, 54, kernel_size=(1, 1), stride=(1, 1))\n",
       "            (bn): BatchNorm2d(54, eps=1e-05, momentum=0.1, affine=True, track_running_stats=True)\n",
       "            (act): LeakyReLU(negative_slope=0.01, inplace)\n",
       "          )\n",
       "          (branch5x5_2): BasicConv2d(\n",
       "            (conv): Conv2d(54, 72, kernel_size=(5, 5), stride=(1, 1), padding=(2, 2))\n",
       "            (bn): BatchNorm2d(72, eps=1e-05, momentum=0.1, affine=True, track_running_stats=True)\n",
       "            (act): LeakyReLU(negative_slope=0.01, inplace)\n",
       "          )\n",
       "          (branch3x3dbl_1): BasicConv2d(\n",
       "            (conv): Conv2d(288, 72, kernel_size=(1, 1), stride=(1, 1))\n",
       "            (bn): BatchNorm2d(72, eps=1e-05, momentum=0.1, affine=True, track_running_stats=True)\n",
       "            (act): LeakyReLU(negative_slope=0.01, inplace)\n",
       "          )\n",
       "          (branch3x3dbl_2): BasicConv2d(\n",
       "            (conv): Conv2d(72, 108, kernel_size=(3, 3), stride=(1, 1), padding=(1, 1))\n",
       "            (bn): BatchNorm2d(108, eps=1e-05, momentum=0.1, affine=True, track_running_stats=True)\n",
       "            (act): LeakyReLU(negative_slope=0.01, inplace)\n",
       "          )\n",
       "          (branch3x3dbl_3): BasicConv2d(\n",
       "            (conv): Conv2d(108, 108, kernel_size=(3, 3), stride=(1, 1), padding=(1, 1))\n",
       "            (bn): BatchNorm2d(108, eps=1e-05, momentum=0.1, affine=True, track_running_stats=True)\n",
       "            (act): LeakyReLU(negative_slope=0.01, inplace)\n",
       "          )\n",
       "          (branch_pool): BasicConv2d(\n",
       "            (conv): Conv2d(288, 36, kernel_size=(1, 1), stride=(1, 1))\n",
       "            (bn): BatchNorm2d(36, eps=1e-05, momentum=0.1, affine=True, track_running_stats=True)\n",
       "            (act): LeakyReLU(negative_slope=0.01, inplace)\n",
       "          )\n",
       "        )\n",
       "        (deconv1): BasicDeConv2d(\n",
       "          (conv): ConvTranspose2d(288, 240, kernel_size=(4, 4), stride=(2, 2), padding=(1, 1))\n",
       "          (bn): BatchNorm2d(240, eps=1e-05, momentum=0.1, affine=True, track_running_stats=True)\n",
       "          (act): LeakyReLU(negative_slope=0.01, inplace)\n",
       "        )\n",
       "        (conv2): BasicConv2d(\n",
       "          (conv): Conv2d(240, 240, kernel_size=(1, 1), stride=(1, 1))\n",
       "          (bn): BatchNorm2d(240, eps=1e-05, momentum=0.1, affine=True, track_running_stats=True)\n",
       "          (act): LeakyReLU(negative_slope=0.01, inplace)\n",
       "        )\n",
       "      )\n",
       "      (2): DeconvBlock5(\n",
       "        (conv0): InceptionA(\n",
       "          (branch1x1): BasicConv2d(\n",
       "            (conv): Conv2d(240, 60, kernel_size=(1, 1), stride=(1, 1))\n",
       "            (bn): BatchNorm2d(60, eps=1e-05, momentum=0.1, affine=True, track_running_stats=True)\n",
       "            (act): LeakyReLU(negative_slope=0.01, inplace)\n",
       "          )\n",
       "          (branch5x5_1): BasicConv2d(\n",
       "            (conv): Conv2d(240, 45, kernel_size=(1, 1), stride=(1, 1))\n",
       "            (bn): BatchNorm2d(45, eps=1e-05, momentum=0.1, affine=True, track_running_stats=True)\n",
       "            (act): LeakyReLU(negative_slope=0.01, inplace)\n",
       "          )\n",
       "          (branch5x5_2): BasicConv2d(\n",
       "            (conv): Conv2d(45, 60, kernel_size=(5, 5), stride=(1, 1), padding=(2, 2))\n",
       "            (bn): BatchNorm2d(60, eps=1e-05, momentum=0.1, affine=True, track_running_stats=True)\n",
       "            (act): LeakyReLU(negative_slope=0.01, inplace)\n",
       "          )\n",
       "          (branch3x3dbl_1): BasicConv2d(\n",
       "            (conv): Conv2d(240, 60, kernel_size=(1, 1), stride=(1, 1))\n",
       "            (bn): BatchNorm2d(60, eps=1e-05, momentum=0.1, affine=True, track_running_stats=True)\n",
       "            (act): LeakyReLU(negative_slope=0.01, inplace)\n",
       "          )\n",
       "          (branch3x3dbl_2): BasicConv2d(\n",
       "            (conv): Conv2d(60, 90, kernel_size=(3, 3), stride=(1, 1), padding=(1, 1))\n",
       "            (bn): BatchNorm2d(90, eps=1e-05, momentum=0.1, affine=True, track_running_stats=True)\n",
       "            (act): LeakyReLU(negative_slope=0.01, inplace)\n",
       "          )\n",
       "          (branch3x3dbl_3): BasicConv2d(\n",
       "            (conv): Conv2d(90, 90, kernel_size=(3, 3), stride=(1, 1), padding=(1, 1))\n",
       "            (bn): BatchNorm2d(90, eps=1e-05, momentum=0.1, affine=True, track_running_stats=True)\n",
       "            (act): LeakyReLU(negative_slope=0.01, inplace)\n",
       "          )\n",
       "          (branch_pool): BasicConv2d(\n",
       "            (conv): Conv2d(240, 30, kernel_size=(1, 1), stride=(1, 1))\n",
       "            (bn): BatchNorm2d(30, eps=1e-05, momentum=0.1, affine=True, track_running_stats=True)\n",
       "            (act): LeakyReLU(negative_slope=0.01, inplace)\n",
       "          )\n",
       "        )\n",
       "        (deconv1): BasicDeConv2d(\n",
       "          (conv): ConvTranspose2d(240, 192, kernel_size=(4, 4), stride=(2, 2), padding=(1, 1))\n",
       "          (bn): BatchNorm2d(192, eps=1e-05, momentum=0.1, affine=True, track_running_stats=True)\n",
       "          (act): LeakyReLU(negative_slope=0.01, inplace)\n",
       "        )\n",
       "        (conv2): BasicConv2d(\n",
       "          (conv): Conv2d(192, 192, kernel_size=(1, 1), stride=(1, 1))\n",
       "          (bn): BatchNorm2d(192, eps=1e-05, momentum=0.1, affine=True, track_running_stats=True)\n",
       "          (act): LeakyReLU(negative_slope=0.01, inplace)\n",
       "        )\n",
       "      )\n",
       "      (3): DeconvBlock5(\n",
       "        (conv0): InceptionA(\n",
       "          (branch1x1): BasicConv2d(\n",
       "            (conv): Conv2d(192, 48, kernel_size=(1, 1), stride=(1, 1))\n",
       "            (bn): BatchNorm2d(48, eps=1e-05, momentum=0.1, affine=True, track_running_stats=True)\n",
       "            (act): LeakyReLU(negative_slope=0.01, inplace)\n",
       "          )\n",
       "          (branch5x5_1): BasicConv2d(\n",
       "            (conv): Conv2d(192, 36, kernel_size=(1, 1), stride=(1, 1))\n",
       "            (bn): BatchNorm2d(36, eps=1e-05, momentum=0.1, affine=True, track_running_stats=True)\n",
       "            (act): LeakyReLU(negative_slope=0.01, inplace)\n",
       "          )\n",
       "          (branch5x5_2): BasicConv2d(\n",
       "            (conv): Conv2d(36, 48, kernel_size=(5, 5), stride=(1, 1), padding=(2, 2))\n",
       "            (bn): BatchNorm2d(48, eps=1e-05, momentum=0.1, affine=True, track_running_stats=True)\n",
       "            (act): LeakyReLU(negative_slope=0.01, inplace)\n",
       "          )\n",
       "          (branch3x3dbl_1): BasicConv2d(\n",
       "            (conv): Conv2d(192, 48, kernel_size=(1, 1), stride=(1, 1))\n",
       "            (bn): BatchNorm2d(48, eps=1e-05, momentum=0.1, affine=True, track_running_stats=True)\n",
       "            (act): LeakyReLU(negative_slope=0.01, inplace)\n",
       "          )\n",
       "          (branch3x3dbl_2): BasicConv2d(\n",
       "            (conv): Conv2d(48, 72, kernel_size=(3, 3), stride=(1, 1), padding=(1, 1))\n",
       "            (bn): BatchNorm2d(72, eps=1e-05, momentum=0.1, affine=True, track_running_stats=True)\n",
       "            (act): LeakyReLU(negative_slope=0.01, inplace)\n",
       "          )\n",
       "          (branch3x3dbl_3): BasicConv2d(\n",
       "            (conv): Conv2d(72, 72, kernel_size=(3, 3), stride=(1, 1), padding=(1, 1))\n",
       "            (bn): BatchNorm2d(72, eps=1e-05, momentum=0.1, affine=True, track_running_stats=True)\n",
       "            (act): LeakyReLU(negative_slope=0.01, inplace)\n",
       "          )\n",
       "          (branch_pool): BasicConv2d(\n",
       "            (conv): Conv2d(192, 24, kernel_size=(1, 1), stride=(1, 1))\n",
       "            (bn): BatchNorm2d(24, eps=1e-05, momentum=0.1, affine=True, track_running_stats=True)\n",
       "            (act): LeakyReLU(negative_slope=0.01, inplace)\n",
       "          )\n",
       "        )\n",
       "        (deconv1): BasicDeConv2d(\n",
       "          (conv): ConvTranspose2d(192, 144, kernel_size=(4, 4), stride=(2, 2), padding=(1, 1))\n",
       "          (bn): BatchNorm2d(144, eps=1e-05, momentum=0.1, affine=True, track_running_stats=True)\n",
       "          (act): LeakyReLU(negative_slope=0.01, inplace)\n",
       "        )\n",
       "        (conv2): BasicConv2d(\n",
       "          (conv): Conv2d(144, 144, kernel_size=(1, 1), stride=(1, 1))\n",
       "          (bn): BatchNorm2d(144, eps=1e-05, momentum=0.1, affine=True, track_running_stats=True)\n",
       "          (act): LeakyReLU(negative_slope=0.01, inplace)\n",
       "        )\n",
       "      )\n",
       "      (4): DeconvBlock5(\n",
       "        (conv0): InceptionA(\n",
       "          (branch1x1): BasicConv2d(\n",
       "            (conv): Conv2d(144, 36, kernel_size=(1, 1), stride=(1, 1))\n",
       "            (bn): BatchNorm2d(36, eps=1e-05, momentum=0.1, affine=True, track_running_stats=True)\n",
       "            (act): LeakyReLU(negative_slope=0.01, inplace)\n",
       "          )\n",
       "          (branch5x5_1): BasicConv2d(\n",
       "            (conv): Conv2d(144, 27, kernel_size=(1, 1), stride=(1, 1))\n",
       "            (bn): BatchNorm2d(27, eps=1e-05, momentum=0.1, affine=True, track_running_stats=True)\n",
       "            (act): LeakyReLU(negative_slope=0.01, inplace)\n",
       "          )\n",
       "          (branch5x5_2): BasicConv2d(\n",
       "            (conv): Conv2d(27, 36, kernel_size=(5, 5), stride=(1, 1), padding=(2, 2))\n",
       "            (bn): BatchNorm2d(36, eps=1e-05, momentum=0.1, affine=True, track_running_stats=True)\n",
       "            (act): LeakyReLU(negative_slope=0.01, inplace)\n",
       "          )\n",
       "          (branch3x3dbl_1): BasicConv2d(\n",
       "            (conv): Conv2d(144, 36, kernel_size=(1, 1), stride=(1, 1))\n",
       "            (bn): BatchNorm2d(36, eps=1e-05, momentum=0.1, affine=True, track_running_stats=True)\n",
       "            (act): LeakyReLU(negative_slope=0.01, inplace)\n",
       "          )\n",
       "          (branch3x3dbl_2): BasicConv2d(\n",
       "            (conv): Conv2d(36, 54, kernel_size=(3, 3), stride=(1, 1), padding=(1, 1))\n",
       "            (bn): BatchNorm2d(54, eps=1e-05, momentum=0.1, affine=True, track_running_stats=True)\n",
       "            (act): LeakyReLU(negative_slope=0.01, inplace)\n",
       "          )\n",
       "          (branch3x3dbl_3): BasicConv2d(\n",
       "            (conv): Conv2d(54, 54, kernel_size=(3, 3), stride=(1, 1), padding=(1, 1))\n",
       "            (bn): BatchNorm2d(54, eps=1e-05, momentum=0.1, affine=True, track_running_stats=True)\n",
       "            (act): LeakyReLU(negative_slope=0.01, inplace)\n",
       "          )\n",
       "          (branch_pool): BasicConv2d(\n",
       "            (conv): Conv2d(144, 18, kernel_size=(1, 1), stride=(1, 1))\n",
       "            (bn): BatchNorm2d(18, eps=1e-05, momentum=0.1, affine=True, track_running_stats=True)\n",
       "            (act): LeakyReLU(negative_slope=0.01, inplace)\n",
       "          )\n",
       "        )\n",
       "        (deconv1): BasicDeConv2d(\n",
       "          (conv): ConvTranspose2d(144, 96, kernel_size=(4, 4), stride=(2, 2), padding=(1, 1))\n",
       "          (bn): BatchNorm2d(96, eps=1e-05, momentum=0.1, affine=True, track_running_stats=True)\n",
       "          (act): LeakyReLU(negative_slope=0.01, inplace)\n",
       "        )\n",
       "        (conv2): BasicConv2d(\n",
       "          (conv): Conv2d(96, 96, kernel_size=(1, 1), stride=(1, 1))\n",
       "          (bn): BatchNorm2d(96, eps=1e-05, momentum=0.1, affine=True, track_running_stats=True)\n",
       "          (act): LeakyReLU(negative_slope=0.01, inplace)\n",
       "        )\n",
       "      )\n",
       "      (5): DeconvBlock5(\n",
       "        (conv0): InceptionA(\n",
       "          (branch1x1): BasicConv2d(\n",
       "            (conv): Conv2d(96, 24, kernel_size=(1, 1), stride=(1, 1))\n",
       "            (bn): BatchNorm2d(24, eps=1e-05, momentum=0.1, affine=True, track_running_stats=True)\n",
       "            (act): LeakyReLU(negative_slope=0.01, inplace)\n",
       "          )\n",
       "          (branch5x5_1): BasicConv2d(\n",
       "            (conv): Conv2d(96, 18, kernel_size=(1, 1), stride=(1, 1))\n",
       "            (bn): BatchNorm2d(18, eps=1e-05, momentum=0.1, affine=True, track_running_stats=True)\n",
       "            (act): LeakyReLU(negative_slope=0.01, inplace)\n",
       "          )\n",
       "          (branch5x5_2): BasicConv2d(\n",
       "            (conv): Conv2d(18, 24, kernel_size=(5, 5), stride=(1, 1), padding=(2, 2))\n",
       "            (bn): BatchNorm2d(24, eps=1e-05, momentum=0.1, affine=True, track_running_stats=True)\n",
       "            (act): LeakyReLU(negative_slope=0.01, inplace)\n",
       "          )\n",
       "          (branch3x3dbl_1): BasicConv2d(\n",
       "            (conv): Conv2d(96, 24, kernel_size=(1, 1), stride=(1, 1))\n",
       "            (bn): BatchNorm2d(24, eps=1e-05, momentum=0.1, affine=True, track_running_stats=True)\n",
       "            (act): LeakyReLU(negative_slope=0.01, inplace)\n",
       "          )\n",
       "          (branch3x3dbl_2): BasicConv2d(\n",
       "            (conv): Conv2d(24, 36, kernel_size=(3, 3), stride=(1, 1), padding=(1, 1))\n",
       "            (bn): BatchNorm2d(36, eps=1e-05, momentum=0.1, affine=True, track_running_stats=True)\n",
       "            (act): LeakyReLU(negative_slope=0.01, inplace)\n",
       "          )\n",
       "          (branch3x3dbl_3): BasicConv2d(\n",
       "            (conv): Conv2d(36, 36, kernel_size=(3, 3), stride=(1, 1), padding=(1, 1))\n",
       "            (bn): BatchNorm2d(36, eps=1e-05, momentum=0.1, affine=True, track_running_stats=True)\n",
       "            (act): LeakyReLU(negative_slope=0.01, inplace)\n",
       "          )\n",
       "          (branch_pool): BasicConv2d(\n",
       "            (conv): Conv2d(96, 12, kernel_size=(1, 1), stride=(1, 1))\n",
       "            (bn): BatchNorm2d(12, eps=1e-05, momentum=0.1, affine=True, track_running_stats=True)\n",
       "            (act): LeakyReLU(negative_slope=0.01, inplace)\n",
       "          )\n",
       "        )\n",
       "        (deconv1): BasicDeConv2d(\n",
       "          (conv): ConvTranspose2d(96, 48, kernel_size=(4, 4), stride=(2, 2), padding=(1, 1))\n",
       "          (bn): BatchNorm2d(48, eps=1e-05, momentum=0.1, affine=True, track_running_stats=True)\n",
       "          (act): LeakyReLU(negative_slope=0.01, inplace)\n",
       "        )\n",
       "        (conv2): BasicConv2d(\n",
       "          (conv): Conv2d(48, 48, kernel_size=(1, 1), stride=(1, 1))\n",
       "          (bn): BatchNorm2d(48, eps=1e-05, momentum=0.1, affine=True, track_running_stats=True)\n",
       "          (act): LeakyReLU(negative_slope=0.01, inplace)\n",
       "        )\n",
       "      )\n",
       "      (6): Conv2d(48, 3, kernel_size=(3, 3), stride=(1, 1), padding=(1, 1))\n",
       "    )\n",
       "    (sigmoid): Sigmoid()\n",
       "  )\n",
       "  (mdnrnn): MDNRNN2(\n",
       "    (rnn): LSTM(268, 128, batch_first=True)\n",
       "    (ln1): Linear(in_features=128, out_features=128, bias=True)\n",
       "    (ln2): Linear(in_features=128, out_features=640, bias=True)\n",
       "    (mdn): Linear(in_features=640, out_features=2304, bias=True)\n",
       "  )\n",
       "  (finv): FInv(\n",
       "    (ln1): Linear(in_features=512, out_features=256, bias=True)\n",
       "    (ln2): Linear(in_features=256, out_features=256, bias=True)\n",
       "    (ln3): Linear(in_features=256, out_features=12, bias=True)\n",
       "  )\n",
       ")"
      ]
     },
     "execution_count": 14,
     "metadata": {},
     "output_type": "execute_result"
    }
   ],
   "source": [
    "class WorldModel(torch.nn.modules.Module):\n",
    "    def __init__(self, vae, mdnrnn, finv):\n",
    "        \"\"\"Predicts next latent state\"\"\"\n",
    "        super().__init__()\n",
    "        self.vae = vae\n",
    "        self.mdnrnn = mdnrnn\n",
    "        self.finv = finv\n",
    "    def forward(self, x, action):\n",
    "        _, mu_vae, logvar_vae = self.vae.forward(x)\n",
    "        z = vae.sample(mu_vae, logvar_vae)\n",
    "        pi, mu, sigma, hidden_state = self.mdnrnn.forward(z[:, None], action[:, None])\n",
    "        z_next_pred = mdnrnn.sample(pi, mu, sigma)\n",
    "        return z_next_pred.squeeze(1)\n",
    "        \n",
    "world_model = WorldModel(vae, mdnrnn, finv)\n",
    "world_model.eval()\n",
    "world_model"
   ]
  },
  {
   "cell_type": "code",
   "execution_count": 15,
   "metadata": {
    "ExecuteTime": {
     "end_time": "2018-05-20T11:36:08.988451Z",
     "start_time": "2018-05-20T11:36:08.957568Z"
    }
   },
   "outputs": [],
   "source": [
    "\n",
    "# import torch.optim.lr_scheduler\n",
    "# optimizer = optim.Adam(world_model.parameters(), lr=1e-3)\n",
    "# scheduler = optim.lr_scheduler.ReduceLROnPlateau(optimizer, mode='min', patience=3, verbose=True)\n",
    "# optimizer"
   ]
  },
  {
   "cell_type": "markdown",
   "metadata": {
    "ExecuteTime": {
     "end_time": "2018-05-20T08:02:13.543439Z",
     "start_time": "2018-05-20T08:02:13.516675Z"
    }
   },
   "source": [
    "# summarize"
   ]
  },
  {
   "cell_type": "code",
   "execution_count": 16,
   "metadata": {
    "ExecuteTime": {
     "end_time": "2018-05-20T11:36:09.264582Z",
     "start_time": "2018-05-20T11:36:08.990639Z"
    }
   },
   "outputs": [
    {
     "name": "stdout",
     "output_type": "stream",
     "text": [
      "Total parameters 8909862\n",
      "Total trainable parameters 8909862\n"
     ]
    },
    {
     "data": {
      "text/html": [
       "<div>\n",
       "<style scoped>\n",
       "    .dataframe tbody tr th:only-of-type {\n",
       "        vertical-align: middle;\n",
       "    }\n",
       "\n",
       "    .dataframe tbody tr th {\n",
       "        vertical-align: top;\n",
       "    }\n",
       "\n",
       "    .dataframe thead th {\n",
       "        text-align: right;\n",
       "    }\n",
       "</style>\n",
       "<table border=\"1\" class=\"dataframe\">\n",
       "  <thead>\n",
       "    <tr style=\"text-align: right;\">\n",
       "      <th></th>\n",
       "      <th>name</th>\n",
       "      <th>class_name</th>\n",
       "      <th>input_shape</th>\n",
       "      <th>output_shape</th>\n",
       "      <th>nb_params</th>\n",
       "      <th>level</th>\n",
       "    </tr>\n",
       "  </thead>\n",
       "  <tbody>\n",
       "    <tr>\n",
       "      <th>4</th>\n",
       "      <td>encoder.0</td>\n",
       "      <td>BasicConv2d</td>\n",
       "      <td>[(-1, 3, 256, 256)]</td>\n",
       "      <td>[(-1, 48, 256, 256)]</td>\n",
       "      <td>1440</td>\n",
       "      <td>1</td>\n",
       "    </tr>\n",
       "    <tr>\n",
       "      <th>42</th>\n",
       "      <td>encoder.1</td>\n",
       "      <td>ConvBlock5</td>\n",
       "      <td>[(-1, 48, 256, 256)]</td>\n",
       "      <td>[(-1, 96, 128, 128)]</td>\n",
       "      <td>93213</td>\n",
       "      <td>1</td>\n",
       "    </tr>\n",
       "    <tr>\n",
       "      <th>80</th>\n",
       "      <td>encoder.2</td>\n",
       "      <td>ConvBlock5</td>\n",
       "      <td>[(-1, 96, 128, 128)]</td>\n",
       "      <td>[(-1, 144, 64, 64)]</td>\n",
       "      <td>281034</td>\n",
       "      <td>1</td>\n",
       "    </tr>\n",
       "    <tr>\n",
       "      <th>118</th>\n",
       "      <td>encoder.3</td>\n",
       "      <td>ConvBlock5</td>\n",
       "      <td>[(-1, 144, 64, 64)]</td>\n",
       "      <td>[(-1, 192, 32, 32)]</td>\n",
       "      <td>566055</td>\n",
       "      <td>1</td>\n",
       "    </tr>\n",
       "    <tr>\n",
       "      <th>156</th>\n",
       "      <td>encoder.4</td>\n",
       "      <td>ConvBlock5</td>\n",
       "      <td>[(-1, 192, 32, 32)]</td>\n",
       "      <td>[(-1, 240, 16, 16)]</td>\n",
       "      <td>948276</td>\n",
       "      <td>1</td>\n",
       "    </tr>\n",
       "    <tr>\n",
       "      <th>194</th>\n",
       "      <td>encoder.5</td>\n",
       "      <td>ConvBlock5</td>\n",
       "      <td>[(-1, 240, 16, 16)]</td>\n",
       "      <td>[(-1, 288, 8, 8)]</td>\n",
       "      <td>1427697</td>\n",
       "      <td>1</td>\n",
       "    </tr>\n",
       "    <tr>\n",
       "      <th>232</th>\n",
       "      <td>encoder.6</td>\n",
       "      <td>ConvBlock5</td>\n",
       "      <td>[(-1, 288, 8, 8)]</td>\n",
       "      <td>[(-1, 32, 8, 8)]</td>\n",
       "      <td>351550</td>\n",
       "      <td>1</td>\n",
       "    </tr>\n",
       "    <tr>\n",
       "      <th>233</th>\n",
       "      <td>mu</td>\n",
       "      <td>Linear</td>\n",
       "      <td>[(-1, 2048)]</td>\n",
       "      <td>[(-1, 256)]</td>\n",
       "      <td>524544</td>\n",
       "      <td>0</td>\n",
       "    </tr>\n",
       "    <tr>\n",
       "      <th>234</th>\n",
       "      <td>logvar</td>\n",
       "      <td>Linear</td>\n",
       "      <td>[(-1, 2048)]</td>\n",
       "      <td>[(-1, 256)]</td>\n",
       "      <td>524544</td>\n",
       "      <td>0</td>\n",
       "    </tr>\n",
       "    <tr>\n",
       "      <th>235</th>\n",
       "      <td>z</td>\n",
       "      <td>Linear</td>\n",
       "      <td>[(-1, 256)]</td>\n",
       "      <td>[(-1, 2048)]</td>\n",
       "      <td>526336</td>\n",
       "      <td>0</td>\n",
       "    </tr>\n",
       "    <tr>\n",
       "      <th>273</th>\n",
       "      <td>decoder.0</td>\n",
       "      <td>DeconvBlock5</td>\n",
       "      <td>[(-1, 32, 8, 8)]</td>\n",
       "      <td>[(-1, 288, 8, 8)]</td>\n",
       "      <td>98254</td>\n",
       "      <td>1</td>\n",
       "    </tr>\n",
       "    <tr>\n",
       "      <th>311</th>\n",
       "      <td>decoder.1</td>\n",
       "      <td>DeconvBlock5</td>\n",
       "      <td>[(-1, 288, 8, 8)]</td>\n",
       "      <td>[(-1, 240, 16, 16)]</td>\n",
       "      <td>1506078</td>\n",
       "      <td>1</td>\n",
       "    </tr>\n",
       "    <tr>\n",
       "      <th>349</th>\n",
       "      <td>decoder.2</td>\n",
       "      <td>DeconvBlock5</td>\n",
       "      <td>[(-1, 240, 16, 16)]</td>\n",
       "      <td>[(-1, 192, 32, 32)]</td>\n",
       "      <td>1012401</td>\n",
       "      <td>1</td>\n",
       "    </tr>\n",
       "    <tr>\n",
       "      <th>387</th>\n",
       "      <td>decoder.3</td>\n",
       "      <td>DeconvBlock5</td>\n",
       "      <td>[(-1, 192, 32, 32)]</td>\n",
       "      <td>[(-1, 144, 64, 64)]</td>\n",
       "      <td>615924</td>\n",
       "      <td>1</td>\n",
       "    </tr>\n",
       "    <tr>\n",
       "      <th>425</th>\n",
       "      <td>decoder.4</td>\n",
       "      <td>DeconvBlock5</td>\n",
       "      <td>[(-1, 144, 64, 64)]</td>\n",
       "      <td>[(-1, 96, 128, 128)]</td>\n",
       "      <td>316647</td>\n",
       "      <td>1</td>\n",
       "    </tr>\n",
       "    <tr>\n",
       "      <th>463</th>\n",
       "      <td>decoder.5</td>\n",
       "      <td>DeconvBlock5</td>\n",
       "      <td>[(-1, 96, 128, 128)]</td>\n",
       "      <td>[(-1, 48, 256, 256)]</td>\n",
       "      <td>114570</td>\n",
       "      <td>1</td>\n",
       "    </tr>\n",
       "    <tr>\n",
       "      <th>464</th>\n",
       "      <td>decoder.6</td>\n",
       "      <td>Conv2d</td>\n",
       "      <td>[(-1, 48, 256, 256)]</td>\n",
       "      <td>[(-1, 3, 256, 256)]</td>\n",
       "      <td>1299</td>\n",
       "      <td>1</td>\n",
       "    </tr>\n",
       "    <tr>\n",
       "      <th>465</th>\n",
       "      <td>sigmoid</td>\n",
       "      <td>Sigmoid</td>\n",
       "      <td>[(-1, 3, 256, 256)]</td>\n",
       "      <td>[(-1, 3, 256, 256)]</td>\n",
       "      <td>0</td>\n",
       "      <td>0</td>\n",
       "    </tr>\n",
       "  </tbody>\n",
       "</table>\n",
       "</div>"
      ],
      "text/plain": [
       "          name    class_name           input_shape          output_shape  \\\n",
       "4    encoder.0   BasicConv2d   [(-1, 3, 256, 256)]  [(-1, 48, 256, 256)]   \n",
       "42   encoder.1    ConvBlock5  [(-1, 48, 256, 256)]  [(-1, 96, 128, 128)]   \n",
       "80   encoder.2    ConvBlock5  [(-1, 96, 128, 128)]   [(-1, 144, 64, 64)]   \n",
       "118  encoder.3    ConvBlock5   [(-1, 144, 64, 64)]   [(-1, 192, 32, 32)]   \n",
       "156  encoder.4    ConvBlock5   [(-1, 192, 32, 32)]   [(-1, 240, 16, 16)]   \n",
       "194  encoder.5    ConvBlock5   [(-1, 240, 16, 16)]     [(-1, 288, 8, 8)]   \n",
       "232  encoder.6    ConvBlock5     [(-1, 288, 8, 8)]      [(-1, 32, 8, 8)]   \n",
       "233         mu        Linear          [(-1, 2048)]           [(-1, 256)]   \n",
       "234     logvar        Linear          [(-1, 2048)]           [(-1, 256)]   \n",
       "235          z        Linear           [(-1, 256)]          [(-1, 2048)]   \n",
       "273  decoder.0  DeconvBlock5      [(-1, 32, 8, 8)]     [(-1, 288, 8, 8)]   \n",
       "311  decoder.1  DeconvBlock5     [(-1, 288, 8, 8)]   [(-1, 240, 16, 16)]   \n",
       "349  decoder.2  DeconvBlock5   [(-1, 240, 16, 16)]   [(-1, 192, 32, 32)]   \n",
       "387  decoder.3  DeconvBlock5   [(-1, 192, 32, 32)]   [(-1, 144, 64, 64)]   \n",
       "425  decoder.4  DeconvBlock5   [(-1, 144, 64, 64)]  [(-1, 96, 128, 128)]   \n",
       "463  decoder.5  DeconvBlock5  [(-1, 96, 128, 128)]  [(-1, 48, 256, 256)]   \n",
       "464  decoder.6        Conv2d  [(-1, 48, 256, 256)]   [(-1, 3, 256, 256)]   \n",
       "465    sigmoid       Sigmoid   [(-1, 3, 256, 256)]   [(-1, 3, 256, 256)]   \n",
       "\n",
       "     nb_params  level  \n",
       "4         1440      1  \n",
       "42       93213      1  \n",
       "80      281034      1  \n",
       "118     566055      1  \n",
       "156     948276      1  \n",
       "194    1427697      1  \n",
       "232     351550      1  \n",
       "233     524544      0  \n",
       "234     524544      0  \n",
       "235     526336      0  \n",
       "273      98254      1  \n",
       "311    1506078      1  \n",
       "349    1012401      1  \n",
       "387     615924      1  \n",
       "425     316647      1  \n",
       "463     114570      1  \n",
       "464       1299      1  \n",
       "465          0      0  "
      ]
     },
     "execution_count": 16,
     "metadata": {},
     "output_type": "execute_result"
    }
   ],
   "source": [
    "img = np.random.randn(image_size, image_size, 3)\n",
    "action = Variable(torch.from_numpy(np.random.randint(0,12,(12)))).float().cuda()[np.newaxis]\n",
    "gpu_img = Variable(torch.from_numpy(img[np.newaxis].transpose(0, 3, 1, 2))).float().cuda()\n",
    "if cuda:\n",
    "    gpu_img = gpu_img.cuda()\n",
    "with TorchSummarizeDf(vae) as tdf:\n",
    "    x, mu_vae, logvar_vae = vae.forward(gpu_img)\n",
    "    z = vae.sample(mu_vae, logvar_vae)\n",
    "    df_vae = tdf.make_df()\n",
    "#     loss_recon, loss_KLD = loss_function_vae(Y, x, mu_vae, sigma_vae)\n",
    "#     loss_vae = loss_recon + lambda_vae_kld * torch.abs(loss_KLD-C)\n",
    "#     loss_vae = loss_vae.mean() # mean along the batches\n",
    "\n",
    "\n",
    "df_vae[df_vae.level<2]\n"
   ]
  },
  {
   "cell_type": "code",
   "execution_count": 17,
   "metadata": {
    "ExecuteTime": {
     "end_time": "2018-05-20T11:36:09.312149Z",
     "start_time": "2018-05-20T11:36:09.266437Z"
    }
   },
   "outputs": [
    {
     "name": "stdout",
     "output_type": "stream",
     "text": [
      "Total parameters 1779712\n",
      "Total trainable parameters 1779712\n"
     ]
    },
    {
     "data": {
      "text/html": [
       "<div>\n",
       "<style scoped>\n",
       "    .dataframe tbody tr th:only-of-type {\n",
       "        vertical-align: middle;\n",
       "    }\n",
       "\n",
       "    .dataframe tbody tr th {\n",
       "        vertical-align: top;\n",
       "    }\n",
       "\n",
       "    .dataframe thead th {\n",
       "        text-align: right;\n",
       "    }\n",
       "</style>\n",
       "<table border=\"1\" class=\"dataframe\">\n",
       "  <thead>\n",
       "    <tr style=\"text-align: right;\">\n",
       "      <th></th>\n",
       "      <th>name</th>\n",
       "      <th>class_name</th>\n",
       "      <th>input_shape</th>\n",
       "      <th>output_shape</th>\n",
       "      <th>nb_params</th>\n",
       "      <th>level</th>\n",
       "    </tr>\n",
       "  </thead>\n",
       "  <tbody>\n",
       "    <tr>\n",
       "      <th>1</th>\n",
       "      <td>rnn</td>\n",
       "      <td>LSTM</td>\n",
       "      <td>[[(-1, 2, 268)], [[(-1, 1, 128)], [(-1, 1, 128...</td>\n",
       "      <td>[[(-1, 2, 128)], [[(-1, 1, 128)], [(-1, 1, 128...</td>\n",
       "      <td>203776</td>\n",
       "      <td>0</td>\n",
       "    </tr>\n",
       "    <tr>\n",
       "      <th>2</th>\n",
       "      <td>ln1</td>\n",
       "      <td>Linear</td>\n",
       "      <td>[(-1, 128), (-1, 128)]</td>\n",
       "      <td>[(-1, 128), (-1, 128)]</td>\n",
       "      <td>16512</td>\n",
       "      <td>0</td>\n",
       "    </tr>\n",
       "    <tr>\n",
       "      <th>3</th>\n",
       "      <td>ln2</td>\n",
       "      <td>Linear</td>\n",
       "      <td>[(-1, 128), (-1, 128)]</td>\n",
       "      <td>[(-1, 640), (-1, 640)]</td>\n",
       "      <td>82560</td>\n",
       "      <td>0</td>\n",
       "    </tr>\n",
       "    <tr>\n",
       "      <th>4</th>\n",
       "      <td>mdn</td>\n",
       "      <td>Linear</td>\n",
       "      <td>[(-1, 640), (-1, 640)]</td>\n",
       "      <td>[(-1, 2304), (-1, 2304)]</td>\n",
       "      <td>1476864</td>\n",
       "      <td>0</td>\n",
       "    </tr>\n",
       "  </tbody>\n",
       "</table>\n",
       "</div>"
      ],
      "text/plain": [
       "  name class_name                                        input_shape  \\\n",
       "1  rnn       LSTM  [[(-1, 2, 268)], [[(-1, 1, 128)], [(-1, 1, 128...   \n",
       "2  ln1     Linear                             [(-1, 128), (-1, 128)]   \n",
       "3  ln2     Linear                             [(-1, 128), (-1, 128)]   \n",
       "4  mdn     Linear                             [(-1, 640), (-1, 640)]   \n",
       "\n",
       "                                        output_shape  nb_params  level  \n",
       "1  [[(-1, 2, 128)], [[(-1, 1, 128)], [(-1, 1, 128...     203776      0  \n",
       "2                             [(-1, 128), (-1, 128)]      16512      0  \n",
       "3                             [(-1, 640), (-1, 640)]      82560      0  \n",
       "4                           [(-1, 2304), (-1, 2304)]    1476864      0  "
      ]
     },
     "execution_count": 17,
     "metadata": {},
     "output_type": "execute_result"
    }
   ],
   "source": [
    "with TorchSummarizeDf(mdnrnn) as tdf: \n",
    "    pi, mu, sigma, hidden_state = mdnrnn.forward(z.unsqueeze(1).repeat((1,2,1)), action.unsqueeze(1).repeat((1,2,1)))\n",
    "    z_next = mdnrnn.sample(pi, mu, sigma)\n",
    "#     loss_mdn = mdnrnn.rnn_loss(z, pi, mu, sigma).mean()\n",
    "    df_mdnrnn = tdf.make_df()\n",
    "    \n",
    "df_mdnrnn"
   ]
  },
  {
   "cell_type": "code",
   "execution_count": 18,
   "metadata": {
    "ExecuteTime": {
     "end_time": "2018-05-20T11:36:09.350287Z",
     "start_time": "2018-05-20T11:36:09.313958Z"
    }
   },
   "outputs": [
    {
     "name": "stdout",
     "output_type": "stream",
     "text": [
      "Total parameters 200204\n",
      "Total trainable parameters 200204\n"
     ]
    },
    {
     "data": {
      "text/html": [
       "<div>\n",
       "<style scoped>\n",
       "    .dataframe tbody tr th:only-of-type {\n",
       "        vertical-align: middle;\n",
       "    }\n",
       "\n",
       "    .dataframe tbody tr th {\n",
       "        vertical-align: top;\n",
       "    }\n",
       "\n",
       "    .dataframe thead th {\n",
       "        text-align: right;\n",
       "    }\n",
       "</style>\n",
       "<table border=\"1\" class=\"dataframe\">\n",
       "  <thead>\n",
       "    <tr style=\"text-align: right;\">\n",
       "      <th></th>\n",
       "      <th>name</th>\n",
       "      <th>class_name</th>\n",
       "      <th>input_shape</th>\n",
       "      <th>output_shape</th>\n",
       "      <th>nb_params</th>\n",
       "      <th>level</th>\n",
       "    </tr>\n",
       "  </thead>\n",
       "  <tbody>\n",
       "    <tr>\n",
       "      <th>1</th>\n",
       "      <td>ln1</td>\n",
       "      <td>Linear</td>\n",
       "      <td>[(-1, 2, 512)]</td>\n",
       "      <td>[(-1, 2, 256)]</td>\n",
       "      <td>131328</td>\n",
       "      <td>0</td>\n",
       "    </tr>\n",
       "    <tr>\n",
       "      <th>2</th>\n",
       "      <td>ln2</td>\n",
       "      <td>Linear</td>\n",
       "      <td>[(-1, 2, 256)]</td>\n",
       "      <td>[(-1, 2, 256)]</td>\n",
       "      <td>65792</td>\n",
       "      <td>0</td>\n",
       "    </tr>\n",
       "    <tr>\n",
       "      <th>3</th>\n",
       "      <td>ln3</td>\n",
       "      <td>Linear</td>\n",
       "      <td>[(-1, 2, 256)]</td>\n",
       "      <td>[(-1, 2, 12)]</td>\n",
       "      <td>3084</td>\n",
       "      <td>0</td>\n",
       "    </tr>\n",
       "  </tbody>\n",
       "</table>\n",
       "</div>"
      ],
      "text/plain": [
       "  name class_name     input_shape    output_shape  nb_params  level\n",
       "1  ln1     Linear  [(-1, 2, 512)]  [(-1, 2, 256)]     131328      0\n",
       "2  ln2     Linear  [(-1, 2, 256)]  [(-1, 2, 256)]      65792      0\n",
       "3  ln3     Linear  [(-1, 2, 256)]   [(-1, 2, 12)]       3084      0"
      ]
     },
     "execution_count": 18,
     "metadata": {},
     "output_type": "execute_result"
    }
   ],
   "source": [
    "#     loss = loss_mdn + gamma_vae * loss_vae\n",
    "with TorchSummarizeDf(finv) as tdf:\n",
    "    action_pred = finv(z.repeat((1,2,1)), z_next)\n",
    "        \n",
    "    df_finv = tdf.make_df()\n",
    "    \n",
    "\n",
    "df_finv"
   ]
  },
  {
   "cell_type": "code",
   "execution_count": 19,
   "metadata": {
    "ExecuteTime": {
     "end_time": "2018-05-20T11:36:09.634003Z",
     "start_time": "2018-05-20T11:36:09.355847Z"
    }
   },
   "outputs": [
    {
     "name": "stdout",
     "output_type": "stream",
     "text": [
      "Total parameters 10889778\n",
      "Total trainable parameters 10889778\n"
     ]
    },
    {
     "data": {
      "text/html": [
       "<div>\n",
       "<style scoped>\n",
       "    .dataframe tbody tr th:only-of-type {\n",
       "        vertical-align: middle;\n",
       "    }\n",
       "\n",
       "    .dataframe tbody tr th {\n",
       "        vertical-align: top;\n",
       "    }\n",
       "\n",
       "    .dataframe thead th {\n",
       "        text-align: right;\n",
       "    }\n",
       "</style>\n",
       "<table border=\"1\" class=\"dataframe\">\n",
       "  <thead>\n",
       "    <tr style=\"text-align: right;\">\n",
       "      <th></th>\n",
       "      <th>name</th>\n",
       "      <th>class_name</th>\n",
       "      <th>input_shape</th>\n",
       "      <th>output_shape</th>\n",
       "      <th>nb_params</th>\n",
       "      <th>level</th>\n",
       "    </tr>\n",
       "  </thead>\n",
       "  <tbody>\n",
       "    <tr>\n",
       "      <th>233</th>\n",
       "      <td>vae.mu</td>\n",
       "      <td>Linear</td>\n",
       "      <td>[(-1, 2048)]</td>\n",
       "      <td>[(-1, 256)]</td>\n",
       "      <td>524544</td>\n",
       "      <td>1</td>\n",
       "    </tr>\n",
       "    <tr>\n",
       "      <th>234</th>\n",
       "      <td>vae.logvar</td>\n",
       "      <td>Linear</td>\n",
       "      <td>[(-1, 2048)]</td>\n",
       "      <td>[(-1, 256)]</td>\n",
       "      <td>524544</td>\n",
       "      <td>1</td>\n",
       "    </tr>\n",
       "    <tr>\n",
       "      <th>235</th>\n",
       "      <td>vae.z</td>\n",
       "      <td>Linear</td>\n",
       "      <td>[(-1, 256)]</td>\n",
       "      <td>[(-1, 2048)]</td>\n",
       "      <td>526336</td>\n",
       "      <td>1</td>\n",
       "    </tr>\n",
       "    <tr>\n",
       "      <th>465</th>\n",
       "      <td>vae.sigmoid</td>\n",
       "      <td>Sigmoid</td>\n",
       "      <td>[(-1, 3, 256, 256)]</td>\n",
       "      <td>[(-1, 3, 256, 256)]</td>\n",
       "      <td>0</td>\n",
       "      <td>1</td>\n",
       "    </tr>\n",
       "    <tr>\n",
       "      <th>466</th>\n",
       "      <td>mdnrnn.rnn</td>\n",
       "      <td>LSTM</td>\n",
       "      <td>[[(-1, 1, 268)], [[(-1, 1, 128)], [(-1, 1, 128...</td>\n",
       "      <td>[[(-1, 1, 128)], [[(-1, 1, 128)], [(-1, 1, 128...</td>\n",
       "      <td>203776</td>\n",
       "      <td>1</td>\n",
       "    </tr>\n",
       "    <tr>\n",
       "      <th>467</th>\n",
       "      <td>mdnrnn.ln1</td>\n",
       "      <td>Linear</td>\n",
       "      <td>[(-1, 128)]</td>\n",
       "      <td>[(-1, 128)]</td>\n",
       "      <td>16512</td>\n",
       "      <td>1</td>\n",
       "    </tr>\n",
       "    <tr>\n",
       "      <th>468</th>\n",
       "      <td>mdnrnn.ln2</td>\n",
       "      <td>Linear</td>\n",
       "      <td>[(-1, 128)]</td>\n",
       "      <td>[(-1, 640)]</td>\n",
       "      <td>82560</td>\n",
       "      <td>1</td>\n",
       "    </tr>\n",
       "    <tr>\n",
       "      <th>469</th>\n",
       "      <td>mdnrnn.mdn</td>\n",
       "      <td>Linear</td>\n",
       "      <td>[(-1, 640)]</td>\n",
       "      <td>[(-1, 2304)]</td>\n",
       "      <td>1476864</td>\n",
       "      <td>1</td>\n",
       "    </tr>\n",
       "  </tbody>\n",
       "</table>\n",
       "</div>"
      ],
      "text/plain": [
       "            name class_name  \\\n",
       "233       vae.mu     Linear   \n",
       "234   vae.logvar     Linear   \n",
       "235        vae.z     Linear   \n",
       "465  vae.sigmoid    Sigmoid   \n",
       "466   mdnrnn.rnn       LSTM   \n",
       "467   mdnrnn.ln1     Linear   \n",
       "468   mdnrnn.ln2     Linear   \n",
       "469   mdnrnn.mdn     Linear   \n",
       "\n",
       "                                           input_shape  \\\n",
       "233                                       [(-1, 2048)]   \n",
       "234                                       [(-1, 2048)]   \n",
       "235                                        [(-1, 256)]   \n",
       "465                                [(-1, 3, 256, 256)]   \n",
       "466  [[(-1, 1, 268)], [[(-1, 1, 128)], [(-1, 1, 128...   \n",
       "467                                        [(-1, 128)]   \n",
       "468                                        [(-1, 128)]   \n",
       "469                                        [(-1, 640)]   \n",
       "\n",
       "                                          output_shape  nb_params  level  \n",
       "233                                        [(-1, 256)]     524544      1  \n",
       "234                                        [(-1, 256)]     524544      1  \n",
       "235                                       [(-1, 2048)]     526336      1  \n",
       "465                                [(-1, 3, 256, 256)]          0      1  \n",
       "466  [[(-1, 1, 128)], [[(-1, 1, 128)], [(-1, 1, 128...     203776      1  \n",
       "467                                        [(-1, 128)]      16512      1  \n",
       "468                                        [(-1, 640)]      82560      1  \n",
       "469                                       [(-1, 2304)]    1476864      1  "
      ]
     },
     "execution_count": 19,
     "metadata": {},
     "output_type": "execute_result"
    }
   ],
   "source": [
    "with TorchSummarizeDf(world_model) as tdf:\n",
    "    z_next = world_model(gpu_img, action)\n",
    "    z_next.shape\n",
    "    df_world_model = tdf.make_df()\n",
    "df_world_model[df_world_model.level<2]"
   ]
  },
  {
   "cell_type": "code",
   "execution_count": 20,
   "metadata": {
    "ExecuteTime": {
     "end_time": "2018-05-20T11:36:09.662336Z",
     "start_time": "2018-05-20T11:36:09.640371Z"
    }
   },
   "outputs": [],
   "source": [
    "del img, action, gpu_img, x, mu, z"
   ]
  },
  {
   "cell_type": "code",
   "execution_count": null,
   "metadata": {
    "ExecuteTime": {
     "end_time": "2018-05-20T08:04:52.567297Z",
     "start_time": "2018-05-20T08:04:52.542603Z"
    }
   },
   "outputs": [],
   "source": []
  },
  {
   "cell_type": "markdown",
   "metadata": {
    "ExecuteTime": {
     "end_time": "2018-05-20T07:18:19.644210Z",
     "start_time": "2018-05-20T07:18:19.621959Z"
    }
   },
   "source": [
    "# Train helpers"
   ]
  },
  {
   "cell_type": "markdown",
   "metadata": {
    "ExecuteTime": {
     "end_time": "2018-05-20T07:18:55.625655Z",
     "start_time": "2018-05-20T07:18:55.606567Z"
    }
   },
   "source": [
    "# Train"
   ]
  },
  {
   "cell_type": "code",
   "execution_count": 21,
   "metadata": {
    "ExecuteTime": {
     "end_time": "2018-05-20T11:36:09.692091Z",
     "start_time": "2018-05-20T11:36:09.668973Z"
    }
   },
   "outputs": [],
   "source": [
    "from deep_rl.utils import Config\n",
    "from deep_rl.utils.logger import get_logger, get_default_log_dir\n",
    "\n",
    "from deep_rl.network.network_heads import CategoricalActorCriticNet, QuantileNet, OptionCriticNet, DeterministicActorCriticNet, GaussianActorCriticNet\n",
    "from deep_rl.network.network_bodies import FCBody\n",
    "\n",
    "from deep_rl.agent.PPO_agent import PPOAgent\n",
    "from deep_rl.component.task import ParallelizedTask, BaseTask\n",
    "from deep_rl.utils.misc import run_episodes, run_iterations"
   ]
  },
  {
   "cell_type": "code",
   "execution_count": 22,
   "metadata": {
    "ExecuteTime": {
     "end_time": "2018-05-20T11:36:09.744786Z",
     "start_time": "2018-05-20T11:36:09.699170Z"
    }
   },
   "outputs": [
    {
     "name": "stdout",
     "output_type": "stream",
     "text": [
      "Importing 0 potential games...\n",
      "Imported 0 games\n"
     ]
    }
   ],
   "source": [
    "# Env\n",
    "from world_models_sonic.custom_envs.env import make_env\n",
    "\n",
    "class SonicDeepRL(BaseTask):\n",
    "    def __init__(self, name='sonic256', max_steps=6000, log_dir=None):\n",
    "        BaseTask.__init__(self)\n",
    "        self.name = name\n",
    "        self.env = make_env(self.name)\n",
    "        self.env._max_episode_steps = max_steps\n",
    "        self.action_dim = self.env.action_space.n\n",
    "        self.state_dim = self.env.observation_space.shape\n",
    "        self.env = self.set_monitor(self.env, log_dir)\n",
    "        \n"
   ]
  },
  {
   "cell_type": "code",
   "execution_count": null,
   "metadata": {
    "ExecuteTime": {
     "end_time": "2018-05-20T11:06:50.222290Z",
     "start_time": "2018-05-20T11:06:50.193854Z"
    }
   },
   "outputs": [],
   "source": []
  },
  {
   "cell_type": "code",
   "execution_count": 23,
   "metadata": {
    "ExecuteTime": {
     "end_time": "2018-05-20T11:36:09.781482Z",
     "start_time": "2018-05-20T11:36:09.750431Z"
    }
   },
   "outputs": [],
   "source": [
    "import gym\n",
    "from gym import spaces\n",
    "\n",
    "def np_sigmoid(x):\n",
    "    return 1.0/(1.0+np.exp(-x))\n",
    "\n",
    "class Action2Int(gym.ActionWrapper):\n",
    "    def action(self, action):\n",
    "        return np_sigmoid(action).round(0).astype(int)\n",
    "    \n",
    "\n",
    "\n",
    "class WorldModelWrapper(gym.Wrapper):\n",
    "    def __init__(self, env, world_model):\n",
    "        \"\"\"Uses the world model to give next latent state as observation.\"\"\"\n",
    "        super().__init__(env)\n",
    "        self.world_model = world_model\n",
    "        old_obs_space = env.observation_space\n",
    "        self.observation_space = spaces.Box(low=-1000, high=1000,\n",
    "                                            shape=(world_model.mdnrnn.z_dim,), dtype=np.float32)\n",
    "        \n",
    "    def step(self, action):\n",
    "        action = action.round(0).astype(int)\n",
    "        observation, reward, done, info = self.env.step(action)\n",
    "        action = torch.from_numpy(action.astype(np.float32)).cuda().unsqueeze(0)\n",
    "        observation = torch.from_numpy(self.env.reset()).cuda().unsqueeze(0).transpose(1, 3)\n",
    "        \n",
    "        observation = self.world_model.forward(observation, action).squeeze(0).cpu().data.numpy()\n",
    "        return observation, reward, done, info\n",
    "    \n",
    "    def reset(self):\n",
    "        action = torch.from_numpy(self.env.action_space.sample().astype(np.float32)).cuda().unsqueeze(0)\n",
    "        observation = torch.from_numpy(self.env.reset()).cuda().unsqueeze(0).transpose(1, 3)\n",
    "        observation = self.world_model.forward(observation, action).squeeze(0).cpu().data.numpy()\n",
    "        return observation\n",
    "\n",
    "class SonicWorldModelDeepRL(BaseTask):\n",
    "    def __init__(self, name='sonic256', max_steps=6000, log_dir=None, world_model_func=None):\n",
    "        BaseTask.__init__(self)\n",
    "        self.name = name\n",
    "        self.world_model = world_model_func()\n",
    "        self.env = Action2Int(WorldModelWrapper(make_env(self.name), self.world_model))\n",
    "        self.env._max_episode_steps = max_steps\n",
    "        self.action_dim = self.env.action_space.n\n",
    "        self.state_dim = self.env.observation_space.shape[0]\n",
    "        self.env = self.set_monitor(self.env, log_dir)"
   ]
  },
  {
   "cell_type": "code",
   "execution_count": null,
   "metadata": {
    "ExecuteTime": {
     "end_time": "2018-05-20T11:25:40.587553Z",
     "start_time": "2018-05-20T11:25:40.555382Z"
    }
   },
   "outputs": [],
   "source": []
  },
  {
   "cell_type": "code",
   "execution_count": null,
   "metadata": {
    "ExecuteTime": {
     "end_time": "2018-05-20T11:25:43.067297Z",
     "start_time": "2018-05-20T11:25:43.034706Z"
    }
   },
   "outputs": [],
   "source": []
  },
  {
   "cell_type": "code",
   "execution_count": null,
   "metadata": {},
   "outputs": [],
   "source": []
  },
  {
   "cell_type": "code",
   "execution_count": 24,
   "metadata": {
    "ExecuteTime": {
     "end_time": "2018-05-20T11:36:09.813656Z",
     "start_time": "2018-05-20T11:36:09.786230Z"
    }
   },
   "outputs": [],
   "source": [
    "# from deep_rl.network.network_heads import BaseNet, ActorCriticNet\n",
    "# class GaussianActorCriticNet(nn.Module, BaseNet):\n",
    "#     def __init__(self,\n",
    "#                  state_dim,\n",
    "#                  action_dim,\n",
    "#                  phi_body=None,\n",
    "#                  actor_body=None,\n",
    "#                  critic_body=None,\n",
    "#                  gpu=-1):\n",
    "#         super().__init__()\n",
    "#         self.network = ActorCriticNet(state_dim, action_dim, phi_body, actor_body, critic_body)\n",
    "#         self.std = nn.Parameter(torch.ones(1, action_dim))\n",
    "#         self.set_gpu(gpu)\n",
    "\n",
    "#     def predict(self, obs, action=None, to_numpy=False):\n",
    "#         obs = self.tensor(obs)\n",
    "#         phi = self.network.phi_body(obs)\n",
    "#         phi_a = self.network.actor_body(phi)\n",
    "#         phi_v = self.network.critic_body(phi)\n",
    "#         mean = F.tanh(self.network.fc_action(phi_a))\n",
    "#         if to_numpy:\n",
    "#             return mean.cpu().detach().numpy()\n",
    "#         v = self.network.fc_critic(phi_v)\n",
    "#         dist = torch.distributions.Normal(mean, self.std)\n",
    "#         if action is None:\n",
    "#             action = dist.sample()\n",
    "#         log_prob = dist.log_prob(action)\n",
    "#         log_prob = torch.sum(log_prob, dim=1, keepdim=True)\n",
    "# #         action = action.squeeze(0)\n",
    "#         return action, log_prob, self.tensor(np.zeros((log_prob.size(0), 1))), v"
   ]
  },
  {
   "cell_type": "code",
   "execution_count": null,
   "metadata": {
    "ExecuteTime": {
     "end_time": "2018-05-20T10:53:45.854754Z",
     "start_time": "2018-05-20T10:53:45.829707Z"
    }
   },
   "outputs": [],
   "source": []
  },
  {
   "cell_type": "code",
   "execution_count": 25,
   "metadata": {
    "ExecuteTime": {
     "end_time": "2018-05-20T11:36:09.842418Z",
     "start_time": "2018-05-20T11:36:09.816904Z"
    }
   },
   "outputs": [],
   "source": [
    "# from deep_rl.utils.misc import \n",
    "import pickle\n",
    "def run_iterations(agent):\n",
    "    config = agent.config\n",
    "    agent_name = agent.__class__.__name__\n",
    "    iteration = 0\n",
    "    steps = []\n",
    "    rewards = []\n",
    "    while True:\n",
    "        agent.iteration()\n",
    "        steps.append(agent.total_steps)\n",
    "        rewards.append(np.mean(agent.last_episode_rewards))\n",
    "        if iteration % config.iteration_log_interval == 0:\n",
    "            config.logger.info('total steps %d, mean/max/min reward %f/%f/%f' % (\n",
    "                agent.total_steps, np.mean(agent.last_episode_rewards),\n",
    "                np.max(agent.last_episode_rewards),\n",
    "                np.min(agent.last_episode_rewards)\n",
    "            ))\n",
    "        if iteration % (config.iteration_log_interval * 100) == 0:\n",
    "            with open('data/%s-%s-online-stats-%s.bin' % (agent_name, config.tag, agent.task.name), 'wb') as f:\n",
    "                pickle.dump({'rewards': rewards,\n",
    "                             'steps': steps}, f)\n",
    "            agent.save('data/%s-%s-model-%s.bin' % (agent_name, config.tag, agent.task.name))\n",
    "        iteration += 1\n",
    "        if config.max_steps and agent.total_steps >= config.max_steps:\n",
    "            agent.close()\n",
    "            break\n",
    "\n",
    "    return steps, rewards"
   ]
  },
  {
   "cell_type": "code",
   "execution_count": 26,
   "metadata": {
    "ExecuteTime": {
     "end_time": "2018-05-20T11:36:37.359344Z",
     "start_time": "2018-05-20T11:36:09.853811Z"
    }
   },
   "outputs": [
    {
     "name": "stdout",
     "output_type": "stream",
     "text": [
      "game: SonicAndKnuckles3-Genesis state: FlyingBatteryZone.Act1\n"
     ]
    },
    {
     "name": "stderr",
     "output_type": "stream",
     "text": [
      "2018-05-20 19:36:16,399 - RNN_v3b_256im_512z_1512_v3_greenfield - INFO: total steps 128, mean/max/min reward 0.000000/0.000000/0.000000\n",
      "2018-05-20 19:36:21,688 - RNN_v3b_256im_512z_1512_v3_greenfield - INFO: total steps 256, mean/max/min reward 0.000000/0.000000/0.000000\n",
      "2018-05-20 19:36:26,870 - RNN_v3b_256im_512z_1512_v3_greenfield - INFO: total steps 384, mean/max/min reward 0.000000/0.000000/0.000000\n",
      "2018-05-20 19:36:32,043 - RNN_v3b_256im_512z_1512_v3_greenfield - INFO: total steps 512, mean/max/min reward 0.000000/0.000000/0.000000\n"
     ]
    },
    {
     "ename": "KeyboardInterrupt",
     "evalue": "",
     "output_type": "error",
     "traceback": [
      "\u001b[0;31m---------------------------------------------------------------------------\u001b[0m",
      "\u001b[0;31mKeyboardInterrupt\u001b[0m                         Traceback (most recent call last)",
      "\u001b[0;32m<ipython-input-26-34a39c11ddc6>\u001b[0m in \u001b[0;36m<module>\u001b[0;34m()\u001b[0m\n\u001b[1;32m     26\u001b[0m \u001b[0magent\u001b[0m\u001b[0;34m=\u001b[0m\u001b[0mPPOAgent\u001b[0m\u001b[0;34m(\u001b[0m\u001b[0mconfig\u001b[0m\u001b[0;34m)\u001b[0m\u001b[0;34m\u001b[0m\u001b[0m\n\u001b[1;32m     27\u001b[0m \u001b[0;32mtry\u001b[0m\u001b[0;34m:\u001b[0m\u001b[0;34m\u001b[0m\u001b[0m\n\u001b[0;32m---> 28\u001b[0;31m     \u001b[0mrun_iterations\u001b[0m\u001b[0;34m(\u001b[0m\u001b[0magent\u001b[0m\u001b[0;34m)\u001b[0m\u001b[0;34m\u001b[0m\u001b[0m\n\u001b[0m\u001b[1;32m     29\u001b[0m \u001b[0;32mexcept\u001b[0m\u001b[0;34m:\u001b[0m\u001b[0;34m\u001b[0m\u001b[0m\n\u001b[1;32m     30\u001b[0m \u001b[0;31m#     agent.task.env.unwrapped.close()\u001b[0m\u001b[0;34m\u001b[0m\u001b[0;34m\u001b[0m\u001b[0m\n",
      "\u001b[0;32m<ipython-input-25-00530cb453f2>\u001b[0m in \u001b[0;36mrun_iterations\u001b[0;34m(agent)\u001b[0m\n\u001b[1;32m      8\u001b[0m     \u001b[0mrewards\u001b[0m \u001b[0;34m=\u001b[0m \u001b[0;34m[\u001b[0m\u001b[0;34m]\u001b[0m\u001b[0;34m\u001b[0m\u001b[0m\n\u001b[1;32m      9\u001b[0m     \u001b[0;32mwhile\u001b[0m \u001b[0;32mTrue\u001b[0m\u001b[0;34m:\u001b[0m\u001b[0;34m\u001b[0m\u001b[0m\n\u001b[0;32m---> 10\u001b[0;31m         \u001b[0magent\u001b[0m\u001b[0;34m.\u001b[0m\u001b[0miteration\u001b[0m\u001b[0;34m(\u001b[0m\u001b[0;34m)\u001b[0m\u001b[0;34m\u001b[0m\u001b[0m\n\u001b[0m\u001b[1;32m     11\u001b[0m         \u001b[0msteps\u001b[0m\u001b[0;34m.\u001b[0m\u001b[0mappend\u001b[0m\u001b[0;34m(\u001b[0m\u001b[0magent\u001b[0m\u001b[0;34m.\u001b[0m\u001b[0mtotal_steps\u001b[0m\u001b[0;34m)\u001b[0m\u001b[0;34m\u001b[0m\u001b[0m\n\u001b[1;32m     12\u001b[0m         \u001b[0mrewards\u001b[0m\u001b[0;34m.\u001b[0m\u001b[0mappend\u001b[0m\u001b[0;34m(\u001b[0m\u001b[0mnp\u001b[0m\u001b[0;34m.\u001b[0m\u001b[0mmean\u001b[0m\u001b[0;34m(\u001b[0m\u001b[0magent\u001b[0m\u001b[0;34m.\u001b[0m\u001b[0mlast_episode_rewards\u001b[0m\u001b[0;34m)\u001b[0m\u001b[0;34m)\u001b[0m\u001b[0;34m\u001b[0m\u001b[0m\n",
      "\u001b[0;32m/media/oldhome/wassname/Documents/projects/retro_sonic_comp/DeepRL/deep_rl/agent/PPO_agent.py\u001b[0m in \u001b[0;36miteration\u001b[0;34m(self)\u001b[0m\n\u001b[1;32m     28\u001b[0m         \u001b[0;32mfor\u001b[0m \u001b[0m_\u001b[0m \u001b[0;32min\u001b[0m \u001b[0mrange\u001b[0m\u001b[0;34m(\u001b[0m\u001b[0mconfig\u001b[0m\u001b[0;34m.\u001b[0m\u001b[0mrollout_length\u001b[0m\u001b[0;34m)\u001b[0m\u001b[0;34m:\u001b[0m\u001b[0;34m\u001b[0m\u001b[0m\n\u001b[1;32m     29\u001b[0m             \u001b[0mactions\u001b[0m\u001b[0;34m,\u001b[0m \u001b[0mlog_probs\u001b[0m\u001b[0;34m,\u001b[0m \u001b[0m_\u001b[0m\u001b[0;34m,\u001b[0m \u001b[0mvalues\u001b[0m \u001b[0;34m=\u001b[0m \u001b[0mself\u001b[0m\u001b[0;34m.\u001b[0m\u001b[0mnetwork\u001b[0m\u001b[0;34m.\u001b[0m\u001b[0mpredict\u001b[0m\u001b[0;34m(\u001b[0m\u001b[0mstates\u001b[0m\u001b[0;34m)\u001b[0m\u001b[0;34m\u001b[0m\u001b[0m\n\u001b[0;32m---> 30\u001b[0;31m             \u001b[0mnext_states\u001b[0m\u001b[0;34m,\u001b[0m \u001b[0mrewards\u001b[0m\u001b[0;34m,\u001b[0m \u001b[0mterminals\u001b[0m\u001b[0;34m,\u001b[0m \u001b[0m_\u001b[0m \u001b[0;34m=\u001b[0m \u001b[0mself\u001b[0m\u001b[0;34m.\u001b[0m\u001b[0mtask\u001b[0m\u001b[0;34m.\u001b[0m\u001b[0mstep\u001b[0m\u001b[0;34m(\u001b[0m\u001b[0mactions\u001b[0m\u001b[0;34m.\u001b[0m\u001b[0mcpu\u001b[0m\u001b[0;34m(\u001b[0m\u001b[0;34m)\u001b[0m\u001b[0;34m.\u001b[0m\u001b[0mdetach\u001b[0m\u001b[0;34m(\u001b[0m\u001b[0;34m)\u001b[0m\u001b[0;34m.\u001b[0m\u001b[0mnumpy\u001b[0m\u001b[0;34m(\u001b[0m\u001b[0;34m)\u001b[0m\u001b[0;34m)\u001b[0m\u001b[0;34m\u001b[0m\u001b[0m\n\u001b[0m\u001b[1;32m     31\u001b[0m             \u001b[0mself\u001b[0m\u001b[0;34m.\u001b[0m\u001b[0mepisode_rewards\u001b[0m \u001b[0;34m+=\u001b[0m \u001b[0mrewards\u001b[0m\u001b[0;34m\u001b[0m\u001b[0m\n\u001b[1;32m     32\u001b[0m             \u001b[0mrewards\u001b[0m \u001b[0;34m=\u001b[0m \u001b[0mconfig\u001b[0m\u001b[0;34m.\u001b[0m\u001b[0mreward_normalizer\u001b[0m\u001b[0;34m(\u001b[0m\u001b[0mrewards\u001b[0m\u001b[0;34m)\u001b[0m\u001b[0;34m\u001b[0m\u001b[0m\n",
      "\u001b[0;32m/media/oldhome/wassname/Documents/projects/retro_sonic_comp/DeepRL/deep_rl/component/task.py\u001b[0m in \u001b[0;36mstep\u001b[0;34m(self, actions)\u001b[0m\n\u001b[1;32m    199\u001b[0m \u001b[0;34m\u001b[0m\u001b[0m\n\u001b[1;32m    200\u001b[0m     \u001b[0;32mdef\u001b[0m \u001b[0mstep\u001b[0m\u001b[0;34m(\u001b[0m\u001b[0mself\u001b[0m\u001b[0;34m,\u001b[0m \u001b[0mactions\u001b[0m\u001b[0;34m)\u001b[0m\u001b[0;34m:\u001b[0m\u001b[0;34m\u001b[0m\u001b[0m\n\u001b[0;32m--> 201\u001b[0;31m         \u001b[0mresults\u001b[0m \u001b[0;34m=\u001b[0m \u001b[0;34m[\u001b[0m\u001b[0mtask\u001b[0m\u001b[0;34m.\u001b[0m\u001b[0mstep\u001b[0m\u001b[0;34m(\u001b[0m\u001b[0maction\u001b[0m\u001b[0;34m)\u001b[0m \u001b[0;32mfor\u001b[0m \u001b[0mtask\u001b[0m\u001b[0;34m,\u001b[0m \u001b[0maction\u001b[0m \u001b[0;32min\u001b[0m \u001b[0mzip\u001b[0m\u001b[0;34m(\u001b[0m\u001b[0mself\u001b[0m\u001b[0;34m.\u001b[0m\u001b[0mtasks\u001b[0m\u001b[0;34m,\u001b[0m \u001b[0mactions\u001b[0m\u001b[0;34m)\u001b[0m\u001b[0;34m]\u001b[0m\u001b[0;34m\u001b[0m\u001b[0m\n\u001b[0m\u001b[1;32m    202\u001b[0m         \u001b[0mresults\u001b[0m \u001b[0;34m=\u001b[0m \u001b[0mmap\u001b[0m\u001b[0;34m(\u001b[0m\u001b[0;32mlambda\u001b[0m \u001b[0mx\u001b[0m\u001b[0;34m:\u001b[0m \u001b[0mnp\u001b[0m\u001b[0;34m.\u001b[0m\u001b[0mstack\u001b[0m\u001b[0;34m(\u001b[0m\u001b[0mx\u001b[0m\u001b[0;34m)\u001b[0m\u001b[0;34m,\u001b[0m \u001b[0mzip\u001b[0m\u001b[0;34m(\u001b[0m\u001b[0;34m*\u001b[0m\u001b[0mresults\u001b[0m\u001b[0;34m)\u001b[0m\u001b[0;34m)\u001b[0m\u001b[0;34m\u001b[0m\u001b[0m\n\u001b[1;32m    203\u001b[0m         \u001b[0;32mreturn\u001b[0m \u001b[0mresults\u001b[0m\u001b[0;34m\u001b[0m\u001b[0m\n",
      "\u001b[0;32m/media/oldhome/wassname/Documents/projects/retro_sonic_comp/DeepRL/deep_rl/component/task.py\u001b[0m in \u001b[0;36m<listcomp>\u001b[0;34m(.0)\u001b[0m\n\u001b[1;32m    199\u001b[0m \u001b[0;34m\u001b[0m\u001b[0m\n\u001b[1;32m    200\u001b[0m     \u001b[0;32mdef\u001b[0m \u001b[0mstep\u001b[0m\u001b[0;34m(\u001b[0m\u001b[0mself\u001b[0m\u001b[0;34m,\u001b[0m \u001b[0mactions\u001b[0m\u001b[0;34m)\u001b[0m\u001b[0;34m:\u001b[0m\u001b[0;34m\u001b[0m\u001b[0m\n\u001b[0;32m--> 201\u001b[0;31m         \u001b[0mresults\u001b[0m \u001b[0;34m=\u001b[0m \u001b[0;34m[\u001b[0m\u001b[0mtask\u001b[0m\u001b[0;34m.\u001b[0m\u001b[0mstep\u001b[0m\u001b[0;34m(\u001b[0m\u001b[0maction\u001b[0m\u001b[0;34m)\u001b[0m \u001b[0;32mfor\u001b[0m \u001b[0mtask\u001b[0m\u001b[0;34m,\u001b[0m \u001b[0maction\u001b[0m \u001b[0;32min\u001b[0m \u001b[0mzip\u001b[0m\u001b[0;34m(\u001b[0m\u001b[0mself\u001b[0m\u001b[0;34m.\u001b[0m\u001b[0mtasks\u001b[0m\u001b[0;34m,\u001b[0m \u001b[0mactions\u001b[0m\u001b[0;34m)\u001b[0m\u001b[0;34m]\u001b[0m\u001b[0;34m\u001b[0m\u001b[0m\n\u001b[0m\u001b[1;32m    202\u001b[0m         \u001b[0mresults\u001b[0m \u001b[0;34m=\u001b[0m \u001b[0mmap\u001b[0m\u001b[0;34m(\u001b[0m\u001b[0;32mlambda\u001b[0m \u001b[0mx\u001b[0m\u001b[0;34m:\u001b[0m \u001b[0mnp\u001b[0m\u001b[0;34m.\u001b[0m\u001b[0mstack\u001b[0m\u001b[0;34m(\u001b[0m\u001b[0mx\u001b[0m\u001b[0;34m)\u001b[0m\u001b[0;34m,\u001b[0m \u001b[0mzip\u001b[0m\u001b[0;34m(\u001b[0m\u001b[0;34m*\u001b[0m\u001b[0mresults\u001b[0m\u001b[0;34m)\u001b[0m\u001b[0;34m)\u001b[0m\u001b[0;34m\u001b[0m\u001b[0m\n\u001b[1;32m    203\u001b[0m         \u001b[0;32mreturn\u001b[0m \u001b[0mresults\u001b[0m\u001b[0;34m\u001b[0m\u001b[0m\n",
      "\u001b[0;32m/media/oldhome/wassname/Documents/projects/retro_sonic_comp/DeepRL/deep_rl/component/task.py\u001b[0m in \u001b[0;36mstep\u001b[0;34m(self, action)\u001b[0m\n\u001b[1;32m     22\u001b[0m \u001b[0;34m\u001b[0m\u001b[0m\n\u001b[1;32m     23\u001b[0m     \u001b[0;32mdef\u001b[0m \u001b[0mstep\u001b[0m\u001b[0;34m(\u001b[0m\u001b[0mself\u001b[0m\u001b[0;34m,\u001b[0m \u001b[0maction\u001b[0m\u001b[0;34m)\u001b[0m\u001b[0;34m:\u001b[0m\u001b[0;34m\u001b[0m\u001b[0m\n\u001b[0;32m---> 24\u001b[0;31m         \u001b[0mnext_state\u001b[0m\u001b[0;34m,\u001b[0m \u001b[0mreward\u001b[0m\u001b[0;34m,\u001b[0m \u001b[0mdone\u001b[0m\u001b[0;34m,\u001b[0m \u001b[0minfo\u001b[0m \u001b[0;34m=\u001b[0m \u001b[0mself\u001b[0m\u001b[0;34m.\u001b[0m\u001b[0menv\u001b[0m\u001b[0;34m.\u001b[0m\u001b[0mstep\u001b[0m\u001b[0;34m(\u001b[0m\u001b[0maction\u001b[0m\u001b[0;34m)\u001b[0m\u001b[0;34m\u001b[0m\u001b[0m\n\u001b[0m\u001b[1;32m     25\u001b[0m         \u001b[0;32mif\u001b[0m \u001b[0mdone\u001b[0m\u001b[0;34m:\u001b[0m\u001b[0;34m\u001b[0m\u001b[0m\n\u001b[1;32m     26\u001b[0m             \u001b[0mnext_state\u001b[0m \u001b[0;34m=\u001b[0m \u001b[0mself\u001b[0m\u001b[0;34m.\u001b[0m\u001b[0menv\u001b[0m\u001b[0;34m.\u001b[0m\u001b[0mreset\u001b[0m\u001b[0;34m(\u001b[0m\u001b[0;34m)\u001b[0m\u001b[0;34m\u001b[0m\u001b[0m\n",
      "\u001b[0;32m~/.pyenv/versions/3.5.3/envs/jupyter3/lib/python3.5/site-packages/gym/core.py\u001b[0m in \u001b[0;36mstep\u001b[0;34m(self, action)\u001b[0m\n\u001b[1;32m    339\u001b[0m     \u001b[0;32mdef\u001b[0m \u001b[0mstep\u001b[0m\u001b[0;34m(\u001b[0m\u001b[0mself\u001b[0m\u001b[0;34m,\u001b[0m \u001b[0maction\u001b[0m\u001b[0;34m)\u001b[0m\u001b[0;34m:\u001b[0m\u001b[0;34m\u001b[0m\u001b[0m\n\u001b[1;32m    340\u001b[0m         \u001b[0maction\u001b[0m \u001b[0;34m=\u001b[0m \u001b[0mself\u001b[0m\u001b[0;34m.\u001b[0m\u001b[0maction\u001b[0m\u001b[0;34m(\u001b[0m\u001b[0maction\u001b[0m\u001b[0;34m)\u001b[0m\u001b[0;34m\u001b[0m\u001b[0m\n\u001b[0;32m--> 341\u001b[0;31m         \u001b[0;32mreturn\u001b[0m \u001b[0mself\u001b[0m\u001b[0;34m.\u001b[0m\u001b[0menv\u001b[0m\u001b[0;34m.\u001b[0m\u001b[0mstep\u001b[0m\u001b[0;34m(\u001b[0m\u001b[0maction\u001b[0m\u001b[0;34m)\u001b[0m\u001b[0;34m\u001b[0m\u001b[0m\n\u001b[0m\u001b[1;32m    342\u001b[0m \u001b[0;34m\u001b[0m\u001b[0m\n\u001b[1;32m    343\u001b[0m     \u001b[0;32mdef\u001b[0m \u001b[0mreset\u001b[0m\u001b[0;34m(\u001b[0m\u001b[0mself\u001b[0m\u001b[0;34m)\u001b[0m\u001b[0;34m:\u001b[0m\u001b[0;34m\u001b[0m\u001b[0m\n",
      "\u001b[0;32m<ipython-input-23-6dc6f9bf80a9>\u001b[0m in \u001b[0;36mstep\u001b[0;34m(self, action)\u001b[0m\n\u001b[1;32m     22\u001b[0m     \u001b[0;32mdef\u001b[0m \u001b[0mstep\u001b[0m\u001b[0;34m(\u001b[0m\u001b[0mself\u001b[0m\u001b[0;34m,\u001b[0m \u001b[0maction\u001b[0m\u001b[0;34m)\u001b[0m\u001b[0;34m:\u001b[0m\u001b[0;34m\u001b[0m\u001b[0m\n\u001b[1;32m     23\u001b[0m         \u001b[0maction\u001b[0m \u001b[0;34m=\u001b[0m \u001b[0maction\u001b[0m\u001b[0;34m.\u001b[0m\u001b[0mround\u001b[0m\u001b[0;34m(\u001b[0m\u001b[0;36m0\u001b[0m\u001b[0;34m)\u001b[0m\u001b[0;34m.\u001b[0m\u001b[0mastype\u001b[0m\u001b[0;34m(\u001b[0m\u001b[0mint\u001b[0m\u001b[0;34m)\u001b[0m\u001b[0;34m\u001b[0m\u001b[0m\n\u001b[0;32m---> 24\u001b[0;31m         \u001b[0mobservation\u001b[0m\u001b[0;34m,\u001b[0m \u001b[0mreward\u001b[0m\u001b[0;34m,\u001b[0m \u001b[0mdone\u001b[0m\u001b[0;34m,\u001b[0m \u001b[0minfo\u001b[0m \u001b[0;34m=\u001b[0m \u001b[0mself\u001b[0m\u001b[0;34m.\u001b[0m\u001b[0menv\u001b[0m\u001b[0;34m.\u001b[0m\u001b[0mstep\u001b[0m\u001b[0;34m(\u001b[0m\u001b[0maction\u001b[0m\u001b[0;34m)\u001b[0m\u001b[0;34m\u001b[0m\u001b[0m\n\u001b[0m\u001b[1;32m     25\u001b[0m         \u001b[0maction\u001b[0m \u001b[0;34m=\u001b[0m \u001b[0mtorch\u001b[0m\u001b[0;34m.\u001b[0m\u001b[0mfrom_numpy\u001b[0m\u001b[0;34m(\u001b[0m\u001b[0maction\u001b[0m\u001b[0;34m.\u001b[0m\u001b[0mastype\u001b[0m\u001b[0;34m(\u001b[0m\u001b[0mnp\u001b[0m\u001b[0;34m.\u001b[0m\u001b[0mfloat32\u001b[0m\u001b[0;34m)\u001b[0m\u001b[0;34m)\u001b[0m\u001b[0;34m.\u001b[0m\u001b[0mcuda\u001b[0m\u001b[0;34m(\u001b[0m\u001b[0;34m)\u001b[0m\u001b[0;34m.\u001b[0m\u001b[0munsqueeze\u001b[0m\u001b[0;34m(\u001b[0m\u001b[0;36m0\u001b[0m\u001b[0;34m)\u001b[0m\u001b[0;34m\u001b[0m\u001b[0m\n\u001b[1;32m     26\u001b[0m         \u001b[0mobservation\u001b[0m \u001b[0;34m=\u001b[0m \u001b[0mtorch\u001b[0m\u001b[0;34m.\u001b[0m\u001b[0mfrom_numpy\u001b[0m\u001b[0;34m(\u001b[0m\u001b[0mself\u001b[0m\u001b[0;34m.\u001b[0m\u001b[0menv\u001b[0m\u001b[0;34m.\u001b[0m\u001b[0mreset\u001b[0m\u001b[0;34m(\u001b[0m\u001b[0;34m)\u001b[0m\u001b[0;34m)\u001b[0m\u001b[0;34m.\u001b[0m\u001b[0mcuda\u001b[0m\u001b[0;34m(\u001b[0m\u001b[0;34m)\u001b[0m\u001b[0;34m.\u001b[0m\u001b[0munsqueeze\u001b[0m\u001b[0;34m(\u001b[0m\u001b[0;36m0\u001b[0m\u001b[0;34m)\u001b[0m\u001b[0;34m.\u001b[0m\u001b[0mtranspose\u001b[0m\u001b[0;34m(\u001b[0m\u001b[0;36m1\u001b[0m\u001b[0;34m,\u001b[0m \u001b[0;36m3\u001b[0m\u001b[0;34m)\u001b[0m\u001b[0;34m\u001b[0m\u001b[0m\n",
      "\u001b[0;32m~/.pyenv/versions/3.5.3/envs/jupyter3/lib/python3.5/site-packages/gym/core.py\u001b[0m in \u001b[0;36mstep\u001b[0;34m(self, action)\u001b[0m\n\u001b[1;32m    311\u001b[0m \u001b[0;32mclass\u001b[0m \u001b[0mObservationWrapper\u001b[0m\u001b[0;34m(\u001b[0m\u001b[0mWrapper\u001b[0m\u001b[0;34m)\u001b[0m\u001b[0;34m:\u001b[0m\u001b[0;34m\u001b[0m\u001b[0m\n\u001b[1;32m    312\u001b[0m     \u001b[0;32mdef\u001b[0m \u001b[0mstep\u001b[0m\u001b[0;34m(\u001b[0m\u001b[0mself\u001b[0m\u001b[0;34m,\u001b[0m \u001b[0maction\u001b[0m\u001b[0;34m)\u001b[0m\u001b[0;34m:\u001b[0m\u001b[0;34m\u001b[0m\u001b[0m\n\u001b[0;32m--> 313\u001b[0;31m         \u001b[0mobservation\u001b[0m\u001b[0;34m,\u001b[0m \u001b[0mreward\u001b[0m\u001b[0;34m,\u001b[0m \u001b[0mdone\u001b[0m\u001b[0;34m,\u001b[0m \u001b[0minfo\u001b[0m \u001b[0;34m=\u001b[0m \u001b[0mself\u001b[0m\u001b[0;34m.\u001b[0m\u001b[0menv\u001b[0m\u001b[0;34m.\u001b[0m\u001b[0mstep\u001b[0m\u001b[0;34m(\u001b[0m\u001b[0maction\u001b[0m\u001b[0;34m)\u001b[0m\u001b[0;34m\u001b[0m\u001b[0m\n\u001b[0m\u001b[1;32m    314\u001b[0m         \u001b[0;32mreturn\u001b[0m \u001b[0mself\u001b[0m\u001b[0;34m.\u001b[0m\u001b[0mobservation\u001b[0m\u001b[0;34m(\u001b[0m\u001b[0mobservation\u001b[0m\u001b[0;34m)\u001b[0m\u001b[0;34m,\u001b[0m \u001b[0mreward\u001b[0m\u001b[0;34m,\u001b[0m \u001b[0mdone\u001b[0m\u001b[0;34m,\u001b[0m \u001b[0minfo\u001b[0m\u001b[0;34m\u001b[0m\u001b[0m\n\u001b[1;32m    315\u001b[0m \u001b[0;34m\u001b[0m\u001b[0m\n",
      "\u001b[0;32m~/.pyenv/versions/3.5.3/envs/jupyter3/lib/python3.5/site-packages/gym/core.py\u001b[0m in \u001b[0;36mstep\u001b[0;34m(self, action)\u001b[0m\n\u001b[1;32m    311\u001b[0m \u001b[0;32mclass\u001b[0m \u001b[0mObservationWrapper\u001b[0m\u001b[0;34m(\u001b[0m\u001b[0mWrapper\u001b[0m\u001b[0;34m)\u001b[0m\u001b[0;34m:\u001b[0m\u001b[0;34m\u001b[0m\u001b[0m\n\u001b[1;32m    312\u001b[0m     \u001b[0;32mdef\u001b[0m \u001b[0mstep\u001b[0m\u001b[0;34m(\u001b[0m\u001b[0mself\u001b[0m\u001b[0;34m,\u001b[0m \u001b[0maction\u001b[0m\u001b[0;34m)\u001b[0m\u001b[0;34m:\u001b[0m\u001b[0;34m\u001b[0m\u001b[0m\n\u001b[0;32m--> 313\u001b[0;31m         \u001b[0mobservation\u001b[0m\u001b[0;34m,\u001b[0m \u001b[0mreward\u001b[0m\u001b[0;34m,\u001b[0m \u001b[0mdone\u001b[0m\u001b[0;34m,\u001b[0m \u001b[0minfo\u001b[0m \u001b[0;34m=\u001b[0m \u001b[0mself\u001b[0m\u001b[0;34m.\u001b[0m\u001b[0menv\u001b[0m\u001b[0;34m.\u001b[0m\u001b[0mstep\u001b[0m\u001b[0;34m(\u001b[0m\u001b[0maction\u001b[0m\u001b[0;34m)\u001b[0m\u001b[0;34m\u001b[0m\u001b[0m\n\u001b[0m\u001b[1;32m    314\u001b[0m         \u001b[0;32mreturn\u001b[0m \u001b[0mself\u001b[0m\u001b[0;34m.\u001b[0m\u001b[0mobservation\u001b[0m\u001b[0;34m(\u001b[0m\u001b[0mobservation\u001b[0m\u001b[0;34m)\u001b[0m\u001b[0;34m,\u001b[0m \u001b[0mreward\u001b[0m\u001b[0;34m,\u001b[0m \u001b[0mdone\u001b[0m\u001b[0;34m,\u001b[0m \u001b[0minfo\u001b[0m\u001b[0;34m\u001b[0m\u001b[0m\n\u001b[1;32m    315\u001b[0m \u001b[0;34m\u001b[0m\u001b[0m\n",
      "\u001b[0;32m~/.pyenv/versions/3.5.3/envs/jupyter3/lib/python3.5/site-packages/gym/core.py\u001b[0m in \u001b[0;36mstep\u001b[0;34m(self, action)\u001b[0m\n\u001b[1;32m    328\u001b[0m \u001b[0;34m\u001b[0m\u001b[0m\n\u001b[1;32m    329\u001b[0m     \u001b[0;32mdef\u001b[0m \u001b[0mstep\u001b[0m\u001b[0;34m(\u001b[0m\u001b[0mself\u001b[0m\u001b[0;34m,\u001b[0m \u001b[0maction\u001b[0m\u001b[0;34m)\u001b[0m\u001b[0;34m:\u001b[0m\u001b[0;34m\u001b[0m\u001b[0m\n\u001b[0;32m--> 330\u001b[0;31m         \u001b[0mobservation\u001b[0m\u001b[0;34m,\u001b[0m \u001b[0mreward\u001b[0m\u001b[0;34m,\u001b[0m \u001b[0mdone\u001b[0m\u001b[0;34m,\u001b[0m \u001b[0minfo\u001b[0m \u001b[0;34m=\u001b[0m \u001b[0mself\u001b[0m\u001b[0;34m.\u001b[0m\u001b[0menv\u001b[0m\u001b[0;34m.\u001b[0m\u001b[0mstep\u001b[0m\u001b[0;34m(\u001b[0m\u001b[0maction\u001b[0m\u001b[0;34m)\u001b[0m\u001b[0;34m\u001b[0m\u001b[0m\n\u001b[0m\u001b[1;32m    331\u001b[0m         \u001b[0;32mreturn\u001b[0m \u001b[0mobservation\u001b[0m\u001b[0;34m,\u001b[0m \u001b[0mself\u001b[0m\u001b[0;34m.\u001b[0m\u001b[0mreward\u001b[0m\u001b[0;34m(\u001b[0m\u001b[0mreward\u001b[0m\u001b[0;34m)\u001b[0m\u001b[0;34m,\u001b[0m \u001b[0mdone\u001b[0m\u001b[0;34m,\u001b[0m \u001b[0minfo\u001b[0m\u001b[0;34m\u001b[0m\u001b[0m\n\u001b[1;32m    332\u001b[0m \u001b[0;34m\u001b[0m\u001b[0m\n",
      "\u001b[0;32m~/.pyenv/versions/3.5.3/envs/jupyter3/lib/python3.5/site-packages/gym/wrappers/time_limit.py\u001b[0m in \u001b[0;36mstep\u001b[0;34m(self, action)\u001b[0m\n\u001b[1;32m     29\u001b[0m     \u001b[0;32mdef\u001b[0m \u001b[0mstep\u001b[0m\u001b[0;34m(\u001b[0m\u001b[0mself\u001b[0m\u001b[0;34m,\u001b[0m \u001b[0maction\u001b[0m\u001b[0;34m)\u001b[0m\u001b[0;34m:\u001b[0m\u001b[0;34m\u001b[0m\u001b[0m\n\u001b[1;32m     30\u001b[0m         \u001b[0;32massert\u001b[0m \u001b[0mself\u001b[0m\u001b[0;34m.\u001b[0m\u001b[0m_episode_started_at\u001b[0m \u001b[0;32mis\u001b[0m \u001b[0;32mnot\u001b[0m \u001b[0;32mNone\u001b[0m\u001b[0;34m,\u001b[0m \u001b[0;34m\"Cannot call env.step() before calling reset()\"\u001b[0m\u001b[0;34m\u001b[0m\u001b[0m\n\u001b[0;32m---> 31\u001b[0;31m         \u001b[0mobservation\u001b[0m\u001b[0;34m,\u001b[0m \u001b[0mreward\u001b[0m\u001b[0;34m,\u001b[0m \u001b[0mdone\u001b[0m\u001b[0;34m,\u001b[0m \u001b[0minfo\u001b[0m \u001b[0;34m=\u001b[0m \u001b[0mself\u001b[0m\u001b[0;34m.\u001b[0m\u001b[0menv\u001b[0m\u001b[0;34m.\u001b[0m\u001b[0mstep\u001b[0m\u001b[0;34m(\u001b[0m\u001b[0maction\u001b[0m\u001b[0;34m)\u001b[0m\u001b[0;34m\u001b[0m\u001b[0m\n\u001b[0m\u001b[1;32m     32\u001b[0m         \u001b[0mself\u001b[0m\u001b[0;34m.\u001b[0m\u001b[0m_elapsed_steps\u001b[0m \u001b[0;34m+=\u001b[0m \u001b[0;36m1\u001b[0m\u001b[0;34m\u001b[0m\u001b[0m\n\u001b[1;32m     33\u001b[0m \u001b[0;34m\u001b[0m\u001b[0m\n",
      "\u001b[0;32m/media/oldhome/wassname/Documents/projects/retro_sonic_comp/retro-contest/support/retro_contest/__init__.py\u001b[0m in \u001b[0;36mstep\u001b[0;34m(self, ac)\u001b[0m\n\u001b[1;32m     31\u001b[0m             \u001b[0;32melif\u001b[0m \u001b[0mi\u001b[0m \u001b[0;34m==\u001b[0m \u001b[0;36m1\u001b[0m\u001b[0;34m:\u001b[0m\u001b[0;34m\u001b[0m\u001b[0m\n\u001b[1;32m     32\u001b[0m                 \u001b[0mself\u001b[0m\u001b[0;34m.\u001b[0m\u001b[0mcurac\u001b[0m \u001b[0;34m=\u001b[0m \u001b[0mac\u001b[0m\u001b[0;34m\u001b[0m\u001b[0m\n\u001b[0;32m---> 33\u001b[0;31m             \u001b[0mob\u001b[0m\u001b[0;34m,\u001b[0m \u001b[0mrew\u001b[0m\u001b[0;34m,\u001b[0m \u001b[0mdone\u001b[0m\u001b[0;34m,\u001b[0m \u001b[0minfo\u001b[0m \u001b[0;34m=\u001b[0m \u001b[0mself\u001b[0m\u001b[0;34m.\u001b[0m\u001b[0menv\u001b[0m\u001b[0;34m.\u001b[0m\u001b[0mstep\u001b[0m\u001b[0;34m(\u001b[0m\u001b[0mself\u001b[0m\u001b[0;34m.\u001b[0m\u001b[0mcurac\u001b[0m\u001b[0;34m)\u001b[0m\u001b[0;34m\u001b[0m\u001b[0m\n\u001b[0m\u001b[1;32m     34\u001b[0m             \u001b[0mtotrew\u001b[0m \u001b[0;34m+=\u001b[0m \u001b[0mrew\u001b[0m\u001b[0;34m\u001b[0m\u001b[0m\n\u001b[1;32m     35\u001b[0m             \u001b[0;32mif\u001b[0m \u001b[0mdone\u001b[0m\u001b[0;34m:\u001b[0m\u001b[0;34m\u001b[0m\u001b[0m\n",
      "\u001b[0;32m~/.pyenv/versions/3.5.3/envs/jupyter3/lib/python3.5/site-packages/retro/retro_env.py\u001b[0m in \u001b[0;36mstep\u001b[0;34m(self, a)\u001b[0m\n\u001b[1;32m    170\u001b[0m         \u001b[0mself\u001b[0m\u001b[0;34m.\u001b[0m\u001b[0mimg\u001b[0m \u001b[0;34m=\u001b[0m \u001b[0mob\u001b[0m \u001b[0;34m=\u001b[0m \u001b[0mself\u001b[0m\u001b[0;34m.\u001b[0m\u001b[0mem\u001b[0m\u001b[0;34m.\u001b[0m\u001b[0mget_screen\u001b[0m\u001b[0;34m(\u001b[0m\u001b[0;34m)\u001b[0m\u001b[0;34m\u001b[0m\u001b[0m\n\u001b[1;32m    171\u001b[0m         \u001b[0mself\u001b[0m\u001b[0;34m.\u001b[0m\u001b[0mdata\u001b[0m\u001b[0;34m.\u001b[0m\u001b[0mupdate_ram\u001b[0m\u001b[0;34m(\u001b[0m\u001b[0;34m)\u001b[0m\u001b[0;34m\u001b[0m\u001b[0m\n\u001b[0;32m--> 172\u001b[0;31m         \u001b[0mrew\u001b[0m\u001b[0;34m,\u001b[0m \u001b[0mdone\u001b[0m\u001b[0;34m,\u001b[0m \u001b[0minfo\u001b[0m \u001b[0;34m=\u001b[0m \u001b[0mself\u001b[0m\u001b[0;34m.\u001b[0m\u001b[0mcompute_step\u001b[0m\u001b[0;34m(\u001b[0m\u001b[0mob\u001b[0m\u001b[0;34m)\u001b[0m\u001b[0;34m\u001b[0m\u001b[0m\n\u001b[0m\u001b[1;32m    173\u001b[0m         \u001b[0;32mreturn\u001b[0m \u001b[0mob\u001b[0m\u001b[0;34m,\u001b[0m \u001b[0mfloat\u001b[0m\u001b[0;34m(\u001b[0m\u001b[0mrew\u001b[0m\u001b[0;34m)\u001b[0m\u001b[0;34m,\u001b[0m \u001b[0mbool\u001b[0m\u001b[0;34m(\u001b[0m\u001b[0mdone\u001b[0m\u001b[0;34m)\u001b[0m\u001b[0;34m,\u001b[0m \u001b[0mdict\u001b[0m\u001b[0;34m(\u001b[0m\u001b[0minfo\u001b[0m\u001b[0;34m)\u001b[0m\u001b[0;34m\u001b[0m\u001b[0m\n\u001b[1;32m    174\u001b[0m \u001b[0;34m\u001b[0m\u001b[0m\n",
      "\u001b[0;32m~/.pyenv/versions/3.5.3/envs/jupyter3/lib/python3.5/site-packages/retro/retro_env.py\u001b[0m in \u001b[0;36mcompute_step\u001b[0;34m(self, image)\u001b[0m\n\u001b[1;32m     19\u001b[0m     \u001b[0;32mdef\u001b[0m \u001b[0mcompute_step\u001b[0m\u001b[0;34m(\u001b[0m\u001b[0mself\u001b[0m\u001b[0;34m,\u001b[0m \u001b[0mimage\u001b[0m\u001b[0;34m)\u001b[0m\u001b[0;34m:\u001b[0m\u001b[0;34m\u001b[0m\u001b[0m\n\u001b[1;32m     20\u001b[0m         \u001b[0mreward\u001b[0m \u001b[0;34m=\u001b[0m \u001b[0mself\u001b[0m\u001b[0;34m.\u001b[0m\u001b[0mdata\u001b[0m\u001b[0;34m.\u001b[0m\u001b[0mcurrent_reward\u001b[0m\u001b[0;34m(\u001b[0m\u001b[0;34m)\u001b[0m\u001b[0;34m\u001b[0m\u001b[0m\n\u001b[0;32m---> 21\u001b[0;31m         \u001b[0mdone\u001b[0m \u001b[0;34m=\u001b[0m \u001b[0mself\u001b[0m\u001b[0;34m.\u001b[0m\u001b[0mdata\u001b[0m\u001b[0;34m.\u001b[0m\u001b[0mis_done\u001b[0m\u001b[0;34m(\u001b[0m\u001b[0;34m)\u001b[0m\u001b[0;34m\u001b[0m\u001b[0m\n\u001b[0m\u001b[1;32m     22\u001b[0m         \u001b[0;32mreturn\u001b[0m \u001b[0mreward\u001b[0m\u001b[0;34m,\u001b[0m \u001b[0mdone\u001b[0m\u001b[0;34m,\u001b[0m \u001b[0mself\u001b[0m\u001b[0;34m.\u001b[0m\u001b[0mdata\u001b[0m\u001b[0;34m.\u001b[0m\u001b[0mlookup_all\u001b[0m\u001b[0;34m(\u001b[0m\u001b[0;34m)\u001b[0m\u001b[0;34m\u001b[0m\u001b[0m\n\u001b[1;32m     23\u001b[0m \u001b[0;34m\u001b[0m\u001b[0m\n",
      "\u001b[0;31mKeyboardInterrupt\u001b[0m: "
     ]
    }
   ],
   "source": [
    "log_dir = get_default_log_dir(NAME)\n",
    "log_dir\n",
    "task_fn = lambda log_dir: SonicWorldModelDeepRL('sonic256', max_steps=200, log_dir=log_dir, world_model_func=lambda :world_model)\n",
    "\n",
    "config = Config()\n",
    "\n",
    "config.num_workers = 1\n",
    "config.task_fn = lambda: ParallelizedTask(task_fn, config.num_workers, single_process=config.num_workers==1)\n",
    "# config.task_fn = lambda: task_fn(log_dir)\n",
    "config.optimizer_fn = lambda params: torch.optim.RMSprop(params, 1e-3)\n",
    "# FIXME a gaussian is not quite right for this, it should be a beta dist from 0 to 1 or a catagorical on filtered actions\n",
    "config.network_fn = lambda state_dim, action_dim: GaussianActorCriticNet(\n",
    "    state_dim, action_dim, actor_body=FCBody(state_dim),\n",
    "    critic_body=FCBody(state_dim), gpu=-1)\n",
    "config.discount = 0.99\n",
    "config.logger = get_logger(NAME, level=20)\n",
    "config.use_gae = True\n",
    "config.gae_tau = 0.95\n",
    "config.entropy_weight = 0.01\n",
    "config.gradient_clip = 0.5\n",
    "config.rollout_length = 128\n",
    "config.optimization_epochs = 10\n",
    "config.num_mini_batches = 4\n",
    "config.ppo_ratio_clip = 0.2\n",
    "config.iteration_log_interval = 1\n",
    "agent=PPOAgent(config)\n",
    "try:\n",
    "    run_iterations(agent)\n",
    "except:\n",
    "    agent.task.tasks[0].env.close()\n",
    "    raise"
   ]
  },
  {
   "cell_type": "code",
   "execution_count": 27,
   "metadata": {
    "ExecuteTime": {
     "end_time": "2018-05-20T11:36:44.632753Z",
     "start_time": "2018-05-20T11:36:44.607285Z"
    }
   },
   "outputs": [
    {
     "data": {
      "text/plain": [
       "<module 'deep_rl' from '/media/oldhome/wassname/Documents/projects/retro_sonic_comp/DeepRL/deep_rl/__init__.py'>"
      ]
     },
     "execution_count": 27,
     "metadata": {},
     "output_type": "execute_result"
    }
   ],
   "source": []
  },
  {
   "cell_type": "code",
   "execution_count": null,
   "metadata": {},
   "outputs": [],
   "source": []
  }
 ],
 "metadata": {
  "kernelspec": {
   "display_name": "jupyter3",
   "language": "python",
   "name": "jupyter3"
  },
  "language_info": {
   "codemirror_mode": {
    "name": "ipython",
    "version": 3
   },
   "file_extension": ".py",
   "mimetype": "text/x-python",
   "name": "python",
   "nbconvert_exporter": "python",
   "pygments_lexer": "ipython3",
   "version": "3.5.3"
  },
  "toc": {
   "colors": {
    "hover_highlight": "#DAA520",
    "navigate_num": "#000000",
    "navigate_text": "#333333",
    "running_highlight": "#FF0000",
    "selected_highlight": "#FFD700",
    "sidebar_border": "#EEEEEE",
    "wrapper_background": "#FFFFFF"
   },
   "moveMenuLeft": true,
   "nav_menu": {
    "height": "185px",
    "width": "252px"
   },
   "navigate_menu": true,
   "number_sections": true,
   "sideBar": false,
   "threshold": 4,
   "toc_cell": false,
   "toc_position": {
    "height": "245px",
    "left": "13.0521px",
    "right": "20px",
    "top": "145px",
    "width": "181px"
   },
   "toc_section_display": "block",
   "toc_window_display": true,
   "widenNotebook": false
  }
 },
 "nbformat": 4,
 "nbformat_minor": 2
}
